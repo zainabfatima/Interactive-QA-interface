{
  "nbformat": 4,
  "nbformat_minor": 0,
  "metadata": {
    "colab": {
      "provenance": [],
      "authorship_tag": "ABX9TyPvzXQVrb4iwCCCvlhJ8J/v",
      "include_colab_link": true
    },
    "kernelspec": {
      "name": "python3",
      "display_name": "Python 3"
    },
    "language_info": {
      "name": "python"
    },
    "widgets": {
      "application/vnd.jupyter.widget-state+json": {
        "3a9efe172a3f4c9f9cc7e9072197d174": {
          "model_module": "@jupyter-widgets/controls",
          "model_name": "HBoxModel",
          "model_module_version": "1.5.0",
          "state": {
            "_dom_classes": [],
            "_model_module": "@jupyter-widgets/controls",
            "_model_module_version": "1.5.0",
            "_model_name": "HBoxModel",
            "_view_count": null,
            "_view_module": "@jupyter-widgets/controls",
            "_view_module_version": "1.5.0",
            "_view_name": "HBoxView",
            "box_style": "",
            "children": [
              "IPY_MODEL_d02c70dfa1524c65a4977cf912cfcd7e",
              "IPY_MODEL_a323829b95bc46b69557397c4ce25d9e",
              "IPY_MODEL_57027bd93069495590040aa0157a965c"
            ],
            "layout": "IPY_MODEL_8ab23455c727475881ca5d1fddc40f26"
          }
        },
        "d02c70dfa1524c65a4977cf912cfcd7e": {
          "model_module": "@jupyter-widgets/controls",
          "model_name": "HTMLModel",
          "model_module_version": "1.5.0",
          "state": {
            "_dom_classes": [],
            "_model_module": "@jupyter-widgets/controls",
            "_model_module_version": "1.5.0",
            "_model_name": "HTMLModel",
            "_view_count": null,
            "_view_module": "@jupyter-widgets/controls",
            "_view_module_version": "1.5.0",
            "_view_name": "HTMLView",
            "description": "",
            "description_tooltip": null,
            "layout": "IPY_MODEL_e1db609393694f10ae244613fcf2e4b7",
            "placeholder": "​",
            "style": "IPY_MODEL_489049ba2ba64cafb534803c1a4b1cfd",
            "value": "Downloading: 100%"
          }
        },
        "a323829b95bc46b69557397c4ce25d9e": {
          "model_module": "@jupyter-widgets/controls",
          "model_name": "FloatProgressModel",
          "model_module_version": "1.5.0",
          "state": {
            "_dom_classes": [],
            "_model_module": "@jupyter-widgets/controls",
            "_model_module_version": "1.5.0",
            "_model_name": "FloatProgressModel",
            "_view_count": null,
            "_view_module": "@jupyter-widgets/controls",
            "_view_module_version": "1.5.0",
            "_view_name": "ProgressView",
            "bar_style": "success",
            "description": "",
            "description_tooltip": null,
            "layout": "IPY_MODEL_e0b11230fc6c4d659c12241a4c72b91b",
            "max": 1802,
            "min": 0,
            "orientation": "horizontal",
            "style": "IPY_MODEL_85f18abbb9c844778c29965d23a3421a",
            "value": 1802
          }
        },
        "57027bd93069495590040aa0157a965c": {
          "model_module": "@jupyter-widgets/controls",
          "model_name": "HTMLModel",
          "model_module_version": "1.5.0",
          "state": {
            "_dom_classes": [],
            "_model_module": "@jupyter-widgets/controls",
            "_model_module_version": "1.5.0",
            "_model_name": "HTMLModel",
            "_view_count": null,
            "_view_module": "@jupyter-widgets/controls",
            "_view_module_version": "1.5.0",
            "_view_name": "HTMLView",
            "description": "",
            "description_tooltip": null,
            "layout": "IPY_MODEL_d11a6a761b64440abdc924cc31ae5685",
            "placeholder": "​",
            "style": "IPY_MODEL_6490a1cb9d114111bb1f04f6799e07e2",
            "value": " 1.80k/1.80k [00:00&lt;00:00, 62.0kB/s]"
          }
        },
        "8ab23455c727475881ca5d1fddc40f26": {
          "model_module": "@jupyter-widgets/base",
          "model_name": "LayoutModel",
          "model_module_version": "1.2.0",
          "state": {
            "_model_module": "@jupyter-widgets/base",
            "_model_module_version": "1.2.0",
            "_model_name": "LayoutModel",
            "_view_count": null,
            "_view_module": "@jupyter-widgets/base",
            "_view_module_version": "1.2.0",
            "_view_name": "LayoutView",
            "align_content": null,
            "align_items": null,
            "align_self": null,
            "border": null,
            "bottom": null,
            "display": null,
            "flex": null,
            "flex_flow": null,
            "grid_area": null,
            "grid_auto_columns": null,
            "grid_auto_flow": null,
            "grid_auto_rows": null,
            "grid_column": null,
            "grid_gap": null,
            "grid_row": null,
            "grid_template_areas": null,
            "grid_template_columns": null,
            "grid_template_rows": null,
            "height": null,
            "justify_content": null,
            "justify_items": null,
            "left": null,
            "margin": null,
            "max_height": null,
            "max_width": null,
            "min_height": null,
            "min_width": null,
            "object_fit": null,
            "object_position": null,
            "order": null,
            "overflow": null,
            "overflow_x": null,
            "overflow_y": null,
            "padding": null,
            "right": null,
            "top": null,
            "visibility": null,
            "width": null
          }
        },
        "e1db609393694f10ae244613fcf2e4b7": {
          "model_module": "@jupyter-widgets/base",
          "model_name": "LayoutModel",
          "model_module_version": "1.2.0",
          "state": {
            "_model_module": "@jupyter-widgets/base",
            "_model_module_version": "1.2.0",
            "_model_name": "LayoutModel",
            "_view_count": null,
            "_view_module": "@jupyter-widgets/base",
            "_view_module_version": "1.2.0",
            "_view_name": "LayoutView",
            "align_content": null,
            "align_items": null,
            "align_self": null,
            "border": null,
            "bottom": null,
            "display": null,
            "flex": null,
            "flex_flow": null,
            "grid_area": null,
            "grid_auto_columns": null,
            "grid_auto_flow": null,
            "grid_auto_rows": null,
            "grid_column": null,
            "grid_gap": null,
            "grid_row": null,
            "grid_template_areas": null,
            "grid_template_columns": null,
            "grid_template_rows": null,
            "height": null,
            "justify_content": null,
            "justify_items": null,
            "left": null,
            "margin": null,
            "max_height": null,
            "max_width": null,
            "min_height": null,
            "min_width": null,
            "object_fit": null,
            "object_position": null,
            "order": null,
            "overflow": null,
            "overflow_x": null,
            "overflow_y": null,
            "padding": null,
            "right": null,
            "top": null,
            "visibility": null,
            "width": null
          }
        },
        "489049ba2ba64cafb534803c1a4b1cfd": {
          "model_module": "@jupyter-widgets/controls",
          "model_name": "DescriptionStyleModel",
          "model_module_version": "1.5.0",
          "state": {
            "_model_module": "@jupyter-widgets/controls",
            "_model_module_version": "1.5.0",
            "_model_name": "DescriptionStyleModel",
            "_view_count": null,
            "_view_module": "@jupyter-widgets/base",
            "_view_module_version": "1.2.0",
            "_view_name": "StyleView",
            "description_width": ""
          }
        },
        "e0b11230fc6c4d659c12241a4c72b91b": {
          "model_module": "@jupyter-widgets/base",
          "model_name": "LayoutModel",
          "model_module_version": "1.2.0",
          "state": {
            "_model_module": "@jupyter-widgets/base",
            "_model_module_version": "1.2.0",
            "_model_name": "LayoutModel",
            "_view_count": null,
            "_view_module": "@jupyter-widgets/base",
            "_view_module_version": "1.2.0",
            "_view_name": "LayoutView",
            "align_content": null,
            "align_items": null,
            "align_self": null,
            "border": null,
            "bottom": null,
            "display": null,
            "flex": null,
            "flex_flow": null,
            "grid_area": null,
            "grid_auto_columns": null,
            "grid_auto_flow": null,
            "grid_auto_rows": null,
            "grid_column": null,
            "grid_gap": null,
            "grid_row": null,
            "grid_template_areas": null,
            "grid_template_columns": null,
            "grid_template_rows": null,
            "height": null,
            "justify_content": null,
            "justify_items": null,
            "left": null,
            "margin": null,
            "max_height": null,
            "max_width": null,
            "min_height": null,
            "min_width": null,
            "object_fit": null,
            "object_position": null,
            "order": null,
            "overflow": null,
            "overflow_x": null,
            "overflow_y": null,
            "padding": null,
            "right": null,
            "top": null,
            "visibility": null,
            "width": null
          }
        },
        "85f18abbb9c844778c29965d23a3421a": {
          "model_module": "@jupyter-widgets/controls",
          "model_name": "ProgressStyleModel",
          "model_module_version": "1.5.0",
          "state": {
            "_model_module": "@jupyter-widgets/controls",
            "_model_module_version": "1.5.0",
            "_model_name": "ProgressStyleModel",
            "_view_count": null,
            "_view_module": "@jupyter-widgets/base",
            "_view_module_version": "1.2.0",
            "_view_name": "StyleView",
            "bar_color": null,
            "description_width": ""
          }
        },
        "d11a6a761b64440abdc924cc31ae5685": {
          "model_module": "@jupyter-widgets/base",
          "model_name": "LayoutModel",
          "model_module_version": "1.2.0",
          "state": {
            "_model_module": "@jupyter-widgets/base",
            "_model_module_version": "1.2.0",
            "_model_name": "LayoutModel",
            "_view_count": null,
            "_view_module": "@jupyter-widgets/base",
            "_view_module_version": "1.2.0",
            "_view_name": "LayoutView",
            "align_content": null,
            "align_items": null,
            "align_self": null,
            "border": null,
            "bottom": null,
            "display": null,
            "flex": null,
            "flex_flow": null,
            "grid_area": null,
            "grid_auto_columns": null,
            "grid_auto_flow": null,
            "grid_auto_rows": null,
            "grid_column": null,
            "grid_gap": null,
            "grid_row": null,
            "grid_template_areas": null,
            "grid_template_columns": null,
            "grid_template_rows": null,
            "height": null,
            "justify_content": null,
            "justify_items": null,
            "left": null,
            "margin": null,
            "max_height": null,
            "max_width": null,
            "min_height": null,
            "min_width": null,
            "object_fit": null,
            "object_position": null,
            "order": null,
            "overflow": null,
            "overflow_x": null,
            "overflow_y": null,
            "padding": null,
            "right": null,
            "top": null,
            "visibility": null,
            "width": null
          }
        },
        "6490a1cb9d114111bb1f04f6799e07e2": {
          "model_module": "@jupyter-widgets/controls",
          "model_name": "DescriptionStyleModel",
          "model_module_version": "1.5.0",
          "state": {
            "_model_module": "@jupyter-widgets/controls",
            "_model_module_version": "1.5.0",
            "_model_name": "DescriptionStyleModel",
            "_view_count": null,
            "_view_module": "@jupyter-widgets/base",
            "_view_module_version": "1.2.0",
            "_view_name": "StyleView",
            "description_width": ""
          }
        },
        "82311e3000284210ba5e0507f57c57c3": {
          "model_module": "@jupyter-widgets/controls",
          "model_name": "HBoxModel",
          "model_module_version": "1.5.0",
          "state": {
            "_dom_classes": [],
            "_model_module": "@jupyter-widgets/controls",
            "_model_module_version": "1.5.0",
            "_model_name": "HBoxModel",
            "_view_count": null,
            "_view_module": "@jupyter-widgets/controls",
            "_view_module_version": "1.5.0",
            "_view_name": "HBoxView",
            "box_style": "",
            "children": [
              "IPY_MODEL_484dd07e010746e5ba4a84f2726f2735",
              "IPY_MODEL_51793bfc59804ab797949a30f916198d",
              "IPY_MODEL_9b912f22834440f8bab3af62a9f6f7b0"
            ],
            "layout": "IPY_MODEL_767dfd5c2f6d4801ba4986c350a171eb"
          }
        },
        "484dd07e010746e5ba4a84f2726f2735": {
          "model_module": "@jupyter-widgets/controls",
          "model_name": "HTMLModel",
          "model_module_version": "1.5.0",
          "state": {
            "_dom_classes": [],
            "_model_module": "@jupyter-widgets/controls",
            "_model_module_version": "1.5.0",
            "_model_name": "HTMLModel",
            "_view_count": null,
            "_view_module": "@jupyter-widgets/controls",
            "_view_module_version": "1.5.0",
            "_view_name": "HTMLView",
            "description": "",
            "description_tooltip": null,
            "layout": "IPY_MODEL_b0c961991e6c42a3aac4adf68c8f9f95",
            "placeholder": "​",
            "style": "IPY_MODEL_a25fba041e1b4644a4d9d9968793bf95",
            "value": "Downloading: 100%"
          }
        },
        "51793bfc59804ab797949a30f916198d": {
          "model_module": "@jupyter-widgets/controls",
          "model_name": "FloatProgressModel",
          "model_module_version": "1.5.0",
          "state": {
            "_dom_classes": [],
            "_model_module": "@jupyter-widgets/controls",
            "_model_module_version": "1.5.0",
            "_model_name": "FloatProgressModel",
            "_view_count": null,
            "_view_module": "@jupyter-widgets/controls",
            "_view_module_version": "1.5.0",
            "_view_name": "ProgressView",
            "bar_style": "success",
            "description": "",
            "description_tooltip": null,
            "layout": "IPY_MODEL_8eee949644754ee6b9e2c459c0fc233e",
            "max": 1222317369,
            "min": 0,
            "orientation": "horizontal",
            "style": "IPY_MODEL_1b0b269dfdc84f34b77f0101d1f6e6d9",
            "value": 1222317369
          }
        },
        "9b912f22834440f8bab3af62a9f6f7b0": {
          "model_module": "@jupyter-widgets/controls",
          "model_name": "HTMLModel",
          "model_module_version": "1.5.0",
          "state": {
            "_dom_classes": [],
            "_model_module": "@jupyter-widgets/controls",
            "_model_module_version": "1.5.0",
            "_model_name": "HTMLModel",
            "_view_count": null,
            "_view_module": "@jupyter-widgets/controls",
            "_view_module_version": "1.5.0",
            "_view_name": "HTMLView",
            "description": "",
            "description_tooltip": null,
            "layout": "IPY_MODEL_bb07d6b6b02a4f4eb120599c6a41ea02",
            "placeholder": "​",
            "style": "IPY_MODEL_017c961987664bd9a4a3927a28d899dd",
            "value": " 1.22G/1.22G [00:28&lt;00:00, 60.5MB/s]"
          }
        },
        "767dfd5c2f6d4801ba4986c350a171eb": {
          "model_module": "@jupyter-widgets/base",
          "model_name": "LayoutModel",
          "model_module_version": "1.2.0",
          "state": {
            "_model_module": "@jupyter-widgets/base",
            "_model_module_version": "1.2.0",
            "_model_name": "LayoutModel",
            "_view_count": null,
            "_view_module": "@jupyter-widgets/base",
            "_view_module_version": "1.2.0",
            "_view_name": "LayoutView",
            "align_content": null,
            "align_items": null,
            "align_self": null,
            "border": null,
            "bottom": null,
            "display": null,
            "flex": null,
            "flex_flow": null,
            "grid_area": null,
            "grid_auto_columns": null,
            "grid_auto_flow": null,
            "grid_auto_rows": null,
            "grid_column": null,
            "grid_gap": null,
            "grid_row": null,
            "grid_template_areas": null,
            "grid_template_columns": null,
            "grid_template_rows": null,
            "height": null,
            "justify_content": null,
            "justify_items": null,
            "left": null,
            "margin": null,
            "max_height": null,
            "max_width": null,
            "min_height": null,
            "min_width": null,
            "object_fit": null,
            "object_position": null,
            "order": null,
            "overflow": null,
            "overflow_x": null,
            "overflow_y": null,
            "padding": null,
            "right": null,
            "top": null,
            "visibility": null,
            "width": null
          }
        },
        "b0c961991e6c42a3aac4adf68c8f9f95": {
          "model_module": "@jupyter-widgets/base",
          "model_name": "LayoutModel",
          "model_module_version": "1.2.0",
          "state": {
            "_model_module": "@jupyter-widgets/base",
            "_model_module_version": "1.2.0",
            "_model_name": "LayoutModel",
            "_view_count": null,
            "_view_module": "@jupyter-widgets/base",
            "_view_module_version": "1.2.0",
            "_view_name": "LayoutView",
            "align_content": null,
            "align_items": null,
            "align_self": null,
            "border": null,
            "bottom": null,
            "display": null,
            "flex": null,
            "flex_flow": null,
            "grid_area": null,
            "grid_auto_columns": null,
            "grid_auto_flow": null,
            "grid_auto_rows": null,
            "grid_column": null,
            "grid_gap": null,
            "grid_row": null,
            "grid_template_areas": null,
            "grid_template_columns": null,
            "grid_template_rows": null,
            "height": null,
            "justify_content": null,
            "justify_items": null,
            "left": null,
            "margin": null,
            "max_height": null,
            "max_width": null,
            "min_height": null,
            "min_width": null,
            "object_fit": null,
            "object_position": null,
            "order": null,
            "overflow": null,
            "overflow_x": null,
            "overflow_y": null,
            "padding": null,
            "right": null,
            "top": null,
            "visibility": null,
            "width": null
          }
        },
        "a25fba041e1b4644a4d9d9968793bf95": {
          "model_module": "@jupyter-widgets/controls",
          "model_name": "DescriptionStyleModel",
          "model_module_version": "1.5.0",
          "state": {
            "_model_module": "@jupyter-widgets/controls",
            "_model_module_version": "1.5.0",
            "_model_name": "DescriptionStyleModel",
            "_view_count": null,
            "_view_module": "@jupyter-widgets/base",
            "_view_module_version": "1.2.0",
            "_view_name": "StyleView",
            "description_width": ""
          }
        },
        "8eee949644754ee6b9e2c459c0fc233e": {
          "model_module": "@jupyter-widgets/base",
          "model_name": "LayoutModel",
          "model_module_version": "1.2.0",
          "state": {
            "_model_module": "@jupyter-widgets/base",
            "_model_module_version": "1.2.0",
            "_model_name": "LayoutModel",
            "_view_count": null,
            "_view_module": "@jupyter-widgets/base",
            "_view_module_version": "1.2.0",
            "_view_name": "LayoutView",
            "align_content": null,
            "align_items": null,
            "align_self": null,
            "border": null,
            "bottom": null,
            "display": null,
            "flex": null,
            "flex_flow": null,
            "grid_area": null,
            "grid_auto_columns": null,
            "grid_auto_flow": null,
            "grid_auto_rows": null,
            "grid_column": null,
            "grid_gap": null,
            "grid_row": null,
            "grid_template_areas": null,
            "grid_template_columns": null,
            "grid_template_rows": null,
            "height": null,
            "justify_content": null,
            "justify_items": null,
            "left": null,
            "margin": null,
            "max_height": null,
            "max_width": null,
            "min_height": null,
            "min_width": null,
            "object_fit": null,
            "object_position": null,
            "order": null,
            "overflow": null,
            "overflow_x": null,
            "overflow_y": null,
            "padding": null,
            "right": null,
            "top": null,
            "visibility": null,
            "width": null
          }
        },
        "1b0b269dfdc84f34b77f0101d1f6e6d9": {
          "model_module": "@jupyter-widgets/controls",
          "model_name": "ProgressStyleModel",
          "model_module_version": "1.5.0",
          "state": {
            "_model_module": "@jupyter-widgets/controls",
            "_model_module_version": "1.5.0",
            "_model_name": "ProgressStyleModel",
            "_view_count": null,
            "_view_module": "@jupyter-widgets/base",
            "_view_module_version": "1.2.0",
            "_view_name": "StyleView",
            "bar_color": null,
            "description_width": ""
          }
        },
        "bb07d6b6b02a4f4eb120599c6a41ea02": {
          "model_module": "@jupyter-widgets/base",
          "model_name": "LayoutModel",
          "model_module_version": "1.2.0",
          "state": {
            "_model_module": "@jupyter-widgets/base",
            "_model_module_version": "1.2.0",
            "_model_name": "LayoutModel",
            "_view_count": null,
            "_view_module": "@jupyter-widgets/base",
            "_view_module_version": "1.2.0",
            "_view_name": "LayoutView",
            "align_content": null,
            "align_items": null,
            "align_self": null,
            "border": null,
            "bottom": null,
            "display": null,
            "flex": null,
            "flex_flow": null,
            "grid_area": null,
            "grid_auto_columns": null,
            "grid_auto_flow": null,
            "grid_auto_rows": null,
            "grid_column": null,
            "grid_gap": null,
            "grid_row": null,
            "grid_template_areas": null,
            "grid_template_columns": null,
            "grid_template_rows": null,
            "height": null,
            "justify_content": null,
            "justify_items": null,
            "left": null,
            "margin": null,
            "max_height": null,
            "max_width": null,
            "min_height": null,
            "min_width": null,
            "object_fit": null,
            "object_position": null,
            "order": null,
            "overflow": null,
            "overflow_x": null,
            "overflow_y": null,
            "padding": null,
            "right": null,
            "top": null,
            "visibility": null,
            "width": null
          }
        },
        "017c961987664bd9a4a3927a28d899dd": {
          "model_module": "@jupyter-widgets/controls",
          "model_name": "DescriptionStyleModel",
          "model_module_version": "1.5.0",
          "state": {
            "_model_module": "@jupyter-widgets/controls",
            "_model_module_version": "1.5.0",
            "_model_name": "DescriptionStyleModel",
            "_view_count": null,
            "_view_module": "@jupyter-widgets/base",
            "_view_module_version": "1.2.0",
            "_view_name": "StyleView",
            "description_width": ""
          }
        },
        "0f04e502836a42af9781e86e849f76b6": {
          "model_module": "@jupyter-widgets/controls",
          "model_name": "HBoxModel",
          "model_module_version": "1.5.0",
          "state": {
            "_dom_classes": [],
            "_model_module": "@jupyter-widgets/controls",
            "_model_module_version": "1.5.0",
            "_model_name": "HBoxModel",
            "_view_count": null,
            "_view_module": "@jupyter-widgets/controls",
            "_view_module_version": "1.5.0",
            "_view_name": "HBoxView",
            "box_style": "",
            "children": [
              "IPY_MODEL_a0e984df5b1b415b8b670e2f4f3209ed",
              "IPY_MODEL_bd11b09ca0f84c9bad8cc5bf5b424102",
              "IPY_MODEL_5e880c88575749a48f63480dbe145b6d"
            ],
            "layout": "IPY_MODEL_5bc1c74c22184f5583a93415af9a73dc"
          }
        },
        "a0e984df5b1b415b8b670e2f4f3209ed": {
          "model_module": "@jupyter-widgets/controls",
          "model_name": "HTMLModel",
          "model_module_version": "1.5.0",
          "state": {
            "_dom_classes": [],
            "_model_module": "@jupyter-widgets/controls",
            "_model_module_version": "1.5.0",
            "_model_name": "HTMLModel",
            "_view_count": null,
            "_view_module": "@jupyter-widgets/controls",
            "_view_module_version": "1.5.0",
            "_view_name": "HTMLView",
            "description": "",
            "description_tooltip": null,
            "layout": "IPY_MODEL_0cad6dc30dae4cdc92814940458c76d5",
            "placeholder": "​",
            "style": "IPY_MODEL_434243a7b1964207ad4831a83cd54a19",
            "value": "Downloading: 100%"
          }
        },
        "bd11b09ca0f84c9bad8cc5bf5b424102": {
          "model_module": "@jupyter-widgets/controls",
          "model_name": "FloatProgressModel",
          "model_module_version": "1.5.0",
          "state": {
            "_dom_classes": [],
            "_model_module": "@jupyter-widgets/controls",
            "_model_module_version": "1.5.0",
            "_model_name": "FloatProgressModel",
            "_view_count": null,
            "_view_module": "@jupyter-widgets/controls",
            "_view_module_version": "1.5.0",
            "_view_name": "ProgressView",
            "bar_style": "success",
            "description": "",
            "description_tooltip": null,
            "layout": "IPY_MODEL_95bbea426b3f4ff3a942d0799dfa2831",
            "max": 26,
            "min": 0,
            "orientation": "horizontal",
            "style": "IPY_MODEL_d905a667aca14b47b8321a42e8d3850c",
            "value": 26
          }
        },
        "5e880c88575749a48f63480dbe145b6d": {
          "model_module": "@jupyter-widgets/controls",
          "model_name": "HTMLModel",
          "model_module_version": "1.5.0",
          "state": {
            "_dom_classes": [],
            "_model_module": "@jupyter-widgets/controls",
            "_model_module_version": "1.5.0",
            "_model_name": "HTMLModel",
            "_view_count": null,
            "_view_module": "@jupyter-widgets/controls",
            "_view_module_version": "1.5.0",
            "_view_name": "HTMLView",
            "description": "",
            "description_tooltip": null,
            "layout": "IPY_MODEL_da27d0f2aad345ecaaf204887ac53554",
            "placeholder": "​",
            "style": "IPY_MODEL_952176708edb4d5fab90260ae86b5fff",
            "value": " 26.0/26.0 [00:00&lt;00:00, 930B/s]"
          }
        },
        "5bc1c74c22184f5583a93415af9a73dc": {
          "model_module": "@jupyter-widgets/base",
          "model_name": "LayoutModel",
          "model_module_version": "1.2.0",
          "state": {
            "_model_module": "@jupyter-widgets/base",
            "_model_module_version": "1.2.0",
            "_model_name": "LayoutModel",
            "_view_count": null,
            "_view_module": "@jupyter-widgets/base",
            "_view_module_version": "1.2.0",
            "_view_name": "LayoutView",
            "align_content": null,
            "align_items": null,
            "align_self": null,
            "border": null,
            "bottom": null,
            "display": null,
            "flex": null,
            "flex_flow": null,
            "grid_area": null,
            "grid_auto_columns": null,
            "grid_auto_flow": null,
            "grid_auto_rows": null,
            "grid_column": null,
            "grid_gap": null,
            "grid_row": null,
            "grid_template_areas": null,
            "grid_template_columns": null,
            "grid_template_rows": null,
            "height": null,
            "justify_content": null,
            "justify_items": null,
            "left": null,
            "margin": null,
            "max_height": null,
            "max_width": null,
            "min_height": null,
            "min_width": null,
            "object_fit": null,
            "object_position": null,
            "order": null,
            "overflow": null,
            "overflow_x": null,
            "overflow_y": null,
            "padding": null,
            "right": null,
            "top": null,
            "visibility": null,
            "width": null
          }
        },
        "0cad6dc30dae4cdc92814940458c76d5": {
          "model_module": "@jupyter-widgets/base",
          "model_name": "LayoutModel",
          "model_module_version": "1.2.0",
          "state": {
            "_model_module": "@jupyter-widgets/base",
            "_model_module_version": "1.2.0",
            "_model_name": "LayoutModel",
            "_view_count": null,
            "_view_module": "@jupyter-widgets/base",
            "_view_module_version": "1.2.0",
            "_view_name": "LayoutView",
            "align_content": null,
            "align_items": null,
            "align_self": null,
            "border": null,
            "bottom": null,
            "display": null,
            "flex": null,
            "flex_flow": null,
            "grid_area": null,
            "grid_auto_columns": null,
            "grid_auto_flow": null,
            "grid_auto_rows": null,
            "grid_column": null,
            "grid_gap": null,
            "grid_row": null,
            "grid_template_areas": null,
            "grid_template_columns": null,
            "grid_template_rows": null,
            "height": null,
            "justify_content": null,
            "justify_items": null,
            "left": null,
            "margin": null,
            "max_height": null,
            "max_width": null,
            "min_height": null,
            "min_width": null,
            "object_fit": null,
            "object_position": null,
            "order": null,
            "overflow": null,
            "overflow_x": null,
            "overflow_y": null,
            "padding": null,
            "right": null,
            "top": null,
            "visibility": null,
            "width": null
          }
        },
        "434243a7b1964207ad4831a83cd54a19": {
          "model_module": "@jupyter-widgets/controls",
          "model_name": "DescriptionStyleModel",
          "model_module_version": "1.5.0",
          "state": {
            "_model_module": "@jupyter-widgets/controls",
            "_model_module_version": "1.5.0",
            "_model_name": "DescriptionStyleModel",
            "_view_count": null,
            "_view_module": "@jupyter-widgets/base",
            "_view_module_version": "1.2.0",
            "_view_name": "StyleView",
            "description_width": ""
          }
        },
        "95bbea426b3f4ff3a942d0799dfa2831": {
          "model_module": "@jupyter-widgets/base",
          "model_name": "LayoutModel",
          "model_module_version": "1.2.0",
          "state": {
            "_model_module": "@jupyter-widgets/base",
            "_model_module_version": "1.2.0",
            "_model_name": "LayoutModel",
            "_view_count": null,
            "_view_module": "@jupyter-widgets/base",
            "_view_module_version": "1.2.0",
            "_view_name": "LayoutView",
            "align_content": null,
            "align_items": null,
            "align_self": null,
            "border": null,
            "bottom": null,
            "display": null,
            "flex": null,
            "flex_flow": null,
            "grid_area": null,
            "grid_auto_columns": null,
            "grid_auto_flow": null,
            "grid_auto_rows": null,
            "grid_column": null,
            "grid_gap": null,
            "grid_row": null,
            "grid_template_areas": null,
            "grid_template_columns": null,
            "grid_template_rows": null,
            "height": null,
            "justify_content": null,
            "justify_items": null,
            "left": null,
            "margin": null,
            "max_height": null,
            "max_width": null,
            "min_height": null,
            "min_width": null,
            "object_fit": null,
            "object_position": null,
            "order": null,
            "overflow": null,
            "overflow_x": null,
            "overflow_y": null,
            "padding": null,
            "right": null,
            "top": null,
            "visibility": null,
            "width": null
          }
        },
        "d905a667aca14b47b8321a42e8d3850c": {
          "model_module": "@jupyter-widgets/controls",
          "model_name": "ProgressStyleModel",
          "model_module_version": "1.5.0",
          "state": {
            "_model_module": "@jupyter-widgets/controls",
            "_model_module_version": "1.5.0",
            "_model_name": "ProgressStyleModel",
            "_view_count": null,
            "_view_module": "@jupyter-widgets/base",
            "_view_module_version": "1.2.0",
            "_view_name": "StyleView",
            "bar_color": null,
            "description_width": ""
          }
        },
        "da27d0f2aad345ecaaf204887ac53554": {
          "model_module": "@jupyter-widgets/base",
          "model_name": "LayoutModel",
          "model_module_version": "1.2.0",
          "state": {
            "_model_module": "@jupyter-widgets/base",
            "_model_module_version": "1.2.0",
            "_model_name": "LayoutModel",
            "_view_count": null,
            "_view_module": "@jupyter-widgets/base",
            "_view_module_version": "1.2.0",
            "_view_name": "LayoutView",
            "align_content": null,
            "align_items": null,
            "align_self": null,
            "border": null,
            "bottom": null,
            "display": null,
            "flex": null,
            "flex_flow": null,
            "grid_area": null,
            "grid_auto_columns": null,
            "grid_auto_flow": null,
            "grid_auto_rows": null,
            "grid_column": null,
            "grid_gap": null,
            "grid_row": null,
            "grid_template_areas": null,
            "grid_template_columns": null,
            "grid_template_rows": null,
            "height": null,
            "justify_content": null,
            "justify_items": null,
            "left": null,
            "margin": null,
            "max_height": null,
            "max_width": null,
            "min_height": null,
            "min_width": null,
            "object_fit": null,
            "object_position": null,
            "order": null,
            "overflow": null,
            "overflow_x": null,
            "overflow_y": null,
            "padding": null,
            "right": null,
            "top": null,
            "visibility": null,
            "width": null
          }
        },
        "952176708edb4d5fab90260ae86b5fff": {
          "model_module": "@jupyter-widgets/controls",
          "model_name": "DescriptionStyleModel",
          "model_module_version": "1.5.0",
          "state": {
            "_model_module": "@jupyter-widgets/controls",
            "_model_module_version": "1.5.0",
            "_model_name": "DescriptionStyleModel",
            "_view_count": null,
            "_view_module": "@jupyter-widgets/base",
            "_view_module_version": "1.2.0",
            "_view_name": "StyleView",
            "description_width": ""
          }
        },
        "66fe174ebbd249b7adf5ce353daab411": {
          "model_module": "@jupyter-widgets/controls",
          "model_name": "HBoxModel",
          "model_module_version": "1.5.0",
          "state": {
            "_dom_classes": [],
            "_model_module": "@jupyter-widgets/controls",
            "_model_module_version": "1.5.0",
            "_model_name": "HBoxModel",
            "_view_count": null,
            "_view_module": "@jupyter-widgets/controls",
            "_view_module_version": "1.5.0",
            "_view_name": "HBoxView",
            "box_style": "",
            "children": [
              "IPY_MODEL_29830c5c888447f486b6a850921b7b9b",
              "IPY_MODEL_e4871185dd32477b8b342bbd3fb0d622",
              "IPY_MODEL_4ad07d7cf38b409fb7d9a0dbaa2889de"
            ],
            "layout": "IPY_MODEL_1f0a00975ca247ccaa5afa64b92362f1"
          }
        },
        "29830c5c888447f486b6a850921b7b9b": {
          "model_module": "@jupyter-widgets/controls",
          "model_name": "HTMLModel",
          "model_module_version": "1.5.0",
          "state": {
            "_dom_classes": [],
            "_model_module": "@jupyter-widgets/controls",
            "_model_module_version": "1.5.0",
            "_model_name": "HTMLModel",
            "_view_count": null,
            "_view_module": "@jupyter-widgets/controls",
            "_view_module_version": "1.5.0",
            "_view_name": "HTMLView",
            "description": "",
            "description_tooltip": null,
            "layout": "IPY_MODEL_d670cd3dfc854e62a24141577c32dfd6",
            "placeholder": "​",
            "style": "IPY_MODEL_c30ca40b3a7e4758bc328765e5d4c6f8",
            "value": "Downloading: 100%"
          }
        },
        "e4871185dd32477b8b342bbd3fb0d622": {
          "model_module": "@jupyter-widgets/controls",
          "model_name": "FloatProgressModel",
          "model_module_version": "1.5.0",
          "state": {
            "_dom_classes": [],
            "_model_module": "@jupyter-widgets/controls",
            "_model_module_version": "1.5.0",
            "_model_name": "FloatProgressModel",
            "_view_count": null,
            "_view_module": "@jupyter-widgets/controls",
            "_view_module_version": "1.5.0",
            "_view_name": "ProgressView",
            "bar_style": "success",
            "description": "",
            "description_tooltip": null,
            "layout": "IPY_MODEL_9b071d957a14477ba89b0d604b78cbef",
            "max": 898822,
            "min": 0,
            "orientation": "horizontal",
            "style": "IPY_MODEL_05f4ead64069456bb4c4efeb064659de",
            "value": 898822
          }
        },
        "4ad07d7cf38b409fb7d9a0dbaa2889de": {
          "model_module": "@jupyter-widgets/controls",
          "model_name": "HTMLModel",
          "model_module_version": "1.5.0",
          "state": {
            "_dom_classes": [],
            "_model_module": "@jupyter-widgets/controls",
            "_model_module_version": "1.5.0",
            "_model_name": "HTMLModel",
            "_view_count": null,
            "_view_module": "@jupyter-widgets/controls",
            "_view_module_version": "1.5.0",
            "_view_name": "HTMLView",
            "description": "",
            "description_tooltip": null,
            "layout": "IPY_MODEL_46fd76e485a545c2afbeb5859ca43397",
            "placeholder": "​",
            "style": "IPY_MODEL_55591f83cdc441e29bca736bd4b1dd96",
            "value": " 899k/899k [00:01&lt;00:00, 890kB/s]"
          }
        },
        "1f0a00975ca247ccaa5afa64b92362f1": {
          "model_module": "@jupyter-widgets/base",
          "model_name": "LayoutModel",
          "model_module_version": "1.2.0",
          "state": {
            "_model_module": "@jupyter-widgets/base",
            "_model_module_version": "1.2.0",
            "_model_name": "LayoutModel",
            "_view_count": null,
            "_view_module": "@jupyter-widgets/base",
            "_view_module_version": "1.2.0",
            "_view_name": "LayoutView",
            "align_content": null,
            "align_items": null,
            "align_self": null,
            "border": null,
            "bottom": null,
            "display": null,
            "flex": null,
            "flex_flow": null,
            "grid_area": null,
            "grid_auto_columns": null,
            "grid_auto_flow": null,
            "grid_auto_rows": null,
            "grid_column": null,
            "grid_gap": null,
            "grid_row": null,
            "grid_template_areas": null,
            "grid_template_columns": null,
            "grid_template_rows": null,
            "height": null,
            "justify_content": null,
            "justify_items": null,
            "left": null,
            "margin": null,
            "max_height": null,
            "max_width": null,
            "min_height": null,
            "min_width": null,
            "object_fit": null,
            "object_position": null,
            "order": null,
            "overflow": null,
            "overflow_x": null,
            "overflow_y": null,
            "padding": null,
            "right": null,
            "top": null,
            "visibility": null,
            "width": null
          }
        },
        "d670cd3dfc854e62a24141577c32dfd6": {
          "model_module": "@jupyter-widgets/base",
          "model_name": "LayoutModel",
          "model_module_version": "1.2.0",
          "state": {
            "_model_module": "@jupyter-widgets/base",
            "_model_module_version": "1.2.0",
            "_model_name": "LayoutModel",
            "_view_count": null,
            "_view_module": "@jupyter-widgets/base",
            "_view_module_version": "1.2.0",
            "_view_name": "LayoutView",
            "align_content": null,
            "align_items": null,
            "align_self": null,
            "border": null,
            "bottom": null,
            "display": null,
            "flex": null,
            "flex_flow": null,
            "grid_area": null,
            "grid_auto_columns": null,
            "grid_auto_flow": null,
            "grid_auto_rows": null,
            "grid_column": null,
            "grid_gap": null,
            "grid_row": null,
            "grid_template_areas": null,
            "grid_template_columns": null,
            "grid_template_rows": null,
            "height": null,
            "justify_content": null,
            "justify_items": null,
            "left": null,
            "margin": null,
            "max_height": null,
            "max_width": null,
            "min_height": null,
            "min_width": null,
            "object_fit": null,
            "object_position": null,
            "order": null,
            "overflow": null,
            "overflow_x": null,
            "overflow_y": null,
            "padding": null,
            "right": null,
            "top": null,
            "visibility": null,
            "width": null
          }
        },
        "c30ca40b3a7e4758bc328765e5d4c6f8": {
          "model_module": "@jupyter-widgets/controls",
          "model_name": "DescriptionStyleModel",
          "model_module_version": "1.5.0",
          "state": {
            "_model_module": "@jupyter-widgets/controls",
            "_model_module_version": "1.5.0",
            "_model_name": "DescriptionStyleModel",
            "_view_count": null,
            "_view_module": "@jupyter-widgets/base",
            "_view_module_version": "1.2.0",
            "_view_name": "StyleView",
            "description_width": ""
          }
        },
        "9b071d957a14477ba89b0d604b78cbef": {
          "model_module": "@jupyter-widgets/base",
          "model_name": "LayoutModel",
          "model_module_version": "1.2.0",
          "state": {
            "_model_module": "@jupyter-widgets/base",
            "_model_module_version": "1.2.0",
            "_model_name": "LayoutModel",
            "_view_count": null,
            "_view_module": "@jupyter-widgets/base",
            "_view_module_version": "1.2.0",
            "_view_name": "LayoutView",
            "align_content": null,
            "align_items": null,
            "align_self": null,
            "border": null,
            "bottom": null,
            "display": null,
            "flex": null,
            "flex_flow": null,
            "grid_area": null,
            "grid_auto_columns": null,
            "grid_auto_flow": null,
            "grid_auto_rows": null,
            "grid_column": null,
            "grid_gap": null,
            "grid_row": null,
            "grid_template_areas": null,
            "grid_template_columns": null,
            "grid_template_rows": null,
            "height": null,
            "justify_content": null,
            "justify_items": null,
            "left": null,
            "margin": null,
            "max_height": null,
            "max_width": null,
            "min_height": null,
            "min_width": null,
            "object_fit": null,
            "object_position": null,
            "order": null,
            "overflow": null,
            "overflow_x": null,
            "overflow_y": null,
            "padding": null,
            "right": null,
            "top": null,
            "visibility": null,
            "width": null
          }
        },
        "05f4ead64069456bb4c4efeb064659de": {
          "model_module": "@jupyter-widgets/controls",
          "model_name": "ProgressStyleModel",
          "model_module_version": "1.5.0",
          "state": {
            "_model_module": "@jupyter-widgets/controls",
            "_model_module_version": "1.5.0",
            "_model_name": "ProgressStyleModel",
            "_view_count": null,
            "_view_module": "@jupyter-widgets/base",
            "_view_module_version": "1.2.0",
            "_view_name": "StyleView",
            "bar_color": null,
            "description_width": ""
          }
        },
        "46fd76e485a545c2afbeb5859ca43397": {
          "model_module": "@jupyter-widgets/base",
          "model_name": "LayoutModel",
          "model_module_version": "1.2.0",
          "state": {
            "_model_module": "@jupyter-widgets/base",
            "_model_module_version": "1.2.0",
            "_model_name": "LayoutModel",
            "_view_count": null,
            "_view_module": "@jupyter-widgets/base",
            "_view_module_version": "1.2.0",
            "_view_name": "LayoutView",
            "align_content": null,
            "align_items": null,
            "align_self": null,
            "border": null,
            "bottom": null,
            "display": null,
            "flex": null,
            "flex_flow": null,
            "grid_area": null,
            "grid_auto_columns": null,
            "grid_auto_flow": null,
            "grid_auto_rows": null,
            "grid_column": null,
            "grid_gap": null,
            "grid_row": null,
            "grid_template_areas": null,
            "grid_template_columns": null,
            "grid_template_rows": null,
            "height": null,
            "justify_content": null,
            "justify_items": null,
            "left": null,
            "margin": null,
            "max_height": null,
            "max_width": null,
            "min_height": null,
            "min_width": null,
            "object_fit": null,
            "object_position": null,
            "order": null,
            "overflow": null,
            "overflow_x": null,
            "overflow_y": null,
            "padding": null,
            "right": null,
            "top": null,
            "visibility": null,
            "width": null
          }
        },
        "55591f83cdc441e29bca736bd4b1dd96": {
          "model_module": "@jupyter-widgets/controls",
          "model_name": "DescriptionStyleModel",
          "model_module_version": "1.5.0",
          "state": {
            "_model_module": "@jupyter-widgets/controls",
            "_model_module_version": "1.5.0",
            "_model_name": "DescriptionStyleModel",
            "_view_count": null,
            "_view_module": "@jupyter-widgets/base",
            "_view_module_version": "1.2.0",
            "_view_name": "StyleView",
            "description_width": ""
          }
        },
        "dba80058a62e4784aeb370ca6f73adb2": {
          "model_module": "@jupyter-widgets/controls",
          "model_name": "HBoxModel",
          "model_module_version": "1.5.0",
          "state": {
            "_dom_classes": [],
            "_model_module": "@jupyter-widgets/controls",
            "_model_module_version": "1.5.0",
            "_model_name": "HBoxModel",
            "_view_count": null,
            "_view_module": "@jupyter-widgets/controls",
            "_view_module_version": "1.5.0",
            "_view_name": "HBoxView",
            "box_style": "",
            "children": [
              "IPY_MODEL_b32109477ca14265a9499d95fb594d27",
              "IPY_MODEL_4da71428f81c4f259584cd1cc5e22be4",
              "IPY_MODEL_7e0870842b6d44c6b3e7b7a902bc2341"
            ],
            "layout": "IPY_MODEL_7aa81579a79749208f1b9724032abd42"
          }
        },
        "b32109477ca14265a9499d95fb594d27": {
          "model_module": "@jupyter-widgets/controls",
          "model_name": "HTMLModel",
          "model_module_version": "1.5.0",
          "state": {
            "_dom_classes": [],
            "_model_module": "@jupyter-widgets/controls",
            "_model_module_version": "1.5.0",
            "_model_name": "HTMLModel",
            "_view_count": null,
            "_view_module": "@jupyter-widgets/controls",
            "_view_module_version": "1.5.0",
            "_view_name": "HTMLView",
            "description": "",
            "description_tooltip": null,
            "layout": "IPY_MODEL_8000e661572b4a3c81616c95c41fe385",
            "placeholder": "​",
            "style": "IPY_MODEL_e6cc8435bb7e4a6199ae0881c9c7d410",
            "value": "Downloading: 100%"
          }
        },
        "4da71428f81c4f259584cd1cc5e22be4": {
          "model_module": "@jupyter-widgets/controls",
          "model_name": "FloatProgressModel",
          "model_module_version": "1.5.0",
          "state": {
            "_dom_classes": [],
            "_model_module": "@jupyter-widgets/controls",
            "_model_module_version": "1.5.0",
            "_model_name": "FloatProgressModel",
            "_view_count": null,
            "_view_module": "@jupyter-widgets/controls",
            "_view_module_version": "1.5.0",
            "_view_name": "ProgressView",
            "bar_style": "success",
            "description": "",
            "description_tooltip": null,
            "layout": "IPY_MODEL_e7378203c16c4ccca24a3d233effdfca",
            "max": 456318,
            "min": 0,
            "orientation": "horizontal",
            "style": "IPY_MODEL_e6f1fcc6a7b347dabe003f836747b4ec",
            "value": 456318
          }
        },
        "7e0870842b6d44c6b3e7b7a902bc2341": {
          "model_module": "@jupyter-widgets/controls",
          "model_name": "HTMLModel",
          "model_module_version": "1.5.0",
          "state": {
            "_dom_classes": [],
            "_model_module": "@jupyter-widgets/controls",
            "_model_module_version": "1.5.0",
            "_model_name": "HTMLModel",
            "_view_count": null,
            "_view_module": "@jupyter-widgets/controls",
            "_view_module_version": "1.5.0",
            "_view_name": "HTMLView",
            "description": "",
            "description_tooltip": null,
            "layout": "IPY_MODEL_8cc3858910744c4cb7e9bbc0dcc585be",
            "placeholder": "​",
            "style": "IPY_MODEL_ac190cba14dc44d080be194f60c0490a",
            "value": " 456k/456k [00:01&lt;00:00, 481kB/s]"
          }
        },
        "7aa81579a79749208f1b9724032abd42": {
          "model_module": "@jupyter-widgets/base",
          "model_name": "LayoutModel",
          "model_module_version": "1.2.0",
          "state": {
            "_model_module": "@jupyter-widgets/base",
            "_model_module_version": "1.2.0",
            "_model_name": "LayoutModel",
            "_view_count": null,
            "_view_module": "@jupyter-widgets/base",
            "_view_module_version": "1.2.0",
            "_view_name": "LayoutView",
            "align_content": null,
            "align_items": null,
            "align_self": null,
            "border": null,
            "bottom": null,
            "display": null,
            "flex": null,
            "flex_flow": null,
            "grid_area": null,
            "grid_auto_columns": null,
            "grid_auto_flow": null,
            "grid_auto_rows": null,
            "grid_column": null,
            "grid_gap": null,
            "grid_row": null,
            "grid_template_areas": null,
            "grid_template_columns": null,
            "grid_template_rows": null,
            "height": null,
            "justify_content": null,
            "justify_items": null,
            "left": null,
            "margin": null,
            "max_height": null,
            "max_width": null,
            "min_height": null,
            "min_width": null,
            "object_fit": null,
            "object_position": null,
            "order": null,
            "overflow": null,
            "overflow_x": null,
            "overflow_y": null,
            "padding": null,
            "right": null,
            "top": null,
            "visibility": null,
            "width": null
          }
        },
        "8000e661572b4a3c81616c95c41fe385": {
          "model_module": "@jupyter-widgets/base",
          "model_name": "LayoutModel",
          "model_module_version": "1.2.0",
          "state": {
            "_model_module": "@jupyter-widgets/base",
            "_model_module_version": "1.2.0",
            "_model_name": "LayoutModel",
            "_view_count": null,
            "_view_module": "@jupyter-widgets/base",
            "_view_module_version": "1.2.0",
            "_view_name": "LayoutView",
            "align_content": null,
            "align_items": null,
            "align_self": null,
            "border": null,
            "bottom": null,
            "display": null,
            "flex": null,
            "flex_flow": null,
            "grid_area": null,
            "grid_auto_columns": null,
            "grid_auto_flow": null,
            "grid_auto_rows": null,
            "grid_column": null,
            "grid_gap": null,
            "grid_row": null,
            "grid_template_areas": null,
            "grid_template_columns": null,
            "grid_template_rows": null,
            "height": null,
            "justify_content": null,
            "justify_items": null,
            "left": null,
            "margin": null,
            "max_height": null,
            "max_width": null,
            "min_height": null,
            "min_width": null,
            "object_fit": null,
            "object_position": null,
            "order": null,
            "overflow": null,
            "overflow_x": null,
            "overflow_y": null,
            "padding": null,
            "right": null,
            "top": null,
            "visibility": null,
            "width": null
          }
        },
        "e6cc8435bb7e4a6199ae0881c9c7d410": {
          "model_module": "@jupyter-widgets/controls",
          "model_name": "DescriptionStyleModel",
          "model_module_version": "1.5.0",
          "state": {
            "_model_module": "@jupyter-widgets/controls",
            "_model_module_version": "1.5.0",
            "_model_name": "DescriptionStyleModel",
            "_view_count": null,
            "_view_module": "@jupyter-widgets/base",
            "_view_module_version": "1.2.0",
            "_view_name": "StyleView",
            "description_width": ""
          }
        },
        "e7378203c16c4ccca24a3d233effdfca": {
          "model_module": "@jupyter-widgets/base",
          "model_name": "LayoutModel",
          "model_module_version": "1.2.0",
          "state": {
            "_model_module": "@jupyter-widgets/base",
            "_model_module_version": "1.2.0",
            "_model_name": "LayoutModel",
            "_view_count": null,
            "_view_module": "@jupyter-widgets/base",
            "_view_module_version": "1.2.0",
            "_view_name": "LayoutView",
            "align_content": null,
            "align_items": null,
            "align_self": null,
            "border": null,
            "bottom": null,
            "display": null,
            "flex": null,
            "flex_flow": null,
            "grid_area": null,
            "grid_auto_columns": null,
            "grid_auto_flow": null,
            "grid_auto_rows": null,
            "grid_column": null,
            "grid_gap": null,
            "grid_row": null,
            "grid_template_areas": null,
            "grid_template_columns": null,
            "grid_template_rows": null,
            "height": null,
            "justify_content": null,
            "justify_items": null,
            "left": null,
            "margin": null,
            "max_height": null,
            "max_width": null,
            "min_height": null,
            "min_width": null,
            "object_fit": null,
            "object_position": null,
            "order": null,
            "overflow": null,
            "overflow_x": null,
            "overflow_y": null,
            "padding": null,
            "right": null,
            "top": null,
            "visibility": null,
            "width": null
          }
        },
        "e6f1fcc6a7b347dabe003f836747b4ec": {
          "model_module": "@jupyter-widgets/controls",
          "model_name": "ProgressStyleModel",
          "model_module_version": "1.5.0",
          "state": {
            "_model_module": "@jupyter-widgets/controls",
            "_model_module_version": "1.5.0",
            "_model_name": "ProgressStyleModel",
            "_view_count": null,
            "_view_module": "@jupyter-widgets/base",
            "_view_module_version": "1.2.0",
            "_view_name": "StyleView",
            "bar_color": null,
            "description_width": ""
          }
        },
        "8cc3858910744c4cb7e9bbc0dcc585be": {
          "model_module": "@jupyter-widgets/base",
          "model_name": "LayoutModel",
          "model_module_version": "1.2.0",
          "state": {
            "_model_module": "@jupyter-widgets/base",
            "_model_module_version": "1.2.0",
            "_model_name": "LayoutModel",
            "_view_count": null,
            "_view_module": "@jupyter-widgets/base",
            "_view_module_version": "1.2.0",
            "_view_name": "LayoutView",
            "align_content": null,
            "align_items": null,
            "align_self": null,
            "border": null,
            "bottom": null,
            "display": null,
            "flex": null,
            "flex_flow": null,
            "grid_area": null,
            "grid_auto_columns": null,
            "grid_auto_flow": null,
            "grid_auto_rows": null,
            "grid_column": null,
            "grid_gap": null,
            "grid_row": null,
            "grid_template_areas": null,
            "grid_template_columns": null,
            "grid_template_rows": null,
            "height": null,
            "justify_content": null,
            "justify_items": null,
            "left": null,
            "margin": null,
            "max_height": null,
            "max_width": null,
            "min_height": null,
            "min_width": null,
            "object_fit": null,
            "object_position": null,
            "order": null,
            "overflow": null,
            "overflow_x": null,
            "overflow_y": null,
            "padding": null,
            "right": null,
            "top": null,
            "visibility": null,
            "width": null
          }
        },
        "ac190cba14dc44d080be194f60c0490a": {
          "model_module": "@jupyter-widgets/controls",
          "model_name": "DescriptionStyleModel",
          "model_module_version": "1.5.0",
          "state": {
            "_model_module": "@jupyter-widgets/controls",
            "_model_module_version": "1.5.0",
            "_model_name": "DescriptionStyleModel",
            "_view_count": null,
            "_view_module": "@jupyter-widgets/base",
            "_view_module_version": "1.2.0",
            "_view_name": "StyleView",
            "description_width": ""
          }
        }
      }
    }
  },
  "cells": [
    {
      "cell_type": "markdown",
      "metadata": {
        "id": "view-in-github",
        "colab_type": "text"
      },
      "source": [
        "<a href=\"https://colab.research.google.com/github/moaaz12-web/Question-Answering-inference-using-BERT/blob/main/Text_summarization_from_web.ipynb\" target=\"_parent\"><img src=\"https://colab.research.google.com/assets/colab-badge.svg\" alt=\"Open In Colab\"/></a>"
      ]
    },
    {
      "cell_type": "markdown",
      "source": [
        "# IMPORT DEPENDENCIES"
      ],
      "metadata": {
        "id": "dNzpfTECWi-d"
      }
    },
    {
      "cell_type": "code",
      "source": [
        "! pip install transformers gradio"
      ],
      "metadata": {
        "id": "B4zshAXxX-de",
        "colab": {
          "base_uri": "https://localhost:8080/"
        },
        "outputId": "118eb565-62d8-49be-d0c4-1a0bd2da5802"
      },
      "execution_count": null,
      "outputs": [
        {
          "output_type": "stream",
          "name": "stdout",
          "text": [
            "Looking in indexes: https://pypi.org/simple, https://us-python.pkg.dev/colab-wheels/public/simple/\n",
            "Collecting transformers\n",
            "  Downloading transformers-4.22.2-py3-none-any.whl (4.9 MB)\n",
            "\u001b[K     |████████████████████████████████| 4.9 MB 36.0 MB/s \n",
            "\u001b[?25hCollecting gradio\n",
            "  Downloading gradio-3.4.0-py3-none-any.whl (5.3 MB)\n",
            "\u001b[K     |████████████████████████████████| 5.3 MB 52.1 MB/s \n",
            "\u001b[?25hCollecting huggingface-hub<1.0,>=0.9.0\n",
            "  Downloading huggingface_hub-0.10.0-py3-none-any.whl (163 kB)\n",
            "\u001b[K     |████████████████████████████████| 163 kB 75.4 MB/s \n",
            "\u001b[?25hRequirement already satisfied: regex!=2019.12.17 in /usr/local/lib/python3.7/dist-packages (from transformers) (2022.6.2)\n",
            "Requirement already satisfied: tqdm>=4.27 in /usr/local/lib/python3.7/dist-packages (from transformers) (4.64.1)\n",
            "Collecting tokenizers!=0.11.3,<0.13,>=0.11.1\n",
            "  Downloading tokenizers-0.12.1-cp37-cp37m-manylinux_2_12_x86_64.manylinux2010_x86_64.whl (6.6 MB)\n",
            "\u001b[K     |████████████████████████████████| 6.6 MB 26.6 MB/s \n",
            "\u001b[?25hRequirement already satisfied: importlib-metadata in /usr/local/lib/python3.7/dist-packages (from transformers) (4.12.0)\n",
            "Requirement already satisfied: numpy>=1.17 in /usr/local/lib/python3.7/dist-packages (from transformers) (1.21.6)\n",
            "Requirement already satisfied: requests in /usr/local/lib/python3.7/dist-packages (from transformers) (2.23.0)\n",
            "Requirement already satisfied: pyyaml>=5.1 in /usr/local/lib/python3.7/dist-packages (from transformers) (6.0)\n",
            "Requirement already satisfied: filelock in /usr/local/lib/python3.7/dist-packages (from transformers) (3.8.0)\n",
            "Requirement already satisfied: packaging>=20.0 in /usr/local/lib/python3.7/dist-packages (from transformers) (21.3)\n",
            "Requirement already satisfied: typing-extensions>=3.7.4.3 in /usr/local/lib/python3.7/dist-packages (from huggingface-hub<1.0,>=0.9.0->transformers) (4.1.1)\n",
            "Requirement already satisfied: pyparsing!=3.0.5,>=2.0.2 in /usr/local/lib/python3.7/dist-packages (from packaging>=20.0->transformers) (3.0.9)\n",
            "Collecting uvicorn\n",
            "  Downloading uvicorn-0.18.3-py3-none-any.whl (57 kB)\n",
            "\u001b[K     |████████████████████████████████| 57 kB 5.9 MB/s \n",
            "\u001b[?25hCollecting h11<0.13,>=0.11\n",
            "  Downloading h11-0.12.0-py3-none-any.whl (54 kB)\n",
            "\u001b[K     |████████████████████████████████| 54 kB 4.0 MB/s \n",
            "\u001b[?25hCollecting markdown-it-py[linkify,plugins]\n",
            "  Downloading markdown_it_py-2.1.0-py3-none-any.whl (84 kB)\n",
            "\u001b[K     |████████████████████████████████| 84 kB 3.8 MB/s \n",
            "\u001b[?25hRequirement already satisfied: pandas in /usr/local/lib/python3.7/dist-packages (from gradio) (1.3.5)\n",
            "Collecting httpx\n",
            "  Downloading httpx-0.23.0-py3-none-any.whl (84 kB)\n",
            "\u001b[K     |████████████████████████████████| 84 kB 3.1 MB/s \n",
            "\u001b[?25hRequirement already satisfied: matplotlib in /usr/local/lib/python3.7/dist-packages (from gradio) (3.2.2)\n",
            "Collecting websockets\n",
            "  Downloading websockets-10.3-cp37-cp37m-manylinux_2_5_x86_64.manylinux1_x86_64.manylinux_2_12_x86_64.manylinux2010_x86_64.whl (112 kB)\n",
            "\u001b[K     |████████████████████████████████| 112 kB 58.8 MB/s \n",
            "\u001b[?25hCollecting orjson\n",
            "  Downloading orjson-3.8.0-cp37-cp37m-manylinux_2_17_x86_64.manylinux2014_x86_64.whl (270 kB)\n",
            "\u001b[K     |████████████████████████████████| 270 kB 74.9 MB/s \n",
            "\u001b[?25hCollecting pycryptodome\n",
            "  Downloading pycryptodome-3.15.0-cp35-abi3-manylinux2010_x86_64.whl (2.3 MB)\n",
            "\u001b[K     |████████████████████████████████| 2.3 MB 57.8 MB/s \n",
            "\u001b[?25hCollecting ffmpy\n",
            "  Downloading ffmpy-0.3.0.tar.gz (4.8 kB)\n",
            "Requirement already satisfied: aiohttp in /usr/local/lib/python3.7/dist-packages (from gradio) (3.8.1)\n",
            "Requirement already satisfied: fsspec in /usr/local/lib/python3.7/dist-packages (from gradio) (2022.8.2)\n",
            "Collecting python-multipart\n",
            "  Downloading python-multipart-0.0.5.tar.gz (32 kB)\n",
            "Collecting fastapi\n",
            "  Downloading fastapi-0.85.0-py3-none-any.whl (55 kB)\n",
            "\u001b[K     |████████████████████████████████| 55 kB 4.0 MB/s \n",
            "\u001b[?25hCollecting pydub\n",
            "  Downloading pydub-0.25.1-py2.py3-none-any.whl (32 kB)\n",
            "Requirement already satisfied: pydantic in /usr/local/lib/python3.7/dist-packages (from gradio) (1.9.2)\n",
            "Collecting paramiko\n",
            "  Downloading paramiko-2.11.0-py2.py3-none-any.whl (212 kB)\n",
            "\u001b[K     |████████████████████████████████| 212 kB 74.8 MB/s \n",
            "\u001b[?25hRequirement already satisfied: jinja2 in /usr/local/lib/python3.7/dist-packages (from gradio) (2.11.3)\n",
            "Requirement already satisfied: pillow in /usr/local/lib/python3.7/dist-packages (from gradio) (7.1.2)\n",
            "Requirement already satisfied: async-timeout<5.0,>=4.0.0a3 in /usr/local/lib/python3.7/dist-packages (from aiohttp->gradio) (4.0.2)\n",
            "Requirement already satisfied: frozenlist>=1.1.1 in /usr/local/lib/python3.7/dist-packages (from aiohttp->gradio) (1.3.1)\n",
            "Requirement already satisfied: aiosignal>=1.1.2 in /usr/local/lib/python3.7/dist-packages (from aiohttp->gradio) (1.2.0)\n",
            "Requirement already satisfied: attrs>=17.3.0 in /usr/local/lib/python3.7/dist-packages (from aiohttp->gradio) (22.1.0)\n",
            "Requirement already satisfied: multidict<7.0,>=4.5 in /usr/local/lib/python3.7/dist-packages (from aiohttp->gradio) (6.0.2)\n",
            "Requirement already satisfied: charset-normalizer<3.0,>=2.0 in /usr/local/lib/python3.7/dist-packages (from aiohttp->gradio) (2.1.1)\n",
            "Requirement already satisfied: asynctest==0.13.0 in /usr/local/lib/python3.7/dist-packages (from aiohttp->gradio) (0.13.0)\n",
            "Requirement already satisfied: yarl<2.0,>=1.0 in /usr/local/lib/python3.7/dist-packages (from aiohttp->gradio) (1.8.1)\n",
            "Requirement already satisfied: idna>=2.0 in /usr/local/lib/python3.7/dist-packages (from yarl<2.0,>=1.0->aiohttp->gradio) (2.10)\n",
            "Collecting starlette==0.20.4\n",
            "  Downloading starlette-0.20.4-py3-none-any.whl (63 kB)\n",
            "\u001b[K     |████████████████████████████████| 63 kB 2.8 MB/s \n",
            "\u001b[?25hCollecting anyio<5,>=3.4.0\n",
            "  Downloading anyio-3.6.1-py3-none-any.whl (80 kB)\n",
            "\u001b[K     |████████████████████████████████| 80 kB 9.4 MB/s \n",
            "\u001b[?25hCollecting sniffio>=1.1\n",
            "  Downloading sniffio-1.3.0-py3-none-any.whl (10 kB)\n",
            "Requirement already satisfied: certifi in /usr/local/lib/python3.7/dist-packages (from httpx->gradio) (2022.6.15)\n",
            "Collecting rfc3986[idna2008]<2,>=1.3\n",
            "  Downloading rfc3986-1.5.0-py2.py3-none-any.whl (31 kB)\n",
            "Collecting httpcore<0.16.0,>=0.15.0\n",
            "  Downloading httpcore-0.15.0-py3-none-any.whl (68 kB)\n",
            "\u001b[K     |████████████████████████████████| 68 kB 6.9 MB/s \n",
            "\u001b[?25hRequirement already satisfied: zipp>=0.5 in /usr/local/lib/python3.7/dist-packages (from importlib-metadata->transformers) (3.8.1)\n",
            "Requirement already satisfied: MarkupSafe>=0.23 in /usr/local/lib/python3.7/dist-packages (from jinja2->gradio) (2.0.1)\n",
            "Collecting mdurl~=0.1\n",
            "  Downloading mdurl-0.1.2-py3-none-any.whl (10.0 kB)\n",
            "Collecting linkify-it-py~=1.0\n",
            "  Downloading linkify_it_py-1.0.3-py3-none-any.whl (19 kB)\n",
            "Collecting mdit-py-plugins\n",
            "  Downloading mdit_py_plugins-0.3.1-py3-none-any.whl (46 kB)\n",
            "\u001b[K     |████████████████████████████████| 46 kB 4.9 MB/s \n",
            "\u001b[?25hCollecting uc-micro-py\n",
            "  Downloading uc_micro_py-1.0.1-py3-none-any.whl (6.2 kB)\n",
            "Requirement already satisfied: cycler>=0.10 in /usr/local/lib/python3.7/dist-packages (from matplotlib->gradio) (0.11.0)\n",
            "Requirement already satisfied: kiwisolver>=1.0.1 in /usr/local/lib/python3.7/dist-packages (from matplotlib->gradio) (1.4.4)\n",
            "Requirement already satisfied: python-dateutil>=2.1 in /usr/local/lib/python3.7/dist-packages (from matplotlib->gradio) (2.8.2)\n",
            "Requirement already satisfied: six>=1.5 in /usr/local/lib/python3.7/dist-packages (from python-dateutil>=2.1->matplotlib->gradio) (1.15.0)\n",
            "Requirement already satisfied: pytz>=2017.3 in /usr/local/lib/python3.7/dist-packages (from pandas->gradio) (2022.2.1)\n",
            "Collecting cryptography>=2.5\n",
            "  Downloading cryptography-38.0.1-cp36-abi3-manylinux_2_24_x86_64.whl (4.0 MB)\n",
            "\u001b[K     |████████████████████████████████| 4.0 MB 59.0 MB/s \n",
            "\u001b[?25hCollecting pynacl>=1.0.1\n",
            "  Downloading PyNaCl-1.5.0-cp36-abi3-manylinux_2_17_x86_64.manylinux2014_x86_64.manylinux_2_24_x86_64.whl (856 kB)\n",
            "\u001b[K     |████████████████████████████████| 856 kB 67.6 MB/s \n",
            "\u001b[?25hCollecting bcrypt>=3.1.3\n",
            "  Downloading bcrypt-4.0.0-cp36-abi3-manylinux_2_24_x86_64.whl (594 kB)\n",
            "\u001b[K     |████████████████████████████████| 594 kB 73.3 MB/s \n",
            "\u001b[?25hRequirement already satisfied: cffi>=1.12 in /usr/local/lib/python3.7/dist-packages (from cryptography>=2.5->paramiko->gradio) (1.15.1)\n",
            "Requirement already satisfied: pycparser in /usr/local/lib/python3.7/dist-packages (from cffi>=1.12->cryptography>=2.5->paramiko->gradio) (2.21)\n",
            "Requirement already satisfied: urllib3!=1.25.0,!=1.25.1,<1.26,>=1.21.1 in /usr/local/lib/python3.7/dist-packages (from requests->transformers) (1.24.3)\n",
            "Requirement already satisfied: chardet<4,>=3.0.2 in /usr/local/lib/python3.7/dist-packages (from requests->transformers) (3.0.4)\n",
            "Requirement already satisfied: click>=7.0 in /usr/local/lib/python3.7/dist-packages (from uvicorn->gradio) (7.1.2)\n",
            "Building wheels for collected packages: ffmpy, python-multipart\n",
            "  Building wheel for ffmpy (setup.py) ... \u001b[?25l\u001b[?25hdone\n",
            "  Created wheel for ffmpy: filename=ffmpy-0.3.0-py3-none-any.whl size=4712 sha256=518b89cb44294ba6be7592716ae0eca64d1b72957913b90c5d6a5a66ad5cb962\n",
            "  Stored in directory: /root/.cache/pip/wheels/13/e4/6c/e8059816e86796a597c6e6b0d4c880630f51a1fcfa0befd5e6\n",
            "  Building wheel for python-multipart (setup.py) ... \u001b[?25l\u001b[?25hdone\n",
            "  Created wheel for python-multipart: filename=python_multipart-0.0.5-py3-none-any.whl size=31678 sha256=8b5bc90ede54ac614c839edc004593ea5fee73a9bef7667555a19b3544b2173f\n",
            "  Stored in directory: /root/.cache/pip/wheels/2c/41/7c/bfd1c180534ffdcc0972f78c5758f89881602175d48a8bcd2c\n",
            "Successfully built ffmpy python-multipart\n",
            "Installing collected packages: sniffio, mdurl, uc-micro-py, rfc3986, markdown-it-py, h11, anyio, starlette, pynacl, mdit-py-plugins, linkify-it-py, httpcore, cryptography, bcrypt, websockets, uvicorn, tokenizers, python-multipart, pydub, pycryptodome, paramiko, orjson, huggingface-hub, httpx, ffmpy, fastapi, transformers, gradio\n",
            "Successfully installed anyio-3.6.1 bcrypt-4.0.0 cryptography-38.0.1 fastapi-0.85.0 ffmpy-0.3.0 gradio-3.4.0 h11-0.12.0 httpcore-0.15.0 httpx-0.23.0 huggingface-hub-0.10.0 linkify-it-py-1.0.3 markdown-it-py-2.1.0 mdit-py-plugins-0.3.1 mdurl-0.1.2 orjson-3.8.0 paramiko-2.11.0 pycryptodome-3.15.0 pydub-0.25.1 pynacl-1.5.0 python-multipart-0.0.5 rfc3986-1.5.0 sniffio-1.3.0 starlette-0.20.4 tokenizers-0.12.1 transformers-4.22.2 uc-micro-py-1.0.1 uvicorn-0.18.3 websockets-10.3\n"
          ]
        }
      ]
    },
    {
      "cell_type": "code",
      "execution_count": null,
      "metadata": {
        "id": "dlz1VvIfXuZL"
      },
      "outputs": [],
      "source": [
        "from transformers import pipeline\n",
        "from bs4 import BeautifulSoup\n",
        "import gradio as gr\n",
        "import requests"
      ]
    },
    {
      "cell_type": "markdown",
      "source": [
        "# DOWNLOAD THE MODEL"
      ],
      "metadata": {
        "id": "_QqN8zWmWmv8"
      }
    },
    {
      "cell_type": "code",
      "source": [
        "summarizer = pipeline(\"summarization\")"
      ],
      "metadata": {
        "colab": {
          "base_uri": "https://localhost:8080/",
          "height": 212,
          "referenced_widgets": [
            "3a9efe172a3f4c9f9cc7e9072197d174",
            "d02c70dfa1524c65a4977cf912cfcd7e",
            "a323829b95bc46b69557397c4ce25d9e",
            "57027bd93069495590040aa0157a965c",
            "8ab23455c727475881ca5d1fddc40f26",
            "e1db609393694f10ae244613fcf2e4b7",
            "489049ba2ba64cafb534803c1a4b1cfd",
            "e0b11230fc6c4d659c12241a4c72b91b",
            "85f18abbb9c844778c29965d23a3421a",
            "d11a6a761b64440abdc924cc31ae5685",
            "6490a1cb9d114111bb1f04f6799e07e2",
            "82311e3000284210ba5e0507f57c57c3",
            "484dd07e010746e5ba4a84f2726f2735",
            "51793bfc59804ab797949a30f916198d",
            "9b912f22834440f8bab3af62a9f6f7b0",
            "767dfd5c2f6d4801ba4986c350a171eb",
            "b0c961991e6c42a3aac4adf68c8f9f95",
            "a25fba041e1b4644a4d9d9968793bf95",
            "8eee949644754ee6b9e2c459c0fc233e",
            "1b0b269dfdc84f34b77f0101d1f6e6d9",
            "bb07d6b6b02a4f4eb120599c6a41ea02",
            "017c961987664bd9a4a3927a28d899dd",
            "0f04e502836a42af9781e86e849f76b6",
            "a0e984df5b1b415b8b670e2f4f3209ed",
            "bd11b09ca0f84c9bad8cc5bf5b424102",
            "5e880c88575749a48f63480dbe145b6d",
            "5bc1c74c22184f5583a93415af9a73dc",
            "0cad6dc30dae4cdc92814940458c76d5",
            "434243a7b1964207ad4831a83cd54a19",
            "95bbea426b3f4ff3a942d0799dfa2831",
            "d905a667aca14b47b8321a42e8d3850c",
            "da27d0f2aad345ecaaf204887ac53554",
            "952176708edb4d5fab90260ae86b5fff",
            "66fe174ebbd249b7adf5ce353daab411",
            "29830c5c888447f486b6a850921b7b9b",
            "e4871185dd32477b8b342bbd3fb0d622",
            "4ad07d7cf38b409fb7d9a0dbaa2889de",
            "1f0a00975ca247ccaa5afa64b92362f1",
            "d670cd3dfc854e62a24141577c32dfd6",
            "c30ca40b3a7e4758bc328765e5d4c6f8",
            "9b071d957a14477ba89b0d604b78cbef",
            "05f4ead64069456bb4c4efeb064659de",
            "46fd76e485a545c2afbeb5859ca43397",
            "55591f83cdc441e29bca736bd4b1dd96",
            "dba80058a62e4784aeb370ca6f73adb2",
            "b32109477ca14265a9499d95fb594d27",
            "4da71428f81c4f259584cd1cc5e22be4",
            "7e0870842b6d44c6b3e7b7a902bc2341",
            "7aa81579a79749208f1b9724032abd42",
            "8000e661572b4a3c81616c95c41fe385",
            "e6cc8435bb7e4a6199ae0881c9c7d410",
            "e7378203c16c4ccca24a3d233effdfca",
            "e6f1fcc6a7b347dabe003f836747b4ec",
            "8cc3858910744c4cb7e9bbc0dcc585be",
            "ac190cba14dc44d080be194f60c0490a"
          ]
        },
        "id": "S3S7-5l5X8nc",
        "outputId": "11404fea-6808-469c-a1f6-f7fb982605cc"
      },
      "execution_count": null,
      "outputs": [
        {
          "output_type": "stream",
          "name": "stderr",
          "text": [
            "No model was supplied, defaulted to sshleifer/distilbart-cnn-12-6 and revision a4f8f3e (https://huggingface.co/sshleifer/distilbart-cnn-12-6).\n",
            "Using a pipeline without specifying a model name and revision in production is not recommended.\n"
          ]
        },
        {
          "output_type": "display_data",
          "data": {
            "text/plain": [
              "Downloading:   0%|          | 0.00/1.80k [00:00<?, ?B/s]"
            ],
            "application/vnd.jupyter.widget-view+json": {
              "version_major": 2,
              "version_minor": 0,
              "model_id": "3a9efe172a3f4c9f9cc7e9072197d174"
            }
          },
          "metadata": {}
        },
        {
          "output_type": "display_data",
          "data": {
            "text/plain": [
              "Downloading:   0%|          | 0.00/1.22G [00:00<?, ?B/s]"
            ],
            "application/vnd.jupyter.widget-view+json": {
              "version_major": 2,
              "version_minor": 0,
              "model_id": "82311e3000284210ba5e0507f57c57c3"
            }
          },
          "metadata": {}
        },
        {
          "output_type": "display_data",
          "data": {
            "text/plain": [
              "Downloading:   0%|          | 0.00/26.0 [00:00<?, ?B/s]"
            ],
            "application/vnd.jupyter.widget-view+json": {
              "version_major": 2,
              "version_minor": 0,
              "model_id": "0f04e502836a42af9781e86e849f76b6"
            }
          },
          "metadata": {}
        },
        {
          "output_type": "display_data",
          "data": {
            "text/plain": [
              "Downloading:   0%|          | 0.00/899k [00:00<?, ?B/s]"
            ],
            "application/vnd.jupyter.widget-view+json": {
              "version_major": 2,
              "version_minor": 0,
              "model_id": "66fe174ebbd249b7adf5ce353daab411"
            }
          },
          "metadata": {}
        },
        {
          "output_type": "display_data",
          "data": {
            "text/plain": [
              "Downloading:   0%|          | 0.00/456k [00:00<?, ?B/s]"
            ],
            "application/vnd.jupyter.widget-view+json": {
              "version_major": 2,
              "version_minor": 0,
              "model_id": "dba80058a62e4784aeb370ca6f73adb2"
            }
          },
          "metadata": {}
        }
      ]
    },
    {
      "cell_type": "markdown",
      "source": [
        "# GET THE URL AND THE DATA"
      ],
      "metadata": {
        "id": "0O7H6sf4Wphq"
      }
    },
    {
      "cell_type": "code",
      "source": [
        "URL = 'https://www.verywellmind.com/how-to-be-successful-in-life-4165743'\n",
        "r = requests.get(URL)\n"
      ],
      "metadata": {
        "id": "8hVSBb5CYWWV"
      },
      "execution_count": null,
      "outputs": []
    },
    {
      "cell_type": "code",
      "source": [
        "r.text"
      ],
      "metadata": {
        "colab": {
          "base_uri": "https://localhost:8080/",
          "height": 140
        },
        "id": "4Ixnbc5AdVVY",
        "outputId": "0b119b37-1b56-4282-a9f6-cf98933c2c82"
      },
      "execution_count": null,
      "outputs": [
        {
          "output_type": "execute_result",
          "data": {
            "text/plain": [
              "'<!DOCTYPE html>\\n<html id=\"listScTemplate_1-0\" class=\"comp no-js taxlevel-2 vertical-verywellmind listScTemplate html mntl-html\" data-ab=\"99,99,55,53,63,99,99\" data-resource-version=\"4.318.0\" lang=\"en\" data-mantle-resource-version=\"3.13.478\" data-health-resource-version=\"4.318.0\" data-health-mind-resource-version=\"4.318.0\" data-tracking-container=\"true\">\\t\\t\\t\\t\\n<!--\\n<globe-environment environment=\"k8s-prod\" application=\"health-mind\" dataCenter=\"us-west-1\"/>\\n-->\\n<head class=\"loc head\">\\t\\t\\t\\t\\n\\t\\t\\t\\t\\t\\n\\t\\t\\t\\t\\t<script type=\"text/javascript\">var Mntl = window.Mntl || {};</script>\\n\\t\\t\\t\\t\\t\\n\\t\\t\\t\\t\\t    <link rel=\"preconnect\" href=\"//js-sec.indexww.com\">\\n    <link rel=\"preconnect\" href=\"//c.amazon-adsystem.com\">\\n    <link rel=\"preconnect\" href=\"//securepubads.g.doubleclick.net\">\\n    <link rel=\"preconnect\" href=\"//ak.sail-horizon.com\">\\n\\n\\t\\t\\t\\t\\t\\n\\t\\t\\t\\t\\t\\n<meta charset=\"utf-8\">\\n<meta http-equiv=\"X-UA-Compatible\" content=\"IE=edge\">\\n\\n<meta name=\"robots\" content=\"max-image-preview:large, NOODP, NOYDIR\" />\\n\\n<meta name=\"viewport\" content=\"width=device-width, initial-scale=1.0\">\\n\\n<link rel=\"canonical\" href=\"https://www.verywellmind.com/how-to-be-successful-in-life-4165743\" />\\n<title>9 Tips for How to Be Successful in Life</title>\\n<meta name=\"description\" content=\"What is success? Success is often defined as being able to achieve self-defined goals. Learn about how to be successful in life while developing mental strength.\" itemprop=\"description\">\\n<meta name=\"emailcontenttype\" content=\"LISTSC\" />\\n<meta name=\"emailvertical\" content=\"VERYWELLMIND\" />\\n<meta name=\"sailthru.author\" content=\"Kendra Cherry\" />\\n<meta name=\"sailthru.tags\" content=\"self-improvement,happiness\" />\\n<!-- Pinterest Pins -->\\n<meta itemprop=\"name\" content=\"9 Psychological Strategies for Success in Life\" />\\n<meta property=\"article:section\" content=\"Verywell\" />\\n<!-- Facebook Open Graph Tags -->\\n<meta property=\"fb:app_id\" content=\"1431307506992053\" />\\n<meta property=\"og:type\" content=\"article\" />\\n<meta property=\"og:site_name\" content=\"Verywell Mind\" />\\n<meta property=\"og:url\" content=\"https://www.verywellmind.com/how-to-be-successful-in-life-4165743\" />\\n<meta property=\"og:title\" content=\"9 Psychological Strategies for Success in Life\" />\\n<meta property=\"og:description\" content=\"What is success? Success is often defined as being able to achieve self-defined goals. Learn about how to be successful in life while developing mental strength.\" />\\n<meta property=\"og:image\" content=\"https://www.verywellmind.com/thmb/8mfRQFPjzVApAeDgq7hPESrc8g8=/2121x1414/filters:fill(ABEAC3,1)/GettyImages-522319544-5b083e641d64040037b2dde7.jpg\" />\\n<meta property=\"article:author\" content=\"https://www.facebook.com/verywell\" />\\n<!-- Twitter Cards -->\\n<meta name=\"twitter:card\" content=\"summary_large_image\" />\\n<meta name=\"twitter:site\" content=\"@verywell\" />\\n<meta name=\"twitter:title\" content=\"9 Psychological Strategies for Success in Life\" />\\n<meta name=\"twitter:description\" content=\"What is success? Success is often defined as being able to achieve self-defined goals. Learn about how to be successful in life while developing mental strength.\" />\\n<meta name=\"twitter:image\" content=\"https://www.verywellmind.com/thmb/CWLDuudSoEX_xHlwWbT9Tn5XQDA=/2121x1414/filters:fill(auto,1)/GettyImages-522319544-5b083e641d64040037b2dde7.jpg\" />\\n<meta property=\"og:tax1\" content=\"vmind_self-improvement\"/>\\n<meta property=\"og:tax2\" content=\"vmind_happiness\"/>\\n<meta property=\"og:tax0\" content=\"vmind\"/>\\n\\t\\t\\t\\t\\t\\n\\t\\t\\t\\t\\t<link type=\"text/css\" rel=\"stylesheet\" data-glb-css href=\"/static/4.318.0/cache/eNqlV92WoyAMfqHl-BB7uy8RMWrOIHggdmbefgNoq9ainbmokJCPQP5Iq8DApKsBLBusdAhV5OCf6nmBBuhQjQY09s406O9CcXUAsk8oN4zOouVQQROS2I0adA_gVkB-hS0-qelQxh6p6_lvD7bDfxQYLfpDZuk4Xvjzveb54aFmsR7BcK8KkgM2BFVL3eRxkduRF67GzhmmcRmPFL0QVe6G3otxQxGEX6zYqTAi6n5HHgEt3KgTprNV7REa7aehDut5yWzzqMR8Ei4bkmy3p3-w04AMG6Jg4_rbkMUchfO8pHERL4lO3DuvFk9syVLwMXuqp2jVfJwVQxHjUMJudSb0Vb0rZwanCYwSTs75O3kSBCtcGbM3o8cb4aeS-NSeRl5d4eXK0bZiJF6sNnqyrDLnSuxoZ6UscGWkPKigl7FgsMB-0iwp3NzByVpalSvVAa7nwaTPOyd97JP0ajDGTfyjA8-kipd-b4NU9vP3F2ff4p8VZy1RsqP2F3pahERI1H2Utglu8hrDMpbqBoR8MPwawTZQi_LaOP1RwGjilC9qUZPct2O-iycbU0kta4clKR3sXhJqcqtpQV5sKLkgNaiWHF8Tan_p8upPVJS81CI2NYjWZXKhw_CxEVAeyJwI12RM7cDPuCCSH9_qwX0PfhmXotTgF0WrwSVxk169tPur1ulEJKDOz82SPrEObIgjVOTPDsyAx7Tg6RwnL-Nh6UWMS6--Aiu5nx6XJ84RvDOuBlPNjUAeCnLGdS59Th62djJGHiBEmx63LXmEbZ0fxDvONpQzFcFLS7VnFKDiWP4eEeIdXot1sZOVd3bef0sWXc3QBTVTG-LEFEk0GmGZnMnHZJYHI5bcsKVOkNlHSddjWoishoI2QIM4_jEtyGuUAG9JTlODBN0z4x1svlimNsQ7m_QSGNZFns4m2DNKm7nxOxW3x-ysRcpRUuiR5ixpnWMxah6uyqlXaZUD1-JnMMhR8Dbhjrys4wE7S-D5TCkI18S1jrZ10lt9bqlrrXTjuIHQq8mS_AULq676cOU_ZI73eQ.min.css\"></link>\\n\\n\\t\\t\\t\\t\\t\\n\\t\\t\\t\\t\\t<style type=\"text/css\"></style>\\n\\t\\t\\t\\t\\t\\n\\t\\t\\t\\t\\t<script type=\"text/javascript\" data-glb-js=\"top\" src=\"/static/4.318.0/cache/eNqFk2FugzAMhS-0KHeYNO3vVHGBkLjgksTMcTrB6Re6aaWQUYk_5H12nvFDJzGCVgcTxYO2FEaKECVpbybKoi-pPMr2YIcX_QhfFmieEs5QCIpn7LbI75vHNj3gtVZkHLiKcIXoiHUgBxxxZvUjVUhLNOC--cbEZwaekjDGrtIjC3oUrFo8R3UkOwqH-vtH8_940jNJfSyGwmRo2NhhbbpIoTCqZTDDSFi2ttZ6MF76Q0djblNuK8Kpea2cyuLgJO3bFdZ33YFgpnY3wSpTxt02kCOWJajkSdQSh7-KPdqNUvNtOlBXhK-DuzoJt0x4tIOS7bfb8yUR2UpmcEuWpZwt5cmq4uT5SIxdL4oN-ucslj8looC6Fy2ZLjPxN83XWI0.min.js\"></script>\\n\\n\\t\\t\\t\\t\\t\\n\\t\\t\\t\\t\\t<script type=\"text/javascript\">var Mntl = window.Mntl || {};window.Mntl = window.Mntl || {};\\n\\nwindow.Mntl.csrf = function() {\\n    return \\'c12318d453336c5889eb7ce5bf2ce600\\';\\n};window.rightrailBreakpoint = \"mntlBpMd\";\\nwindow.Mntl = window.Mntl || {};\\nMntl.RTB = Mntl.RTB || {};\\nMntl.RTB.setTaxonomyStampValues({\"tax1\":\"vmind_self-improvement\",\"tax2\":\"vmind_happiness\",\"tax0\":\"vmind_root\"});\\nMntl.RTB.setTimeoutLength([500,800]);\\nMntl.RTB.Plugins.amazon.amazonConfigs = {\"mapTaxValues\":{\"tax1\":\"vmind_self-improvement\",\"tax2\":\"vmind_happiness\",\"si_section\":\"vmind_happiness\",\"tax0\":\"vmind_root\",\"tax3\":\"null\"},\"mapFBValues\":{\"billboard2\":\"300131023852523_356476958217929\",\"billboard6\":\"300131023852523_356476958217929\",\"billboard5\":\"300131023852523_356477111551247\",\"billboard4\":\"300131023852523_356476958217929\",\"billboard3\":\"300131023852523_356476958217929\",\"leaderboard2\":\"300131023852523_356476838217941\",\"billboard7\":\"300131023852523_356476958217929\",\"billboard\":\"300131023852523_356477111551247\",\"leaderboardac\":\"300131023852523_356476958217929\",\"leaderboard\":\"300131023852523_356477111551247\",\"default\":\"300131023852523_356476958217929\",\"leaderboardfooter2\":\"300131023852523_356476838217941\",\"native\":\"300131023852523_356476958217929\",\"leaderboardfooter\":\"300131023852523_356476838217941\"},\"amazonSlotName\":false,\"amazonSection\":\"Happiness\"};\\nMntl.RTB.initVideoBidders([{ type: \\'amazon\\', id: \\'3222\\' }]);\\nMntl.RTB.initDisplayAndOutstreamBidders([{ type: \"amazon\", id: \\'3222\\'},{ type: \"prebid\", id: \\'true\\'}]);\\nMntl.RTBTracking.init([\\'amazon\\',\\'prebid\\']);\\nMntl.RTB.Plugins.lotameLightning.init({\"tax1\":\"vmind_self-improvement\",\"tax2\":\"vmind_happiness\",\"tax0\":\"vw\",\"clientId\":\"12522\"});\\nMntl.RTB.Plugins.prebid.setConfig({\"leaderboard-fixed\\\\/tier2\":[{\"bidder\":\"trustx\",\"params\":{\"uid\":\"351773\",\"useNewFormat\":true,\"type\":\"display\"}},{\"bidder\":\"pubmatic\",\"params\":{\"publisherId\":\"158139\",\"adSlot\":\"4515332\",\"type\":\"display\"}},{\"bidder\":\"roundel\",\"params\":{\"siteId\":382319,\"type\":\"display\"}},{\"bidder\":\"onemobile\",\"params\":{\"dcn\":\"8a9691af018180ffdca0026aa52c0043\",\"pos\":\"8a9698d2018180ffd7df028cd75b00cd\"}},{\"bidder\":\"appnexus\",\"params\":{\"placementId\":\"25483007\",\"type\":\"display\"}},{\"bidder\":\"ix\",\"params\":{\"siteId\":\"830601\",\"type\":\"display\"}},{\"bidder\":\"rubicon\",\"params\":{\"accountId\":\"7499\",\"siteId\":\"426908\",\"zoneId\":\"2442946\",\"type\":\"display\"}}],\"square-fixed\\\\/tier1\":[{\"bidder\":\"rubicon\",\"params\":{\"accountId\":\"7499\",\"siteId\":\"426908\",\"zoneId\":\"2442954\",\"type\":\"display\"}},{\"bidder\":\"trustx\",\"params\":{\"uid\":\"351777\",\"useNewFormat\":true,\"type\":\"display\"}},{\"bidder\":\"onemobile\",\"params\":{\"dcn\":\"8a9691af018180ffdca0026aa52c0043\",\"pos\":\"8a9694b2018180ffe245028cde4c00e4\"}},{\"bidder\":\"pubmatic\",\"params\":{\"publisherId\":\"158139\",\"adSlot\":\"4515336\",\"type\":\"display\"}},{\"bidder\":\"ix\",\"params\":{\"siteId\":\"830606\",\"type\":\"display\"}},{\"bidder\":\"roundel\",\"params\":{\"siteId\":382319,\"type\":\"display\"}},{\"bidder\":\"appnexus\",\"params\":{\"placementId\":\"25483011\",\"type\":\"display\"}}],\"leaderboard-fixed\\\\/tier1\":[{\"bidder\":\"ix\",\"params\":{\"siteId\":\"830600\",\"type\":\"display\"}},{\"bidder\":\"roundel\",\"params\":{\"siteId\":382319,\"type\":\"display\"}},{\"bidder\":\"trustx\",\"params\":{\"uid\":\"351772\",\"useNewFormat\":true,\"type\":\"display\"}},{\"bidder\":\"pubmatic\",\"params\":{\"publisherId\":\"158139\",\"adSlot\":\"4515331\",\"type\":\"display\"}},{\"bidder\":\"onemobile\",\"params\":{\"dcn\":\"8a9691af018180ffdca0026aa52c0043\",\"pos\":\"8a9691af018180ffdca0028cd5af00d0\"}},{\"bidder\":\"appnexus\",\"params\":{\"placementId\":\"25483006\",\"type\":\"display\"}},{\"bidder\":\"rubicon\",\"params\":{\"accountId\":\"7499\",\"siteId\":\"426908\",\"zoneId\":\"2442944\",\"type\":\"display\"}}],\"leaderboardac\\\\/tier2\":[{\"bidder\":\"onemobile\",\"params\":{\"dcn\":\"8a9691af018180ffdca0026aa52c0043\",\"pos\":\"8a9698d2018180ffd7df028cdc9500ce\"}},{\"bidder\":\"rubicon\",\"params\":{\"accountId\":\"7499\",\"siteId\":\"426908\",\"zoneId\":\"2442952\",\"type\":\"display\"}},{\"bidder\":\"appnexus\",\"params\":{\"placementId\":\"25483010\",\"type\":\"display\"}},{\"bidder\":\"trustx\",\"params\":{\"uid\":\"351776\",\"useNewFormat\":true,\"type\":\"display\"}},{\"bidder\":\"pubmatic\",\"params\":{\"publisherId\":\"158139\",\"adSlot\":\"4515335\",\"type\":\"display\"}},{\"bidder\":\"ix\",\"params\":{\"siteId\":\"830605\",\"type\":\"display\"}},{\"bidder\":\"roundel\",\"params\":{\"siteId\":382319,\"type\":\"display\"}}],\"square-fixed\\\\/tier2\":[{\"bidder\":\"appnexus\",\"params\":{\"placementId\":\"25483012\",\"type\":\"display\"}},{\"bidder\":\"trustx\",\"params\":{\"uid\":\"351778\",\"useNewFormat\":true,\"type\":\"display\"}},{\"bidder\":\"rubicon\",\"params\":{\"accountId\":\"7499\",\"siteId\":\"426908\",\"zoneId\":\"2442956\",\"type\":\"display\"}},{\"bidder\":\"pubmatic\",\"params\":{\"publisherId\":\"158139\",\"adSlot\":\"4515337\",\"type\":\"display\"}},{\"bidder\":\"onemobile\",\"params\":{\"dcn\":\"8a9691af018180ffdca0026aa52c0043\",\"pos\":\"8a9691af018180ffdca0028ce02200d2\"}},{\"bidder\":\"ix\",\"params\":{\"siteId\":\"830607\",\"type\":\"display\"}},{\"bidder\":\"roundel\",\"params\":{\"siteId\":382319,\"type\":\"display\"}}],\"leaderboard-fixed\\\\/tier4\":[{\"bidder\":\"ix\",\"params\":{\"siteId\":\"830603\",\"type\":\"display\"}},{\"bidder\":\"onemobile\",\"params\":{\"dcn\":\"8a9691af018180ffdca0026aa52c0043\",\"pos\":\"8a9691af018180ffdca0028cdadd00d1\"}},{\"bidder\":\"pubmatic\",\"params\":{\"publisherId\":\"158139\",\"adSlot\":\"4515334\",\"type\":\"display\"}},{\"bidder\":\"trustx\",\"params\":{\"uid\":\"351775\",\"useNewFormat\":true,\"type\":\"display\"}},{\"bidder\":\"roundel\",\"params\":{\"siteId\":382319,\"type\":\"display\"}},{\"bidder\":\"rubicon\",\"params\":{\"accountId\":\"7499\",\"siteId\":\"426908\",\"zoneId\":\"2442950\",\"type\":\"display\"}},{\"bidder\":\"appnexus\",\"params\":{\"placementId\":\"25483009\",\"type\":\"display\"}}],\"square-fixed\\\\/tier3\":[{\"bidder\":\"trustx\",\"params\":{\"uid\":\"351779\",\"useNewFormat\":true,\"type\":\"display\"}},{\"bidder\":\"pubmatic\",\"params\":{\"publisherId\":\"158139\",\"adSlot\":\"4515338\",\"type\":\"display\"}},{\"bidder\":\"ix\",\"params\":{\"siteId\":\"830608\",\"type\":\"display\"}},{\"bidder\":\"rubicon\",\"params\":{\"accountId\":\"7499\",\"siteId\":\"426908\",\"zoneId\":\"2442958\",\"type\":\"display\"}},{\"bidder\":\"appnexus\",\"params\":{\"placementId\":\"25483013\",\"type\":\"display\"}},{\"bidder\":\"onemobile\",\"params\":{\"dcn\":\"8a9691af018180ffdca0026aa52c0043\",\"pos\":\"8a9698d2018180ffd7df028ce1f200cf\"}},{\"bidder\":\"roundel\",\"params\":{\"siteId\":382319,\"type\":\"display\"}}],\"square-fixed\\\\/tier4\":[{\"bidder\":\"ix\",\"params\":{\"siteId\":\"830609\",\"type\":\"display\"}},{\"bidder\":\"rubicon\",\"params\":{\"accountId\":\"7499\",\"siteId\":\"426908\",\"zoneId\":\"2442960\",\"type\":\"display\"}},{\"bidder\":\"onemobile\",\"params\":{\"dcn\":\"8a9691af018180ffdca0026aa52c0043\",\"pos\":\"8a9694b2018180ffe245028ce3b000e5\"}},{\"bidder\":\"pubmatic\",\"params\":{\"publisherId\":\"158139\",\"adSlot\":\"4515339\",\"type\":\"display\"}},{\"bidder\":\"trustx\",\"params\":{\"uid\":\"351780\",\"useNewFormat\":true,\"type\":\"display\"}},{\"bidder\":\"appnexus\",\"params\":{\"placementId\":\"25483014\",\"type\":\"display\"}},{\"bidder\":\"roundel\",\"params\":{\"siteId\":382319,\"type\":\"display\"}}],\"leaderboard-fixed\\\\/tier3\":[{\"bidder\":\"rubicon\",\"params\":{\"accountId\":\"7499\",\"siteId\":\"426908\",\"zoneId\":\"2442948\",\"type\":\"display\"}},{\"bidder\":\"onemobile\",\"params\":{\"dcn\":\"8a9691af018180ffdca0026aa52c0043\",\"pos\":\"8a9694b2018180ffe245028cd92500e3\"}},{\"bidder\":\"trustx\",\"params\":{\"uid\":\"351774\",\"useNewFormat\":true,\"type\":\"display\"}},{\"bidder\":\"roundel\",\"params\":{\"siteId\":382319,\"type\":\"display\"}},{\"bidder\":\"pubmatic\",\"params\":{\"publisherId\":\"158139\",\"adSlot\":\"4515333\",\"type\":\"display\"}},{\"bidder\":\"ix\",\"params\":{\"siteId\":\"830602\",\"type\":\"display\"}},{\"bidder\":\"appnexus\",\"params\":{\"placementId\":\"25483008\",\"type\":\"display\"}}],\"leaderboardfooter-flex\\\\/tier2\":[{\"bidder\":\"pubmatic\",\"params\":{\"publisherId\":\"158139\",\"adSlot\":\"4515332\",\"type\":\"display\"}},{\"bidder\":\"appnexus\",\"params\":{\"placementId\":\"25483007\",\"type\":\"display\"}},{\"bidder\":\"trustx\",\"params\":{\"uid\":\"351773\",\"useNewFormat\":true,\"type\":\"display\"}},{\"bidder\":\"ix\",\"params\":{\"siteId\":\"830601\",\"type\":\"display\"}},{\"bidder\":\"onemobile\",\"params\":{\"dcn\":\"8a9691af018180ffdca0026aa52c0043\",\"pos\":\"8a9698d2018180ffd7df028cd75b00cd\"}},{\"bidder\":\"roundel\",\"params\":{\"siteId\":382319,\"type\":\"display\"}},{\"bidder\":\"rubicon\",\"params\":{\"accountId\":\"7499\",\"siteId\":\"426908\",\"zoneId\":\"2442946\",\"type\":\"display\"}}],\"leaderboardfooter-flex\\\\/tier1\":[{\"bidder\":\"pubmatic\",\"params\":{\"publisherId\":\"158139\",\"adSlot\":\"4515331\",\"type\":\"display\"}},{\"bidder\":\"onemobile\",\"params\":{\"dcn\":\"8a9691af018180ffdca0026aa52c0043\",\"pos\":\"8a9691af018180ffdca0028cd5af00d0\"}},{\"bidder\":\"appnexus\",\"params\":{\"placementId\":\"25483006\",\"type\":\"display\"}},{\"bidder\":\"ix\",\"params\":{\"siteId\":\"830600\",\"type\":\"display\"}},{\"bidder\":\"trustx\",\"params\":{\"uid\":\"351772\",\"useNewFormat\":true,\"type\":\"display\"}},{\"bidder\":\"roundel\",\"params\":{\"siteId\":382319,\"type\":\"display\"}},{\"bidder\":\"rubicon\",\"params\":{\"accountId\":\"7499\",\"siteId\":\"426908\",\"zoneId\":\"2442944\",\"type\":\"display\"}}],\"leaderboardfooter-flex\\\\/tier4\":[{\"bidder\":\"trustx\",\"params\":{\"uid\":\"351775\",\"useNewFormat\":true,\"type\":\"display\"}},{\"bidder\":\"roundel\",\"params\":{\"siteId\":382319,\"type\":\"display\"}},{\"bidder\":\"pubmatic\",\"params\":{\"publisherId\":\"158139\",\"adSlot\":\"4515334\",\"type\":\"display\"}},{\"bidder\":\"ix\",\"params\":{\"siteId\":\"830603\",\"type\":\"display\"}},{\"bidder\":\"onemobile\",\"params\":{\"dcn\":\"8a9691af018180ffdca0026aa52c0043\",\"pos\":\"8a9691af018180ffdca0028cdadd00d1\"}},{\"bidder\":\"rubicon\",\"params\":{\"accountId\":\"7499\",\"siteId\":\"426908\",\"zoneId\":\"2442950\",\"type\":\"display\"}},{\"bidder\":\"appnexus\",\"params\":{\"placementId\":\"25483009\",\"type\":\"display\"}}],\"leaderboardfooter-flex\\\\/tier3\":[{\"bidder\":\"ix\",\"params\":{\"siteId\":\"830602\",\"type\":\"display\"}},{\"bidder\":\"pubmatic\",\"params\":{\"publisherId\":\"158139\",\"adSlot\":\"4515333\",\"type\":\"display\"}},{\"bidder\":\"roundel\",\"params\":{\"siteId\":382319,\"type\":\"display\"}},{\"bidder\":\"trustx\",\"params\":{\"uid\":\"351774\",\"useNewFormat\":true,\"type\":\"display\"}},{\"bidder\":\"onemobile\",\"params\":{\"dcn\":\"8a9691af018180ffdca0026aa52c0043\",\"pos\":\"8a9694b2018180ffe245028cd92500e3\"}},{\"bidder\":\"rubicon\",\"params\":{\"accountId\":\"7499\",\"siteId\":\"426908\",\"zoneId\":\"2442948\",\"type\":\"display\"}},{\"bidder\":\"appnexus\",\"params\":{\"placementId\":\"25483008\",\"type\":\"display\"}}],\"square-flex\\\\/tier1\":[{\"bidder\":\"roundel\",\"params\":{\"siteId\":382319,\"type\":\"display\"}},{\"bidder\":\"onemobile\",\"params\":{\"dcn\":\"8a9691af018180ffdca0026aa52c0043\",\"pos\":\"8a9691af018180ffdca0028ce57a00d3\"}},{\"bidder\":\"rubicon\",\"params\":{\"accountId\":\"7499\",\"siteId\":\"426908\",\"zoneId\":\"2442962\",\"type\":\"display\"}},{\"bidder\":\"ix\",\"params\":{\"siteId\":\"830100\",\"type\":\"display\"}},{\"bidder\":\"appnexus\",\"params\":{\"placementId\":\"25483015\",\"type\":\"display\"}},{\"bidder\":\"pubmatic\",\"params\":{\"publisherId\":\"158139\",\"adSlot\":\"4515340\",\"type\":\"display\"}},{\"bidder\":\"trustx\",\"params\":{\"uid\":\"351781\",\"useNewFormat\":true,\"type\":\"display\"}}],\"leaderboard-flex\\\\/tier1\":[{\"bidder\":\"rubicon\",\"params\":{\"accountId\":\"7499\",\"siteId\":\"426908\",\"zoneId\":\"2442952\",\"type\":\"display\"}},{\"bidder\":\"roundel\",\"params\":{\"siteId\":382319,\"type\":\"display\"}},{\"bidder\":\"onemobile\",\"params\":{\"dcn\":\"8a9691af018180ffdca0026aa52c0043\",\"pos\":\"8a9698d2018180ffd7df028cdc9500ce\"}},{\"bidder\":\"ix\",\"params\":{\"siteId\":\"830605\",\"type\":\"display\"}},{\"bidder\":\"pubmatic\",\"params\":{\"publisherId\":\"158139\",\"adSlot\":\"4515335\",\"type\":\"display\"}},{\"bidder\":\"trustx\",\"params\":{\"uid\":\"351776\",\"useNewFormat\":true,\"type\":\"display\"}},{\"bidder\":\"appnexus\",\"params\":{\"placementId\":\"25483010\",\"type\":\"display\"}}]});\\nMntl.RTB.Plugins.prebid.setPriceGranularity({\"buckets\":[{\"max\":\"20\",\"increment\":\"0.05\"},{\"max\":\"100\",\"increment\":\"0.5\"}]});\\nMntl.RTB.setLatencyBuffer(0);\\n(function(){\\nconst pageTargeting = {\\nrec: 0\\n,customSeries: \\'\\'\\n,tax0: \\'vmind\\'\\n,custom: \\'\\'\\n,rid: \\'nabb7b067933143cc9a5d19e8e512185617\\'\\n,sid: \\'nabb7b067933143cc9a5d19e8e512185617\\'\\n}\\n;\\nconst baseSlotTargeting = {\\nentryType: \\'direct\\'\\n,gtemplate: \\'list\\'\\n,leaid: \\'17268\\'\\n,revenueGroup: \\'\\'\\n,docId: \\'4165743\\'\\n,viewtype: \\'\\'\\n,type: \\'list\\'\\n,stax: \\'vmind_happiness,vmind_self-improvement\\'\\n,ptax: \\'vmind_happiness\\'\\n,vid: \\'0\\'\\n,tax1: \\'vmind_self-improvement\\'\\n,tax2: \\'vmind_happiness\\'\\n,t: \\'115\\'\\n,au: \\'17268\\'\\n,tier: \\'L\\'\\n,jny: \\'0\\'\\n,leuid: \\'154946993598151\\'\\n,sbj: \\'\\'\\n,id: \\'4165743\\'\\n,aid: \\'\\'\\n,tax3: \\'\\'\\n,jnyroot: \\'\\'\\n,tax4: \\'\\'\\n}\\n;\\npageTargeting.mtax = [\\'32497\\',\\'11058\\',\\'11013\\'];\\npageTargeting.w = Mntl.utilities.getW();\\nconst refreshAdhesive = {\\nafterAdSlotRenderedElement: \\'mob-square-fixed-2\\'\\n}\\nconst initialSlots = [];\\ninitialSlots.push({\\nconfig: {\\nid: \\'oop\\',\\nsizes: [[1, 1]],\\ntype: \\'outofpage\\',\\nrtb: false,\\nwaitForThirdParty: true\\n},\\ntargeting: Mntl.fnUtilities.deepExtend({}, {\\npos: \\'atf\\',\\npriority: 0\\n,floor_id: \\'77b5bcb2c2c3459ea8d87242ffd114ca\\'\\n,floor: \\'50\\'\\n})\\n})\\ninitialSlots.push({\\nconfig: {\\nid: \\'leaderboard-flex-1\\',\\nsizes: [[728, 90], [970,90], [970, 250]],\\ntype: \\'leaderboard\\',\\nrtb: true,\\nwaitForThirdParty: false\\n},\\ntargeting: Mntl.fnUtilities.deepExtend({}, {\\npos: \\'atf\\',\\npriority: 1\\n,floor_id: \\'dd0fddab07fa4bb08c7fac8752f72331\\'\\n,floor: \\'5\\'\\n})\\n})\\ninitialSlots.push({\\nconfig: {\\nid: \\'square-flex-1\\',\\nsizes: [[300, 250],[299, 251],[300, 600],[300, 1050],[160, 600]],\\ntype: \\'billboard\\',\\nrtb: true,\\nwaitForThirdParty: false\\n},\\ntargeting: Mntl.fnUtilities.deepExtend({}, {\\npos: \\'atf\\',\\npriority: 2\\n,floor_id: \\'f08908183afc4e4c95ade01ca34e246b\\'\\n,floor: \\'5\\'\\n})\\n})\\nconst testIds = Mntl.GPT.getTestIds();\\npageTargeting.ab = testIds;\\npageTargeting.bts = testIds;\\nMntl.utilities.onLoad(function() {\\nMntl.utilities.loadExternalJS({\\nsrc: \\'//securepubads.g.doubleclick.net/tag/js/gpt.js\\',\\nasync: false\\n});\\n});\\nconst options = {\\ndomain: \\'www.verywellmind.com\\',\\ntemplateName: \\'listsc\\',\\nisMobile: false,\\ndfpId: \\'3865\\',\\npublisherProvidedId: \\'19a97235-fdfc-4d54-af86-7bd04f1fd298\\',\\nsingleRequest: false,\\nuseLmdFormat: true,\\nuseOxygen: true,\\nuseInfiniteRightRail: true,\\nbundlePrebid: false,\\nlmdSiteCode: \\'hlt\\',\\npageTargeting,\\nbaseSlotTargeting,\\ngeo: {\\nisInEurope: false,\\nisInUsa: false\\n},\\ninitialSlots,\\nutils: {\\ncollapseAd: Health.GPT.collapseAd,\\nbuildGptUrl: Health.GPT.buildGptUrl\\n},\\ndisplayOnScroll: \\'false\\',\\ndisplayOnConsent: \\'true\\',\\nrefreshAdhesive\\n};\\nMntl.GPT.init(options);\\n}());// moved from gtm.ftl so we can initialize GTM only onLoad. From https://support.google.com/tagmanager/answer/6103696?hl=en\\nMntl.utilities.onLoad(function() {\\n(function(w,d,s,l,i){w[l]=w[l]||[];w[l].push({\\'gtm.start\\':new Date().getTime(),event:\\'gtm.js\\'});var f=d.getElementsByTagName(s)[0],j=d.createElement(s),dl=l!=\\'dataLayer\\'?\\'&l=\\'+l:\\'\\';j.async=true;defer=true;j.src=\\'//www.googletagmanager.com/gtm.js?id=\\'+i+dl;f.parentNode.insertBefore(j,f);})(window,document,\\'script\\',\\'dataLayer\\',\\'GTM-5P3SZGS\\');\\n});\\nvar dataLayer = dataLayer || [];\\ndataLayer.push({\\nevent: \\'ab-proctor\\',\\n\\'abTests-proctor\\': {\\n\"99-0\"\\n: \"useOxygen | useOxygen | use the Oxygenated ad unit format and slot names | 1\"\\n,\\n\"99-1\"\\n: \"gifv | active | Active | 1\"\\n,\\n\"55\"\\n: \"downpageAuthorBio | active | Author bio displayed | 1\"\\n,\\n\"53\"\\n: \"useInfiniteRightRail | active | useInfiniteRightRail active | 1\"\\n,\\n\"63\"\\n: \"vanillaJSLazyAd | control | | 0\"\\n,\\n\"99-5\"\\n: \"useRTBforVideoAds | active | | 1\"\\n,\\n\"99-6\"\\n: \"cssJsInjection | test_2 | Test Active 2 - is-window-loaded missing | 2\"\\n}\\n});\\ndataLayer.push({\\nenvData: {\\nenvironment: {\\nenvironment: \"k8s-prod\",\\napplication: \"health-mind\",\\ndataCenter: \"us-west-1\"\\n},\\nserver: {\\nversion: \"4.318.0\",\\ntitle: \"health-mind-launcher\"\\n},\\nclient : {\\nbrowserUA: navigator.userAgent,\\nserverUA: \"python-requests/2.23.0\",\\ndeviceType: \"pc\",\\nusStateCode: \"\"\\n},\\nmantle: \"3.13.478\",\\ncommerce: \"\"\\n}\\n});\\n(function(win, fnUtils, CMP) {\\nvar pageViewDataAsJSON = {\"description\":\"What is success? Success is often defined as being able to achieve self-defined goals. Learn about how to be successful in life while developing mental strength.\",\"country\":\"SG\",\"fullUrl\":\"https://www.verywellmind.com/how-to-be-successful-in-life-4165743\" + location.hash,\"experienceType\":\"single page\",\"entryType\":\"direct\",\"excludeFromComscore\":false,\"socialImage\":\"\",\"internalSessionId\":\"nabb7b067933143cc9a5d19e8e512185617\",\"internalRequestId\":\"nabb7b067933143cc9a5d19e8e512185617\",\"hid\":\"\",\"experienceTypeName\":\"\",\"recircDocIdsFooter\":\"S-2795025|S-2795387|S-6561079|S-2795378|S-2795954|S-2795719|S-4869755|S-6499714|S-5272517|S-5496248|S-2795313|S-5185978|S-6504436|S-2795388|S-2795868|S-4156469\",\"euTrafficFlag\":false,\"isGoogleBot\":false,\"mantleVersion\":\"3.13.478\",\"commerceVersion\":\"\",\"primaryTaxonomyIds\":\"4156452|4157212|4157200\",\"primaryTaxonomyNames\":\"Verywell Mind|Self-Improvement|Happiness\",\"muid\":\"19a97235-fdfc-4d54-af86-7bd04f1fd298\",\"lastEditingAuthorId\":\"17268\",\"lastEditingUserId\":\"154946993598151\",\"templateId\":\"115\",\"viewType\":\"\",\"title\":\"9 Tips for How to Be Successful in Life\" || document.title || \\'\\',\"templateName\":\"LISTSC\",\"contentGroup\":\"Other\",\"documentId\":4165743,\"revenueGroup\":\"\",\"authorId\":\"17268\"};\\nvar deferLoadTime = 5000;\\nvar readyForThirdPartyTrackingEvent = new CustomEvent(\\'readyForThirdPartyTracking\\', { bubbles: true });\\nvar readyForThirdPartyTracking = fnUtils.once(function() {\\ndataLayer.push({event: \\'readyForThirdPartyTracking\\'});\\nwindow.dispatchEvent(readyForThirdPartyTrackingEvent);\\n});\\nvar hasTargetingConsentHandler = function() {\\nconst hasConsent = CMP.hasTargetingConsent();\\nif (hasConsent) {\\nreadyForThirdPartyTracking();\\n}\\nreturn hasConsent;\\n};\\nvar onRequiredDomEvent = fnUtils.once(function() {\\nif (!CMP) {\\nreadyForThirdPartyTracking();\\nreturn;\\n}\\nif (!CMP.isLoading()) {\\nhasTargetingConsentHandler();\\n}\\nCMP.onConsentChange(hasTargetingConsentHandler);\\n});\\n[\\n[\\'adRendered\\', onRequiredDomEvent],\\n[\\'beforeunload\\', onRequiredDomEvent],\\n[\\'load\\', function() { setTimeout(onRequiredDomEvent, deferLoadTime); }]\\n].forEach(function(event) {\\nwin.addEventListener(event[0], event[1], { once: true });\\n});\\npageViewDataAsJSON.breakpointName = Health.utilities.getW();\\npageViewDataAsJSON.bounceExchangeId = \\'\\';\\npageViewDataAsJSON.ptax = \\'vmind_happiness\\';\\npageViewDataAsJSON.descriptiveTaxonomy = \\'32497,11058,11013\\';\\nMntl.utilities.onLoad(function() {\\nMntl.PageView.init(pageViewDataAsJSON);\\n});\\n})(window || {}, Mntl.fnUtilities || {}, Mntl.CMP);</script>\\n\\t\\t\\t\\t\\t\\n\\t\\t\\t\\t\\t<link rel=\"shortcut icon\" href=\"/favicon.ico\">\\n<link rel=\"icon\" type=\"image/x-icon\" href=\"/favicon.ico\">\\n<link rel=\"apple-touch-icon-precomposed\" sizes=\"57x57\" href=\"/apple-touch-icon-57x57.png\">\\n<link rel=\"apple-touch-icon-precomposed\" sizes=\"60x60\" href=\"/apple-touch-icon-60x60.png\">\\n<link rel=\"apple-touch-icon-precomposed\" sizes=\"76x76\" href=\"/apple-touch-icon-76x76.png\">\\n<link rel=\"apple-touch-icon-precomposed\" sizes=\"120x120\" href=\"/apple-touch-icon-120x120.png\">\\n<link rel=\"apple-touch-icon-precomposed\" sizes=\"152x152\" href=\"/apple-touch-icon-152x152.png\">\\n<link rel=\"apple-touch-icon-precomposed\" sizes=\"180x180\" href=\"/apple-touch-icon-180x180.png\">\\n\\n<meta name=\"msapplication-TileColor\" content=\"#F4F4F4\"/>\\n<meta name=\"msapplication-TileImage\" content=\"/static/4.318.0/icons/favicons/mstile-144x144.png\">\\n<meta name=\"msapplication-square70x70logo\" content=\"/static/4.318.0/icons/favicons/mstile-70x70.png\">\\n<meta name=\"msapplication-square150x150logo\" content=\"/static/4.318.0/icons/favicons/mstile-150x150.png\">\\n<meta name=\"msapplication-square310x310logo\" content=\"/static/4.318.0/icons/favicons/mstile-310x310.png\">\\n<meta name=\"msapplication-wide310x150logo\" content=\"/static/4.318.0/icons/favicons/mstile-310x150.png\">\\n\\n\\n\\t\\t\\t\\t\\t\\n\\t\\t\\t\\t\\t<script id=\"mntl-schema-unified_1-0\" class=\"comp mntl-schema-unified\" type=\"application/ld+json\">\\n{\\n\"@context\": \"http://schema.org\",\\n\"@type\": [\"Article\"]\\n,\"headline\": \"9 Tips for How to Find Success in Life\"\\n,\"datePublished\": \"2018-06-08T15:58:07.079-04:00\"\\n,\"dateModified\": \"2022-07-20T13:39:37.502-04:00\"\\n,\"author\": [\\n{\"@type\": \"Person\"\\n,\"name\": \"Kendra Cherry\"\\n,\"description\": \"Kendra Cherry, MS, is an author and educational consultant focused on helping students learn about psychology.\"\\n,\"jobTitle\": \"Author, Psychosocial Rehabilitation Specialist, Educator\"\\n,\"honorificSuffix\": \"MS\"\\n,\"url\": \"https://www.verywellmind.com/kendra-cherry-2794702\"\\n,\"sameAs\": [\\n\"http://www.facebook.com/AboutPsychology\",\\n\"https://twitter.com/AboutPsychology\",\\n\"https://www.pinterest.com/explorepsych\",\\n\"https://www.instagram.com/explorepsychology/\",\\n\"https://www.explorepsychology.com/\"\\n]\\n,\"knowsAbout\": [\"Psychology, Child Psychology, Personality, Research\"]\\n,\"alumniOf\": [\\n{\\n\"@type\": \"Organization\",\\n\"Name\": \"Boise State University\"\\n},\\n{\\n\"@type\": \"Organization\",\\n\"Name\": \"Idaho State University\"\\n}\\n]\\n}\\n]\\n,\"description\": \"What is success? Success is often defined as being able to achieve self-defined goals. Learn about how to be successful in life while developing mental strength.\"\\n,\"image\": [\\n{\\n\"@type\": \"ImageObject\",\\n\"url\": \"https://www.verywellmind.com/thmb/CVKeiJX-V_EBYaqoZPpvOckDdhY=/1414x1414/smart/filters:no_upscale()/GettyImages-522319544-5b083e641d64040037b2dde7.jpg\",\\n\"height\": 1414,\\n\"width\": 1414\\n},\\n{\\n\"@type\": \"ImageObject\",\\n\"url\": \"https://www.verywellmind.com/thmb/ZsTXiRgkQKGeWZsnFqXT9E0_mpo=/1885x1414/smart/filters:no_upscale()/GettyImages-522319544-5b083e641d64040037b2dde7.jpg\",\\n\"height\": 1414,\\n\"width\": 1885\\n},\\n{\\n\"@type\": \"ImageObject\",\\n\"url\": \"https://www.verywellmind.com/thmb/SO51gaw87Z4AZt_ER6sCMzLX5_M=/2121x1193/smart/filters:no_upscale()/GettyImages-522319544-5b083e641d64040037b2dde7.jpg\",\\n\"height\": 1193,\\n\"width\": 2121\\n}\\n]\\n,\"publisher\": {\\n\"@type\": \"Organization\",\\n\"name\": \"Verywell Mind\",\\n\"url\": \"https://www.verywellmind.com\",\\n\"logo\": {\\n\"@type\": \"ImageObject\",\\n\"url\": \"https://www.verywellmind.com/thmb/CW-Cg5P-wuqqCnzmCh51g5iqk6k=/234x61/filters:no_upscale():max_bytes(150000):strip_icc()/verywell_logo-59aee369054ad900105b6636.png\",\\n\"width\": 234,\\n\"height\": 61\\n},\\n\"brand\": \"Verywell Mind\"\\n, \"publishingPrinciples\": \"https://www.verywellmind.com/our-editorial-process-4778006\"\\n, \"sameAs\" : [\\n\"https://en.wikipedia.org/wiki/Verywell\",\\n\"https://www.linkedin.com/company/verywell/\",\\n\"https://www.instagram.com/verywell/\",\\n\"https://twitter.com/verywell\",\\n\"https://www.facebook.com/verywell/\",\\n\"https://www.pinterest.com/verywell/\",\\n\"https://flipboard.com/@verywell\"\\n]\\n}\\n,\"audience\": {\\n\"@type\":\"medicalAudience\"\\n,\"audienceType\": [\\n\"patient\",\\n\"caregiver\"\\n]\\n}\\n,\"citation\": [\\n\"Crum AJ, Salovey P, Achor S. &lt;a href=&quot;https://doi.org/10.1037/a0031201&quot; data-component=&quot;link&quot; data-source=&quot;inlineLink&quot; data-type=&quot;externalLink&quot; data-ordinal=&quot;1&quot;&gt;Rethinking stress: The role of mindsets in determining the stress response.&lt;/a&gt; &lt;em&gt;J Pers Soc Psychol.&lt;/em&gt; 2013;104(4):716-733. doi:10.1037/a0031201\",\\n\"McLain DL, Kefallonitis E, Armani K.&lt;a href=&quot;https://doi.org/10.3389/fpsyg.2015.00344&quot; data-component=&quot;link&quot; data-source=&quot;inlineLink&quot; data-type=&quot;externalLink&quot; data-ordinal=&quot;1&quot;&gt; Ambiguity tolerance in organizations: Definitional clarification and perspectives on future research&lt;/a&gt;. &lt;em&gt;Front Psychol&lt;/em&gt;. 2015;6:344. doi:10.3389/fpsyg.2015.00344\",\\n\"Mussel P. &lt;a href=&quot;https://doi.org/10.1002/job.1809&quot; data-component=&quot;link&quot; data-source=&quot;inlineLink&quot; data-type=&quot;externalLink&quot; data-ordinal=&quot;1&quot;&gt;Introducing the construct curiosity for predicting job performance&lt;/a&gt;. &lt;em&gt;J Organ Behav&lt;/em&gt;. 2012;34(4):453-472. doi:10.1002/job.1809\\xa0\\xa0\"\\n,\"Dweck CS, Yeager DS. &lt;a href=&quot;https://doi.org/10.1177/1745691618804166&quot; data-component=&quot;link&quot; data-source=&quot;inlineLink&quot; data-type=&quot;externalLink&quot; data-ordinal=&quot;1&quot;&gt;Mindsets: A view from two eras&lt;/a&gt;. &lt;em&gt;Perspect Psychol Sci.&lt;/em&gt; 2019;14(3):481-496. doi:10.1177/1745691618804166\",\\n\"Urquijo I, Extremera N, Azanza G. &lt;a href=&quot;https://doi.org/10.3390/ijerph16234809&quot; data-component=&quot;link&quot; data-source=&quot;inlineLink&quot; data-type=&quot;externalLink&quot; data-ordinal=&quot;1&quot;&gt;The contribution of emotional intelligence to career success: Beyond personality traits&lt;/a&gt;. &lt;em&gt;Int J Environ Res Public Health&lt;/em&gt;. 2019;16(23). doi:10.3390/ijerph16234809\",\\n\"Giles B, Goods PSR, Warner DR, et al. &lt;a href=&quot;https://doi.org/10.1016/j.jsams.2017.10.036&quot; data-component=&quot;link&quot; data-source=&quot;inlineLink&quot; data-type=&quot;externalLink&quot; data-ordinal=&quot;1&quot;&gt;Mental toughness and behavioural perseverance: A conceptual replication and extension&lt;/a&gt;. &lt;em&gt;J Sci Med Sport&lt;/em&gt;. 2018;21(6):640-645. doi:10.1016/j.jsams.2017.10.036\",\\n\"Shoda Y, Mischel W, Peake PK. &lt;a href=&quot;https://doi.org/10.1037/0012-1649.26.6.978&quot; data-component=&quot;link&quot; data-source=&quot;inlineLink&quot; data-type=&quot;externalLink&quot; data-ordinal=&quot;1&quot;&gt;Predicting adolescent cognitive and self-regulatory competencies from preschool delay of gratification: Identifying diagnostic conditions&lt;/a&gt;.\\xa0&lt;em&gt;Developmental Psychology. &lt;/em&gt;1990;26(6):978-986.\\xa0doi:10.1037/0012-1649.26.6.978\\xa0\\xa0\",\\n\"Cerasoli CP, Nicklin JM, Ford MT. &lt;a href=&quot;https://doi.org/10.1037/a0035661&quot; data-component=&quot;link&quot; data-source=&quot;inlineLink&quot; data-type=&quot;externalLink&quot; data-ordinal=&quot;1&quot;&gt;Intrinsic motivation and extrinsic incentives jointly predict performance: A 40-year meta-analysis&lt;/a&gt;. &lt;em&gt;Psychol Bull&lt;/em&gt;. 2014;140(4):980-1008. doi:10.1037/a0035661\",\\n\"Pittenger DJ. &lt;a href=&quot;https://doi.org/10.1037/1065-9293.57.3.210&quot; data-component=&quot;link&quot; data-source=&quot;inlineLink&quot; data-type=&quot;externalLink&quot; data-ordinal=&quot;1&quot;&gt;Cautionary comments regarding the Myers-Briggs Type Indicator&lt;/a&gt;.\\xa0&lt;em&gt;Consult Psychol J Pract Res. &lt;/em&gt;2005;57(3):210-221. doi:10.1037/1065-9293.57.3.210\\xa0\",\\n\"Komarraju M, Karau SJ, Schmeck RR, Avdic A. &lt;a href=&quot;https://doi.org/10.1016/j.paid.2011.04.019&quot; data-component=&quot;link&quot; data-source=&quot;inlineLink&quot; data-type=&quot;externalLink&quot; data-ordinal=&quot;1&quot;&gt;The big five personality traits, learning styles, and academic achievement&lt;/a&gt;. &lt;em&gt;Pers Indiv Differ&lt;/em&gt;. 2011;51(4):472-477. doi:10.1016/j.paid.2011.04.019\",\\n\"MacRae I, Furnham A, Reed M. &lt;a href=&quot;https://books.google.com/books/about/High_Potential.html?id&amp;#61;x1hLDwAAQBAJ&quot; data-component=&quot;link&quot; data-source=&quot;inlineLink&quot; data-type=&quot;externalLink&quot; data-ordinal=&quot;1&quot;&gt;High Potential: How to Spot, Manage, and Develop Talented People at Work&lt;/a&gt;&lt;em&gt;. &lt;/em&gt;Bloomsbury; 2018.\",\\n\"Eagleson C, Hayes S, Matthews A, Perman G, Hirsch CR. &lt;a href=&quot;https://doi.org/10.1016/j.brat.2015.12.017&quot; data-component=&quot;link&quot; data-source=&quot;inlineLink&quot; data-type=&quot;externalLink&quot; data-ordinal=&quot;1&quot;&gt;The power of positive thinking: Pathological worry is reduced by thought replacement in generalized anxiety disorder&lt;/a&gt;. &lt;em&gt;Behav Res Ther&lt;/em&gt;. 2016;78:13-18. doi:10.1016/j.brat.2015.12.017\",\\n\"Maslach C, Leiter MP.\\xa0&lt;a href=&quot;https://dx.doi.org/10.1002%2Fwps.20311&quot; data-component=&quot;link&quot; data-source=&quot;inlineLink&quot; data-type=&quot;externalLink&quot; data-ordinal=&quot;1&quot;&gt;Understanding the burnout experience: recent research and its implications for psychiatry.&lt;/a&gt;\\xa0&lt;em&gt;World Psychiatry&lt;/em&gt;. 2016;15(2):103–111. doi:10.1002/wps.20311\"\\n]\\n,\"articleSection\": \"Self-Improvement\"\\n,\"keywords\": [\"Happiness\"]\\n,\"mainEntityOfPage\": {\\n\"@type\": [\"MedicalWebPage\"]\\n,\"@id\": \"https://www.verywellmind.com/how-to-be-successful-in-life-4165743\"\\n,\"breadcrumb\": {\\n\"@type\": \"BreadcrumbList\",\\n\"itemListElement\": [\\n{\\n\"@type\": \"ListItem\",\\n\"position\": 1,\\n\"item\": {\\n\"@id\": \"https://www.verywellmind.com/self-improvement-4157212\",\\n\"name\": \"Self-Improvement\"\\n}\\n}\\n,\\n{\\n\"@type\": \"ListItem\",\\n\"position\": 2,\\n\"item\": {\\n\"@id\": \"https://www.verywellmind.com/happiness-4157200\",\\n\"name\": \"Happiness\"\\n}\\n}\\n,\\n{\\n\"@type\": \"ListItem\",\\n\"position\": 3,\\n\"item\": {\\n\"@id\": \"https://www.verywellmind.com/how-to-be-successful-in-life-4165743\",\\n\"name\": \"9 Psychological Strategies for Success in Life\"\\n}\\n}\\n]\\n}\\n,\"reviewedBy\": [\\n{\"@type\": \"Person\"\\n,\"name\": \"Rachel Goldman, PhD, FTOS\"\\n,\"description\": \"Rachel Goldman, PhD FTOS, is a licensed psychologist, clinical assistant professor, speaker, wellness expert specializing in\\xa0eating behaviors, stress management, and health behavior change.\"\\n,\"jobTitle\": \"Psychologist\"\\n,\"honorificPrefix\": \"Dr.\"\\n,\"honorificSuffix\": \"PhD, FTOS\"\\n,\"url\": \"https://www.verywellmind.com/rachel-goldman-phd-ftos-4779228\"\\n,\"sameAs\": [\\n\"https://www.facebook.com/DrRachelNYC\",\\n\"https://twitter.com/AskDr_Rachel\",\\n\"https://www.linkedin.com/in/rachel-goldman-ph-d-ftos\",\\n\"https://www.instagram.com/drrachelnyc\",\\n\"http://www.drrachelnyc.com/\"\\n]\\n,\"knowsAbout\": [\"Eating Behaviors, Stress Management, Health Behavior Change\"]\\n,\"alumniOf\": [\\n{\\n\"@type\": \"Organization\",\\n\"Name\": \"University of Maryland\"\\n},\\n{\\n\"@type\": \"Organization\",\\n\"Name\": \"Fairleigh Dickinson University\"\\n},\\n{\\n\"@type\": \"Organization\",\\n\"Name\": \"Medical University of South Carolina\"\\n}\\n]\\n}\\n]\\n,\"lastReviewed\": \"2022-07-20T13:39:37.502-04:00\"\\n}\\n, \"about\": [\\n{\\n\"@context\": \"http://schema.org\",\\n\"@type\": \"ItemList\",\\n\"name\": \"9 Tips for How to Find Success in Life\",\\n\"description\": \"What is success? Success is often defined as being able to achieve self-defined goals. Learn about how to be successful in life while developing mental strength.\",\\n\"itemListOrder\": \"http://schema.org/ItemListOrderAscending\",\\n\"numberOfItems\": 9,\\n\"itemListElement\": [\\n{\\n\"@type\": \"ListItem\",\\n\"position\": 1\\n,\"name\": \"Build a Growth Mindset\"\\n,\"url\": \"https://www.verywellmind.com/how-to-be-successful-in-life-4165743#build-a-growth-mindset\"\\n},\\n{\\n\"@type\": \"ListItem\",\\n\"position\": 2\\n,\"name\": \"Improve Your Emotional Intelligence\"\\n,\"url\": \"https://www.verywellmind.com/how-to-be-successful-in-life-4165743#improve-your-emotional-intelligence\"\\n},\\n{\\n\"@type\": \"ListItem\",\\n\"position\": 3\\n,\"name\": \"Develop Mental Toughness\"\\n,\"url\": \"https://www.verywellmind.com/how-to-be-successful-in-life-4165743#develop-mental-toughness\"\\n},\\n{\\n\"@type\": \"ListItem\",\\n\"position\": 4\\n,\"name\": \"Strengthen Your Willpower\"\\n,\"url\": \"https://www.verywellmind.com/how-to-be-successful-in-life-4165743#strengthen-your-willpower\"\\n},\\n{\\n\"@type\": \"ListItem\",\\n\"position\": 5\\n,\"name\": \"Focus on Intrinsic Motivations\"\\n,\"url\": \"https://www.verywellmind.com/how-to-be-successful-in-life-4165743#focus-on-intrinsic-motivations\"\\n},\\n{\\n\"@type\": \"ListItem\",\\n\"position\": 6\\n,\"name\": \"Set Achievable Goals\"\\n,\"url\": \"https://www.verywellmind.com/how-to-be-successful-in-life-4165743#set-achievable-goals\"\\n},\\n{\\n\"@type\": \"ListItem\",\\n\"position\": 7\\n,\"name\": \"Nurture Traits Linked to High Potential\"\\n,\"url\": \"https://www.verywellmind.com/how-to-be-successful-in-life-4165743#nurture-traits-linked-to-high-potential\"\\n},\\n{\\n\"@type\": \"ListItem\",\\n\"position\": 8\\n,\"name\": \"Cultivate Strong Social Support\"\\n,\"url\": \"https://www.verywellmind.com/how-to-be-successful-in-life-4165743#cultivate-strong-social-support\"\\n},\\n{\\n\"@type\": \"ListItem\",\\n\"position\": 9\\n,\"name\": \"Avoid Burnout\"\\n,\"url\": \"https://www.verywellmind.com/how-to-be-successful-in-life-4165743#avoid-burnout\"\\n}\\n]\\n}\\n]\\n}\\n</script>\\t\\t\\n\\n</head>\\t\\t\\n<body>\\n<svg class=\"mntl-svg-resource is-hidden\">\\n<defs>\\n<symbol id=\"icon-volume\">\\n<svg xmlns=\"http://www.w3.org/2000/svg\" viewBox=\"0 0 230.674 209.786\"><path d=\"M115.247 104.92V16.467c0-4.6-.228-9.147-5.245-11.446-5.188-2.377-8.793.213-12.357 3.7-14.525 14.215-29.216 28.254-43.69 42.513a11.041 11.041 0 01-8.822 3.47c-7.988-.232-16-.253-23.982.032C8.716 55.179.253 63.723.135 76.127q-.274 28.732 0 57.468c.115 12.713 9.1 21.417 21.921 21.594 7.661.106 15.331.193 22.985-.056a11.031 11.031 0 018.808 3.492c14.881 14.555 29.964 28.9 44.929 43.373 3.436 3.323 7.14 4.827 11.719 2.587 4.812-2.354 4.722-6.879 4.729-11.21q.068-44.228.021-88.455zm115.427 3.97c-.923-8.744-1.069-17.654-2.9-26.2-7.878-36.7-28.406-64-62.071-81.051-9.833-4.98-20.6 1.983-20.5 12.98.065 7.448 4.933 11.142 10.639 14.421 28.64 16.456 44.6 40.866 45.3 74.214.6 28.5-10.851 51.7-33.015 69.469-5.68 4.553-12.355 7.851-18.171 12.256-5.681 4.3-6.446 12.237-2.465 18.441 3.537 5.513 11.223 8.047 17.113 5.171a115.39 115.39 0 0040.058-31.595c15.903-19.86 24.363-42.553 26.012-68.106zm-86.639-4.1c0 11.64-.249 23.289.205 34.911.093 2.387 2.355 5.856 4.453 6.67 2.122.823 6.171-.15 7.852-1.846 20.994-21.184 21.107-56.947.608-78.658-2.561-2.712-5.533-3.9-8.956-2.693-3.442 1.212-4.235 4.222-4.2 7.694.097 11.305.035 22.613.038 33.92z\" fill=\"#fff\"/><path d=\"M115.247 104.92q0 44.226-.024 88.453c-.007 4.331.083 8.856-4.729 11.21-4.579 2.24-8.282.736-11.719-2.587-14.965-14.47-30.048-28.818-44.929-43.373a11.031 11.031 0 00-8.808-3.492c-7.654.249-15.324.162-22.985.056C9.234 155.011.247 146.308.132 133.595q-.26-28.732 0-57.468c.118-12.4 8.581-20.948 21.015-21.391 7.986-.285 15.994-.264 23.982-.032a11.041 11.041 0 008.822-3.47C68.429 36.975 83.12 22.936 97.641 8.723c3.564-3.489 7.169-6.079 12.357-3.7 5.017 2.3 5.244 6.841 5.245 11.446q.012 44.225.004 88.451zM230.674 108.89c-1.65 25.553-10.109 48.246-26.018 68.1a115.39 115.39 0 01-40.056 31.6c-5.889 2.876-13.575.341-17.113-5.171-3.981-6.2-3.216-14.138 2.465-18.441 5.816-4.405 12.49-7.7 18.171-12.256 22.164-17.767 33.613-40.973 33.015-69.469-.7-33.348-16.661-57.758-45.3-74.214-5.707-3.279-10.574-6.972-10.639-14.421-.1-11 10.671-17.96 20.5-12.98 33.665 17.05 54.194 44.346 62.071 81.051 1.83 8.547 1.981 17.458 2.904 26.201z\"/><path d=\"M144.034 104.788c0-11.307.061-22.615-.039-33.921-.031-3.472.762-6.482 4.2-7.694 3.423-1.206 6.4-.019 8.956 2.693 20.5 21.711 20.386 57.474-.608 78.658-1.681 1.7-5.731 2.669-7.852 1.846-2.1-.814-4.36-4.284-4.453-6.67-.452-11.622-.203-23.272-.204-34.912z\"/></svg> </symbol>\\n<symbol id=\"icon-restart\">\\n<svg xmlns=\"http://www.w3.org/2000/svg\"><path d=\"M3.794 5.556c.983-2.222 3.266-3.778 5.925-3.778 1.973 0 3.798.861 5.014 2.316A6.062 6.062 0 0116.16 8c0 3.436-2.884 6.222-6.441 6.222a6.535 6.535 0 01-4.498-1.768.943.943 0 00-1.301.015.868.868 0 00.015 1.257A8.409 8.409 0 009.72 16C14.292 16 18 12.418 18 8c0-1.853-.655-3.61-1.835-5.023C14.603 1.11 12.254 0 9.719 0 6.027 0 2.9 2.333 1.83 5.556H.692c-.531 0-.861.58-.601 1.047l2.053 2.955a.682.682 0 001.192 0l2.053-2.955c.26-.467-.07-1.047-.6-1.047h-.995z\"/></svg> </symbol>\\n<symbol id=\"icon-edit\">\\n<svg xmlns=\"http://www.w3.org/2000/svg\" viewBox=\"0 0 15 18\"><path d=\"M9.767 3.183a.507.507 0 01.71 0l3.62 3.62a.496.496 0 010 .71l-1.442 1.44-4.329-4.329 1.441-1.44zM7.877 5.073l4.329 4.33-6.735 6.734-4.329-4.329zM.44 16.376a.427.427 0 00.463.464l4.12-.254-4.33-4.33-.253 4.12z\"/></svg> </symbol>\\n<symbol id=\"icon-edit-cancel\">\\n<svg xmlns=\"http://www.w3.org/2000/svg\" viewBox=\"0 0 15 18\"><use xmlns:xlink=\"http://www.w3.org/1999/xlink\" xlink:href=\"#icon-edit\"/><g transform=\"translate(1)\"><rect transform=\"rotate(45 1 1)\" x=\"-1.464\" y=\"1.536\" width=\"8\" height=\"2\" rx=\"1\"/><rect transform=\"scale(-1 1) rotate(45 0 -1.414)\" x=\"-1.464\" y=\"1.536\" width=\"8\" height=\"2\" rx=\"1\"/></g></svg> </symbol>\\n<symbol id=\"icon-embed\">\\n<svg xmlns=\"http://www.w3.org/2000/svg\" viewBox=\"0 0 131.403 81.64\"><path d=\"M85.411 15.995l.01-.009-13.35-13.35a9 9 0 00-12.728 0l-13.31 13.31.006.006-12.318 12.307-.008.008L3.26 58.689a11.161 11.161 0 000 15.766l3.92 3.92a11.148 11.148 0 0015.765 0l42.738-42.737 42.737 42.737a11.148 11.148 0 0015.766 0l3.92-3.92a11.123 11.123 0 00.043-15.766z\"/></svg> </symbol>\\n<symbol id=\"icon-alert\">\\n<svg xmlns=\"http://www.w3.org/2000/svg\" viewBox=\"0 0 18.8 18.9\"><path d=\"M18.8 9.5A9.4 9.4 0 119.4 0a9.389 9.389 0 019.4 9.5zm-1.4 0a8 8 0 10-8 8 8.024 8.024 0 008-8z\"/><path d=\"M8.5 3.9h2l-.467 7.8h-1.2L8.5 3.9zm-.2 10.2A1.11 1.11 0 019.4 13a1.11 1.11 0 011.1 1.1 1.11 1.11 0 01-1.1 1.1 1.11 1.11 0 01-1.1-1.1z\"/></svg> </symbol>\\n<symbol id=\"icon-print\">\\n<svg viewBox=\"1.5 1.8 17 17\" xmlns=\"http://www.w3.org/2000/svg\"><path d=\"M16.558 5.006h-1.66V1.82H4.754v3.187h-1.42c-.917 0-1.767.831-1.767 1.739v7.891c0 .039.135.02.173.02h3.014v3.477h10.142v-3.477h1.661c.918 0 1.816-.696 1.816-1.613V6.755c0-.918-.898-1.749-1.816-1.749zm-2.916 11.881H6.01V9.739h7.63v7.148zm0-11.88H6.01v-2.03h7.63v2.03zm2.115 3.177a.723.723 0 11-.002-1.447.723.723 0 01.002 1.447z\"/><path d=\"M7.322 11.43v.725l5.283.009.001-.725-5.284-.008zm.002 1.641l-.001.725 5.283.008.001-.724-5.283-.009zm-.004 1.636l-.001.724 3.805.009.002-.725-3.806-.008z\"/></svg> </symbol>\\n<symbol id=\"icon-calendar\">\\n<svg xmlns=\"http://www.w3.org/2000/svg\" viewBox=\"0 0 331 355\"><path d=\"M281 24h-26V11.4C255 4.8 249.3 0 242.6 0h-5.8C230.1 0 225 4.8 225 11.4V24h-45V11.4C180 4.8 174.8 0 168.1 0h-5.8C155.6 0 150 4.8 150 11.4V24h-50V11.4C100 4.8 94.4 0 87.7 0h-5.8C75.2 0 70 4.8 70 11.4V24H49.3C21.9 24 0 46.4 0 73.7v279.2c0 1.2.5 2.1 1.6 2.1h279.2c27.3 0 50.1-22.2 50.1-49.6V73.7C331 46.3 308.3 24 281 24zM49.3 54H70v6.3C70 66.8 75.2 72 81.9 72h5.8c6.7 0 12.3-5.2 12.3-11.7V54h50v6.3c0 6.6 5.6 11.7 12.3 11.7h5.8c6.7 0 11.9-5.2 11.9-11.7V54h45v6.3c0 6.6 5.1 11.7 11.8 11.7h5.8c6.7 0 12.4-5.2 12.4-11.7V54h26c10.9 0 20 8.8 20 19.7V103H30V73.7C30 62.8 38.4 54 49.3 54zm231.6 271H30V159h271v146.3c0 10.9-9.3 19.7-20.1 19.7z\"/></svg> </symbol>\\n<symbol id=\"icon-checkbox\">\\n<svg xmlns=\"http://www.w3.org/2000/svg\" viewBox=\"0 0 153.4 122.3\"><path d=\"M150.1 7.2l-3.9-3.9c-4.3-4.3-11.4-4.3-15.8 0L55.2 87.4 22.9 55.2c-4.3-4.3-11.5-4.3-15.8 0l-3.9 3.9c-4.3 4.3-4.3 11.4 0 15.8L43.1 115l.2.2 3.9 3.9c4.3 4.3 11.4 4.3 15.8 0L150.2 23c4.3-4.4 4.3-11.5-.1-15.8z\"/></svg> </symbol>\\n<symbol id=\"icon-arrow-right\">\\n<svg xmlns=\"http://www.w3.org/2000/svg\" viewBox=\"0 0 24 24\"><path d=\"M12 15.6l2.4-2.4c.6-.6.6-1.7 0-2.3L12 8.4 9.7 6.2 4.2.6c-.8-.8-2.1-.8-2.9 0l-.7.7c-.8.8-.8 2.1 0 2.9L8.4 12 .6 19.8c-.8.8-.8 2.1 0 2.9l.7.7c.8.8 2.1.8 2.9 0l7.8-7.8z\"/></svg> </symbol>\\n<symbol id=\"icon-video\">\\n<svg xmlns=\"http://www.w3.org/2000/svg\" viewBox=\"0 0 265 188\"><path d=\"M242.7 23.6l-54.7 30V30.3C188 13.8 174.4 0 157.9 0H30.2C13.7 0 0 13.8 0 30.3V188h157.9c16.5 0 30.1-13.5 30.1-30v-24.1l54 33.4c10 6.2 23-1 23-12.7V36.8c0-11.4-12.3-18.6-22.3-13.2z\"/></svg> </symbol>\\n<symbol id=\"reviewer-icon\">\\n<svg xmlns=\"http://www.w3.org/2000/svg\" fill=\"none\" viewBox=\"0 0 20 20\"><path fill=\"#2EBE7E\" fill-rule=\"evenodd\" d=\"M9.15254 3.72881c-3.93152 0-7.11864 3.18713-7.11864 7.11869 0 3.9315 3.18712 7.1186 7.11864 7.1186 3.93156 0 7.11866-3.1871 7.11866-7.1186 0-1.22169-.3069-2.36863-.847-3.37101l1.3082-1.85999.4824.89528c.6958 1.29151 1.0903 2.76904 1.0903 4.33572 0 5.0548-4.0977 9.1525-9.15256 9.1525C4.09773 20 0 15.9023 0 10.8475c0-5.05485 4.09773-9.15258 9.15254-9.15258.96176 0 1.89076.14869 2.76416.42508l.9696.30683-1.5833 1.63229c-.6772-.21431-1.39931-.33031-2.15046-.33031z\" clip-rule=\"evenodd\"/><path fill=\"#13404F\" d=\"M8.61503 10.6461c.27188-.4746.52111-.96029.81564-1.41285.58743-.94516 1.22653-1.85894 1.91443-2.73741.891-1.0994 1.844-2.14963 2.8548-3.14581.9773-.96997 2.0642-1.82904 3.2399-2.560805.5756-.347472 1.202-.607978 1.8578-.7726565.1426-.02209132.2879-.02209132.4305 0h.2718l-.0113.2538725-.1359.154531c-.0886.100988-.1831.196816-.2832.286987C17.2471 2.73398 15.2093 5.04622 13.5088 7.5886c-1.4535 2.26724-2.6355 4.6893-3.52305 7.2188-.65703 1.7992-1.88049 1.9537-3.06996.3863-1.12443-1.5455-2.03121-3.2309-2.69613-5.0112-.22375-.51301-.38349-1.05036-.47578-1.60049-.14727-1.24728.8043-1.76607 1.85783-1.99786 1.05353-.2318 1.2801.51878 1.59729 1.30247.12461.30907.98556 3.00228 1.28009 2.85888.04602-.0324.08461-.0738.11329-.1215l.02265.0221z\"/></svg> </symbol>\\n<symbol id=\"reviewer-icon\">\\n<svg viewBox=\"0 0 153.4 122.3\"><path d=\"M150.1,7.2l-3.9-3.9c-4.3-4.3-11.4-4.3-15.8,0L55.2,87.4L22.9,55.2c-4.3-4.3-11.5-4.3-15.8,0l-3.9,3.9c-4.3,4.3-4.3,11.4,0,15.8L43.1,115c0.1,0.1,0.1,0.1,0.2,0.2l3.9,3.9c4.3,4.3,11.4,4.3,15.8,0l87.2-96.1C154.5,18.6,154.5,11.5,150.1,7.2z\"/></svg> </symbol>\\n<symbol id=\"icon-facebook\">\\n<svg xmlns=\"http://www.w3.org/2000/svg\" viewBox=\"0 0 112 215.6\"><path d=\"M72.7 215.6v-98.4h33l4.9-38.3h-38V54.5c0-11.1 3.1-18.7 19-18.7h20.3V1.5C108.5 1 96.4 0 82.4 0 53.1 0 33.1 17.9 33.1 50.7V79H0v38.3h33.1v98.4h39.6z\"/></svg> </symbol>\\n<symbol id=\"icon-flipboard\">\\n<svg xmlns=\"http://www.w3.org/2000/svg\" viewBox=\"0 0 149.8 151\"><path d=\"M94.187 17.943H17.8v115.114h38.117V94.178h37.966V56.06H132V17.943H94.187z\"/></svg> </symbol>\\n<symbol id=\"icon-instagram\">\\n<svg viewBox=\"2 2 16 16\" fill=\"none\" xmlns=\"http://www.w3.org/2000/svg\"><path fill-rule=\"evenodd\" clip-rule=\"evenodd\" d=\"M6.698 2.05c.854-.039 1.127-.048 3.299-.048 2.171 0 2.444.01 3.301.044.854.038 1.435.175 1.943.371.524.207.972.48 1.416.924.445.445.72.89.924 1.416.197.511.333 1.092.371 1.943.038.854.048 1.124.048 3.298 0 2.175-.01 2.445-.048 3.299-.038.854-.174 1.435-.371 1.943-.206.524-.48.971-.924 1.416-.444.444-.889.72-1.416.923-.51.197-1.092.334-1.943.372-.854.038-1.123.047-3.298.047s-2.444-.01-3.298-.047c-.854-.038-1.435-.175-1.943-.372a3.968 3.968 0 01-1.416-.923 3.898 3.898 0 01-.924-1.416c-.197-.511-.333-1.092-.371-1.943C2.01 12.443 2 12.17 2 9.998c0-2.171.01-2.444.048-3.295.038-.854.174-1.435.371-1.943a3.98 3.98 0 01.924-1.416c.444-.444.889-.72 1.416-.923.508-.197 1.089-.334 1.94-.372zM10 12.921a2.922 2.922 0 100-5.844 2.922 2.922 0 000 5.844zm0 2a4.922 4.922 0 100-9.844 4.922 4.922 0 000 9.844zm6.068-10.444a.959.959 0 11-1.917 0 .959.959 0 011.917 0z\" fill=\"#FFF\"/></svg> </symbol>\\n<symbol id=\"icon-linkedin\">\\n<svg xmlns=\"http://www.w3.org/2000/svg\" viewBox=\"0 0 103.059 102.882\"><path d=\"M75.083 34.177c-9.446 0-15.781 5.182-18.372 10.091h-.258v-8.537H37.826v62.476h19.4V67.3c0-8.149 1.546-16.042 11.652-16.042 9.957 0 10.092 9.318 10.092 16.567V98.2h19.4V63.93c.006-16.814-3.625-29.753-23.287-29.753zM6.23 35.731h19.417v62.476H6.23zm9.713-31.056A11.259 11.259 0 1027.2 15.939v-.01A11.258 11.258 0 0015.943 4.675z\"/></svg> </symbol>\\n<symbol id=\"icon-twitter\">\\n<svg xmlns=\"http://www.w3.org/2000/svg\" viewBox=\"0 0 216.6 176.1\"><path d=\"M216.6 20.8c-8 3.5-16.5 5.9-25.5 7 9.2-5.5 16.2-14.2 19.5-24.6C202 8.3 192.5 12 182.4 14 174.3 5.4 162.8 0 150 0c-24.5 0-44.4 19.9-44.4 44.4 0 3.5.4 6.9 1.2 10.1C69.8 52.7 37 35 15.1 8.1c-3.8 6.6-6 14.2-6 22.3 0 15.4 7.8 29 19.8 37-7.3-.2-14.1-2.2-20.1-5.6v.6C8.7 84 24 102 44.4 106.1c-3.7 1-7.7 1.6-11.7 1.6-2.9 0-5.6-.3-8.4-.8 5.7 17.7 22.1 30.5 41.5 30.9-15.2 11.9-34.4 19-55.2 19-3.6 0-7.1-.2-10.6-.6 19.7 12.6 43 20 68.1 20 81.8 0 126.5-67.7 126.5-126.5 0-1.9 0-3.8-.1-5.7 8.6-6.4 16.2-14.2 22.1-23.2z\"/></svg> </symbol>\\n<symbol id=\"icon-pinterest\">\\n<svg xmlns=\"http://www.w3.org/2000/svg\" viewBox=\"0 0 166 205.4\"><path d=\"M85.9 0C29.8 0 0 36.1 0 75.4c0 18.3 10.1 41 26.4 48.2 2.5 1.1 3.8.6 4.3-1.7.4-1.7 2.6-10.2 3.6-14.1.3-1.3.2-2.3-.9-3.6-5.4-6.2-9.6-17.7-9.6-28.4 0-27.5 21.7-54 58.7-54 31.9 0 54.3 20.8 54.3 50.7 0 33.7-17.7 57-40.8 57-12.8 0-22.3-10.1-19.3-22.5 3.7-14.8 10.8-30.8 10.8-41.4C87.4 55.9 82 48 71 48c-13 0-23.5 12.9-23.5 30.3 0 11 3.9 18.5 3.9 18.5S38.5 149 36.2 158.7c-4 16.5.5 43.2.9 45.5.2 1.2 1.6 1.7 2.5.6 1.3-1.6 16.8-23.9 21.2-40.1 1.6-5.8 8.1-29.6 8.1-29.6 4.3 7.8 16.6 14.3 29.8 14.3 39.2 0 67.5-34.6 67.5-77.5C166 30.8 131 0 85.9 0\"/></svg> </symbol>\\n<symbol id=\"icon-camera\">\\n<svg xmlns=\"http://www.w3.org/2000/svg\" viewBox=\"0 0 282 216\"><g fill=\"#D4D4D4\"><path d=\"M165.9 98.4c-1.9-1.9-3.8-3.8-6.1-5.2-2-1.2-4-2.4-6.1-3.2-4-1.6-8.2-2.4-14.2-2.4-2.2 0-5.9.6-9.5 1.8-4.3 1.4-8.1 3.8-11.5 6.7-2.4 2.1-4.4 4.5-6 7.2-6.6 10.6-6.2 24.9.7 34.6 1.8 2.5 3.6 4.9 6.1 6.8 1.8 1.4 3.7 2.8 5.8 3.9 4.2 2.2 8.6 3.5 13.3 3.9 8.2.6 15.7-1.4 22.4-6.2 2.2-1.5 4.1-3.5 5.9-5.4 2.5-2.7 4.3-5.9 5.6-9.3 3.1-8.2 3.1-16.4-.6-24.5-1.5-3.2-3.3-6.2-5.8-8.7z\"/><path d=\"M243.4 34H201v-4.3C201 13.2 187 0 170.5 0h-58.7C95.3 0 82 13.2 82 29.7V34H40.5C18.4 34 0 52.1 0 74.2V216h241.8c22 0 40.2-17.9 40.2-39.9v-102c0-15-10-38.9-38.6-40.1zm-35.2 111c-2.7 7.3-6.6 14.2-12 20-3.9 4.2-8.1 8.3-12.8 11.7-14.4 10.2-30.5 14.7-48.2 13.3-10.2-.8-19.7-3.6-28.7-8.4-4.5-2.4-8.5-5.4-12.4-8.5-5.2-4.1-9.2-9.2-13-14.6-14.9-20.9-15.9-51.7-1.6-74.6 3.6-5.7 7.8-11 13-15.5 7.4-6.3 15.6-11.4 24.8-14.5 7.7-2.6 15.6-4 20.4-3.9 12.8.1 21.8 1.8 30.5 5.2 4.7 1.8 8.9 4.3 13.2 6.9 4.9 3.1 9 7.1 13 11.2 5.4 5.5 9.3 12 12.5 19 7.9 17.4 8 35 1.3 52.7z\"/></g></svg> </symbol>\\n<symbol id=\"icon-bookmark\">\\n<svg width=\"25\" height=\"29\" fill=\"none\" xmlns=\"http://www.w3.org/2000/svg\"><path fill-rule=\"evenodd\" clip-rule=\"evenodd\" d=\"M.364 2a2 2 0 012-2h17v26.496c0 1.734-2.055 2.647-3.341 1.484l-6.184-5.589-6.13 5.57c-1.285 1.167-3.345.256-3.345-1.48V2z\" fill=\"#2ebe7e\"/><path fill-rule=\"evenodd\" clip-rule=\"evenodd\" d=\"M19.364 0l4.839 6h-4.84\" fill=\"#257f69\"/></svg> </symbol>\\n<symbol id=\"light-box-arrow\">\\n<svg xmlns=\"http://www.w3.org/2000/svg\" viewBox=\"2575 18840 48 48\"><g transform=\"translate(1355 18464)\"><circle cx=\"24\" cy=\"24\" r=\"24\" transform=\"translate(1220 376)\" fill=\"#fff\"/><path d=\"M1248.675 390l9.38 9.38M1258.055 399.38l-9.38 9.553M1232 399.38h25.186\" fill=\"none\" stroke=\"#000\" stroke-linecap=\"round\" stroke-miterlimit=\"10\" stroke-width=\"3\"/></g></svg> </symbol>\\n<symbol id=\"icon-circle-plus\">\\n<svg xmlns=\"http://www.w3.org/2000/svg\"><path d=\"M106.2 0a106.2 106.2 0 10106.2 106.2A106.267 106.267 0 00106.2 0zm64 170.2a90.51 90.51 0 01-128-128 90.51 90.51 0 01128 128z\"/><path d=\"M149.688 96.055h-7.3l-25.963-.018v-33.3c0-3.1-4.582-5.6-10.182-5.6s-10.2 2.5-10.2 5.6v33.3l-26.018-.018h-7.314c-3.1 0-5.6 4.605-5.6 10.2s2.5 10.176 5.6 10.176h33.3v25.954h-.01v7.3c0 3.1 4.605 5.6 10.211 5.6s10.211-2.5 10.211-5.6v-7.3h-.011l-.018-25.913h33.286c3.1 0 5.6-4.621 5.6-10.221s-2.492-10.16-5.592-10.16z\"/></svg> </symbol>\\n<symbol id=\"icon-circle-minus\">\\n<svg xmlns=\"http://www.w3.org/2000/svg\" viewBox=\"0 0 212.4 212.4\"><path d=\"M105.1.491a106.2 106.2 0 10106.2 106.2A106.267 106.267 0 00105.1.491zm64 170.2a90.51 90.51 0 01-128-128 90.51 90.51 0 01128 128z\"/><path d=\"M148.589 96.511h-7.3l-25.97-.011-.027-.006H94.909h.027l-26.018-.017h-7.306c-3.1 0-5.6 4.6-5.6 10.2s2.5 10.219 5.6 10.219l7.3-.043 26 .043h20.389-.006 33.286c3.1 0 5.6-4.621 5.6-10.221s-2.492-10.164-5.592-10.164z\"/></svg> </symbol>\\n<symbol id=\"show-icon\">\\n<svg viewBox=\"0 0 212.4 212.4\"><path d=\"M106.2,0A106.2,106.2,0,1,0,212.4,106.2,106.267,106.267,0,0,0,106.2,0Zm64,170.2a90.51,90.51,0,0,1-128-128,90.51,90.51,0,0,1,128,128Z\"/><path d=\"M149.688,96.055h-7.3l0,0-25.963-.018v-26h0v-7.3c0-3.1-4.582-5.6-10.182-5.6s-10.2,2.5-10.2,5.6v7.3h0v26l-26.018-.018H62.711c-3.1,0-5.6,4.605-5.6,10.2s2.5,10.176,5.6,10.176h33.3v25.954h-.01v7.3c0,3.1,4.605,5.6,10.211,5.6s10.211-2.5,10.211-5.6v-7.3h-.011l-.018-25.913h33.286c3.1,0,5.6-4.621,5.6-10.221S152.788,96.055,149.688,96.055Z\"/></svg> </symbol>\\n<symbol id=\"hide-icon\">\\n<svg viewBox=\"0 0 212.4 212.4\"><path d=\"M105.1.491a106.2 106.2 0 10106.2 106.2A106.267 106.267 0 00105.1.491zm64 170.2a90.51 90.51 0 01-128-128 90.51 90.51 0 01128 128z\"/><path d=\"M148.589 96.511h-7.3l-25.97-.011-.027-.006H94.909h.027l-26.018-.017h-7.306c-3.1 0-5.6 4.6-5.6 10.2s2.5 10.219 5.6 10.219l7.3-.043 26 .043h20.389-.006 33.286c3.1 0 5.6-4.621 5.6-10.221s-2.492-10.164-5.592-10.164z\"/></svg> </symbol>\\n<symbol id=\"trust-ribbon-item__icon-editorial\">\\n<svg xmlns=\"http://www.w3.org/2000/svg\" fill=\"none\" viewBox=\"0 0 16 16\"><path fill=\"#fff\" d=\"M1 15H0v1h1v-1Z\"/><path fill=\"#2EBE7E\" fill-rule=\"evenodd\" d=\"M0 0v2.29h16V0H0Zm0 4.57v2.29h16V4.57H0Zm0 4.57v2.29l15 .07V9.14H0Z\" clip-rule=\"evenodd\"/><path fill=\"#13404F\" stroke=\"#fff\" stroke-width=\".5\" d=\"m10.69 3.44-.33.33.33.33 2.72 2.71.33.33.33-.33 1.32-1.32a1.17 1.17 0 0 0 0-1.69L13.7 2.11a1.16 1.16 0 0 0-.83-.36 1.22 1.22 0 0 0-.85.36l-1.33 1.33Zm-.1.76-.33-.33-.33.33-8 8-.14.13v3.39h3.35l.14-.14 8-8 .33-.33-.33-.33-2.69-2.72Z\"/></svg> </symbol>\\n<symbol id=\"trust-ribbon-item__icon-review\">\\n<svg xmlns=\"http://www.w3.org/2000/svg\" fill=\"none\" viewBox=\"0 0 16 16\"><path fill=\"#2EBE7E\" fill-rule=\"evenodd\" d=\"M7.322 2.983a5.695 5.695 0 1 0 5.017 2.998l1.047-1.488.386.716a7.322 7.322 0 1 1-4.238-3.513l.775.245-1.267 1.306a5.692 5.692 0 0 0-1.72-.264Z\" clip-rule=\"evenodd\"/><path fill=\"#13404F\" d=\"M6.892 8.517c.218-.38.417-.768.653-1.13.47-.757.98-1.488 1.531-2.19.713-.88 1.475-1.72 2.284-2.517A14.726 14.726 0 0 1 13.952.631c.46-.278.962-.486 1.486-.618.114-.017.23-.017.345 0H16l-.01.203-.108.124a2.75 2.75 0 0 1-.226.23 27.762 27.762 0 0 0-4.849 5.5 27.682 27.682 0 0 0-2.818 5.776c-.526 1.44-1.505 1.563-2.456.309a16.815 16.815 0 0 1-2.157-4.009 5.463 5.463 0 0 1-.38-1.28c-.119-.998.643-1.413 1.485-1.599.843-.185 1.024.415 1.278 1.042.1.248.789 2.402 1.024 2.287a.321.321 0 0 0 .09-.097l.02.018Z\"/></svg> </symbol>\\n<symbol id=\"trust-ribbon-item__icon-feedback\">\\n<svg xmlns=\"http://www.w3.org/2000/svg\" fill=\"none\" viewBox=\"0 0 16 16\"><path fill=\"#2EBE7E\" d=\"M7.2 10.4h1.6V12H7.2v-1.6Zm0-6.4h1.6v4.8H7.2V4ZM8 0C3.576 0 0 3.6 0 8a8 8 0 1 0 8-8Zm0 14.4A6.4 6.4 0 1 1 8 1.6a6.4 6.4 0 0 1 0 12.8Z\"/><path fill=\"#13404F\" d=\"M7 4h2v5H7zM7 10h2v2H7z\"/></svg> </symbol>\\n<symbol id=\"close-button\">\\n<svg xmlns=\"http://www.w3.org/2000/svg\" viewBox=\"0 0 308.3 308.3\"><path d=\"M300.7 254.4L200.4 154.2 300.7 53.9c10.2-10.2 10.2-26.8 0-37l-9.2-9.2c-10.2-10.2-26.8-10.2-37 0L154.2 107.9 53.9 7.6C43.7-2.5 27-2.5 16.9 7.6l-9.2 9.2c-10.2 10.2-10.2 26.8 0 37L108 154.1 7.6 254.4c-10.2 10.2-10.2 26.8 0 37l9.2 9.2c10.2 10.2 26.8 10.2 37 0l100.3-100.3 100.3 100.3c10.2 10.2 26.8 10.2 37 0l9.2-9.2c10.3-10.1 10.3-26.8.1-37z\"/></svg> </symbol>\\n<symbol id=\"icon-hamburger\">\\n<svg xmlns=\"http://www.w3.org/2000/svg\" viewBox=\"0 0 366 301\"><path d=\"M339.8 0H26.2C11.7 0 0 11.7 0 26.2v12.7C0 53.3 11.7 65 26.2 65h313.7c14.5 0 26.2-11.7 26.2-26.2V26.2C366 11.7 354.3 0 339.8 0zM339.9 118H26.1C11.7 118 0 129.7 0 144.1v12.7C0 171.3 11.7 183 26.1 183h313.7c14.4 0 26.1-11.7 26.1-26.1v-12.7c.1-14.5-11.6-26.2-26-26.2zM339.8 236H26.2C11.7 236 0 247.7 0 262.2v12.6C0 289.3 11.7 301 26.2 301h313.6c14.5 0 26.2-11.7 26.2-26.2v-12.6c0-14.5-11.7-26.2-26.2-26.2z\"/></svg> </symbol>\\n<symbol id=\"icon-x\">\\n<svg xmlns=\"http://www.w3.org/2000/svg\" viewBox=\"0 0 308.3 308.3\"><path d=\"M300.7 254.4L200.4 154.2 300.7 53.9c10.2-10.2 10.2-26.8 0-37l-9.2-9.2c-10.2-10.2-26.8-10.2-37 0L154.2 107.9 53.9 7.6C43.7-2.5 27-2.5 16.9 7.6l-9.2 9.2c-10.2 10.2-10.2 26.8 0 37L108 154.1 7.6 254.4c-10.2 10.2-10.2 26.8 0 37l9.2 9.2c10.2 10.2 26.8 10.2 37 0l100.3-100.3 100.3 100.3c10.2 10.2 26.8 10.2 37 0l9.2-9.2c10.3-10.1 10.3-26.8.1-37z\"/></svg> </symbol>\\n<symbol id=\"verywell-logo\">\\n<svg xmlns=\"http://www.w3.org/2000/svg\"><path d=\"M97.671 49.192q0-3.366-4.755-3.366H74.69a9.034 9.034 0 00-4.855.989 7.444 7.444 0 00-2.476 3.963l-13.274 36.79q-.995 3.372-2.08 7.23t-1.881 6.639h-.2q-.795-3.168-1.883-7.133t-2.08-7.132L33.482 50.778a8.15 8.15 0 00-2.282-3.666 6.322 6.322 0 00-4.26-1.286H4.161Q0 45.826 0 48.6a11.69 11.69 0 00.4 1.979l35.461 87.766a5.3 5.3 0 002.675 3.269 11.21 11.21 0 004.26.694h11.686a10.33 10.33 0 004.259-.694q1.485-.692 2.477-3.466l35.858-86.58a5.251 5.251 0 00.595-2.376zM175.209 57.227a38.447 38.447 0 00-13.073-9.1 42.457 42.457 0 00-16.947-3.294 55.855 55.855 0 00-20.432 3.584 45.94 45.94 0 00-15.783 10.071 45.321 45.321 0 00-10.266 15.685 54.561 54.561 0 00-3.68 20.433 57.74 57.74 0 003.584 20.918 43.726 43.726 0 0010.07 15.685 44.3 44.3 0 0015.785 9.879 59.249 59.249 0 0020.916 3.486 109.525 109.525 0 0017.916-1.563 68.406 68.406 0 0017.138-5.078 18.677 18.677 0 002.615-1.561 3.181 3.181 0 001.066-2.736 15.111 15.111 0 00-.484-3.221q-.484-2.052-1.066-4.3t-1.259-4.385a25.594 25.594 0 01-.872-3.306q-.776-2.709-3.1-2.711a5.178 5.178 0 00-2.323.58 76.716 76.716 0 01-11.911 3.682 57.411 57.411 0 01-12.492 1.355 28.254 28.254 0 01-16.075-4.791 20.679 20.679 0 01-8.91-14h54.229q3.677 0 5.326-1.066t1.647-4.551v-2.509a91.337 91.337 0 00-2.128-19.852 36.408 36.408 0 00-9.491-17.334zm-49.193 26.919a21.834 21.834 0 015.52-11.811 15.291 15.291 0 0111.91-5.037 13.94 13.94 0 016.489 1.453 14.6 14.6 0 014.744 3.874 15.56 15.56 0 012.809 5.422 21.808 21.808 0 01.871 6.1zM355.266 47.738h-19.948q-5.425 0-7.166 5.615l-14.791 46.77-17.273-48.511q-1.358-3.872-5.81-3.874h-22.309a3.619 3.619 0 00-2.517.87 3.091 3.091 0 00-.969 2.421 11.33 11.33 0 00.388 1.939l33.771 85.359-2.712 6.936a51.019 51.019 0 01-3.1 5.422 21.056 21.056 0 01-5.759 5.588c-2.5 1.61-6.752 1.384-9.613 1.384a30.672 30.672 0 01-3.293-.192q-1.742-.2-3.678-.388h-1.357a3.5 3.5 0 00-2.421.776q-.87.771-1.258 3.483l-1.743 12.2a3.5 3.5 0 00-.194 1.393q0 2.9 3.486 3.678 2.906.582 5.616.874a57.136 57.136 0 006 .29c6.323 0 8.465.574 13.181-.52a34.881 34.881 0 0012.394-5.425 37.822 37.822 0 009.394-9.778 71.175 71.175 0 007.359-14.721L358.17 53.16a10.61 10.61 0 00.388-2.131q0-3.291-3.292-3.291zM631.13.05l-20.2 3.989c-2.969.4-4.75 1.584-4.75 5.544l.041 133.059 20.006-.069a9.051 9.051 0 009.025-9.025L635.286 5c0-3.167-1.386-4.95-4.156-4.95zM673.319.05l-20.2 3.989c-2.969.4-4.75 1.584-4.75 5.544l.041 133.059 20.006-.069a9.051 9.051 0 009.025-9.025L677.475 5c0-3.167-1.385-4.95-4.156-4.95zM501.331 48.511a3.758 3.758 0 00-2.809-.773h-19.561a6.505 6.505 0 00-4.55 1.356 6.263 6.263 0 00-1.841 3.679l-11.427 49.7h-.193l-14.174-50.668q-1.163-4.066-6.585-4.067h-13.363c-3.228 0-4.17 1.548-5.072 4.647l-16.074 49.5h-.194l-10.264-49.5A5.951 5.951 0 00393.481 49q-1.357-1.257-4.456-1.258H368.69a7.8 7.8 0 00-3.486.678 2.311 2.311 0 00-1.355 2.226 5.013 5.013 0 00.193 1.551l25.371 84.246a9.094 9.094 0 002.421 4.066 6.077 6.077 0 004.358 1.551h15.687a7.613 7.613 0 004.842-1.258 8.8 8.8 0 002.518-3.972l13.012-34.71h.388l14.137 34.13a11.031 11.031 0 002.424 4.35 6.218 6.218 0 004.552 1.453H468.7a7.229 7.229 0 004.842-1.356 8.27 8.27 0 002.323-4.066l25.758-84.441a6.414 6.414 0 00.388-1.939 2.594 2.594 0 00-.68-1.74zM582.114 57.227a38.447 38.447 0 00-13.073-9.1 42.457 42.457 0 00-16.947-3.294 55.855 55.855 0 00-20.432 3.584 45.94 45.94 0 00-15.783 10.071 45.307 45.307 0 00-10.266 15.686 54.561 54.561 0 00-3.68 20.433 57.74 57.74 0 003.584 20.918 43.726 43.726 0 0010.07 15.685 44.3 44.3 0 0015.785 9.879 59.249 59.249 0 0020.916 3.486 109.525 109.525 0 0017.916-1.563 68.406 68.406 0 0017.138-5.078 18.677 18.677 0 002.615-1.561 3.181 3.181 0 001.066-2.736 15.111 15.111 0 00-.484-3.221q-.485-2.052-1.066-4.3t-1.259-4.385a25.594 25.594 0 01-.872-3.306q-.775-2.709-3.1-2.711a5.178 5.178 0 00-2.323.58 76.716 76.716 0 01-11.911 3.682 57.411 57.411 0 01-12.492 1.355 28.254 28.254 0 01-16.075-4.791 20.679 20.679 0 01-8.91-14h54.229q3.677 0 5.326-1.066t1.647-4.551v-2.51a91.337 91.337 0 00-2.133-19.852 36.408 36.408 0 00-9.486-17.334zm-49.193 26.919a21.833 21.833 0 015.519-11.811 15.294 15.294 0 0111.911-5.035 13.94 13.94 0 016.489 1.453 14.6 14.6 0 014.744 3.874 15.56 15.56 0 012.809 5.422 21.808 21.808 0 01.871 6.1zM256.074 47.215a28.322 28.322 0 00-5.43-.776c-11.444 0-17.008 2.945-23.991 11.283l-.387-5.818c-.194-2.91-1.94-3.88-5.625-3.88h-16.25c-3.3 0-5.624.97-5.624 5.626v88.75l21.933-.091a6.374 6.374 0 006.355-6.355l.013-56.9c4.849-4.848 12.52-6.435 18.921-6.435 3.3 0 4.266.581 6.206.581 1.746 0 2.715-.968 3.1-3.1l2.91-18.232c.395-2.13.395-4.068-2.131-4.653z\"/></svg> </symbol>\\n<symbol id=\"verywellhealth\">\\n<svg xmlns=\"http://www.w3.org/2000/svg\"><path d=\"M742.076 59.454a35.438 35.438 0 00-21.647 7.468V33.253c0-1.8-.873-2.871-2.335-2.871-.18 0-.452 0-5.352.683-1.979.357-2.341 1.333-2.341 3.125v89.491c0 2.73 1.8 3.138 2.871 3.138h4.287c1.072 0 2.87-.408 2.87-3.138V75.774c5.284-4.747 13.432-8.169 19.5-8.169 9.821 0 14.011 5.351 14.011 17.895v38.181c0 2.73 1.8 3.138 2.87 3.138h4.29c1.072 0 2.871-.408 2.871-3.138V84.3c-.002-16.72-7.163-24.846-21.895-24.846zM807.844 59.454c-18.174 0-30.868 14.071-30.868 34.218 0 21.511 11.691 34.354 31.272 34.354 5.566 0 14.074-1.2 19.56-3.805a2.565 2.565 0 001.646-3.375l-.668-3.068a2.135 2.135 0 00-1.1-1.631 2.385 2.385 0 00-2.175.168c-4.038 1.751-10.96 3.022-16.458 3.022-15.74 0-21.548-12.539-21.772-24.537h41.732c3.832 0 4.479-1.084 4.479-4.343v-2.545c-.002-17.022-10.308-28.458-25.648-28.458zm15.563 27.864h-35.775c1.919-14.628 11.88-19.845 19.946-19.845 11.712 0 15.885 9.243 15.885 17.894 0 .688 0 1.306-.056 1.951zM901.883 119.2h-.938a1.991 1.991 0 01-2.162-1.2c-.459-.915-.459-3.618-.459-7.041V63.931c0-2.081-.921-3.137-2.737-3.137h-4.019c-2.594 0-3.139 1.561-3.139 2.85l-.081 3.058c-4.973-5.311-12.241-7.248-17.679-7.248-17.071 0-28.994 14.567-28.994 35.424 0 8.926 2.26 17.044 6.363 22.859 4.748 6.73 11.833 10.289 20.488 10.289 7.73 0 16.033-4.5 19.937-10.466.348 5.743 3.422 9.259 8.2 9.259h5.089c1.154 0 2.334-.245 2.334-2.066V121.4c-.003-1.539-.661-2.2-2.203-2.2zM888.3 103.736c-2.513 7.536-9.539 15.6-19.1 15.6-8.573 0-17.224-7.728-17.224-25 0-15.992 7.729-26.737 19.233-26.737A19.182 19.182 0 01888.3 78.3zM922.91 30.382c-.18 0-.452 0-5.353.683-1.978.357-2.339 1.333-2.339 3.125v89.491c0 2.73 1.8 3.138 2.87 3.138h4.286c1.072 0 2.871-.408 2.871-3.138V33.253c0-1.797-.873-2.871-2.335-2.871zM975.468 119.806a1.774 1.774 0 00-.842-1.33 2.385 2.385 0 00-2.128-.034 26.279 26.279 0 01-8.061 1.431c-3.357 0-5.844-.785-7.39-2.333-2.047-2.047-2.466-5.559-2.466-10.2V68.544h15.348c1.155 0 2.335-.245 2.335-2.068v-3.482c0-1.542-.659-2.2-2.2-2.2h-15.483V44.909c0-1.8-.873-2.872-2.336-2.872h-.536l-4.819.683c-1.975.359-2.337 1.334-2.337 3.126v14.948h-7.446c-1.426 0-1.933.54-1.933 2.065v3.617c0 1.488.618 2.068 2.2 2.068h7.177V106c0 7.54.3 13.19 4.221 17.248 3.369 3.523 9.608 4.78 14.324 4.78a35.588 35.588 0 0011.255-2.062c1.435-.575 2.184-1.227 1.781-2.827zM1017.35 59.454a35.438 35.438 0 00-21.65 7.468V33.253c0-1.8-.873-2.871-2.334-2.871-.18 0-.452 0-5.353.683-1.979.358-2.34 1.333-2.34 3.125v89.491c0 2.73 1.8 3.138 2.871 3.138h4.286c1.072 0 2.87-.408 2.87-3.138V75.774c5.284-4.747 13.432-8.169 19.5-8.169 9.82 0 14.01 5.351 14.01 17.895v38.181c0 2.73 1.8 3.138 2.87 3.138h4.287c1.072 0 2.87-.408 2.87-3.138V84.3c.006-16.72-7.155-24.846-21.887-24.846z\"/></svg> </symbol>\\n<symbol id=\"verywellfit\">\\n<svg xmlns=\"http://www.w3.org/2000/svg\" viewBox=\"0 0 190 45\"><path fill=\"#FFCB00\" d=\"M202.491 40.791 157.946 45 157.946 0 202.491 0 202.491 40.791z\"/><path d=\"M179.984 7.343a2.316 2.316 0 00-2.4 2.395 2.4 2.4 0 104.79 0 2.315 2.315 0 00-2.395-2.395z\"/><path d=\"M181.256 14.305h-10.123v-.282a3.375 3.375 0 01.533-2.236 2.917 2.917 0 012.092-.557h.8a.545.545 0 00.587-.588V8.5a.545.545 0 00-.587-.588h-1.138a9.557 9.557 0 00-3.579.539 3.427 3.427 0 00-1.892 1.857 9.18 9.18 0 00-.54 3.514v.483h-2.119a.546.546 0 00-.588.588v2.276a.546.546 0 00.588.588h2.123v13.155a.546.546 0 00.587.588h2.544a.546.546 0 00.588-.588V17.757h6.992v13.122a.545.545 0 00.587.587h2.544a.545.545 0 00.588-.587V14.893a.546.546 0 00-.587-.588zM195.147 14.305h-3.5v-3.83a.545.545 0 00-.587-.588h-2.411a.545.545 0 00-.587.588v3.83l-3.509.01a.545.545 0 00-.587.588v1.975a.545.545 0 00.587.587l3.509-.01v9.89c0 1.73.469 2.942 1.394 3.6a6.848 6.848 0 003.98.968c.318 0 .826-.022 1.54-.067a.545.545 0 00.587-.588v-2.072a.545.545 0 00-.587-.588h-.971a2.51 2.51 0 01-1.8-.548 2.512 2.512 0 01-.56-1.843v-8.752h3.5a.545.545 0 00.588-.587v-1.975a.546.546 0 00-.586-.588z\"/></svg> </symbol>\\n<symbol id=\"verywellfit-footer\">\\n<svg viewBox=\"0 0 190 45\"><path fill=\"rgba(255,255,255,0.5)\" d=\"M202.491 40.791 157.946 45 157.946 0 202.491 0 202.491 40.791z\"/><path d=\"M179.984 7.343a2.316 2.316 0 00-2.4 2.395 2.4 2.4 0 104.79 0 2.315 2.315 0 00-2.395-2.395z\"/><path d=\"M181.256 14.305h-10.123v-.282a3.375 3.375 0 01.533-2.236 2.917 2.917 0 012.092-.557h.8a.545.545 0 00.587-.588V8.5a.545.545 0 00-.587-.588h-1.138a9.557 9.557 0 00-3.579.539 3.427 3.427 0 00-1.892 1.857 9.18 9.18 0 00-.54 3.514v.483h-2.119a.546.546 0 00-.588.588v2.276a.546.546 0 00.588.588h2.123v13.155a.546.546 0 00.587.588h2.544a.546.546 0 00.588-.588V17.757h6.992v13.122a.545.545 0 00.587.587h2.544a.545.545 0 00.588-.587V14.893a.546.546 0 00-.587-.588zM195.147 14.305h-3.5v-3.83a.545.545 0 00-.587-.588h-2.411a.545.545 0 00-.587.588v3.83l-3.509.01a.545.545 0 00-.587.588v1.975a.545.545 0 00.587.587l3.509-.01v9.89c0 1.73.469 2.942 1.394 3.6a6.848 6.848 0 003.98.968c.318 0 .826-.022 1.54-.067a.545.545 0 00.587-.588v-2.072a.545.545 0 00-.587-.588h-.971a2.51 2.51 0 01-1.8-.548 2.512 2.512 0 01-.56-1.843v-8.752h3.5a.545.545 0 00.588-.587v-1.975a.546.546 0 00-.586-.588z\"/></svg> </symbol>\\n<symbol id=\"verywellmind\">\\n<svg xmlns=\"http://www.w3.org/2000/svg\"><path d=\"M779.851 58.6a36.474 36.474 0 00-21.713 7.425C753.124 59.575 744.8 58.6 740.2 58.6a32.01 32.01 0 00-19.224 6.567l-.037-1.264c0-2.486-1.383-3.969-3.7-3.969H713.1c-2.318 0-3.7 1.483-3.7 3.969v59.543c0 2.484 1.384 3.967 3.7 3.967h4.271c2.318 0 3.7-1.483 3.7-3.967V76.073c5.476-4.879 11.753-7.672 17.258-7.672 9.345 0 12.986 4.763 12.986 16.991v38.049c0 2.484 1.384 3.967 3.7 3.967h4.27c2.318 0 3.7-1.483 3.7-3.967v-39.25a40.893 40.893 0 00-1.1-10.172c5.04-3.473 11.067-5.618 15.825-5.618 9.922 0 13.788 4.763 13.788 16.991v38.049c0 2.484 1.384 3.967 3.7 3.967h4.271c2.319 0 3.7-1.483 3.7-3.967v-39.25c.01-16.985-7.839-25.591-23.318-25.591zM825.1 39.771a6.777 6.777 0 100 13.544 6.783 6.783 0 100-13.544zM827.234 59.929h-4.272c-2.318 0-3.7 1.483-3.7 3.969v59.543c0 2.484 1.383 3.967 3.7 3.967h4.272c2.318 0 3.7-1.483 3.7-3.967V63.9c.002-2.488-1.382-3.971-3.7-3.971zM879.7 58.6a36.21 36.21 0 00-20.823 6.66l-.04-1.357c0-2.486-1.383-3.969-3.7-3.969h-4.14c-2.318 0-3.7 1.483-3.7 3.969v59.543c0 2.484 1.384 3.967 3.7 3.967h4.271c2.319 0 3.7-1.483 3.7-3.967V76.078c5.11-4.46 12.827-7.677 18.46-7.677 11.035 0 13.252 6.5 13.252 16.991v38.049c0 2.484 1.384 3.967 3.7 3.967h4.271c2.319 0 3.7-1.483 3.7-3.967v-39.25c.004-17.224-7.408-25.591-22.651-25.591zM969.729 29.612a3.11 3.11 0 00-.389.024l-5.286.663c-3.161.287-3.161 2.862-3.161 3.962v30.191A27.632 27.632 0 00944.3 58.6c-18.057 0-30.668 14.479-30.668 35.208 0 16.827 7.53 34.809 28.666 34.809a29.508 29.508 0 0019.082-7.038l.045 1.867c0 2.707 1.3 3.967 4.1 3.967h3.87c1.866 0 3.169-1.631 3.169-3.967v-90.12c.005-3.536-2.364-3.714-2.835-3.714zm-8.836 48.543v31.582c-3.677 5.179-11.056 9.066-17.257 9.066-10.971 0-18.059-9.918-18.059-25.268 0-15.5 7.431-25.134 19.394-25.134a18.863 18.863 0 0115.922 9.754z\"/></svg> </symbol>\\n<symbol id=\"verywellfamily\">\\n<svg xmlns=\"http://www.w3.org/2000/svg\"><path d=\"M737.235 36.008a25.887 25.887 0 018.444 1.551 2.843 2.843 0 002.212.232 2.217 2.217 0 001.178-1.408l.965-3.717c.411-1.649-.072-2.49-1.988-3.358a36.316 36.316 0 00-11.492-2.1c-12.381 0-20.226 7.359-21.52 20.183a94.512 94.512 0 00-.417 10.866v.9H707.6c-1.749 0-2.5.7-2.5 2.358v3.672c0 1.7.624 2.361 2.224 2.361h7.293v55.695c0 3 1.989 3.447 3.175 3.447h4.352c1.185 0 3.174-.448 3.174-3.447V67.552h16.812a2.177 2.177 0 002.5-2.5v-3.533c0-2.358-1.912-2.358-2.632-2.358h-16.68v-5.526c0-12.685 3.341-17.627 11.917-17.627zM808.309 118.439h-.951c-1.092 0-1.6-.278-1.96-1.08-.438-.874-.438-3.59-.438-7.028V62.607c0-2.287-1.023-3.446-3.04-3.446h-4.079c-3 0-3.449 1.98-3.449 3.149l-.065 2.478c-5.118-5.135-12.424-6.986-17.7-6.986-17.48 0-29.689 14.891-29.689 36.214 0 15.639 7.206 33.9 27.512 33.9 7.579 0 15.809-4.2 20.034-10.125.582 5.52 3.777 8.9 8.52 8.9h5.167c.719 0 2.63 0 2.63-2.359v-3.4a2.176 2.176 0 00-2.492-2.493zm-14.051-15.476c-2.527 7.531-9.576 15.613-19.123 15.613-8.57 0-17.218-7.763-17.218-25.1 0-16.074 7.739-26.873 19.258-26.873a19.22 19.22 0 0117.083 10.652zM890.3 57.8a36.4 36.4 0 00-22.223 7.811c-4.9-6.786-13.448-7.811-18.157-7.811a32.446 32.446 0 00-20.137 7.289l-.074-2.484c0-3-1.988-3.446-3.174-3.446h-4.215c-1.186 0-3.176.447-3.176 3.446v60.64c0 3 1.99 3.447 3.176 3.447h4.349c1.186 0 3.177-.448 3.177-3.447V74.741c5.734-5.177 12.354-8.141 18.173-8.141 9.687 0 13.82 5.352 13.82 17.9v38.75c0 3 1.989 3.447 3.176 3.447h4.349c1.186 0 3.176-.448 3.176-3.447V83.274a40.453 40.453 0 00-1.211-10.61c5.3-3.746 11.716-6.065 16.8-6.065 10.4 0 14.637 5.185 14.637 17.9v38.75c0 3 1.99 3.447 3.176 3.447h4.349c1.186 0 3.177-.448 3.177-3.447V83.274C913.465 66.372 905.672 57.8 890.3 57.8zM934.739 59.161h-4.351c-1.186 0-3.174.447-3.174 3.446v60.64c0 3 1.988 3.447 3.174 3.447h4.351c1.186 0 3.176-.448 3.176-3.447v-60.64c0-2.999-1.99-3.446-3.176-3.446zM932.563 38.63a6.308 6.308 0 100 12.6 6.314 6.314 0 100-12.6zM961.791 28.3c-.2 0-.477 0-5.48.7-2.166.393-2.589 1.556-2.589 3.431v90.823c0 3 1.989 3.447 3.175 3.447h4.35c1.186 0 3.176-.448 3.176-3.447V31.473c0-1.959-1.008-3.173-2.632-3.173zM1032.4 59.161h-5.3a2.862 2.862 0 00-3.121 2.167l-17.961 51.687L987.8 61.341a3.1 3.1 0 00-3.123-2.18h-6.391a2.093 2.093 0 00-1.8.843 2.68 2.68 0 00-.229 2.408l23.93 64.489-4.07 9.977c-2.686 6.715-7.1 9.843-13.892 9.843-1.152 0-2.76-.173-4.057-.312l-.973-.1h-.408c-1.538 0-2.3.728-2.483 2.342l-.693 4.5v.409a2.4 2.4 0 002.21 2.485 40.125 40.125 0 005.589.554c13.715 0 20.47-5.654 26.769-22.408l26.531-71.563a4.674 4.674 0 00.317-1.386c.002-.772-.34-2.081-2.627-2.081z\"/></svg> </symbol>\\n<symbol id=\"very-logo\">\\n<svg xmlns=\"http://www.w3.org/2000/svg\"><path d=\"M97.671 49.192q0-3.366-4.755-3.366H74.69a9.034 9.034 0 0 0-4.855.989 7.444 7.444 0 0 0-2.476 3.963L54.085 87.568q-.995 3.372-2.08 7.23t-1.881 6.639h-.2q-.795-3.168-1.883-7.133t-2.08-7.132L33.482 50.778A8.15 8.15 0 0 0 31.2 47.112a6.322 6.322 0 0 0-4.26-1.286H4.161Q0 45.826 0 48.6a11.69 11.69 0 0 0 .4 1.979l35.461 87.766a5.3 5.3 0 0 0 2.675 3.269 11.21 11.21 0 0 0 4.26.694H54.482a10.33 10.33 0 0 0 4.259-.694q1.485-.692 2.477-3.466L97.076 51.568A5.251 5.251 0 0 0 97.671 49.192ZM175.209 57.227a38.447 38.447 0 0 0-13.073-9.1 42.457 42.457 0 0 0-16.947-3.294 55.855 55.855 0 0 0-20.432 3.584 45.94 45.94 0 0 0-15.783 10.071A45.321 45.321 0 0 0 98.708 74.173a54.561 54.561 0 0 0-3.68 20.433 57.74 57.74 0 0 0 3.584 20.918 43.726 43.726 0 0 0 10.07 15.685 44.3 44.3 0 0 0 15.785 9.879 59.249 59.249 0 0 0 20.916 3.486 109.525 109.525 0 0 0 17.916-1.563 68.406 68.406 0 0 0 17.138-5.078 18.677 18.677 0 0 0 2.615-1.561 3.181 3.181 0 0 0 1.066-2.736 15.111 15.111 0 0 0-.484-3.221q-.484-2.052-1.066-4.3t-1.259-4.385a25.594 25.594 0 0 1-.872-3.306q-.776-2.709-3.1-2.711a5.178 5.178 0 0 0-2.323.58 76.716 76.716 0 0 1-11.911 3.682 57.411 57.411 0 0 1-12.492 1.355 28.254 28.254 0 0 1-16.075-4.791 20.679 20.679 0 0 1-8.91-14h54.229q3.677 0 5.326-1.066t1.647-4.551V94.413A91.337 91.337 0 0 0 184.7 74.561 36.408 36.408 0 0 0 175.209 57.227ZM126.016 84.146a21.834 21.834 0 0 1 5.52-11.811 15.291 15.291 0 0 1 11.91-5.037 13.94 13.94 0 0 1 6.489 1.453 14.6 14.6 0 0 1 4.744 3.874 15.56 15.56 0 0 1 2.809 5.422 21.808 21.808 0 0 1 .871 6.1ZM355.266 47.738H335.318q-5.425 0-7.166 5.615l-14.791 46.77L296.088 51.612q-1.358-3.872-5.81-3.874H267.969a3.619 3.619 0 0 0-2.517.87 3.091 3.091 0 0 0-.969 2.421 11.33 11.33 0 0 0 .388 1.939l33.771 85.359-2.712 6.936a51.019 51.019 0 0 1-3.1 5.422 21.056 21.056 0 0 1-5.759 5.588c-2.5 1.61-6.752 1.384-9.613 1.384a30.672 30.672 0 0 1-3.293-.192q-1.742-.2-3.678-.388h-1.357a3.5 3.5 0 0 0-2.421.776q-.87.771-1.258 3.483l-1.743 12.2a3.5 3.5 0 0 0-.194 1.393q0 2.9 3.486 3.678 2.906.582 5.616.874a57.136 57.136 0 0 0 6 .29c6.323 0 8.465.574 13.181-.52a34.881 34.881 0 0 0 12.394-5.425 37.822 37.822 0 0 0 9.394-9.778 71.175 71.175 0 0 0 7.359-14.721L358.17 53.16a10.61 10.61 0 0 0 .388-2.131Q358.558 47.738 355.266 47.738ZM256.074 47.215a28.322 28.322 0 0 0-5.43-.776c-11.444 0-17.008 2.945-23.991 11.283l-.387-5.818c-.194-2.91-1.94-3.88-5.625-3.88h-16.25c-3.3 0-5.624.97-5.624 5.626V142.4l21.933-.091a6.374 6.374 0 0 0 6.355-6.355l.013-56.9c4.849-4.848 12.52-6.435 18.921-6.435 3.3 0 4.266.581 6.206.581 1.746 0 2.715-.968 3.1-3.1l2.91-18.232C258.6 49.738 258.6 47.8 256.074 47.215Z\"/></svg> </symbol>\\n<symbol id=\"well-logo\">\\n<svg xmlns=\"http://www.w3.org/2000/svg\"><path d=\"M501.331 48.511a3.758 3.758 0 0 0-2.809-.773h-19.561a6.505 6.505 0 0 0-4.55 1.356 6.263 6.263 0 0 0-1.841 3.679l-11.427 49.7h-.193l-14.174-50.668q-1.163-4.066-6.585-4.067h-13.363c-3.228 0-4.17 1.548-5.072 4.647l-16.074 49.5h-.194l-10.264-49.5A5.951 5.951 0 0 0 393.481 49q-1.357-1.257-4.456-1.258H368.69a7.8 7.8 0 0 0-3.486.678 2.311 2.311 0 0 0-1.355 2.226 5.013 5.013 0 0 0 .193 1.551l25.371 84.246a9.094 9.094 0 0 0 2.421 4.066 6.077 6.077 0 0 0 4.358 1.551h15.687a7.613 7.613 0 0 0 4.842-1.258 8.8 8.8 0 0 0 2.518-3.972l13.012-34.71h.388l14.137 34.13a11.031 11.031 0 0 0 2.424 4.35 6.218 6.218 0 0 0 4.552 1.453H468.7a7.229 7.229 0 0 0 4.842-1.356 8.27 8.27 0 0 0 2.323-4.066l25.758-84.441a6.414 6.414 0 0 0 .388-1.939 2.594 2.594 0 0 0-.68-1.74zM582.114 57.227a38.447 38.447 0 0 0-13.073-9.1 42.457 42.457 0 0 0-16.947-3.294 55.855 55.855 0 0 0-20.432 3.584 45.94 45.94 0 0 0-15.783 10.071 45.307 45.307 0 0 0-10.266 15.686 54.561 54.561 0 0 0-3.68 20.433 57.74 57.74 0 0 0 3.584 20.918 43.726 43.726 0 0 0 10.07 15.685 44.3 44.3 0 0 0 15.785 9.879 59.249 59.249 0 0 0 20.916 3.486 109.525 109.525 0 0 0 17.916-1.563 68.406 68.406 0 0 0 17.138-5.078 18.677 18.677 0 0 0 2.615-1.561 3.181 3.181 0 0 0 1.066-2.736 15.111 15.111 0 0 0-.484-3.221q-.485-2.052-1.066-4.3t-1.259-4.385a25.594 25.594 0 0 1-.872-3.306q-.775-2.709-3.1-2.711a5.178 5.178 0 0 0-2.323.58 76.716 76.716 0 0 1-11.911 3.682 57.411 57.411 0 0 1-12.492 1.355 28.254 28.254 0 0 1-16.075-4.791 20.679 20.679 0 0 1-8.91-14h54.229q3.677 0 5.326-1.066t1.647-4.551v-2.51a91.337 91.337 0 0 0-2.133-19.852 36.408 36.408 0 0 0-9.486-17.334zm-49.193 26.919a21.833 21.833 0 0 1 5.519-11.811 15.294 15.294 0 0 1 11.911-5.035 13.94 13.94 0 0 1 6.489 1.453 14.6 14.6 0 0 1 4.744 3.874 15.56 15.56 0 0 1 2.809 5.422 21.808 21.808 0 0 1 .871 6.1zM631.13.05l-20.2 3.989c-2.969.4-4.75 1.584-4.75 5.544l.041 133.059 20.006-.069a9.051 9.051 0 0 0 9.025-9.025L635.286 5c0-3.167-1.386-4.95-4.156-4.95zM673.319.05l-20.2 3.989c-2.969.4-4.75 1.584-4.75 5.544l.041 133.059 20.006-.069a9.051 9.051 0 0 0 9.025-9.025L677.475 5c0-3.167-1.385-4.95-4.156-4.95z\"/></svg> </symbol>\\n<symbol id=\"icon-circle-arrow-right\">\\n<svg xmlns=\"http://www.w3.org/2000/svg\" viewBox=\"0 0 24 24\"><path d=\"M12 9.68v1.15H8.27c-.35 0-.63.52-.63 1.16s.28 1.15.63 1.15H12v1.17a.76.76 0 001.14.68l3.22-2.31a.79.79 0 000-1.35L13.14 9a.75.75 0 00-1.14.68z\"/><path d=\"M0 12A12 12 0 1012 0 12 12 0 000 12zm19.23-7.23A10.22 10.22 0 014.77 19.23 10.22 10.22 0 0119.23 4.77z\"/></svg> </symbol>\\n<symbol id=\"icon-circle-arrow-down\">\\n<svg xmlns=\"http://www.w3.org/2000/svg\" viewBox=\"0 0 405 405\"><path d=\"M241.6 202.5h-19.4v-63c0-5.9-8.8-10.6-19.5-10.6s-19.5 4.7-19.5 10.6v63h-19.7c-10.1 0-16.4 10.7-11.4 19.3l39 54.3c5 8.6 17.7 8.6 22.7 0l39-54.3c5.2-8.6-1.1-19.3-11.2-19.3z\"/><path d=\"M202.5 0C90.7 0 0 90.7 0 202.5S90.7 405 202.5 405 405 314.3 405 202.5 314.3 0 202.5 0zm122 324.5c-32.6 32.6-75.9 50.5-122 50.5-46.1 0-89.4-17.9-122-50.5-32.6-32.6-50.5-75.9-50.5-122 0-46.1 17.9-89.4 50.5-122 32.6-32.6 75.9-50.5 122-50.5 46.1 0 89.4 17.9 122 50.5 32.6 32.6 50.5 75.9 50.5 122 0 46.1-17.9 89.4-50.5 122z\"/></svg> </symbol>\\n<symbol id=\"icon-magnifying-glass\">\\n<svg xmlns=\"http://www.w3.org/2000/svg\" viewBox=\"0 0 17 17\"><path d=\"M16.6 14.9l-4.3-4.3c.8-1.1 1.2-2.4 1.2-3.8 0-.9-.2-1.8-.5-2.6-.4-.8-.8-1.6-1.4-2.2C11 1.4 10.3.9 9.4.6 8.5.2 7.7 0 6.8 0c-1 0-1.8.2-2.7.5C3.3.9 2.6 1.4 2 2 1.4 2.6.9 3.3.5 4.1S0 5.8 0 6.8c0 .9.2 1.8.5 2.6.4.8.8 1.6 1.4 2.2.6.6 1.3 1.1 2.2 1.4.8.4 1.7.5 2.6.5 1.4 0 2.7-.4 3.8-1.2l4.3 4.3c.2.2.5.4.9.4.3 0 .6-.1.9-.4.2-.2.4-.5.4-.9 0-.3-.1-.6-.4-.8zM9.8 9.8c-.8.8-1.9 1.3-3 1.3-1.2 0-2.2-.4-3-1.3-.8-.8-1.3-1.9-1.3-3 0-1.2.4-2.2 1.3-3 .8-.8 1.9-1.3 3-1.3 1.2 0 2.2.4 3 1.3.8.8 1.3 1.9 1.3 3-.1 1.1-.5 2.1-1.3 3z\"/></svg> </symbol>\\n<symbol id=\"icon-caret-right\">\\n<svg xmlns=\"http://www.w3.org/2000/svg\" viewBox=\"0 0 24 24\"><path d=\"M16.333 21.07c-.905.53-2.037-.133-2.037-1.194v-8.201c0-1.06 1.132-1.723 2.037-1.192l5.732 4.1c.905.53.905 1.857 0 2.386l-5.732 4.1z\"/></svg> </symbol>\\n<symbol id=\"icon-arrow-left\">\\n<svg xmlns=\"http://www.w3.org/2000/svg\" viewBox=\"0 0 24 24\"><path d=\"M2.9 8.4L.5 10.8c-.6.6-.6 1.7 0 2.3l2.4 2.4 2.2 2.2 5.6 5.6c.8.8 2.1.8 2.9 0l.7-.7c.8-.8.8-2.1 0-2.9L6.5 12l7.8-7.8c.8-.8.8-2.1 0-2.9l-.7-.7c-.8-.8-2.1-.8-2.9 0L2.9 8.4z\"/></svg> </symbol>\\n<symbol id=\"icon-empty-caret\">\\n<svg xmlns=\"http://www.w3.org/2000/svg\" viewBox=\"0 0 9.1 15.1\"><path d=\"M1.123 12.464l5.234-4.427-5.16-4.363C1 3.5.901 3.316.901 3.121c0-.109.033-.24.099-.391L1.963.71c.131-.282.271-.423.42-.423.114 0 .263.087.444.26L9.789 6.67c.115.109.201.223.259.342.057.12.086.298.086.537v.847c0 .369-.14.662-.42.879l-7.159 6.088c-.148.13-.28.195-.395.195-.115 0-.222-.109-.32-.326l-.865-1.92a1.129 1.129 0 01-.074-.18.615.615 0 01-.025-.178.6.6 0 01.247-.489z\"/></svg> </symbol>\\n<symbol id=\"mntl-dotdash-universal-nav__logo\">\\n<svg xmlns=\"http://www.w3.org/2000/svg\" viewBox=\"5 2.8 290 69\"><circle cx=\"39.6\" cy=\"37.4\" r=\"34.3\" fill=\"#f44b34\"/><path fill=\"#fff\" d=\"M50.4 17.9c-1.7-1.8-4-2.6-7-2.6-9.1-.1-12.4-.1-13.2-.1L27.3 22h8.1L30 28v21h-.1l.1.1v6.7l-3.6 4h18.5L53 51V25c0-.1.1-4.3-2.6-7.1zm-5.2 19.6-7.4 7.8V41l7.4-7.8v4.3zm-7.4-15.4h3c.9 0 2.1-.1 3.1.9s1.4 2.5 1.4 4.9v3.6l-7.4 7.8-.1-17.2zm-4.9 30.1 3.3-3.6 9-9.5v13.1c0 .1-12.3.1-12.3 0z\"/><path fill=\"#009ad9\" d=\"m99.645 22.637 6.505-6.506 4.172 4.172-6.505 6.506zM121 44l4.2 4.2 6.5-6.5-4.2-4.2zm-3.2-31.2c1.8-1.8 4.7-1.8 6.5 0 1.9 1.9 1.7 4.8 0 6.5l-3.3 3.3 4.2 4.2 3.3-3.3c2-2 4.9-1.6 6.5 0 2 2 1.6 4.9 0 6.5l-3.3 3.3 4.2 4.2 3.3-3.3c4.2-4.2 4-10.8 0-14.8-2.8-2.8-6.1-3.1-7.6-3.1.1-1.5-.3-4.8-3.1-7.6-3.9-3.9-10.6-4.2-14.8 0l-3.3 3.3 4.2 4.2 3.2-3.4zm-7.5 20.6 4.2 4.1L121 31l-4.2-4.1-6.5 6.5z\"/><path fill=\"#6ebd44\" d=\"m99.6 52.4 6.6 6.5 4.1-4.2-6.5-6.5zm36.3-14.9-4.2 4.2L135 45c1.6 1.6 2 4.5 0 6.5-1.6 1.6-4.5 2.1-6.5 0l-3.3-3.3-4.2 4.2 3.3 3.3c1.7 1.7 1.9 4.6 0 6.5-1.8 1.8-4.7 1.8-6.5 0l-3.3-3.3-4.2 4.2 3.3 3.3c4.2 4.2 10.9 3.9 14.8 0 2.8-2.8 3.1-6.1 3.1-7.6 1.5 0 4.8-.3 7.6-3.1 4-4 4.2-10.6 0-14.8l-3.2-3.4zm-25.6 4.2 6.5 6.5L121 44l-6.5-6.5zm14.9-14.8L121 31l6.5 6.5 4.2-4.1-6.5-6.5z\"/><path fill=\"#f68f1e\" d=\"m110.332 54.607 6.506-6.506 4.172 4.172-6.506 6.505zM102.8 62.2c-1.6 1.6-4.5 2-6.5 0-1.6-1.6-2.1-4.5 0-6.5l3.3-3.3-4.2-4.2-3.3 3.3c-1.7 1.7-4.6 1.9-6.5 0-1.8-1.8-1.8-4.7 0-6.5l3.3-3.3-4.2-4.2-3.3 3.3c-4.2 4.2-3.9 10.9 0 14.8 2.8 2.8 6.1 3.1 7.6 3.1 0 1.5.3 4.8 3.1 7.6 4 4 10.6 4.2 14.8 0l3.3-3.3-4.2-4.2-3.2 3.4zm3.4-24.7L99.6 44l4.2 4.2 6.5-6.5zM95.5 26.9 89 33.4l4.1 4.1 6.5-6.5z\"/><path fill=\"#ec174c\" d=\"m99.6 44-6.5-6.5-4.1 4.2 6.5 6.5zm-14-14c-1.8-1.8-1.8-4.7 0-6.5 1.9-1.9 4.8-1.7 6.5 0l3.3 3.3 4.2-4.2-3.3-3.3c-2-2-1.6-4.9 0-6.5 2-2 4.9-1.6 6.5 0l3.3 3.3 4.2-4.2-3.3-3.2c-4.2-4.2-10.8-4-14.8 0-2.8 2.8-3.1 6.1-3.1 7.6-1.5-.1-4.9.3-7.6 3.1-3.9 3.9-4.2 10.6 0 14.8l3.3 3.3 4.2-4.2-3.4-3.3zm24.73-9.682 4.172-4.172 6.505 6.505-4.172 4.172zM106.2 37.5l4.1-4.1-6.5-6.5-4.2 4.1 6.6 6.5z\"/><path fill=\"#573357\" d=\"m106.142 16.042 4.171-4.172 4.172 4.172-4.171 4.172z\"/><path fill=\"#be272d\" d=\"m84.81 37.543 4.172-4.172 4.172 4.172-4.172 4.172z\"/><path fill=\"#008e4c\" d=\"m127.497 37.555 4.171-4.172 4.172 4.172-4.171 4.172z\"/><path fill=\"#7a773e\" d=\"m106.172 58.866 4.172-4.172 4.172 4.172-4.172 4.172z\"/><path fill=\"#443639\" d=\"m116.856 26.74 4.172-4.172 4.172 4.172-4.172 4.172z\"/><path fill=\"#803136\" d=\"m95.455 48.169 4.172-4.172 4.172 4.172-4.172 4.172z\"/><path fill=\"#593438\" d=\"m95.446 26.753 4.172-4.172 4.172 4.173-4.172 4.171z\"/><path fill=\"#443639\" d=\"m106.155 37.456 4.172-4.172 4.172 4.171-4.172 4.172z\"/><path fill=\"#2a6442\" d=\"m116.871 48.153 4.172-4.172 4.172 4.172-4.172 4.172z\"/><path d=\"M170.4 13.5c-2.5-2.2-5.7-3.3-9.6-3.3h-7.2v23.6h7.6c3.8 0 7-1.1 9.4-3.3s3.6-5 3.6-8.5-1.3-6.3-3.8-8.5zm.1 8.5c0 2.6-.9 4.7-2.6 6.2-1.7 1.6-4.1 2.3-7 2.3h-3.8V13.4h3.8c2.9 0 5.2.8 7 2.3 1.7 1.5 2.6 3.7 2.6 6.3zm14.6-6.3c-2.5 0-4.7.9-6.4 2.7s-2.6 4-2.6 6.6.9 4.8 2.6 6.6c1.7 1.8 3.9 2.7 6.4 2.7h.1v-.1c2.5 0 4.7-.9 6.4-2.7s2.6-4 2.6-6.6c0-2.5-.9-4.8-2.6-6.6-1.8-1.7-3.9-2.6-6.5-2.6zm4.1 13.7c-.5.6-1.1 1-1.8 1.3s-1.4.3-2.2.3c-1.7 0-3-.6-4.1-1.8-1.1-1.2-1.6-2.7-1.6-4.4 0-1.7.6-3.2 1.6-4.3 1.1-1.2 2.4-1.7 4.1-1.7 1.6 0 3 .6 4 1.7 1.1 1.2 1.6 2.6 1.6 4.3 0 1.9-.5 3.4-1.6 4.6zm16.9.8c-.5.6-1.3.9-2.3.9-1.6 0-2.4-.9-2.4-2.7v-9.2h5v-3h-5v-4.4h-3.3v4.4h-2.9l.1 3h2.9v9.3c0 1.9.5 3.3 1.4 4.3s2.2 1.5 3.9 1.5c1.8 0 3.2-.5 4.2-1.5l-1.6-2.6zm38.1-11.6c-1.5-2-3.5-3-6.1-3-2.5 0-4.5.9-6.1 2.7-1.6 1.8-2.4 4-2.4 6.6 0 2.7.8 4.9 2.5 6.6 1.7 1.8 3.7 2.7 6.1 2.7 2.6 0 4.6-1 6.1-3.1v2.6h3.4V16.1h-3.4v2.5h-.1zm-1.6 2c1.1 1.2 1.6 2.6 1.6 4.3s-.5 3.2-1.6 4.4c-.5.6-1.1 1-1.8 1.3s-1.4.4-2.2.4c-1.7 0-3-.6-4.1-1.8-1.1-1.2-1.6-2.7-1.6-4.4 0-1.7.6-3.2 1.6-4.3 1.1-1.2 2.4-1.7 4.1-1.7 1.6.1 2.9.6 4 1.8zm17.9 3.6c-.9-.3-1.9-.6-3-.9-1-.3-1.9-.6-2.5-1-.7-.4-1-1-1-1.6l.1-.1c0-.7.3-1.2.9-1.6.6-.4 1.4-.6 2.3-.6 2 0 3.4.7 4.5 2l2-2c-1.3-1.8-3.5-2.7-6.6-2.7-1.9 0-3.5.5-4.7 1.4-1.2 1-1.7 2.1-1.7 3.5 0 1.2.3 2.1 1 2.9s1.5 1.3 2.6 1.7c1.1.4 2 .7 2.9 1 1 .3 1.8.7 2.4 1.1.7.5 1 1 1 1.8s-.3 1.4-.9 1.8c-.6.5-1.4.7-2.5.7-2.3 0-4.1-.8-5.3-2.3l-2 2.2c1.5 1.9 3.9 2.9 7.1 2.9 2.2 0 3.9-.5 5.1-1.5s1.8-2.3 1.8-3.8c0-1.2-.3-2.2-1-3-.6-.9-1.5-1.4-2.5-1.9zm14.9-8.6c-2.3 0-4.1.8-5.2 2.5V8.4h-3.4v25.4h3.4l.1-10.3c0-1.4.4-2.6 1.2-3.4.8-.8 1.8-1.2 3.2-1.2 1.3 0 2.4.4 3.2 1.3.8.8 1.2 2 1.2 3.4v10.3h3.4V23c0-2.3-.6-4-1.9-5.4-1.4-1.4-3.1-2-5.2-2zm-52.2 3c-1.5-2-3.5-3-6.1-3-2.5 0-4.5.9-6.1 2.7-1.6 1.8-2.4 4-2.4 6.6 0 2.7.8 4.9 2.5 6.6 1.7 1.8 3.7 2.7 6.1 2.7 2.6 0 4.6-1 6.1-3.1v2.6h3.4V8.4h-3.4v10.2h-.1zm-1.6 2c1.1 1.2 1.6 2.6 1.6 4.3s-.5 3.2-1.6 4.4c-1.1 1.2-2.4 1.8-4 1.8-1.7 0-3-.6-4.1-1.8-1.1-1.2-1.6-2.7-1.6-4.4 0-1.7.6-3.2 1.6-4.3 1.1-1.2 2.4-1.7 4.1-1.7 1.6 0 2.9.5 4 1.7zm48.8 19.9h-3.6v19.1c0 2.4.7 4.1 2.1 5.1 1.2.9 3.1 1.4 5.6 1.4h.1v-3h-.1c-1.2 0-2.1-.2-2.7-.6-.9-.6-1.4-1.7-1.4-3.3V51h4.1v-3h-4.1v-7.5zm-96.2 7c-1.4 0-2.6.3-3.7 1-1 .6-1.7 1.5-2.3 2.6-1.2-2.4-3.2-3.6-6-3.6-2.2 0-4 .9-5.2 2.6V48h-3.5v18.2h3.5l.2-10.7c0-1.5.4-2.6 1.1-3.5.7-.9 1.8-1.3 3.1-1.3s2.3.4 3.1 1.3c.8.9 1.2 2 1.2 3.5v10.6h3.4V55.5c0-1.5.4-2.6 1.2-3.5s1.8-1.3 3.2-1.3c1.3 0 2.3.4 3.1 1.3.7.9 1.1 2 1.1 3.5v10.6h3.5V55c0-2.3-.6-4.1-1.9-5.5-1.3-1.3-3-2-5.1-2zm18.9 0c-2.5 0-4.7.9-6.4 2.8-1.7 1.9-2.6 4.1-2.6 6.8s.9 5 2.7 6.8c1.8 1.8 4.1 2.8 6.8 2.8h.1v-.1c1.4 0 2.7-.3 3.9-.7 1.2-.5 2.2-1.1 3-1.9l-1.8-2.4c-1.3 1.3-3 2-5 2-1.7 0-3.1-.5-4.2-1.6-1.1-1-1.8-2.4-2-4h14.3c.1-.3.1-.7.1-1.2 0-2.5-.9-4.7-2.6-6.5-1.6-1.8-3.8-2.8-6.3-2.8zm.1 3c1.4 0 2.6.5 3.6 1.3 1 .9 1.6 2.1 1.8 3.8h-10.8c.3-1.5.9-2.7 1.8-3.7 1-.9 2.2-1.4 3.6-1.4zm22.5-2.3c-.6-.5-1.6-.8-2.8-.8-1.9 0-3.4.9-4.5 2.6v-2H205v18.2h3.5l-.1-10.5c0-1.5.3-2.7.9-3.6.6-.9 1.5-1.3 2.6-1.3.9 0 1.7.2 2.3.7h.1l1.4-3.3zm9-.7c-2.5 0-4.7.9-6.4 2.8-1.7 1.9-2.6 4.1-2.6 6.8s.9 5 2.7 6.8c1.8 1.8 4.1 2.8 6.8 2.8h.1v-.1c1.4 0 2.7-.3 3.9-.7 1.2-.5 2.2-1.1 3-1.9l-1.8-2.4c-1.3 1.3-3 2-5 2-1.7 0-3.1-.5-4.2-1.6-1.1-1-1.8-2.4-2-4h14.3c.1-.3.1-.7.1-1.2 0-2.5-.9-4.7-2.6-6.5-1.6-1.8-3.8-2.8-6.3-2.8zm.1 3c1.4 0 2.6.5 3.6 1.3 1 .9 1.6 2.1 1.8 3.8h-10.8c.3-1.5.9-2.7 1.8-3.7.9-.9 2.1-1.4 3.6-1.4zm26.1 0c-1.5-2-3.6-3.1-6.3-3.1-2.5 0-4.6.9-6.3 2.7s-2.5 4.1-2.5 6.8.9 5 2.5 6.8c1.7 1.8 3.8 2.7 6.3 2.7 2.6 0 4.7-1.1 6.3-3.2v2.7h3.5V40.5h-3.5v10zm-1.7 2c1.1 1.2 1.6 2.7 1.6 4.5 0 1.7-.6 3.3-1.6 4.5-1.1 1.2-2.4 1.8-4.2 1.8-1.7 0-3.1-.6-4.2-1.8-1.1-1.2-1.7-2.7-1.7-4.5s.6-3.3 1.7-4.5c1.1-1.2 2.5-1.8 4.2-1.8 1.8.1 3.1.7 4.2 1.8zm43.5-3c-1.3-1.4-3-2.1-5.2-2.1-2.4 0-4.2.9-5.4 2.6v-9.6h-3.5v25.7h3.5l.1-10.5c0-1.5.4-2.6 1.2-3.5.8-.9 1.8-1.3 3.2-1.3 1.4 0 2.5.4 3.3 1.3.8.9 1.2 2 1.2 3.5v10.6h3.5V55c0-2.3-.6-4.1-1.9-5.5zM259.1 48h3.5v18.2h-3.5zm0-7.5h3.4v3.4h-3.4z\"/></svg> </symbol>\\n</defs>\\n</svg>\\n<!-- Google Tag Manager (Testing) -->\\n<noscript><iframe src=\"//www.googletagmanager.com/ns.html?id=GTM-5P3SZGS\" height=\"0\" width=\"0\" style=\"display:none;visibility:hidden\"></iframe></noscript>\\n<!-- End Google Tag Manager -->\\n<header id=\"header_1-0\" class=\"comp header\" role=\"banner\" data-tracking-container=\"true\">\\n<div class=\"menu-button-container\">\\n<button class=\"menu-button\" aria-label=\"Menu\">\\n<div class=\"menu-button-inner\">\\n<svg class=\"icon icon-hamburger\">\\n<use xmlns:xlink=\"http://www.w3.org/1999/xlink\" xlink:href=\"#icon-hamburger\"></use>\\n</svg>\\n<svg class=\"icon icon-x\">\\n<use xmlns:xlink=\"http://www.w3.org/1999/xlink\" xlink:href=\"#icon-x\"></use>\\n</svg>\\n<span>Menu</span>\\n<div>\\n</button>\\n</div>\\n<a id=\"logo_1-0\" class=\"comp header-logo logo verywellmind\" rel=\"home\" href=\"https://www.verywellmind.com\">\\n<span class=\"is-vishidden\">Verywell Mind</span>\\n<svg height=\"50\" viewBox=\"0 0 980 180\">\\n<use xmlns:xlink=\"http://www.w3.org/1999/xlink\" xlink:href=\"#verywell-logo\" class=\"verywell-logo-use\" />\\n<use xmlns:xlink=\"http://www.w3.org/1999/xlink\" xlink:href=\"#verywellmind\" class=\"verywellmind-use\" />\\n</svg>\\n</a>\\n<div class=\"header-title\">9 Tips for How to Find Success in Life</div>\\n<div class=\"nav\">\\n<ul class=\"nav-list\">\\n<li class=\"nav-list-item \">\\n<span class=\"nav-title\">\\n<a\\nhref=\"https://www.verywellmind.com/mental-health-a-z-4797402\"\\nrel=\"nocaes\"\\n> Mental Health A-Z\\n</a> </span>\\n<ul class=\"nav-sub\">\\n<li >\\n<a\\nhref=\"https://www.verywellmind.com/addiction-overview-4581803\"\\nrel=\"nocaes\"\\ndata-ordinal=\"1\"\\n>Addiction</a>\\n</li>\\n<li >\\n<a\\nhref=\"https://www.verywellmind.com/adhd-overview-4581801\"\\nrel=\"nocaes\"\\ndata-ordinal=\"2\"\\n>ADHD</a>\\n</li>\\n<li >\\n<a\\nhref=\"https://www.verywellmind.com/bipolar-disorder-4157274\"\\nrel=\"nocaes\"\\ndata-ordinal=\"3\"\\n>Bipolar Disorder</a>\\n</li>\\n<li >\\n<a\\nhref=\"https://www.verywellmind.com/depression-4157261\"\\nrel=\"nocaes\"\\ndata-ordinal=\"4\"\\n>Depression</a>\\n</li>\\n<li >\\n<a\\nhref=\"https://www.verywellmind.com/race-and-identity-5073654\"\\nrel=\"nocaes\"\\ndata-ordinal=\"5\"\\n>Race and Identity</a>\\n</li>\\n<li >\\n<a\\nhref=\"https://www.verywellmind.com/ptsd-4157229\"\\nrel=\"nocaes\"\\ndata-ordinal=\"6\"\\n>PTSD</a>\\n</li>\\n<li class=\"view-all\">\\n<a\\nhref=\"https://www.verywellmind.com/mental-health-a-z-4797402\"\\nrel=\"nocaes\"\\nclass=\"text-btn\"\\n>View All\\n<svg class=\"text-btn-icon icon-circle-arrow-right\">\\n<use xmlns:xlink=\"http://www.w3.org/1999/xlink\" xlink:href=\"#icon-circle-arrow-right\"></use>\\n</svg>\\n</a> </li>\\n</ul>\\n</li>\\n<li class=\"nav-list-item active\">\\n<span class=\"nav-title\">\\n<a\\nhref=\"https://www.verywellmind.com/self-improvement-4157212\"\\nrel=\"nocaes\"\\n> Self-Improvement\\n</a> </span>\\n<ul class=\"nav-sub\">\\n<li >\\n<a\\nhref=\"https://www.verywellmind.com/stress-management-overview-4581770\"\\nrel=\"nocaes\"\\ndata-ordinal=\"1\"\\n>Stress Management</a>\\n</li>\\n<li >\\n<a\\nhref=\"https://www.verywellmind.com/happiness-4157200\"\\nrel=\"nocaes\"\\ndata-ordinal=\"2\"\\n>Happiness</a>\\n</li>\\n<li >\\n<a\\nhref=\"https://www.verywellmind.com/meditation-overview-4581783\"\\nrel=\"nocaes\"\\ndata-ordinal=\"3\"\\n>Meditation</a>\\n</li>\\n<li >\\n<a\\nhref=\"https://www.verywellmind.com/brain-health-4157195\"\\nrel=\"nocaes\"\\ndata-ordinal=\"4\"\\n>Brain Health</a>\\n</li>\\n<li >\\n<a\\nhref=\"https://www.verywellmind.com/sex-relationships-4157190\"\\nrel=\"nocaes\"\\ndata-ordinal=\"5\"\\n>Relationships</a>\\n</li>\\n<li >\\n<a\\nhref=\"https://www.verywellmind.com/best-online-therapy-4691206\"\\nrel=\"nocaes\"\\ndata-ordinal=\"6\"\\n>Online Therapy</a>\\n</li>\\n<li class=\"view-all\">\\n<a\\nhref=\"https://www.verywellmind.com/self-improvement-4157212\"\\nrel=\"nocaes\"\\nclass=\"text-btn\"\\n>View All\\n<svg class=\"text-btn-icon icon-circle-arrow-right\">\\n<use xmlns:xlink=\"http://www.w3.org/1999/xlink\" xlink:href=\"#icon-circle-arrow-right\"></use>\\n</svg>\\n</a> </li>\\n</ul>\\n</li>\\n<li class=\"nav-list-item \">\\n<span class=\"nav-title\">\\n<a\\nhref=\"https://www.verywellmind.com/psychology-4157187\"\\nrel=\"nocaes\"\\n> Psychology\\n</a> </span>\\n<ul class=\"nav-sub\">\\n<li >\\n<a\\nhref=\"https://www.verywellmind.com/theories-of-psychology-4157184\"\\nrel=\"nocaes\"\\ndata-ordinal=\"1\"\\n>Theories</a>\\n</li>\\n<li >\\n<a\\nhref=\"https://www.verywellmind.com/psychology-history-4157185\"\\nrel=\"nocaes\"\\ndata-ordinal=\"2\"\\n>History and Biographies</a>\\n</li>\\n<li >\\n<a\\nhref=\"https://www.verywellmind.com/student-resources-overview-4581768\"\\nrel=\"nocaes\"\\ndata-ordinal=\"3\"\\n>Student Resources</a>\\n</li>\\n<li >\\n<a\\nhref=\"https://www.verywellmind.com/psychotherapy-overview-4581775\"\\nrel=\"nocaes\"\\ndata-ordinal=\"4\"\\n>Therapy</a>\\n</li>\\n<li >\\n<a\\nhref=\"https://www.verywellmind.com/emotions-4157165\"\\nrel=\"nocaes\"\\ndata-ordinal=\"5\"\\n>Emotions</a>\\n</li>\\n<li >\\n<a\\nhref=\"https://www.verywellmind.com/sleep-and-dreaming-4157166\"\\nrel=\"nocaes\"\\ndata-ordinal=\"6\"\\n>Sleep and Dreaming</a>\\n</li>\\n<li class=\"view-all\">\\n<a\\nhref=\"https://www.verywellmind.com/psychology-4157187\"\\nrel=\"nocaes\"\\nclass=\"text-btn\"\\n>View All\\n<svg class=\"text-btn-icon icon-circle-arrow-right\">\\n<use xmlns:xlink=\"http://www.w3.org/1999/xlink\" xlink:href=\"#icon-circle-arrow-right\"></use>\\n</svg>\\n</a> </li>\\n</ul>\\n</li>\\n<li class=\"nav-list-item \">\\n<span class=\"nav-title\">\\n<a\\nhref=\"https://www.verywellmind.com/the-verywell-mind-podcast-5113058\"\\nrel=\"nocaes\"\\n> Podcast\\n</a> </span>\\n<ul class=\"nav-sub\">\\n<li >\\n<a\\nhref=\"https://www.verywellmind.com/self-improvement-tips-from-the-verywell-mind-podcast-6374002\"\\nrel=\"nocaes\"\\ndata-ordinal=\"1\"\\n>Self-Improvement</a>\\n</li>\\n<li >\\n<a\\nhref=\"https://www.verywellmind.com/motivation-strategies-from-the-verywell-mind-podcast-6374015\"\\nrel=\"nocaes\"\\ndata-ordinal=\"2\"\\n>Motivation</a>\\n</li>\\n<li >\\n<a\\nhref=\"https://www.verywellmind.com/mental-strength-tips-from-the-verywell-mind-podcast-6374031\"\\nrel=\"nocaes\"\\ndata-ordinal=\"3\"\\n>Mental Strength</a>\\n</li>\\n<li >\\n<a\\nhref=\"https://www.verywellmind.com/family-and-relationship-advice-from-the-verywell-mind-podcast-6374052\"\\nrel=\"nocaes\"\\ndata-ordinal=\"4\"\\n>Family & Relationships</a>\\n</li>\\n<li >\\n<a\\nhref=\"https://www.verywellmind.com/anxiety-and-depression-help-from-the-verywell-mind-podcast-6374072\"\\nrel=\"nocaes\"\\ndata-ordinal=\"5\"\\n>Anxiety & Depression</a>\\n</li>\\n<li >\\n<a\\nhref=\"https://www.verywellmind.com/addiction-coping-strategies-from-the-verywell-mind-podcast-6374076\"\\nrel=\"nocaes\"\\ndata-ordinal=\"6\"\\n>Addiction</a>\\n</li>\\n<li class=\"view-all\">\\n<a\\nhref=\"https://www.verywellmind.com/the-verywell-mind-podcast-5113058\"\\nrel=\"nocaes\"\\nclass=\"text-btn\"\\n>View All\\n<svg class=\"text-btn-icon icon-circle-arrow-right\">\\n<use xmlns:xlink=\"http://www.w3.org/1999/xlink\" xlink:href=\"#icon-circle-arrow-right\"></use>\\n</svg>\\n</a> </li>\\n</ul>\\n</li>\\n<li class=\"nav-list-item \">\\n<span class=\"nav-title\">\\n<a\\nhref=\"https://www.verywellmind.com/news-latest-research-and-trending-topics-4846421\"\\nrel=\"nocaes\"\\n> News\\n</a> </span>\\n<ul class=\"nav-sub\">\\n<li >\\n<a\\nhref=\"https://www.verywellmind.com/coronavirus-news-4845458\"\\nrel=\"nocaes\"\\ndata-ordinal=\"1\"\\n>Coronavirus</a>\\n</li>\\n<li >\\n<a\\nhref=\"https://www.verywellmind.com/mental-health-news-4844930\"\\nrel=\"nocaes\"\\ndata-ordinal=\"2\"\\n>Mental Health</a>\\n</li>\\n<li >\\n<a\\nhref=\"https://www.verywellmind.com/mental-health-data-insights-5185693\"\\nrel=\"nocaes\"\\ndata-ordinal=\"3\"\\n>Verywell Mind Insights</a>\\n</li>\\n<li >\\n<a\\nhref=\"https://www.verywellmind.com/the-work-life-issue-featuring-chrissy-metz-5222473\"\\nrel=\"nocaes\"\\ndata-ordinal=\"4\"\\n>The Work-Life Issue</a>\\n</li>\\n</ul>\\n</li>\\n<li class=\"nav-list-item\">\\n<span class=\"nav-title\"><a\\nhref=\"/about-us-5184564\"\\nrel=\"nocaes\"\\n>About Us</a></span>\\n<ul class=\"nav-sub\">\\n<li >\\n<a\\nhref=\"/our-editorial-process-4778006\"\\nrel=\"nocaes\"\\n> Editorial Process\\n</a> </li>\\n<li >\\n<a\\nhref=\"/review-board-4796494\"\\nrel=\"nocaes\"\\n> Meet Our Review Board\\n</a> </li>\\n</ul>\\n</li>\\n</ul>\\n<div class=\"loc header-secondary\">\\n<button id=\"header-search-button_1-0\" class=\"comp header-search-button search-button\">\\n<span class=\"is-vishidden\">Search</span>\\n<svg class=\"icon icon-magnifying-glass\">\\n<use xmlns:xlink=\"http://www.w3.org/1999/xlink\" xlink:href=\"#icon-magnifying-glass\"></use>\\n</svg>\\n</button>\\n</div>\\n</div>\\n<div class=\"header-nav-panel\">\\n<nav id=\"fullscreen-nav_1-0\" class=\"comp fullscreen-nav-alternate fullscreen-nav\" role=\"navigation\" data-tracking-container=\"true\">\\n<div id=\"general-search_1-0\" class=\"comp general-search\" data-tracking-container=\"true\">\\n<form class=\"general-search-form\" role=\"search\" action=\"/search\" method=\"get\" data-suggestion=\"verywell\">\\n<div class=\"input-group\">\\n<button class=\"btn btn-submit\">\\n<span class=\"is-vishidden\">Search</span>\\n<svg class=\"icon icon-magnifying-glass\">\\n<use xmlns:xlink=\"http://www.w3.org/1999/xlink\" xlink:href=\"#icon-magnifying-glass\"></use>\\n</svg>\\n</button>\\n<button class=\"btn btn-clear is-hidden\">\\n<span class=\"is-vishidden\">Clear</span>\\n<svg class=\"icon icon-x\">\\n<use xmlns:xlink=\"http://www.w3.org/1999/xlink\" xlink:href=\"#icon-x\"></use>\\n</svg>\\n</button>\\n<input type=\"text\" name=\"q\" id=\"search-input\" class=\"general-search-input\" placeholder=\"Search\" aria-label=\"Search the site\" type=\"text\" required=\"required\" value=\"\" autocomplete=\"off\">\\n<button class=\"btn btn-bright btn-go\">GO</button>\\n</div>\\n</form>\\n</div>\\n<div class=\"breadcrumbs-tags-section\">\\n<div id=\"breadcrumbs-list_1-0\" class=\"comp hide-siblings-mobile is-expandable breadcrumbs-list\" data-tracking-container=\"true\">\\n<div class=\"breadcrumbs-list-header\">\\n<span class=\"breadcrumbs-list-subtitle\">\\n<a\\nhref=\"https://www.verywellmind.com/self-improvement-4157212\"\\nrel=\"nocaes\"\\n> More in Self-Improvement\\n<svg class=\"breadcrumbs-list-icon icon-empty-caret\"><use xmlns:xlink=\"http://www.w3.org/1999/xlink\" xlink:href=\"#icon-empty-caret\"></use></svg>\\n</a> </span>\\n</div>\\n<ul class=\"breadcrumbs-list-list\">\\n<li class=\"breadcrumbs-list-item is-active is-parent\">\\n<a\\nhref=\"https://www.verywellmind.com/happiness-4157200\"\\nrel=\"nocaes\"\\ndata-ordinal=\"1\"\\nclass=\"breadcrumbs-list-link is-active\"\\n> <svg class=\"breadcrumbs-list-icon-active icon-caret-right\"><use xmlns:xlink=\"http://www.w3.org/1999/xlink\" xlink:href=\"#icon-caret-right\"></use></svg>\\nHappiness\\n<svg class=\"breadcrumbs-list-icon icon-empty-caret\"><use xmlns:xlink=\"http://www.w3.org/1999/xlink\" xlink:href=\"#icon-empty-caret\"></use></svg>\\n</a>\\n<ul class=\"breadcrumbs-list-submenu\">\\n</ul>\\n</li>\\n<li class=\"breadcrumbs-list-item\">\\n<a\\nhref=\"https://www.verywellmind.com/meditation-overview-4581783\"\\nrel=\"nocaes\"\\ndata-ordinal=\"2\"\\nclass=\"breadcrumbs-list-link\"\\n>\\nMeditation\\n<svg class=\"breadcrumbs-list-icon icon-empty-caret\"><use xmlns:xlink=\"http://www.w3.org/1999/xlink\" xlink:href=\"#icon-empty-caret\"></use></svg>\\n</a>\\n</li>\\n<li class=\"breadcrumbs-list-item\">\\n<a\\nhref=\"https://www.verywellmind.com/stress-management-overview-4581770\"\\nrel=\"nocaes\"\\ndata-ordinal=\"3\"\\nclass=\"breadcrumbs-list-link\"\\n>\\nStress Management\\n<svg class=\"breadcrumbs-list-icon icon-empty-caret\"><use xmlns:xlink=\"http://www.w3.org/1999/xlink\" xlink:href=\"#icon-empty-caret\"></use></svg>\\n</a>\\n</li>\\n<li class=\"breadcrumbs-list-item\">\\n<a\\nhref=\"https://www.verywellmind.com/spirituality-4157198\"\\nrel=\"nocaes\"\\ndata-ordinal=\"4\"\\nclass=\"breadcrumbs-list-link\"\\n>\\nSpirituality\\n<svg class=\"breadcrumbs-list-icon icon-empty-caret\"><use xmlns:xlink=\"http://www.w3.org/1999/xlink\" xlink:href=\"#icon-empty-caret\"></use></svg>\\n</a>\\n</li>\\n<li class=\"breadcrumbs-list-item is-collapsed\">\\n<a\\nhref=\"https://www.verywellmind.com/inspiration-and-creativity-4157196\"\\nrel=\"nocaes\"\\ndata-ordinal=\"5\"\\nclass=\"breadcrumbs-list-link\"\\n>\\nInspiration\\n<svg class=\"breadcrumbs-list-icon icon-empty-caret\"><use xmlns:xlink=\"http://www.w3.org/1999/xlink\" xlink:href=\"#icon-empty-caret\"></use></svg>\\n</a>\\n</li>\\n<li class=\"breadcrumbs-list-item is-collapsed\">\\n<a\\nhref=\"https://www.verywellmind.com/brain-health-4157195\"\\nrel=\"nocaes\"\\ndata-ordinal=\"6\"\\nclass=\"breadcrumbs-list-link\"\\n>\\nBrain Health\\n<svg class=\"breadcrumbs-list-icon icon-empty-caret\"><use xmlns:xlink=\"http://www.w3.org/1999/xlink\" xlink:href=\"#icon-empty-caret\"></use></svg>\\n</a>\\n</li>\\n<li class=\"breadcrumbs-list-item is-collapsed\">\\n<a\\nhref=\"https://www.verywellmind.com/self-improvement-technology-4157191\"\\nrel=\"nocaes\"\\ndata-ordinal=\"7\"\\nclass=\"breadcrumbs-list-link\"\\n>\\nTechnology\\n<svg class=\"breadcrumbs-list-icon icon-empty-caret\"><use xmlns:xlink=\"http://www.w3.org/1999/xlink\" xlink:href=\"#icon-empty-caret\"></use></svg>\\n</a>\\n</li>\\n<li class=\"breadcrumbs-list-item is-collapsed\">\\n<a\\nhref=\"https://www.verywellmind.com/sex-relationships-4157190\"\\nrel=\"nocaes\"\\ndata-ordinal=\"8\"\\nclass=\"breadcrumbs-list-link\"\\n>\\nRelationships\\n<svg class=\"breadcrumbs-list-icon icon-empty-caret\"><use xmlns:xlink=\"http://www.w3.org/1999/xlink\" xlink:href=\"#icon-empty-caret\"></use></svg>\\n</a>\\n</li>\\n</ul>\\n<a\\nhref=\"https://www.verywellmind.com/self-improvement-4157212\"\\nrel=\"nocaes\"\\nclass=\"text-btn\"\\n> View More\\n<svg class=\"text-btn-icon icon-circle-arrow-down\">\\n<use xmlns:xlink=\"http://www.w3.org/1999/xlink\" xlink:href=\"#icon-circle-arrow-down\"></use>\\n</svg>\\n</a></div>\\n<section id=\"tags-section_1-0\" class=\"comp tags-section\">\\n<ul id=\"tags-nav_1-0\" class=\"comp tags-nav link-list__deprecated mntl-block\"></ul>\\n</section>\\n</div>\\n<ul class=\"fullscreen-nav-list\">\\n<li class=\"fullscreen-nav-list-item\">\\n<span class=\"fullscreen-nav-title\">\\n<a\\nhref=\"https://www.verywellmind.com/mental-health-a-z-4797402\"\\nrel=\"nocaes\"\\n> Mental Health A-Z\\n<svg class=\"fullscreen-nav-list-icon icon-circle-arrow-right\">\\n<use xmlns:xlink=\"http://www.w3.org/1999/xlink\" xlink:href=\"#icon-circle-arrow-right\"></use>\\n</svg></a>\\n</span>\\n<ul class=\"fullscreen-nav-sub\">\\n<li><a\\nhref=\"https://www.verywellmind.com/addiction-overview-4581803\"\\nrel=\"nocaes\"\\ndata-ordinal=\"1\"\\n>Addiction</a></li>\\n<li><a\\nhref=\"https://www.verywellmind.com/adhd-overview-4581801\"\\nrel=\"nocaes\"\\ndata-ordinal=\"2\"\\n>ADHD</a></li>\\n<li><a\\nhref=\"https://www.verywellmind.com/bipolar-disorder-4157274\"\\nrel=\"nocaes\"\\ndata-ordinal=\"3\"\\n>Bipolar Disorder</a></li>\\n<li><a\\nhref=\"https://www.verywellmind.com/depression-4157261\"\\nrel=\"nocaes\"\\ndata-ordinal=\"4\"\\n>Depression</a></li>\\n<li><a\\nhref=\"https://www.verywellmind.com/race-and-identity-5073654\"\\nrel=\"nocaes\"\\ndata-ordinal=\"5\"\\n>Race and Identity</a></li>\\n<li><a\\nhref=\"https://www.verywellmind.com/ptsd-4157229\"\\nrel=\"nocaes\"\\ndata-ordinal=\"6\"\\n>PTSD</a></li>\\n<li>\\n<a\\nhref=\"https://www.verywellmind.com/mental-health-a-z-4797402\"\\nrel=\"nocaes\"\\nclass=\"text-btn\"\\n>View All\\n<svg class=\"text-btn-icon icon-circle-arrow-right\">\\n<use xmlns:xlink=\"http://www.w3.org/1999/xlink\" xlink:href=\"#icon-circle-arrow-right\"></use>\\n</svg>\\n</a> </li>\\n</uL>\\n</li>\\n<li class=\"fullscreen-nav-list-item\">\\n<span class=\"fullscreen-nav-title\">\\n<a\\nhref=\"https://www.verywellmind.com/self-improvement-4157212\"\\nrel=\"nocaes\"\\n> Self-Improvement\\n<svg class=\"fullscreen-nav-list-icon icon-circle-arrow-right\">\\n<use xmlns:xlink=\"http://www.w3.org/1999/xlink\" xlink:href=\"#icon-circle-arrow-right\"></use>\\n</svg></a>\\n</span>\\n<ul class=\"fullscreen-nav-sub\">\\n<li><a\\nhref=\"https://www.verywellmind.com/stress-management-overview-4581770\"\\nrel=\"nocaes\"\\ndata-ordinal=\"1\"\\n>Stress Management</a></li>\\n<li><a\\nhref=\"https://www.verywellmind.com/happiness-4157200\"\\nrel=\"nocaes\"\\ndata-ordinal=\"2\"\\n>Happiness</a></li>\\n<li><a\\nhref=\"https://www.verywellmind.com/meditation-overview-4581783\"\\nrel=\"nocaes\"\\ndata-ordinal=\"3\"\\n>Meditation</a></li>\\n<li><a\\nhref=\"https://www.verywellmind.com/brain-health-4157195\"\\nrel=\"nocaes\"\\ndata-ordinal=\"4\"\\n>Brain Health</a></li>\\n<li><a\\nhref=\"https://www.verywellmind.com/sex-relationships-4157190\"\\nrel=\"nocaes\"\\ndata-ordinal=\"5\"\\n>Relationships</a></li>\\n<li><a\\nhref=\"https://www.verywellmind.com/best-online-therapy-4691206\"\\nrel=\"nocaes\"\\ndata-ordinal=\"6\"\\n>Online Therapy</a></li>\\n<li>\\n<a\\nhref=\"https://www.verywellmind.com/self-improvement-4157212\"\\nrel=\"nocaes\"\\nclass=\"text-btn\"\\n>View All\\n<svg class=\"text-btn-icon icon-circle-arrow-right\">\\n<use xmlns:xlink=\"http://www.w3.org/1999/xlink\" xlink:href=\"#icon-circle-arrow-right\"></use>\\n</svg>\\n</a> </li>\\n</uL>\\n</li>\\n<li class=\"fullscreen-nav-list-item\">\\n<span class=\"fullscreen-nav-title\">\\n<a\\nhref=\"https://www.verywellmind.com/psychology-4157187\"\\nrel=\"nocaes\"\\n> Psychology\\n<svg class=\"fullscreen-nav-list-icon icon-circle-arrow-right\">\\n<use xmlns:xlink=\"http://www.w3.org/1999/xlink\" xlink:href=\"#icon-circle-arrow-right\"></use>\\n</svg></a>\\n</span>\\n<ul class=\"fullscreen-nav-sub\">\\n<li><a\\nhref=\"https://www.verywellmind.com/theories-of-psychology-4157184\"\\nrel=\"nocaes\"\\ndata-ordinal=\"1\"\\n>Theories</a></li>\\n<li><a\\nhref=\"https://www.verywellmind.com/psychology-history-4157185\"\\nrel=\"nocaes\"\\ndata-ordinal=\"2\"\\n>History and Biographies</a></li>\\n<li><a\\nhref=\"https://www.verywellmind.com/student-resources-overview-4581768\"\\nrel=\"nocaes\"\\ndata-ordinal=\"3\"\\n>Student Resources</a></li>\\n<li><a\\nhref=\"https://www.verywellmind.com/psychotherapy-overview-4581775\"\\nrel=\"nocaes\"\\ndata-ordinal=\"4\"\\n>Therapy</a></li>\\n<li><a\\nhref=\"https://www.verywellmind.com/emotions-4157165\"\\nrel=\"nocaes\"\\ndata-ordinal=\"5\"\\n>Emotions</a></li>\\n<li><a\\nhref=\"https://www.verywellmind.com/sleep-and-dreaming-4157166\"\\nrel=\"nocaes\"\\ndata-ordinal=\"6\"\\n>Sleep and Dreaming</a></li>\\n<li>\\n<a\\nhref=\"https://www.verywellmind.com/psychology-4157187\"\\nrel=\"nocaes\"\\nclass=\"text-btn\"\\n>View All\\n<svg class=\"text-btn-icon icon-circle-arrow-right\">\\n<use xmlns:xlink=\"http://www.w3.org/1999/xlink\" xlink:href=\"#icon-circle-arrow-right\"></use>\\n</svg>\\n</a> </li>\\n</uL>\\n</li>\\n<li class=\"fullscreen-nav-list-item\">\\n<span class=\"fullscreen-nav-title\">\\n<a\\nhref=\"https://www.verywellmind.com/the-verywell-mind-podcast-5113058\"\\nrel=\"nocaes\"\\n> Podcast\\n<svg class=\"fullscreen-nav-list-icon icon-circle-arrow-right\">\\n<use xmlns:xlink=\"http://www.w3.org/1999/xlink\" xlink:href=\"#icon-circle-arrow-right\"></use>\\n</svg></a>\\n</span>\\n<ul class=\"fullscreen-nav-sub\">\\n<li><a\\nhref=\"https://www.verywellmind.com/self-improvement-tips-from-the-verywell-mind-podcast-6374002\"\\nrel=\"nocaes\"\\ndata-ordinal=\"1\"\\n>Self-Improvement</a></li>\\n<li><a\\nhref=\"https://www.verywellmind.com/motivation-strategies-from-the-verywell-mind-podcast-6374015\"\\nrel=\"nocaes\"\\ndata-ordinal=\"2\"\\n>Motivation</a></li>\\n<li><a\\nhref=\"https://www.verywellmind.com/mental-strength-tips-from-the-verywell-mind-podcast-6374031\"\\nrel=\"nocaes\"\\ndata-ordinal=\"3\"\\n>Mental Strength</a></li>\\n<li><a\\nhref=\"https://www.verywellmind.com/family-and-relationship-advice-from-the-verywell-mind-podcast-6374052\"\\nrel=\"nocaes\"\\ndata-ordinal=\"4\"\\n>Family & Relationships</a></li>\\n<li><a\\nhref=\"https://www.verywellmind.com/anxiety-and-depression-help-from-the-verywell-mind-podcast-6374072\"\\nrel=\"nocaes\"\\ndata-ordinal=\"5\"\\n>Anxiety & Depression</a></li>\\n<li><a\\nhref=\"https://www.verywellmind.com/addiction-coping-strategies-from-the-verywell-mind-podcast-6374076\"\\nrel=\"nocaes\"\\ndata-ordinal=\"6\"\\n>Addiction</a></li>\\n<li>\\n<a\\nhref=\"https://www.verywellmind.com/the-verywell-mind-podcast-5113058\"\\nrel=\"nocaes\"\\nclass=\"text-btn\"\\n>View All\\n<svg class=\"text-btn-icon icon-circle-arrow-right\">\\n<use xmlns:xlink=\"http://www.w3.org/1999/xlink\" xlink:href=\"#icon-circle-arrow-right\"></use>\\n</svg>\\n</a> </li>\\n</uL>\\n</li>\\n<li class=\"fullscreen-nav-list-item\">\\n<span class=\"fullscreen-nav-title\">\\n<a\\nhref=\"https://www.verywellmind.com/news-latest-research-and-trending-topics-4846421\"\\nrel=\"nocaes\"\\n> News\\n<svg class=\"fullscreen-nav-list-icon icon-circle-arrow-right\">\\n<use xmlns:xlink=\"http://www.w3.org/1999/xlink\" xlink:href=\"#icon-circle-arrow-right\"></use>\\n</svg></a>\\n</span>\\n<ul class=\"fullscreen-nav-sub\">\\n<li><a\\nhref=\"https://www.verywellmind.com/coronavirus-news-4845458\"\\nrel=\"nocaes\"\\ndata-ordinal=\"1\"\\n>Coronavirus</a></li>\\n<li><a\\nhref=\"https://www.verywellmind.com/mental-health-news-4844930\"\\nrel=\"nocaes\"\\ndata-ordinal=\"2\"\\n>Mental Health</a></li>\\n<li><a\\nhref=\"https://www.verywellmind.com/mental-health-data-insights-5185693\"\\nrel=\"nocaes\"\\ndata-ordinal=\"3\"\\n>Verywell Mind Insights</a></li>\\n<li><a\\nhref=\"https://www.verywellmind.com/the-work-life-issue-featuring-chrissy-metz-5222473\"\\nrel=\"nocaes\"\\ndata-ordinal=\"4\"\\n>The Work-Life Issue</a></li>\\n<li>\\n<a\\nhref=\"https://www.verywellmind.com/news-latest-research-and-trending-topics-4846421\"\\nrel=\"nocaes\"\\nclass=\"text-btn\"\\n>View All\\n<svg class=\"text-btn-icon icon-circle-arrow-right\">\\n<use xmlns:xlink=\"http://www.w3.org/1999/xlink\" xlink:href=\"#icon-circle-arrow-right\"></use>\\n</svg>\\n</a> </li>\\n</uL>\\n</li>\\n</ul>\\n<div class=\"loc bottom fullscreen-nav-bottom\">\\n<div id=\"fullscreen-nav-bottom-left_1-0\" class=\"comp fullscreen-nav-bottom-left mntl-block\">\\n<ul id=\"trusted-links_1-0\" class=\"comp trusted-links link-list__deprecated mntl-block\" data-tracking-container=\"true\">\\n<li id=\"link-list-items__deprecated_2-0\" class=\"comp trusted-links-link link-list-items__deprecated link-list-item__deprecated\">\\n<a\\nhref=\"/about-us-5184564\"\\nrel=\"nocaes\"\\nclass=\"link-list-link__deprecated \"\\n> About Us\\n</a></li>\\n<li id=\"link-list-items__deprecated_2-0-1\" class=\"comp trusted-links-link link-list-items__deprecated link-list-item__deprecated\">\\n<a\\nhref=\"/our-editorial-process-4778006\"\\nrel=\"nocaes\"\\nclass=\"link-list-link__deprecated \"\\n> Editorial Process\\n</a></li>\\n<li id=\"link-list-items__deprecated_2-0-2\" class=\"comp trusted-links-link link-list-items__deprecated link-list-item__deprecated\">\\n<a\\nhref=\"/legal-4773968#toc-privacy-policy\"\\nrel=\"nocaes\"\\nclass=\"link-list-link__deprecated \"\\n> Privacy Policy\\n</a></li>\\n<li id=\"link-list-items__deprecated_2-0-3\" class=\"comp trusted-links-link link-list-items__deprecated link-list-item__deprecated\">\\n<a\\nhref=\"/about-us-5184564#toc-contact-us\"\\nrel=\"nocaes\"\\nclass=\"link-list-link__deprecated \"\\n> Contact Us\\n</a></li>\\n</ul>\\n<div id=\"global-nav_1-0\" class=\"comp global-nav\">\\n<div class=\"loc content\">\\n<div id=\"logo_2-0\" class=\"comp small logo verywellhealth\">\\n<span class=\"is-vishidden\">Verywell Health</span>\\n<svg height=\"50\" viewBox=\"0 0 1042 180\">\\n<use xmlns:xlink=\"http://www.w3.org/1999/xlink\" xlink:href=\"#verywell-logo\" class=\"verywell-logo-use\" />\\n<use xmlns:xlink=\"http://www.w3.org/1999/xlink\" xlink:href=\"#verywellhealth\" class=\"verywellhealth-use\" />\\n</svg>\\n</div>\\n<div id=\"logo_3-0\" class=\"comp small logo verywellfit\">\\n<span class=\"is-vishidden\">Verywell Fit</span>\\n<svg height=\"50\" viewBox=\"0 0 895 180\">\\n<use xmlns:xlink=\"http://www.w3.org/1999/xlink\" xlink:href=\"#verywell-logo\" class=\"verywell-logo-use\" />\\n<use xmlns:xlink=\"http://www.w3.org/1999/xlink\" xlink:href=\"#verywellfit\" class=\"verywellfit-use\" />\\n<use xmlns:xlink=\"http://www.w3.org/1999/xlink\" xlink:href=\"#verywellfit-footer\" class=\"verywellfit-use-footer\" />\\n</svg>\\n</div>\\n<div id=\"logo_5-0\" class=\"comp small logo verywellfamily\">\\n<span class=\"is-vishidden\">Verywell Family</span>\\n<svg height=\"50\" viewBox=\"0 0 1045 180\">\\n<use xmlns:xlink=\"http://www.w3.org/1999/xlink\" xlink:href=\"#verywell-logo\" class=\"verywell-logo-use\" />\\n<use xmlns:xlink=\"http://www.w3.org/1999/xlink\" xlink:href=\"#verywellfamily\" class=\"verywellfamily-use\" />\\n</svg>\\n</div>\\n</div>\\n</div>\\n</div>\\n<div id=\"fullscreen-nav-bottom-right_1-0\" class=\"comp fullscreen-nav-bottom-right mntl-block\">\\n<div id=\"disclaimer_1-0\" class=\"comp disclaimer mntl-text-block\">\\nVerywell Mind\\'s content is for informational and educational purposes only. Our website is not intended to be a substitute for professional medical advice, diagnosis, or treatment.</div>\\n<div id=\"certified-badges_1-0\" class=\"comp certified-badges mntl-block\">\\n<a id=\"truste-badge_1-0\" class=\"comp truste-badge mntl-truste-badge mntl-block\" href=\"//privacy.truste.com/privacy-seal/validation?rid=8f15e7a5-6c05-47d8-bf12-8822d4d7cddd\" aria-label=\"Access TRUSTe&#39;s Enterprise Privacy Certification program\" target=\"_blank\" data-tracking-container=\"true\">\\n<img id=\"badge-image_1-0\" class=\"comp lazyload badge-image mntl-block\" data-src=\"//privacy-policy.truste.com/privacy-seal/seal?rid=33c36249-6102-4b62-8673-787e6e3429a0\" alt=\"TRUSTe\"></img>\\n</a>\\n<a id=\"hon-notification_1-0\" class=\"comp hon-notification mntl-block\" href=\"https://www.hon.ch/HONcode/Conduct.html?HONConduct645513\" aria-label=\"Access HonCode&#39;s Certificate of Compliance\" target=\"_blank\" data-tracking-container=\"true\">\\n<img id=\"honNotificationImage_1-0\" class=\"comp lazyload honNotificationImage mntl-block\" data-src=\"/static/4.318.0/images/hon_certificate.gif\" alt=\"This website is certified by Health On the Net Foundation. Click to verify.\" title=\"This website is certified by Health On the Net Foundation. Click to verify.\"></img>\\n</a>\\n</div>\\n<div id=\"copyright_1-0\" class=\"comp copyright mntl-text-block\">\\nⒸ 2022 Dotdash Media, Inc. — All rights reserved</div>\\n</div>\\n</div>\\n</nav>\\n</div>\\n</header>\\n<div id=\"mntl-leaderboard-header_1-0\" class=\"comp has-left-label has-right-label leaderboard--full-bleed leaderboard--header mntl-leaderboard-header mntl-flexible-leaderboard mntl-flexible-ad mntl-gpt-adunit gpt leaderboard \">\\n<div id=\"leaderboard-flex-1\" class=\"wrapper\"></div>\\n</div>\\n<div id=\"mntl-leaderboard-spacer_1-0\" class=\"comp js-rollaway-spacer mntl-leaderboard-spacer mntl-block\"></div>\\n<main id=\"main\" class=\"loc main\" role=\"main\">\\n<iframe id=\"height-change-listener\" role=\"none\" tabindex=\"-1\" src=\"about:blank\" aria-hidden=\"true\"></iframe>\\n<article id=\"health-article_1-0\" class=\"comp mntl-article--two-column-right-rail sc-ad-container right-rail health-article mntl-article\" data-tracking-container=\"true\">\\n<div class=\"loc article-header\">\\n<div id=\"article-preheading_1-0\" class=\"comp article-preheading mntl-block\">\\n<span id=\"news-badge-wrapper_1-0\" class=\"comp news-badge-wrapper mntl-block\"></span>\\n<!-- if document is a tax 1 (ancestors.size will be 2) use the tax 1 shortHeading for breadcrumb -->\\n<!-- else start breadcrumbs at tax 2 -->\\n<div id=\"breadcrumbs_1-0\" class=\"comp taxlevel-2 breadcrumbs\" data-tracking-container=\"true\">\\n<div class=\"breadcrumb-container\">\\n<a\\nhref=\"https://www.verywellmind.com/happiness-4157200\"\\nrel=\"nocaes\"\\nclass=\"breadcrumb-2 breadcrumbs-link\"\\n>Happiness</a>\\n</div>\\n</div>\\n</div>\\n<h1 id=\"article-heading_1-0\" class=\"comp article-heading\">\\n9 Tips for How to Find Success in Life\\n</h1>\\n<h2 id=\"article-subheading_1-0\" class=\"comp article-subheading\">\\nHow Success Is Defined and How You Can Achieve It</h2>\\n<div id=\"article-meta_1-0\" class=\"comp not-news article-meta mntl-block\" data-tracking-container=\"true\">\\n<div id=\"article-meta__wrapper_1-0\" class=\"comp article-meta__wrapper mntl-block\">\\n<div id=\"health-bylines_1-0\" class=\"comp health-bylines mntl-bylines\">\\n<div id=\"mntl-bylines__group_1-0\" class=\"comp mntl-bylines__group--author mntl-bylines__group mntl-block\">\\n<div id=\"mntl-bylines__item_1-0\" class=\"comp mntl-bylines__item mntl-attribution__item mntl-attribution__item--has-date\">\\n<span class=\"mntl-attribution__item-descriptor\">By</span>\\n<div data-tooltip=\"&lt;p&gt;Kendra Cherry, MS, is an author and educational consultant focused on helping students learn about psychology.&lt;/p&gt;\" data-inline-tooltip=\"true\">\\n<a\\nhref=\"https://www.verywellmind.com/kendra-cherry-2794702\"\\nrel=\"nocaes\"\\ndata-trigger-link=\"true\"\\nclass=\"mntl-attribution__item-name\"\\n>Kendra Cherry</a>\\n<div id=\"mntl-author-tooltip_1-0\" class=\"comp mntl-author-tooltip mntl-tooltip mntl-group\">\\n<div class=\"mntl-author-tooltip__top \">\\n<div class=\"mntl-author-tooltip__image-wrapper\">\\n<div class=\"img-placeholder\" style=\"padding-bottom:134.8%;\">\\n<img\\ndata-srcset=\"https://www.verywellmind.com/thmb/YbX20Ebku-_zX0u0r9dqEY-bX04=/80x0/filters:no_upscale():max_bytes(150000):strip_icc()/IMG_9791-89504ab694d54b66bbd72cb84ffb860e.jpg 80w, https://www.verywellmind.com/thmb/jadb20loBI1t9aTkGkMMINwiHS0=/85x0/filters:no_upscale():max_bytes(150000):strip_icc()/IMG_9791-89504ab694d54b66bbd72cb84ffb860e.jpg 85w, https://www.verywellmind.com/thmb/olR5_FQAadMDQbdcWYAqz--DdQk=/90x0/filters:no_upscale():max_bytes(150000):strip_icc()/IMG_9791-89504ab694d54b66bbd72cb84ffb860e.jpg 90w, https://www.verywellmind.com/thmb/2fHV-EArJzkaJVF0vmnm5J1tHZg=/95x0/filters:no_upscale():max_bytes(150000):strip_icc()/IMG_9791-89504ab694d54b66bbd72cb84ffb860e.jpg 95w, https://www.verywellmind.com/thmb/_JOooBL3aBdfvVgl83wtq_retu4=/100x0/filters:no_upscale():max_bytes(150000):strip_icc()/IMG_9791-89504ab694d54b66bbd72cb84ffb860e.jpg 100w\"\\ndata-sizes=\"80px\"\\ndata-src=\"https://www.verywellmind.com/thmb/TggCxcb-Zc3s1p7c27RFnW7wJ1g=/80x80/filters:no_upscale():max_bytes(150000):strip_icc()/IMG_9791-89504ab694d54b66bbd72cb84ffb860e.jpg\"\\nalt=\"Kendra Cherry\"\\nclass=\"lazyload mntl-author-tooltip__image\"\\nwidth=\"80\"\\nheight=\"80\"\\n/>\\n<noscript>\\n<img src=\"https://www.verywellmind.com/thmb/TggCxcb-Zc3s1p7c27RFnW7wJ1g=/80x80/filters:no_upscale():max_bytes(150000):strip_icc()/IMG_9791-89504ab694d54b66bbd72cb84ffb860e.jpg\"\\nsrcset=\"https://www.verywellmind.com/thmb/YbX20Ebku-_zX0u0r9dqEY-bX04=/80x0/filters:no_upscale():max_bytes(150000):strip_icc()/IMG_9791-89504ab694d54b66bbd72cb84ffb860e.jpg 80w, https://www.verywellmind.com/thmb/jadb20loBI1t9aTkGkMMINwiHS0=/85x0/filters:no_upscale():max_bytes(150000):strip_icc()/IMG_9791-89504ab694d54b66bbd72cb84ffb860e.jpg 85w, https://www.verywellmind.com/thmb/olR5_FQAadMDQbdcWYAqz--DdQk=/90x0/filters:no_upscale():max_bytes(150000):strip_icc()/IMG_9791-89504ab694d54b66bbd72cb84ffb860e.jpg 90w, https://www.verywellmind.com/thmb/2fHV-EArJzkaJVF0vmnm5J1tHZg=/95x0/filters:no_upscale():max_bytes(150000):strip_icc()/IMG_9791-89504ab694d54b66bbd72cb84ffb860e.jpg 95w, https://www.verywellmind.com/thmb/_JOooBL3aBdfvVgl83wtq_retu4=/100x0/filters:no_upscale():max_bytes(150000):strip_icc()/IMG_9791-89504ab694d54b66bbd72cb84ffb860e.jpg 100w\"\\nalt=\"Kendra Cherry\"\\nwidth=\"80\"\\nheight=\"80\"\\nclass=\"img--noscript mntl-author-tooltip__image\" />\\n</noscript>\\n</div> </div>\\n<div id=\"mntl-author-tooltip__name_1-0\" class=\"comp mntl-author-tooltip__name mntl-attribution__item\">\\n<a\\nhref=\"https://www.verywellmind.com/kendra-cherry-2794702\"\\nrel=\"nocaes\"\\nclass=\"mntl-attribution__item-name\"\\n>Kendra Cherry</a>\\n</div>\\n<nav id=\"mntl-author-tooltip__social-nav_1-0\" class=\"comp mntl-author-tooltip__social-nav health-social-nav mntl-social-nav\" role=\"navigation\" data-tracking-container=\"true\">\\n<ul class=\"social-nav__list\">\\n<li class=\"social-nav__item social-nav__item--facebook\">\\n<a\\nhref=\"http://www.facebook.com/AboutPsychology\"\\ntarget=\"_blank\"\\nrel=\"noopener nocaes\"\\nclass=\"social-nav__link social-nav__link--facebook\"\\n> <svg class=\"icon icon-facebook social-nav__icon\">\\n<use xmlns:xlink=\"http://www.w3.org/1999/xlink\" xlink:href=\"#icon-facebook\"></use>\\n</svg>\\n<span class=\"social-nav__accessible-label\">Facebook</span>\\n</a> </li>\\n<li class=\"social-nav__item social-nav__item--twitter\">\\n<a\\nhref=\"https://twitter.com/AboutPsychology\"\\ntarget=\"_blank\"\\nrel=\"noopener nocaes\"\\nclass=\"social-nav__link social-nav__link--twitter\"\\n> <svg class=\"icon icon-twitter social-nav__icon\">\\n<use xmlns:xlink=\"http://www.w3.org/1999/xlink\" xlink:href=\"#icon-twitter\"></use>\\n</svg>\\n<span class=\"social-nav__accessible-label\">Twitter</span>\\n</a> </li>\\n</ul>\\n</nav>\\n<div class=\"mntl-author-tooltip__bio\">\\n<p>Kendra Cherry, MS, is an author and educational consultant focused on helping students learn about psychology.</p>\\n</div>\\n</div>\\n<div class=\"mntl-author-tooltip__bottom\">\\n<span class=\"mntl-author-tooltip__learn-more-text\">Learn about our </span>\\n<a\\nhref=\"/our-editorial-process-4778006\"\\nrel=\"nocaes\"\\nclass=\"mntl-author-tooltip__learn-more-link\"\\n>editorial process</a>\\n</div>\\n</div>\\n</div>\\n</div>\\n<div class=\"mntl-attribution__item-date\">Updated on July 20, 2022</div>\\n</div>\\n<div id=\"mntl-bylines__group_1-0-1\" class=\"comp mntl-bylines__group--medical_reviewer mntl-bylines__group mntl-block\">\\n<div id=\"mntl-bylines__item_1-0-1\" class=\"comp mntl-bylines__item mntl-attribution__item\">\\n<svg class=\"icon reviewer-icon mntl-attribution__item-icon\">\\n<use xmlns:xlink=\"http://www.w3.org/1999/xlink\" xlink:href=\"#reviewer-icon\"></use>\\n</svg>\\n<span id=\"review-descriptor-override_1-0-1\" class=\"comp review-descriptor-override\">\\n<span data-tooltip=\"Verywell Mind articles are reviewed by board-certified physicians and mental healthcare professionals. Medical Reviewers confirm the content is thorough and accurate, reflecting the latest evidence-based research. Content is reviewed before publication and upon substantial updates. &lt;a class=&quot;review-descriptor-tooltip__learn-more&quot; href=&quot;/review-board-4796494&quot;&gt;Learn more&lt;/a&gt;.\" data-inline-tooltip=\"true\">\\n<span class=\"review-descriptor-override__descriptor mntl-attribution__item-name\">Medically reviewed</span>\\n<div id=\"review-type-tooltip_1-0-1\" class=\"comp review-type-tooltip review-descriptor-tooltip mntl-tooltip mntl-group\">\\n<div id=\"tooltip_1-0\" class=\"comp tooltip mntl-text-block\">\\nVerywell Mind articles are reviewed by board-certified physicians and mental healthcare professionals. Medical Reviewers confirm the content is thorough and accurate, reflecting the latest evidence-based research. Content is reviewed before publication and upon substantial updates. <a class=\"review-descriptor-tooltip__learn-more\" href=\"/review-board-4796494\">Learn more</a>.</div>\\n</div>\\n</span>\\nby\\n</span>\\n<div data-tooltip=\"&lt;p&gt;Rachel Goldman, PhD FTOS, is a licensed psychologist, clinical assistant professor, speaker, wellness expert specializing in\\xa0eating behaviors, stress management, and health behavior change.&lt;/p&gt;\" data-inline-tooltip=\"true\">\\n<a\\nhref=\"https://www.verywellmind.com/rachel-goldman-phd-ftos-4779228\"\\nrel=\"nocaes\"\\ndata-trigger-link=\"true\"\\nclass=\"mntl-attribution__item-name\"\\n>Rachel Goldman, PhD, FTOS</a>\\n<div id=\"mntl-author-tooltip_1-0-1\" class=\"comp mntl-author-tooltip mntl-tooltip mntl-group\">\\n<div class=\"mntl-author-tooltip__top \">\\n<div class=\"mntl-author-tooltip__image-wrapper\">\\n<div class=\"img-placeholder\" style=\"padding-bottom:100.0%;\">\\n<img\\ndata-srcset=\"https://www.verywellmind.com/thmb/u9X2FQTU3E1oXhI3aN_ChyJonOQ=/80x0/filters:no_upscale():max_bytes(150000):strip_icc()/Rachel-Goldman-1000-a42451caacb6423abecbe6b74e628042.jpg 80w, https://www.verywellmind.com/thmb/1OqZ0Ysjk0LjI7mZHZHDUsBR3DI=/85x0/filters:no_upscale():max_bytes(150000):strip_icc()/Rachel-Goldman-1000-a42451caacb6423abecbe6b74e628042.jpg 85w, https://www.verywellmind.com/thmb/eBA84SrTiHUKr2Bfo2xJGjrdf0k=/90x0/filters:no_upscale():max_bytes(150000):strip_icc()/Rachel-Goldman-1000-a42451caacb6423abecbe6b74e628042.jpg 90w, https://www.verywellmind.com/thmb/awzpmHdpq1z7SkGL2cCNyA_IrWs=/95x0/filters:no_upscale():max_bytes(150000):strip_icc()/Rachel-Goldman-1000-a42451caacb6423abecbe6b74e628042.jpg 95w, https://www.verywellmind.com/thmb/5yVnUIfPWpXVXw9NKx3sOz5Hvcc=/100x0/filters:no_upscale():max_bytes(150000):strip_icc()/Rachel-Goldman-1000-a42451caacb6423abecbe6b74e628042.jpg 100w\"\\ndata-sizes=\"80px\"\\ndata-src=\"https://www.verywellmind.com/thmb/6zDJN_297bQRDEFSpS51i2vIxFI=/80x80/filters:no_upscale():max_bytes(150000):strip_icc()/Rachel-Goldman-1000-a42451caacb6423abecbe6b74e628042.jpg\"\\nalt=\"Rachel Goldman\"\\nclass=\"lazyload mntl-author-tooltip__image\"\\nwidth=\"80\"\\nheight=\"80\"\\n/>\\n<noscript>\\n<img src=\"https://www.verywellmind.com/thmb/6zDJN_297bQRDEFSpS51i2vIxFI=/80x80/filters:no_upscale():max_bytes(150000):strip_icc()/Rachel-Goldman-1000-a42451caacb6423abecbe6b74e628042.jpg\"\\nsrcset=\"https://www.verywellmind.com/thmb/u9X2FQTU3E1oXhI3aN_ChyJonOQ=/80x0/filters:no_upscale():max_bytes(150000):strip_icc()/Rachel-Goldman-1000-a42451caacb6423abecbe6b74e628042.jpg 80w, https://www.verywellmind.com/thmb/1OqZ0Ysjk0LjI7mZHZHDUsBR3DI=/85x0/filters:no_upscale():max_bytes(150000):strip_icc()/Rachel-Goldman-1000-a42451caacb6423abecbe6b74e628042.jpg 85w, https://www.verywellmind.com/thmb/eBA84SrTiHUKr2Bfo2xJGjrdf0k=/90x0/filters:no_upscale():max_bytes(150000):strip_icc()/Rachel-Goldman-1000-a42451caacb6423abecbe6b74e628042.jpg 90w, https://www.verywellmind.com/thmb/awzpmHdpq1z7SkGL2cCNyA_IrWs=/95x0/filters:no_upscale():max_bytes(150000):strip_icc()/Rachel-Goldman-1000-a42451caacb6423abecbe6b74e628042.jpg 95w, https://www.verywellmind.com/thmb/5yVnUIfPWpXVXw9NKx3sOz5Hvcc=/100x0/filters:no_upscale():max_bytes(150000):strip_icc()/Rachel-Goldman-1000-a42451caacb6423abecbe6b74e628042.jpg 100w\"\\nalt=\"Rachel Goldman\"\\nwidth=\"80\"\\nheight=\"80\"\\nclass=\"img--noscript mntl-author-tooltip__image\" />\\n</noscript>\\n</div> </div>\\n<div id=\"mntl-author-tooltip__name_1-0-1\" class=\"comp mntl-author-tooltip__name mntl-attribution__item\">\\n<svg class=\"icon reviewer-icon mntl-attribution__item-icon\">\\n<use xmlns:xlink=\"http://www.w3.org/1999/xlink\" xlink:href=\"#reviewer-icon\"></use>\\n</svg>\\n<span class=\"mntl-attribution__item-descriptor\">Medically reviewed by</span>\\n<a\\nhref=\"https://www.verywellmind.com/rachel-goldman-phd-ftos-4779228\"\\nrel=\"nocaes\"\\nclass=\"mntl-attribution__item-name\"\\n>Rachel Goldman, PhD, FTOS</a>\\n</div>\\n<nav id=\"mntl-author-tooltip__social-nav_1-0-1\" class=\"comp mntl-author-tooltip__social-nav health-social-nav mntl-social-nav\" role=\"navigation\" data-tracking-container=\"true\">\\n<ul class=\"social-nav__list\">\\n<li class=\"social-nav__item social-nav__item--facebook\">\\n<a\\nhref=\"https://www.facebook.com/DrRachelNYC\"\\ntarget=\"_blank\"\\nrel=\"noopener nocaes\"\\nclass=\"social-nav__link social-nav__link--facebook\"\\n> <svg class=\"icon icon-facebook social-nav__icon\">\\n<use xmlns:xlink=\"http://www.w3.org/1999/xlink\" xlink:href=\"#icon-facebook\"></use>\\n</svg>\\n<span class=\"social-nav__accessible-label\">Facebook</span>\\n</a> </li>\\n<li class=\"social-nav__item social-nav__item--linkedin\">\\n<a\\nhref=\"https://www.linkedin.com/in/rachel-goldman-ph-d-ftos\"\\ntarget=\"_blank\"\\nrel=\"noopener nocaes\"\\nclass=\"social-nav__link social-nav__link--linkedin\"\\n> <svg class=\"icon icon-linkedin social-nav__icon\">\\n<use xmlns:xlink=\"http://www.w3.org/1999/xlink\" xlink:href=\"#icon-linkedin\"></use>\\n</svg>\\n<span class=\"social-nav__accessible-label\">LinkedIn</span>\\n</a> </li>\\n<li class=\"social-nav__item social-nav__item--twitter\">\\n<a\\nhref=\"https://twitter.com/AskDr_Rachel\"\\ntarget=\"_blank\"\\nrel=\"noopener nocaes\"\\nclass=\"social-nav__link social-nav__link--twitter\"\\n> <svg class=\"icon icon-twitter social-nav__icon\">\\n<use xmlns:xlink=\"http://www.w3.org/1999/xlink\" xlink:href=\"#icon-twitter\"></use>\\n</svg>\\n<span class=\"social-nav__accessible-label\">Twitter</span>\\n</a> </li>\\n</ul>\\n</nav>\\n<div class=\"mntl-author-tooltip__bio\">\\n<p>Rachel Goldman, PhD FTOS, is a licensed psychologist, clinical assistant professor, speaker, wellness expert specializing in\\xa0eating behaviors, stress management, and health behavior change.</p>\\n</div>\\n</div>\\n<div class=\"mntl-author-tooltip__bottom\">\\n<span class=\"mntl-author-tooltip__learn-more-text\">Learn about our </span>\\n<a\\nhref=\"/review-board-4796494\"\\nrel=\"nocaes\"\\nclass=\"mntl-author-tooltip__learn-more-link\"\\n>Medical Review Board</a>\\n</div>\\n</div>\\n</div>\\n</div>\\n</div>\\n</div>\\n<div id=\"social-share-container_1-0\" class=\"comp social-share-container mntl-block\">\\n<form id=\"print-button_1-0\" class=\"comp print-button\" method=\"POST\" action=\"/how-to-be-successful-in-life-4165743?print\" target=\"_blank\" data-tracking-container=\"true\">\\n<button class=\"btn\">\\nPrint\\n<svg class=\"text-btn-icon\">\\n<use xmlns:xlink=\"http://www.w3.org/1999/xlink\" xlink:href=\"#icon-print\"></use>\\n</svg>\\n</button>\\n<input type=\"hidden\" value=\"true\" name=\"print\" />\\n<input type=\"hidden\" value=\"c12318d453336c5889eb7ce5bf2ce600\" name=\"CSRFToken\" />\\n</form>\\n</div>\\n</div>\\n</div>\\n</div>\\n<div class=\"loc article-left-rail\">\\n<div id=\"sticky-toc-wrapper_1-0\" class=\"comp js-sticky-container sticky-toc-wrapper mntl-block\"></div>\\n</div>\\n<div class=\"loc article-content\">\\n<div id=\"list-sc_1-0\" class=\"comp article-content expert-content right-rail__offset list lock-journey no-commerce list-sc mntl-block\" data-sc-sticky-offset=\"80\" data-sc-max-track-height=\"600\" data-sc-breakpoint=\"50em\" data-sc-load-immediate=\"3\" data-sc-content-positions=\"[1,1,1,1,1,1,1]\" data-bind-scroll-on-start=\"true\">\\n<div id=\"article-intro_1-0\" class=\"comp article-content__description article-intro mntl-sc-page mntl-block\">\\n<p id=\"mntl-sc-block_1-0\" class=\"comp mntl-sc-block mntl-sc-block-html\">\\nSuccess is often defined as the ability to reach your goals in life, whatever those goals may be. In some ways, a better word for success might be attainment, accomplishment, or progress. It is not necessarily a destination but a journey that helps develop the skills and resources you need to thrive.\\n</p>\\n<div id=\"mntl-sc-block_1-0-2\" class=\"comp theme-definition mntl-sc-block mntl-sc-block-callout mntl-block\" data-tracking-id=\"mntl-sc-block-callout\" data-tracking-container=\"true\">\\n<h3 id=\"mntl-sc-block-callout-heading_1-0\" class=\"comp mntl-sc-block-callout-heading mntl-text-block\">\\nThe Definition of Success:</h3>\\n<div id=\"mntl-sc-block-callout-body_1-0\" class=\"comp expert-content mntl-sc-block-callout-body mntl-text-block\">\\n<p>Success is often defined as accomplishing your personally-defined goals in life. Because goals are sef-created, what people view as success can vary depending on their needs, goals, and situation.</p></div>\\n<svg class=\"icon icon-bookmark \">\\n<use xmlns:xlink=\"http://www.w3.org/1999/xlink\" xlink:href=\"#icon-bookmark\"></use>\\n</svg>\\n</div>\\n<p id=\"mntl-sc-block_1-0-3\" class=\"comp mntl-sc-block mntl-sc-block-html\">\\nThere are many different tactics for how to be successful in life, but the strategy that works best for you may depend on what success means to <em>you</em>. If you think of success as doing well at work or earning a high salary, your professional goals and accomplishments will take priority.\\n</p>\\n<p id=\"mntl-sc-block_1-0-4\" class=\"comp mntl-sc-block mntl-sc-block-html\">\\nWhile professional success can be one piece of the puzzle, it leaves out many other important areas of life. Family, romantic relationships, academics, and athletics are just a few areas where people may strive for success. Your definition of success may vary, but many might define it as being fulfilled, happy, safe, healthy, and loved.\\n</p>\\n<p id=\"mntl-sc-block_1-0-5\" class=\"comp mntl-sc-block mntl-sc-block-html\">\\nSo what can you do to boost your chances of achieving these things? What are some of the habits of successful people? There is no single right way to be successful. What works for you might not work for someone else.\\n</p>\\n<p id=\"mntl-sc-block_1-0-6\" class=\"comp mntl-sc-block mntl-sc-block-html\">\\nThere may not be a perfect combination of ingredients that can guarantee success. Still, there are some basic steps you can follow that can improve your chances of being successful in life, love, work, or whatever happens to be important to you.\\n</p>\\n</div>\\n<div id=\"list-sc-item_1-0\" class=\"comp mntl-sc-list-item list-sc-item mntl-block\">\\n<div id=\"list-marker_1-0\" class=\"comp list-marker\">\\n<span>1</span>\\n</div>\\n<div id=\"content-list-sc_1-0\" class=\"comp content-list-sc mntl-sc-list-item mntl-sc-page mntl-block\">\\n<span class=\"heading-toc\" id=\"toc-build-a-growth-mindset\"></span> <h2 id=\"mntl-sc-block_2-0\" class=\"comp mntl-sc-list-item-title mntl-sc-block health-sc-block-heading mntl-sc-block-heading\"> <span class=\"mntl-sc-block-heading__text\"> Build a Growth Mindset </span> </h2>\\n<figure id=\"mntl-sc-block_1-0-7\" class=\"comp mntl-sc-block mntl-sc-block-image figure-landscape figure-high-res\">\\n<div class=\"figure-media\">\\n<div class=\"img-placeholder\" style=\"padding-bottom:66.6%;\">\\n<img\\ndata-src=\"https://www.verywellmind.com/thmb/TpFNThnN1d_nJfoV2dgwUyMItF4=/2121x1414/filters:no_upscale():max_bytes(150000):strip_icc()/GettyImages-522319544-5b083e641d64040037b2dde7.jpg\"\\nalt=\"happy woman in athletic clothing\"\\nclass=\"lazyload\"\\nwidth=\"2121\"\\nheight=\"1414\"\\ndata-click-tracked=\"true\" data-img-lightbox=\"true\" data-owner=\"&lt;p&gt;vgajic / Getty Images&lt;/p&gt;\" data-caption=\"\" data-expand=\"300\" id=\"mntl-sc-block-image_1-0-7\" data-tracking-container=\"true\"\\n/>\\n<noscript>\\n<img src=\"https://www.verywellmind.com/thmb/TpFNThnN1d_nJfoV2dgwUyMItF4=/2121x1414/filters:no_upscale():max_bytes(150000):strip_icc()/GettyImages-522319544-5b083e641d64040037b2dde7.jpg\"\\nalt=\"happy woman in athletic clothing\"\\nwidth=\"2121\"\\nheight=\"1414\"\\nclass=\"img--noscript \" />\\n</noscript>\\n</div> </div>\\n<figcaption id=\"mntl-figure-caption_1-0\" class=\"comp mntl-figure-caption figure-article-caption\">\\n<span class=\"figure-article-caption-owner\"><p>vgajic / Getty Images</p></span>\\n</figcaption>\\n</figure>\\n<p id=\"mntl-sc-block_2-0-2\" class=\"comp mntl-sc-block mntl-sc-block-html\">\\nResearch by psychologist Carol Dweck suggests that there are two basic <a href=\"https://www.verywellmind.com/what-is-a-mindset-2795025\" data-component=\"link\" data-source=\"inlineLink\" data-type=\"internalLink\" data-ordinal=\"1\">mindsets</a> that influence how people think about themselves and their abilities: the fixed mindset and the growth mindset.<span class=\"ql-inline-citation\" data-cite=\"1\">\\ufeff</span>\\ufeff\\n</p>\\n<p id=\"mntl-sc-block_2-0-3\" class=\"comp mntl-sc-block mntl-sc-block-html\">\\nPeople who possess a fixed mindset believe that things such as <a href=\"https://www.verywellmind.com/theories-of-intelligence-2795035\" data-component=\"link\" data-source=\"inlineLink\" data-type=\"internalLink\" data-ordinal=\"1\">intelligence</a> are static and unchangeable. Those with a fixed mindset believe that success isn\\'t a result of hard work—it\\'s simply a consequence of innate talents.\\n</p>\\n<p id=\"mntl-sc-block_2-0-4\" class=\"comp mntl-sc-block mntl-sc-block-html\">\\nBecause they believe that such talents are something people are either born with or without, they tend to give up more easily in the face of a challenge. They quit when things do not come easily because they believe that they lack the inborn skill needed to excel.\\n</p>\\n<p id=\"mntl-sc-block_2-0-5\" class=\"comp mntl-sc-block mntl-sc-block-html\">\\nThose who have a growth mindset, on the other hand, feel that they can change, grow, and learn through effort. People who believe that they are capable of growth are more likely to achieve success. When things get tough, they look for ways to improve their skills and keep working toward success.\\n</p>\\n<div id=\"mntl-sc-block_1-0-8\" class=\"comp theme-takeaway mntl-sc-block mntl-sc-block-callout mntl-block\" data-tracking-id=\"mntl-sc-block-callout\" data-tracking-container=\"true\">\\n<div id=\"mntl-sc-block-callout-body_1-0-1\" class=\"comp expert-content mntl-sc-block-callout-body mntl-text-block\">\\n<p>People with a growth mindset believe that they have control of their life, while those with a fixed mindset believe that things are out of their control.</p></div>\\n</div>\\n<p id=\"mntl-sc-block_2-0-7\" class=\"comp mntl-sc-block mntl-sc-block-html\">\\nWhat can you do to build a growth mindset?\\n</p>\\n<ul id=\"mntl-sc-block_2-0-8\" class=\"comp mntl-sc-block mntl-sc-block-html\">\\n<li><strong>Believe that your efforts matter</strong>. Rather than thinking their abilities are fixed or stuck, people who have a growth mindset believe that effort and hard work can lead to meaningful growth.</li><li><strong>Learn new skills</strong>. When faced with a challenge, they look for ways to develop the knowledge and skills that they need to overcome and triumph.</li><li><strong>View failures as learning experiences</strong>. People with growth mindsets don&#39;t believe that failure is\\xa0a reflection of their abilities. Instead, they view it as a valuable source of experience from which they can learn and improve. &#34;That didn&#39;t work,&#34; they might think, &#34;so this time I&#39;ll try something a little different.&#34;</li>\\n</ul>\\n<div id=\"mntl-sc-block_1-0-9\" class=\"comp theme-explainer mntl-sc-block mntl-sc-block-callout mntl-block\" data-tracking-id=\"mntl-sc-block-callout\" data-tracking-container=\"true\">\\n<h3 id=\"mntl-sc-block-callout-heading_1-0-1\" class=\"comp mntl-sc-block-callout-heading mntl-text-block\">\\nGet Advice From The Verywell Mind Podcast</h3>\\n<div id=\"mntl-sc-block-callout-body_1-0-2\" class=\"comp expert-content mntl-sc-block-callout-body mntl-text-block\">\\n<p>Hosted by Editor-in-Chief and therapist Amy Morin, LCSW, this episode of <a href=\"https://www.verywellmind.com/the-verywell-mind-podcast-5113058\" data-component=\"link\" data-source=\"inlineLink\" data-type=\"internalLink\" data-ordinal=\"1\">The Verywell Mind Podcast</a> shares an exercise that can help you introduce a healthy habit into your life or get rid of a bad habit that\\'s been holding you back.</p></div>\\n</div>\\n<div id=\"mntl-sc-block_1-0-10\" class=\"comp megaphone megaphone-player mntl-sc-block mntl-sc-block-iframe mntl-block\">\\n<iframe id=\"mntl-sc-block-iframe__uri_1-0\" class=\"comp lazyload megaphone-player__embed mntl-sc-block-iframe__uri mntl-block\" allow=\"encrypted-media &#39;src&#39;\" data-src=\"https://playlist.megaphone.fm?e=MERE2872219231&amp;light=true\" scrolling=\"auto\" allowfullscreen=\"false\" frameborder=\"0\" title=\"Friday Fix: Episode 12\"></iframe>\\n<cite id=\"mntl-sc-block-iframe__caption_1-0\" class=\"comp mntl-sc-block-iframe__caption mntl-text-block\"></cite>\\n<img id=\"megaphone-player__player-art_1-0\" class=\"comp megaphone-player__player-art image\" src=\"/static/4.318.0/images/podcast-coverart.png\" alt></img>\\n</div>\\n<p id=\"mntl-sc-block_2-0-11\" class=\"comp mntl-sc-block mntl-sc-block-html\">\\n<strong>Follow Now</strong>: <a href=\"https://podcasts.apple.com/us/podcast/the-verywell-mind-podcast-with-amy-morin/id1529983509\" data-component=\"link\" data-source=\"inlineLink\" data-type=\"externalLink\" data-ordinal=\"1\" rel=\"nofollow\">Apple Podcasts</a> / <a href=\"https://open.spotify.com/show/2WGnJfJon5RKU9bXBUSWHU\" data-component=\"link\" data-source=\"inlineLink\" data-type=\"externalLink\" data-ordinal=\"2\">Spotify</a> / <a href=\"https://podcasts.google.com/feed/aHR0cHM6Ly9mZWVkcy5idXp6c3Byb3V0LmNvbS8xMzA3NDQ5LnJzcw\" data-component=\"link\" data-source=\"inlineLink\" data-type=\"externalLink\" data-ordinal=\"3\">Google Podcasts</a>\\n</p>\\n</div>\\n</div>\\n<div id=\"adslot_1-0\" class=\"comp mntl-sc-block-adslot adslot mntl-block\"></div>\\n<div id=\"list-sc-item_1-0-1\" class=\"comp mntl-sc-list-item list-sc-item mntl-block\">\\n<div id=\"list-marker_1-0-1\" class=\"comp list-marker\">\\n<span>2</span>\\n</div>\\n<div id=\"content-list-sc_1-0-1\" class=\"comp content-list-sc mntl-sc-list-item mntl-sc-page mntl-block\">\\n<span class=\"heading-toc\" id=\"toc-improve-your-emotional-intelligence\"></span> <h2 id=\"mntl-sc-block_2-0-12\" class=\"comp mntl-sc-list-item-title mntl-sc-block health-sc-block-heading mntl-sc-block-heading\"> <span class=\"mntl-sc-block-heading__text\"> Improve Your Emotional Intelligence </span> </h2>\\n<figure id=\"mntl-sc-block_1-0-11\" class=\"comp mntl-sc-block mntl-sc-block-image figure-landscape figure-high-res\">\\n<div class=\"figure-media\">\\n<div class=\"img-placeholder\" style=\"padding-bottom:66.6%;\">\\n<img\\ndata-src=\"https://www.verywellmind.com/thmb/6VsTOqDCxhpJ7iTWkqnT9p9t1T4=/2120x1414/filters:no_upscale():max_bytes(150000):strip_icc()/GettyImages-498746836-5b08484430371300375a4b9d.jpg\"\\nalt=\"women hugging\"\\nclass=\"lazyload\"\\nwidth=\"2120\"\\nheight=\"1414\"\\ndata-click-tracked=\"true\" data-img-lightbox=\"true\" data-owner=\"&lt;p&gt;AlexD75 / Getty Images\\xa0&lt;/p&gt;\" data-caption=\"\" data-expand=\"300\" id=\"mntl-sc-block-image_1-0-11\" data-tracking-container=\"true\"\\n/>\\n<noscript>\\n<img src=\"https://www.verywellmind.com/thmb/6VsTOqDCxhpJ7iTWkqnT9p9t1T4=/2120x1414/filters:no_upscale():max_bytes(150000):strip_icc()/GettyImages-498746836-5b08484430371300375a4b9d.jpg\"\\nalt=\"women hugging\"\\nwidth=\"2120\"\\nheight=\"1414\"\\nclass=\"img--noscript \" />\\n</noscript>\\n</div> </div>\\n<figcaption id=\"mntl-figure-caption_1-0-1\" class=\"comp mntl-figure-caption figure-article-caption\">\\n<span class=\"figure-article-caption-owner\"><p>AlexD75 / Getty Images\\xa0</p></span>\\n</figcaption>\\n</figure>\\n<p id=\"mntl-sc-block_2-0-14\" class=\"comp mntl-sc-block mntl-sc-block-html\">\\nOverall intelligence has long been believed to be one factor contributing to success in different areas of life, but some experts suggest that <a href=\"https://www.verywellmind.com/what-is-emotional-intelligence-2795423\" data-component=\"link\" data-source=\"inlineLink\" data-type=\"internalLink\" data-ordinal=\"1\"><em>emotional</em> intelligence</a> may actually matter even more.<span class=\"ql-inline-citation\" data-cite=\"2\">\\ufeff</span>\\ufeff Emotional intelligence refers to the ability to understand, utilize, and reason with emotions. <a href=\"https://www.verywellmind.com/the-7-habits-of-emotionally-intelligent-people-2795431\" data-component=\"link\" data-source=\"inlineLink\" data-type=\"internalLink\" data-ordinal=\"2\">Emotionally intelligent people</a> are able to understand not only their own emotions, but those of others as well.\\n</p>\\n<p id=\"mntl-sc-block_2-0-15\" class=\"comp mntl-sc-block mntl-sc-block-html\">\\nTo improve your emotional intelligence:\\n</p>\\n<ul id=\"mntl-sc-block_2-0-16\" class=\"comp mntl-sc-block mntl-sc-block-html\">\\n<li><strong>Pay attention to your own emotions</strong>. Focus on identifying what you are feeling and what is causing those feelings.</li><li><strong>Manage your emotions</strong>. Step back and try to view things with an impartial eye. Avoid bottling up or repressing your feelings, but look for healthy and appropriate ways of dealing with what you are feeling.</li><li><strong>Listen to others. </strong>This not only involves hearing what they are saying, but also paying attention to nonverbal signals and body language.</li>\\n</ul>\\n<div id=\"mntl-sc-block_1-0-12\" class=\"comp related-link mntl-sc-block mntl-sc-block-featuredlink mntl-block\">\\n<a\\nhref=\"https://www.verywellmind.com/how-emotionally-intelligent-are-you-2796099\"\\nrel=\"nocaes\"\\nid=\"mntl-sc-block-featuredlink__link_1-0\"\\nclass=\" mntl-sc-block-featuredlink__link mntl-text-link \"\\ndata-tracking-container=\"true\"\\ndata-tracking-id=\"featured-link\"\\n><span class=\"link__wrapper\">What\\'s Your EQ? Test Your Emotional Intelligence</span></a>\\n</div>\\n</div>\\n</div>\\n<div id=\"adslot_1-0-1\" class=\"comp mntl-sc-block-adslot adslot mntl-block\"></div>\\n<div id=\"list-sc-item_1-0-2\" class=\"comp mntl-sc-list-item list-sc-item mntl-block\">\\n<div id=\"list-marker_1-0-2\" class=\"comp list-marker\">\\n<span>3</span>\\n</div>\\n<div id=\"content-list-sc_1-0-2\" class=\"comp content-list-sc mntl-sc-list-item mntl-sc-page mntl-block\">\\n<span class=\"heading-toc\" id=\"toc-develop-mental-toughness\"></span> <h2 id=\"mntl-sc-block_2-0-18\" class=\"comp mntl-sc-list-item-title mntl-sc-block health-sc-block-heading mntl-sc-block-heading\"> <span class=\"mntl-sc-block-heading__text\"> Develop Mental Toughness </span> </h2>\\n<figure id=\"mntl-sc-block_1-0-13\" class=\"comp mntl-sc-block mntl-sc-block-image figure-landscape figure-high-res\">\\n<div class=\"figure-media\">\\n<div class=\"img-placeholder\" style=\"padding-bottom:66.7%;\">\\n<img\\ndata-src=\"https://www.verywellmind.com/thmb/nIUXlKxrE4V9kgda7ekkvBDSfQw=/5132x3425/filters:no_upscale():max_bytes(150000):strip_icc()/sports-woman-lifting-weights-at-the-gym-586076741-594921215f9b58d58a3f4c9c.jpg\"\\nalt=\"woman lifting weights at the gym\"\\nclass=\"lazyload\"\\nwidth=\"5132\"\\nheight=\"3425\"\\ndata-click-tracked=\"true\" data-img-lightbox=\"true\" data-owner=\"Tara Moore / Getty Images\" data-caption=\"\" data-expand=\"300\" id=\"mntl-sc-block-image_1-0-13\" data-tracking-container=\"true\"\\n/>\\n<noscript>\\n<img src=\"https://www.verywellmind.com/thmb/nIUXlKxrE4V9kgda7ekkvBDSfQw=/5132x3425/filters:no_upscale():max_bytes(150000):strip_icc()/sports-woman-lifting-weights-at-the-gym-586076741-594921215f9b58d58a3f4c9c.jpg\"\\nalt=\"woman lifting weights at the gym\"\\nwidth=\"5132\"\\nheight=\"3425\"\\nclass=\"img--noscript \" />\\n</noscript>\\n</div> </div>\\n<figcaption id=\"mntl-figure-caption_1-0-2\" class=\"comp mntl-figure-caption figure-article-caption\">\\n<span class=\"figure-article-caption-owner\">Tara Moore / Getty Images</span>\\n</figcaption>\\n</figure>\\n<p id=\"mntl-sc-block_2-0-20\" class=\"comp mntl-sc-block mntl-sc-block-html\">\\nMental toughness refers to the <a href=\"https://www.verywellmind.com/what-is-resilience-2795059\" data-component=\"link\" data-source=\"inlineLink\" data-type=\"internalLink\" data-ordinal=\"1\">resilience</a> to carry on and continue trying even in the face of obstacles.<span class=\"ql-inline-citation\" data-cite=\"3\"></span> People who possess this mental strength see challenges as opportunities. They also feel that they have control over their own destiny, are confident in their abilities to succeed, and are committed to finishing what they start.\\n</p>\\n<p id=\"mntl-sc-block_2-0-21\" class=\"comp mntl-sc-block mntl-sc-block-html\">\\nWhat can you do to improve your mental toughness and increase your chances of being successful in life?\\n</p>\\n<ul id=\"mntl-sc-block_2-0-22\" class=\"comp mntl-sc-block mntl-sc-block-html\">\\n<li><strong>Believe in yourself</strong>. Cut out negative self-talk and look for ways to stay positive and self-encouraging.</li><li><strong>Keep trying</strong>. Even when things seem impossible or setbacks keep holding you back, focus on ways that you can develop your skills and keep soldiering forward. One of the key habits of successful people is always looking at setbacks or failures as learning opportunities.</li><li><strong>Care for yourself</strong>. Staying strong also means that you treat yourself with kindness. Check in with yourself regularly to ensure you have the things you need to thrive.<br/></li><li><strong>Look for growth opportunities</strong>. Learning more about yourself and challenging yourself to try new things can provide opportunities for self-discovery.<br/></li>\\n</ul>\\n</div>\\n</div>\\n<div id=\"adslot_1-0-2\" class=\"comp mntl-sc-block-adslot adslot mntl-block\"></div>\\n<div id=\"list-sc-item_1-0-3\" class=\"comp mntl-sc-list-item list-sc-item mntl-block\">\\n<div id=\"list-marker_1-0-3\" class=\"comp list-marker\">\\n<span>4</span>\\n</div>\\n<div id=\"content-list-sc_1-0-3\" class=\"comp content-list-sc mntl-sc-list-item mntl-sc-page mntl-block\">\\n<span class=\"heading-toc\" id=\"toc-strengthen-your-willpower\"></span> <h2 id=\"mntl-sc-block_2-0-23\" class=\"comp mntl-sc-list-item-title mntl-sc-block health-sc-block-heading mntl-sc-block-heading\"> <span class=\"mntl-sc-block-heading__text\"> Strengthen Your Willpower </span> </h2>\\n<figure id=\"mntl-sc-block_1-0-14\" class=\"comp mntl-sc-block mntl-sc-block-image figure-landscape figure-high-res\">\\n<div class=\"figure-media\">\\n<div class=\"img-placeholder\" style=\"padding-bottom:66.6%;\">\\n<img\\ndata-src=\"https://www.verywellmind.com/thmb/ewUeoWiTfNhmTqtqJoZXNu78UF0=/3867x2578/filters:no_upscale():max_bytes(150000):strip_icc()/486459085-56a7947a3df78cf7729753cb.jpg\"\\nalt=\"Determined man with willpower\"\\nclass=\"lazyload\"\\nwidth=\"3867\"\\nheight=\"2578\"\\ndata-click-tracked=\"true\" data-img-lightbox=\"true\" data-owner=\"&lt;p&gt;Edwin Jimenez / Riser / Getty Images&lt;/p&gt;\" data-caption=\"\" data-expand=\"300\" id=\"mntl-sc-block-image_1-0-14\" data-tracking-container=\"true\"\\n/>\\n<noscript>\\n<img src=\"https://www.verywellmind.com/thmb/ewUeoWiTfNhmTqtqJoZXNu78UF0=/3867x2578/filters:no_upscale():max_bytes(150000):strip_icc()/486459085-56a7947a3df78cf7729753cb.jpg\"\\nalt=\"Determined man with willpower\"\\nwidth=\"3867\"\\nheight=\"2578\"\\nclass=\"img--noscript \" />\\n</noscript>\\n</div> </div>\\n<figcaption id=\"mntl-figure-caption_1-0-3\" class=\"comp mntl-figure-caption figure-article-caption\">\\n<span class=\"figure-article-caption-owner\"><p>Edwin Jimenez / Riser / Getty Images</p></span>\\n</figcaption>\\n</figure>\\n<p id=\"mntl-sc-block_2-0-25\" class=\"comp mntl-sc-block mntl-sc-block-html\">\\nIn a long-running\\xa0longitudinal study, psychologists followed a group of children who were identified by their teachers as highly intelligent. As they compared how these subjects fared throughout childhood and into adulthood, researchers found that those who ultimately were the most successful in life shared some key characteristics, including perseverance and willpower.<span class=\"ql-inline-citation\" data-cite=\"4\">\\ufeff</span>\\ufeff\\n</p>\\n<p id=\"mntl-sc-block_2-0-26\" class=\"comp mntl-sc-block mntl-sc-block-html\">\\nThese characteristics tend to be part of an individual\\'s overall personality, but they are also something you can improve. <a href=\"https://www.verywellmind.com/delayed-gratification-why-wait-for-what-you-want-2795429\" data-component=\"link\" data-source=\"inlineLink\" data-type=\"internalLink\" data-ordinal=\"1\">Delayed gratification</a>, learning to persist in the face of challenges, and waiting for the rewards of your hard work can often be the key to success in life.\\n</p>\\n<p id=\"mntl-sc-block_2-0-27\" class=\"comp mntl-sc-block mntl-sc-block-html\">\\nStrategies you can use to improve your willpower include:\\n</p>\\n<ul id=\"mntl-sc-block_2-0-28\" class=\"comp mntl-sc-block mntl-sc-block-html\">\\n<li><strong>Distraction</strong>. For example, if you are trying to lose weight but are having a difficult time staying away from your favorite snacks, distracting yourself during your moments of weakness can be an effective way to avoid giving in to temptation.</li><li><strong>Practice</strong>. Willpower is something you can build, but it takes time and effort. Start by making small goals that require will power to achieve, such as avoiding sugary snacks. As you build your ability to use your will power to achieve such small goals, you may find that your willpower is also stronger when working on much larger goals.</li>\\n</ul>\\n</div>\\n</div>\\n<div id=\"adslot_1-0-3\" class=\"comp mntl-sc-block-adslot adslot mntl-block\"></div>\\n<div id=\"list-sc-item_1-0-4\" class=\"comp mntl-sc-list-item list-sc-item mntl-block\">\\n<div id=\"list-marker_1-0-4\" class=\"comp list-marker\">\\n<span>5</span>\\n</div>\\n<div id=\"content-list-sc_1-0-4\" class=\"comp content-list-sc mntl-sc-list-item mntl-sc-page mntl-block\">\\n<span class=\"heading-toc\" id=\"toc-focus-on-intrinsic-motivations\"></span> <h2 id=\"mntl-sc-block_2-0-29\" class=\"comp mntl-sc-list-item-title mntl-sc-block health-sc-block-heading mntl-sc-block-heading\"> <span class=\"mntl-sc-block-heading__text\"> Focus on Intrinsic Motivations </span> </h2>\\n<figure id=\"mntl-sc-block_1-0-15\" class=\"comp mntl-sc-block mntl-sc-block-image figure-landscape figure-high-res\">\\n<div class=\"figure-media\">\\n<div class=\"img-placeholder\" style=\"padding-bottom:66.6%;\">\\n<img\\ndata-src=\"https://www.verywellmind.com/thmb/Wr8-UIATrqLEtzTfK57JyhySDeI=/5200x3467/filters:no_upscale():max_bytes(150000):strip_icc()/GettyImages-138080445-56a797ca5f9b58b7d0ebf8ac.jpg\"\\nalt=\"two women running up bleachers\"\\nclass=\"lazyload\"\\nwidth=\"5200\"\\nheight=\"3467\"\\ndata-click-tracked=\"true\" data-img-lightbox=\"true\" data-owner=\"Jordan Siemens / Stone / Getty Images\" data-caption=\"\" data-expand=\"300\" id=\"mntl-sc-block-image_1-0-15\" data-tracking-container=\"true\"\\n/>\\n<noscript>\\n<img src=\"https://www.verywellmind.com/thmb/Wr8-UIATrqLEtzTfK57JyhySDeI=/5200x3467/filters:no_upscale():max_bytes(150000):strip_icc()/GettyImages-138080445-56a797ca5f9b58b7d0ebf8ac.jpg\"\\nalt=\"two women running up bleachers\"\\nwidth=\"5200\"\\nheight=\"3467\"\\nclass=\"img--noscript \" />\\n</noscript>\\n</div> </div>\\n<figcaption id=\"mntl-figure-caption_1-0-4\" class=\"comp mntl-figure-caption figure-article-caption\">\\n<span class=\"figure-article-caption-owner\">Jordan Siemens / Stone / Getty Images</span>\\n</figcaption>\\n</figure>\\n<p id=\"mntl-sc-block_2-0-31\" class=\"comp mntl-sc-block mntl-sc-block-html\">\\nWhat is it that motivates you the most? Do you find that the promise of external rewards keeps you reaching for your goals, or is it the more personal, <a href=\"https://www.verywellmind.com/what-is-intrinsic-motivation-2795385\" data-component=\"link\" data-source=\"inlineLink\" data-type=\"internalLink\" data-ordinal=\"1\">intrinsic motivators</a> that keep you feeling inspired? While <a href=\"https://www.verywellmind.com/what-is-extrinsic-motivation-2795164\" data-component=\"link\" data-source=\"inlineLink\" data-type=\"internalLink\" data-ordinal=\"2\">extrinsic rewards</a> such as money, awards, and praise can be helpful, many people find that they are most motivated when they are doing things for personal satisfaction.\\n</p>\\n<p id=\"mntl-sc-block_2-0-32\" class=\"comp mntl-sc-block mntl-sc-block-html\">\\nIf you are doing things because you enjoy them, because you find them meaningful, or because you enjoy seeing the effects of your work, then you are driven by intrinsic motivations. Research has shown that while incentives can be a better predictor of some types of performance, intrinsic motivators tend to be better at predicting performance quality.<span class=\"ql-inline-citation\" data-cite=\"5\">\\ufeff</span>\\ufeff\\n</p>\\n<div id=\"mntl-sc-block_1-0-16\" class=\"comp theme-takeaway mntl-sc-block mntl-sc-block-callout mntl-block\" data-tracking-id=\"mntl-sc-block-callout\" data-tracking-container=\"true\">\\n<div id=\"mntl-sc-block-callout-body_1-0-3\" class=\"comp expert-content mntl-sc-block-callout-body mntl-text-block\">\\n<p>While it is often the external motivators that get people started, it is the internal motivators that kick in and keep people going in order to maintain those new behaviors.</p></div>\\n</div>\\n<p id=\"mntl-sc-block_2-0-34\" class=\"comp mntl-sc-block mntl-sc-block-html\">\\nWhat can you do to boost your sense of intrinsic motivation?\\n</p>\\n<ul id=\"mntl-sc-block_2-0-35\" class=\"comp mntl-sc-block mntl-sc-block-html\">\\n<li><strong>Challenge yourself</strong>. Pursuing a goal that is achievable but not necessarily easy, is a great way to increase motivation to succeed. Challenges can keep you interested in a task, improve your self-esteem, and offer feedback on areas you can improve on. Choosing a slightly challenging task will help motivate you to get started—it feels exciting!</li><li><strong>Stay curious</strong>. Look for things that grab your attention and that you want to learn more about.</li><li><strong>Take control</strong>. It can be difficult to stay intrinsically motivated to pursue a goal if you don&#39;t feel that you have any real influence over the outcome. Look for ways that you can take an active role.</li><li><strong>Don&#39;t fear competition</strong>. There might be other people trying to reach the same goals as you, but this doesn&#39;t mean you should give up. Don&#39;t compare your progress or journey to anyone else&#39;s. You can look to others for motivation and inspiration, but remember that we all have different paths.</li>\\n</ul>\\n</div>\\n</div>\\n<div id=\"adslot_1-0-4\" class=\"comp mntl-sc-block-adslot adslot mntl-block\"></div>\\n<div id=\"list-sc-item_1-0-5\" class=\"comp mntl-sc-list-item list-sc-item mntl-block\">\\n<div id=\"list-marker_1-0-5\" class=\"comp list-marker\">\\n<span>6</span>\\n</div>\\n<div id=\"content-list-sc_1-0-5\" class=\"comp content-list-sc mntl-sc-list-item mntl-sc-page mntl-block\">\\n<span class=\"heading-toc\" id=\"toc-set-achievable-goals\"></span> <h2 id=\"mntl-sc-block_2-0-36\" class=\"comp mntl-sc-list-item-title mntl-sc-block health-sc-block-heading mntl-sc-block-heading\"> <span class=\"mntl-sc-block-heading__text\"> Set Achievable Goals </span> </h2>\\n<figure id=\"mntl-sc-block_1-0-17\" class=\"comp mntl-sc-block mntl-sc-block-image figure-landscape figure-high-res\">\\n<div class=\"figure-media\">\\n<div class=\"img-placeholder\" style=\"padding-bottom:66.6%;\">\\n<img\\ndata-src=\"https://www.verywellmind.com/thmb/gENzx2TwW5CgSaJ95crZ_GBukkE=/2123x1416/filters:no_upscale():max_bytes(150000):strip_icc()/GettyImages-547015809-56aaf8803df78cf772b4b5ce.jpg\"\\nalt=\"Woman writing in office\"\\nclass=\"lazyload\"\\nwidth=\"2123\"\\nheight=\"1416\"\\ndata-click-tracked=\"true\" data-img-lightbox=\"true\" data-owner=\"Hero Images/Getty Images\" data-caption=\"\" data-expand=\"300\" id=\"mntl-sc-block-image_1-0-17\" data-tracking-container=\"true\"\\n/>\\n<noscript>\\n<img src=\"https://www.verywellmind.com/thmb/gENzx2TwW5CgSaJ95crZ_GBukkE=/2123x1416/filters:no_upscale():max_bytes(150000):strip_icc()/GettyImages-547015809-56aaf8803df78cf772b4b5ce.jpg\"\\nalt=\"Woman writing in office\"\\nwidth=\"2123\"\\nheight=\"1416\"\\nclass=\"img--noscript \" />\\n</noscript>\\n</div> </div>\\n<figcaption id=\"mntl-figure-caption_1-0-5\" class=\"comp mntl-figure-caption figure-article-caption\">\\n<span class=\"figure-article-caption-owner\">Hero Images/Getty Images</span>\\n</figcaption>\\n</figure>\\n<p id=\"mntl-sc-block_2-0-38\" class=\"comp mntl-sc-block mntl-sc-block-html\">\\nSuccessful people know that they need to start by having attainable goals to achieve. These goals are not necessarily easy to reach, but by having something to aim for, you will be better able to move forward and overcome obstacles.\\n</p>\\n<p id=\"mntl-sc-block_2-0-39\" class=\"comp mntl-sc-block mntl-sc-block-html\">\\nWhen <a href=\"https://www.verywellmind.com/setting-and-managing-goals-2797566\" data-component=\"link\" data-source=\"inlineLink\" data-type=\"internalLink\" data-ordinal=\"1\">setting goals</a>:\\n</p>\\n<ul id=\"mntl-sc-block_2-0-40\" class=\"comp mntl-sc-block mntl-sc-block-html\">\\n<li><strong>Be as specific as possible</strong>: Choosing a goal like &#34;I&#39;m going to spend 20 minutes a day learning a new language&#34; is more achievable than setting a general goal like &#34;I&#39;m going to learn French.&#34;</li><li><strong>Break your goal into smaller steps</strong>: Even if you select a specific goal, it can often seem difficult to achieve. Try breaking it into smaller steps that allow you to focus on moving forward without becoming overwhelmed.</li><li><strong>Reward progress</strong>: Recognize your successes along the way and allow yourself to enjoy your accomplishments.</li>\\n</ul>\\n</div>\\n</div>\\n<div id=\"adslot_1-0-5\" class=\"comp mntl-sc-block-adslot adslot mntl-block\"></div>\\n<div id=\"list-sc-item_1-0-6\" class=\"comp mntl-sc-list-item list-sc-item mntl-block\">\\n<div id=\"list-marker_1-0-6\" class=\"comp list-marker\">\\n<span>7</span>\\n</div>\\n<div id=\"content-list-sc_1-0-6\" class=\"comp content-list-sc mntl-sc-list-item mntl-sc-page mntl-block\">\\n<span class=\"heading-toc\" id=\"toc-nurture-traits-linked-to-high-potential\"></span> <h2 id=\"mntl-sc-block_2-0-41\" class=\"comp mntl-sc-list-item-title mntl-sc-block health-sc-block-heading mntl-sc-block-heading\"> <span class=\"mntl-sc-block-heading__text\"> Nurture Traits Linked to High Potential </span> </h2>\\n<figure id=\"mntl-sc-block_1-0-18\" class=\"comp mntl-sc-block mntl-sc-block-image figure-landscape figure-high-res\">\\n<div class=\"figure-media\">\\n<div class=\"img-placeholder\" style=\"padding-bottom:66.6%;\">\\n<img\\ndata-src=\"https://www.verywellmind.com/thmb/K18bVPCUwy7yxz9CtoJxegGKi3s=/3867x2578/filters:no_upscale():max_bytes(150000):strip_icc()/508065623-56a796af5f9b58b7d0ebf35e.jpg\"\\nalt=\"woman with folded arms in office\"\\nclass=\"lazyload\"\\nwidth=\"3867\"\\nheight=\"2578\"\\ndata-click-tracked=\"true\" data-img-lightbox=\"true\" data-owner=\"Hero Images / Getty Images\" data-caption=\"\" data-expand=\"300\" id=\"mntl-sc-block-image_1-0-18\" data-tracking-container=\"true\"\\n/>\\n<noscript>\\n<img src=\"https://www.verywellmind.com/thmb/K18bVPCUwy7yxz9CtoJxegGKi3s=/3867x2578/filters:no_upscale():max_bytes(150000):strip_icc()/508065623-56a796af5f9b58b7d0ebf35e.jpg\"\\nalt=\"woman with folded arms in office\"\\nwidth=\"3867\"\\nheight=\"2578\"\\nclass=\"img--noscript \" />\\n</noscript>\\n</div> </div>\\n<figcaption id=\"mntl-figure-caption_1-0-6\" class=\"comp mntl-figure-caption figure-article-caption\">\\n<span class=\"figure-article-caption-owner\">Hero Images / Getty Images</span>\\n</figcaption>\\n</figure>\\n<p id=\"mntl-sc-block_2-0-43\" class=\"comp mntl-sc-block mntl-sc-block-html\">\\nPsychologists have long attempted to link specific traits or personality characteristics to success in life and work. The <a href=\"https://www.verywellmind.com/the-myers-briggs-type-indicator-2795583\" data-component=\"link\" data-source=\"inlineLink\" data-type=\"internalLink\" data-ordinal=\"1\">Myers-Briggs Type Indicator (MBTI)</a> is one widely used assessment that is often utilized by businesses to screen job candidates. However, research often fails to show that the MBTI actually correlates to performance.<span class=\"ql-inline-citation\" data-cite=\"9\">\\ufeff</span>\\ufeff\\n</p>\\n<p id=\"mntl-sc-block_2-0-44\" class=\"comp mntl-sc-block mntl-sc-block-html\">\\nAccording to some more recent research, there are certain traits that tend to be consistently tied to success.<span class=\"ql-inline-citation\" data-cite=\"6\">\\ufeff</span>\\ufeff Researchers Ian MacRae and Adrian Furnham have identified six key traits that can play a role in how well people do at work.<span class=\"ql-inline-citation\" data-cite=\"7\">\\ufeff</span>\\ufeff However, they note that there are optimal levels of these traits. Too little of these characteristics can hinder success, but so can having too much.\\n</p>\\n<p id=\"mntl-sc-block_2-0-45\" class=\"comp mntl-sc-block mntl-sc-block-html\">\\nIf you are trying to learn how to be successful in life, consider what you can do to nurture these key traits:\\n</p>\\n<h3 id=\"mntl-sc-block_1-0-19\" class=\"comp mntl-sc-block mntl-sc-block-subheading\"> <span class=\"mntl-sc-block-subheading__text\"> Conscientiousness </span> </h3>\\n<p id=\"mntl-sc-block_2-0-47\" class=\"comp mntl-sc-block mntl-sc-block-html\">\\nConscientious people consider the effects of their actions. They also consider how other people will react and feel. You can nurture this trait by:\\n</p>\\n<ul id=\"mntl-sc-block_2-0-48\" class=\"comp mntl-sc-block mntl-sc-block-html\">\\n<li>Thinking about the consequences of actions</li><li>Considering other people&#39;s perspectives</li>\\n</ul>\\n<h3 id=\"mntl-sc-block_1-0-20\" class=\"comp mntl-sc-block mntl-sc-block-subheading\"> <span class=\"mntl-sc-block-subheading__text\"> Accepting of Ambiguity </span> </h3>\\n<p id=\"mntl-sc-block_2-0-50\" class=\"comp mntl-sc-block mntl-sc-block-html\">\\nLife is full of situations that are not always clear. People with a great deal of potential for success are better able to accept this ambiguity. Rather than being rigid and inflexible, they are ready to adapt when the unexpected comes their way. You can learn to embrace ambiguity by:\\n</p>\\n<ul id=\"mntl-sc-block_2-0-51\" class=\"comp mntl-sc-block mntl-sc-block-html\">\\n<li>Challenging your perspectives and considering opinions and ideas other than your own</li><li>Not fearing the unfamiliar</li><li>Being willing to change</li><li>Valuing diversity</li>\\n</ul>\\n<h3 id=\"mntl-sc-block_1-0-21\" class=\"comp mntl-sc-block mntl-sc-block-subheading\"> <span class=\"mntl-sc-block-subheading__text\"> Capable of Adjustment </span> </h3>\\n<p id=\"mntl-sc-block_2-0-53\" class=\"comp mntl-sc-block mntl-sc-block-html\">\\nIn addition to being able to accept ambiguity, success often hinges on the ability to quickly adjust to change. You can nurture this ability to adjust by:\\n</p>\\n<ul id=\"mntl-sc-block_2-0-54\" class=\"comp mntl-sc-block mntl-sc-block-html\">\\n<li>Reframing difficult situations, to see them as opportunities to learn and grow rather than simply obstacles to live through</li><li>Being open to change; when plans or situations change, step back and look at ways to cope</li>\\n</ul>\\n<h3 id=\"mntl-sc-block_1-0-22\" class=\"comp mntl-sc-block mntl-sc-block-subheading\"> <span class=\"mntl-sc-block-subheading__text\"> Courageous </span> </h3>\\n<p id=\"mntl-sc-block_2-0-56\" class=\"comp mntl-sc-block mntl-sc-block-html\">\\nThe world&#39;s most successful people often exemplify great courage. They are willing to take risks, even in the face of potential failure. Research suggests that courageous people utilize positive emotions to overcome fear.<span class=\"ql-inline-citation\" data-cite=\"8\">\\ufeff</span>\\ufeff You can improve your tolerance of risk by:\\n</p>\\n<ul id=\"mntl-sc-block_2-0-57\" class=\"comp mntl-sc-block mntl-sc-block-html\">\\n<li>Quelling negative emotions and focusing on more positive feelings</li><li>Balancing risk with common sense; being cautious and pragmatic can also pay off, depending upon the situation</li>\\n</ul>\\n<h3 id=\"mntl-sc-block_1-0-23\" class=\"comp mntl-sc-block mntl-sc-block-subheading\"> <span class=\"mntl-sc-block-subheading__text\"> Curiosity </span> </h3>\\n<p id=\"mntl-sc-block_2-0-59\" class=\"comp mntl-sc-block mntl-sc-block-html\">\\nPeople who are successful tend to be curious about the world around them. They are always eager to learn more, including new knowledge and skills. You can cultivate your sense of curiosity by:\\n</p>\\n<ul id=\"mntl-sc-block_2-0-60\" class=\"comp mntl-sc-block mntl-sc-block-html\">\\n<li>Relating tasks to your interests: If you find filing boring, for example, look for a more efficient way to categorize the information to play to your strengths as an organizer.</li><li>Learning new things</li>\\n</ul>\\n<h3 id=\"mntl-sc-block_1-0-24\" class=\"comp mntl-sc-block mntl-sc-block-subheading\"> <span class=\"mntl-sc-block-subheading__text\"> Competitiveness </span> </h3>\\n<p id=\"mntl-sc-block_2-0-62\" class=\"comp mntl-sc-block mntl-sc-block-html\">\\nSuccessful people are able to utilize competition to motivate, but avoid falling prey to jealousy. You can nurture a healthy sense of competition by:\\n</p>\\n<ul id=\"mntl-sc-block_2-0-63\" class=\"comp mntl-sc-block mntl-sc-block-html\">\\n<li>Focusing on your own improvements; rather than worry about being the best at something, pay attention to your progress</li><li>Being happy when others succeed</li>\\n</ul>\\n<p id=\"mntl-sc-block_2-0-64\" class=\"comp mntl-sc-block mntl-sc-block-html\">\\nSome <a href=\"https://www.verywellmind.com/trait-theory-of-personality-2795955\" data-component=\"link\" data-source=\"inlineLink\" data-type=\"internalLink\" data-ordinal=\"1\">personality traits</a> and types may be better suited for certain jobs than others. However, no specific personality trait can guarantee success, nor can being low in that trait doom someone to failure.\\n</p>\\n<div id=\"mntl-sc-block_1-0-25\" class=\"comp theme-takeaway mntl-sc-block mntl-sc-block-callout mntl-block\" data-tracking-id=\"mntl-sc-block-callout\" data-tracking-container=\"true\">\\n<div id=\"mntl-sc-block-callout-body_1-0-4\" class=\"comp expert-content mntl-sc-block-callout-body mntl-text-block\">\\n<p>While there are differences in opinion on just how much <a href=\"https://www.verywellmind.com/can-you-change-your-personality-2795428\" data-component=\"link\" data-source=\"inlineLink\" data-type=\"internalLink\" data-ordinal=\"1\">personality can be altered</a>, nurturing some of these high potential traits might help you develop skills that can serve you well in many different aspects of your life.</p></div>\\n</div>\\n</div>\\n</div>\\n<div id=\"adslot_1-0-6\" class=\"comp mntl-sc-block-adslot adslot mntl-block\"></div>\\n<div id=\"list-sc-item_1-0-7\" class=\"comp mntl-sc-list-item list-sc-item mntl-block\">\\n<div id=\"list-marker_1-0-7\" class=\"comp list-marker\">\\n<span>8</span>\\n</div>\\n<div id=\"content-list-sc_1-0-7\" class=\"comp content-list-sc mntl-sc-list-item mntl-sc-page mntl-block\">\\n<span class=\"heading-toc\" id=\"toc-cultivate-strong-social-support\"></span> <h2 id=\"mntl-sc-block_2-0-66\" class=\"comp mntl-sc-list-item-title mntl-sc-block health-sc-block-heading mntl-sc-block-heading\"> <span class=\"mntl-sc-block-heading__text\"> Cultivate Strong Social Support </span> </h2>\\n<figure id=\"mntl-sc-block_1-0-26\" class=\"comp mntl-sc-block mntl-sc-block-image figure-landscape figure-high-res\">\\n<div class=\"figure-media\">\\n<div class=\"img-placeholder\" style=\"padding-bottom:66.6%;\">\\n<img\\ndata-src=\"https://www.verywellmind.com/thmb/ANYhOkbR0AHBfVeIpIX0-dAe0bo=/5123x3415/filters:no_upscale():max_bytes(150000):strip_icc()/laughing-women-talking-on-sofa-557475619-5855ba875f9b586e02be9cdd.jpg\"\\nalt=\"Laughing women talking on sofa\"\\nclass=\"lazyload\"\\nwidth=\"5123\"\\nheight=\"3415\"\\ndata-click-tracked=\"true\" data-img-lightbox=\"true\" data-owner=\"JGI/Tom Grill / Getty Images\" data-caption=\"\" data-expand=\"300\" id=\"mntl-sc-block-image_1-0-26\" data-tracking-container=\"true\"\\n/>\\n<noscript>\\n<img src=\"https://www.verywellmind.com/thmb/ANYhOkbR0AHBfVeIpIX0-dAe0bo=/5123x3415/filters:no_upscale():max_bytes(150000):strip_icc()/laughing-women-talking-on-sofa-557475619-5855ba875f9b586e02be9cdd.jpg\"\\nalt=\"Laughing women talking on sofa\"\\nwidth=\"5123\"\\nheight=\"3415\"\\nclass=\"img--noscript \" />\\n</noscript>\\n</div> </div>\\n<figcaption id=\"mntl-figure-caption_1-0-7\" class=\"comp mntl-figure-caption figure-article-caption\">\\n<span class=\"figure-article-caption-owner\">JGI/Tom Grill / Getty Images</span>\\n</figcaption>\\n</figure>\\n<p id=\"mntl-sc-block_2-0-68\" class=\"comp mntl-sc-block mntl-sc-block-html\">\\nDoing things alone can be difficult, but having a <a href=\"https://www.verywellmind.com/social-support-for-psychological-health-4119970\" data-component=\"link\" data-source=\"inlineLink\" data-type=\"internalLink\" data-ordinal=\"1\">strong social support system</a> can make things easier. Different <a href=\"https://www.verywellmind.com/types-of-social-support-3144960\" data-component=\"link\" data-source=\"inlineLink\" data-type=\"internalLink\" data-ordinal=\"2\">types of social support</a> can be important for success.\\n</p>\\n<ul id=\"mntl-sc-block_2-0-69\" class=\"comp mntl-sc-block mntl-sc-block-html\">\\n<li><strong>Emotional support</strong> can provide the comfort, security, and empathy you need as you face challenges.</li><li><strong>Esteem support</strong> can boost your confidence and encourage you to keep going.</li><li><strong>Informational support</strong> can provide mentorship, advice, and other necessary resources to reach your goals.</li><li><strong>Tangible support</strong> can help you in active and practical ways. This might involve someone helping you perform a task or taking care of the task for you.</li>\\n</ul>\\n<p id=\"mntl-sc-block_2-0-70\" class=\"comp mntl-sc-block mntl-sc-block-html\">\\nMentors, friends, co-workers, and family members can cheer you on when things get tough and even offer advice and assistance that can help you improve your chances for success.\\n</p>\\n</div>\\n</div>\\n<div id=\"adslot_1-0-7\" class=\"comp mntl-sc-block-adslot adslot mntl-block\"></div>\\n<div id=\"list-sc-item_1-0-8\" class=\"comp mntl-sc-list-item list-sc-item mntl-block\">\\n<div id=\"list-marker_1-0-8\" class=\"comp list-marker\">\\n<span>9</span>\\n</div>\\n<div id=\"content-list-sc_1-0-8\" class=\"comp content-list-sc mntl-sc-list-item mntl-sc-page mntl-block\">\\n<span class=\"heading-toc\" id=\"toc-avoid-burnout\"></span> <h2 id=\"mntl-sc-block_2-0-71\" class=\"comp mntl-sc-list-item-title mntl-sc-block health-sc-block-heading mntl-sc-block-heading\"> <span class=\"mntl-sc-block-heading__text\"> Avoid Burnout </span> </h2>\\n<figure id=\"mntl-sc-block_1-0-27\" class=\"comp mntl-sc-block mntl-sc-block-image figure-landscape figure-high-res\">\\n<div class=\"figure-media\">\\n<div class=\"img-placeholder\" style=\"padding-bottom:66.7%;\">\\n<img\\ndata-src=\"https://www.verywellmind.com/thmb/nZebkE6biL3vCwDRHTY4NLGPpR4=/2119x1414/filters:no_upscale():max_bytes(150000):strip_icc()/1-1178cfcc460d4055af7557b8e64b51ae.jpg\"\\nalt=\"Shot of a young businesswoman looking overly stressed in her office\"\\nclass=\"lazyload\"\\nwidth=\"2119\"\\nheight=\"1414\"\\ndata-click-tracked=\"true\" data-img-lightbox=\"true\" data-owner=\"&lt;p&gt;PeopleImages/Getty Images&lt;/p&gt;&lt;p&gt;\\xa0&lt;/p&gt;\" data-caption=\"\" data-expand=\"300\" id=\"mntl-sc-block-image_1-0-27\" data-tracking-container=\"true\"\\n/>\\n<noscript>\\n<img src=\"https://www.verywellmind.com/thmb/nZebkE6biL3vCwDRHTY4NLGPpR4=/2119x1414/filters:no_upscale():max_bytes(150000):strip_icc()/1-1178cfcc460d4055af7557b8e64b51ae.jpg\"\\nalt=\"Shot of a young businesswoman looking overly stressed in her office\"\\nwidth=\"2119\"\\nheight=\"1414\"\\nclass=\"img--noscript \" />\\n</noscript>\\n</div> </div>\\n<figcaption id=\"mntl-figure-caption_1-0-8\" class=\"comp mntl-figure-caption figure-article-caption\">\\n<span class=\"figure-article-caption-owner\"><p>PeopleImages/Getty Images</p><p>\\xa0</p></span>\\n</figcaption>\\n</figure>\\n<p id=\"mntl-sc-block_2-0-73\" class=\"comp mntl-sc-block mntl-sc-block-html\">\\n<a href=\"https://www.verywellmind.com/stress-and-burnout-symptoms-and-causes-3144516\" data-component=\"link\" data-source=\"inlineLink\" data-type=\"internalLink\" data-ordinal=\"1\">Burnout</a> can happen when you are exposed to <a href=\"https://www.verywellmind.com/chronic-stress-3145104\" data-component=\"link\" data-source=\"inlineLink\" data-type=\"internalLink\" data-ordinal=\"2\">chronic stress</a>. It can seriously impede success and lead to exhaustion, cynicism, and reduced performance.<span class=\"ql-inline-citation\" data-cite=\"10\"></span>&nbsp;\\n</p>\\n<p id=\"mntl-sc-block_2-0-74\" class=\"comp mntl-sc-block mntl-sc-block-html\">\\nReduced motivation makes it harder to stick to your goals and can make you feel apathetic and uninterested.\\n</p>\\n<p id=\"mntl-sc-block_2-0-75\" class=\"comp mntl-sc-block mntl-sc-block-html\">\\nSelf-care strategies, such as getting enough sleep and engaging in healthy eating, can relieve some stress. But addressing burnout often requires getting to the bottom of the issue that is causing the problem.\\n</p>\\n<p id=\"mntl-sc-block_2-0-76\" class=\"comp mntl-sc-block mntl-sc-block-html\">\\nSometimes, this might mean reassessing your goals. If your goals are creating too much stress or if you are trying to achieve too much too fast, it can be a recipe for burnout. Look for ways to reduce stress, whether that involves shifting your goals, changing your plans, or even doing something more significant like moving somewhere else or changing jobs.\\n</p>\\n<div id=\"mntl-sc-block_1-0-28\" class=\"comp related-link mntl-sc-block mntl-sc-block-featuredlink mntl-block\">\\n<a\\nhref=\"https://www.verywellmind.com/what-to-do-if-you-are-experiencing-burnout-5216152\"\\nrel=\"nocaes\"\\nid=\"mntl-sc-block-featuredlink__link_1-0-1\"\\nclass=\" mntl-sc-block-featuredlink__link mntl-text-link \"\\ndata-tracking-container=\"true\"\\ndata-tracking-id=\"featured-link\"\\n><span class=\"link__wrapper\">“I Can&#39;t Do This Anymore”: What to Do If You Are Experiencing Burnout</span></a>\\n</div>\\n</div>\\n</div>\\n<div id=\"adslot_1-0-8\" class=\"comp mntl-sc-block-adslot adslot mntl-block\"></div>\\n<div id=\"article-outro_1-0\" class=\"comp article-outro mntl-sc-page mntl-block\">\\n<span class=\"heading-toc\" id=\"toc-a-word-from-verywell\"></span> <h2 id=\"mntl-sc-block_3-0\" class=\"comp mntl-sc-block health-sc-block-heading mntl-sc-block-heading\"> <span class=\"mntl-sc-block-heading__text\"> A Word From Verywell </span> </h2>\\n<p id=\"mntl-sc-block_3-0-1\" class=\"comp mntl-sc-block mntl-sc-block-html\">\\nThere is no single measure of success, and certainly no single answer for how to be successful in life. Yet by looking at some of the habits of successful people, you can learn new tactics and strategies to implement in your own daily life. Cultivate and nurture these abilities, and over time you may find that you are better able to reach your goals and achieve the success you want in life.\\n</p>\\n</div>\\n</div>\\n<div id=\"post-article_1-0\" class=\"comp post-article mntl-block\">\\n<div id=\"sources_1-0\" class=\"comp sources mntl-block\">\\n<div id=\"mntl-article-sources_1-0\" class=\"comp mntl-article-sources mntl-expandable-block\" data-scroll-offset=\"70\">\\n<div class=\"loc toggle-content\">\\n<div id=\"mntl-article-sources__wrapper_1-0\" class=\"comp mntl-article-sources__wrapper mntl-block\" data-click-tracked=\"true\">\\n<span id=\"mntl-article-sources__heading_1-0\" class=\"comp mntl-article-sources__heading mntl-text-block\">\\n10 Sources</span>\\n<svg class=\"icon show-icon \">\\n<use xmlns:xlink=\"http://www.w3.org/1999/xlink\" xlink:href=\"#show-icon\"></use>\\n</svg>\\n<svg class=\"icon hide-icon \">\\n<use xmlns:xlink=\"http://www.w3.org/1999/xlink\" xlink:href=\"#hide-icon\"></use>\\n</svg>\\n</div>\\n</div>\\n<div class=\"loc expandable-content\">\\n<div id=\"source-guidelines_1-0\" class=\"comp source-guidelines mntl-text-block\">\\nVerywell Mind uses only high-quality sources, including peer-reviewed studies, to support the facts within our articles. Read our <a href=/our-editorial-process-4778006>editorial process</a> to learn more about how we fact-check and keep our content accurate, reliable, and trustworthy.</div>\\n<div id=\"mntl-article-sources__citation-sources_1-0\" class=\"comp mntl-article-sources__citation-sources mntl-citation-sources mntl-sources\" data-tracking-container=\"true\">\\n<ol class=\"mntl-sources__content\">\\n<li class=\"mntl-sources__source\" id=\"citation-1\"><p>Dweck CS, Yeager DS. <a href=\"https://doi.org/10.1177/1745691618804166\" data-component=\"link\" data-source=\"inlineLink\" data-type=\"externalLink\" data-ordinal=\"1\">Mindsets: A view from two eras</a>. <em>Perspect Psychol Sci.</em> 2019;14(3):481-496. doi:10.1177/1745691618804166</p></li>\\n<li class=\"mntl-sources__source\" id=\"citation-2\"><p>Urquijo I, Extremera N, Azanza G. <a href=\"https://doi.org/10.3390/ijerph16234809\" data-component=\"link\" data-source=\"inlineLink\" data-type=\"externalLink\" data-ordinal=\"1\">The contribution of emotional intelligence to career success: Beyond personality traits</a>. <em>Int J Environ Res Public Health</em>. 2019;16(23). doi:10.3390/ijerph16234809</p></li>\\n<li class=\"mntl-sources__source\" id=\"citation-3\"><p>Giles B, Goods PSR, Warner DR, et al. <a href=\"https://doi.org/10.1016/j.jsams.2017.10.036\" data-component=\"link\" data-source=\"inlineLink\" data-type=\"externalLink\" data-ordinal=\"1\">Mental toughness and behavioural perseverance: A conceptual replication and extension</a>. <em>J Sci Med Sport</em>. 2018;21(6):640-645. doi:10.1016/j.jsams.2017.10.036</p></li>\\n<li class=\"mntl-sources__source\" id=\"citation-4\"><p>Shoda Y, Mischel W, Peake PK. <a href=\"https://doi.org/10.1037/0012-1649.26.6.978\" data-component=\"link\" data-source=\"inlineLink\" data-type=\"externalLink\" data-ordinal=\"1\">Predicting adolescent cognitive and self-regulatory competencies from preschool delay of gratification: Identifying diagnostic conditions</a>.\\xa0<em>Developmental Psychology. </em>1990;26(6):978-986.\\xa0doi:10.1037/0012-1649.26.6.978\\xa0\\xa0</p></li>\\n<li class=\"mntl-sources__source\" id=\"citation-5\"><p>Cerasoli CP, Nicklin JM, Ford MT. <a href=\"https://doi.org/10.1037/a0035661\" data-component=\"link\" data-source=\"inlineLink\" data-type=\"externalLink\" data-ordinal=\"1\">Intrinsic motivation and extrinsic incentives jointly predict performance: A 40-year meta-analysis</a>. <em>Psychol Bull</em>. 2014;140(4):980-1008. doi:10.1037/a0035661</p></li>\\n<li class=\"mntl-sources__source\" id=\"citation-9\"><p>Pittenger DJ. <a href=\"https://doi.org/10.1037/1065-9293.57.3.210\" data-component=\"link\" data-source=\"inlineLink\" data-type=\"externalLink\" data-ordinal=\"1\">Cautionary comments regarding the Myers-Briggs Type Indicator</a>.\\xa0<em>Consult Psychol J Pract Res. </em>2005;57(3):210-221. doi:10.1037/1065-9293.57.3.210\\xa0</p></li>\\n<li class=\"mntl-sources__source\" id=\"citation-6\"><p>Komarraju M, Karau SJ, Schmeck RR, Avdic A. <a href=\"https://doi.org/10.1016/j.paid.2011.04.019\" data-component=\"link\" data-source=\"inlineLink\" data-type=\"externalLink\" data-ordinal=\"1\">The big five personality traits, learning styles, and academic achievement</a>. <em>Pers Indiv Differ</em>. 2011;51(4):472-477. doi:10.1016/j.paid.2011.04.019</p></li>\\n<li class=\"mntl-sources__source\" id=\"citation-7\"><p>MacRae I, Furnham A, Reed M. <a href=\"https://books.google.com/books/about/High_Potential.html?id&#61;x1hLDwAAQBAJ\" data-component=\"link\" data-source=\"inlineLink\" data-type=\"externalLink\" data-ordinal=\"1\">High Potential: How to Spot, Manage, and Develop Talented People at Work</a><em>. </em>Bloomsbury; 2018.</p></li>\\n<li class=\"mntl-sources__source\" id=\"citation-8\"><p>Eagleson C, Hayes S, Matthews A, Perman G, Hirsch CR. <a href=\"https://doi.org/10.1016/j.brat.2015.12.017\" data-component=\"link\" data-source=\"inlineLink\" data-type=\"externalLink\" data-ordinal=\"1\">The power of positive thinking: Pathological worry is reduced by thought replacement in generalized anxiety disorder</a>. <em>Behav Res Ther</em>. 2016;78:13-18. doi:10.1016/j.brat.2015.12.017</p></li>\\n<li class=\"mntl-sources__source\" id=\"citation-10\"><p>Maslach C, Leiter MP.\\xa0<a href=\"https://dx.doi.org/10.1002%2Fwps.20311\" data-component=\"link\" data-source=\"inlineLink\" data-type=\"externalLink\" data-ordinal=\"1\">Understanding the burnout experience: recent research and its implications for psychiatry.</a>\\xa0<em>World Psychiatry</em>. 2016;15(2):103–111. doi:10.1002/wps.20311</p></li>\\n</ol>\\n</div>\\n<span id=\"mntl-article-sources__subheading_1-0\" class=\"comp mntl-article-sources__subheading mntl-text-block\">\\nAdditional Reading</span>\\n<div id=\"mntl-article-sources__additional-reading_1-0\" class=\"comp mntl-article-sources__additional-reading mntl-additional-reading mntl-sources\" data-tracking-container=\"true\">\\n<ul class=\"mntl-sources__content\">\\n<li class=\"mntl-sources__source\"><p>Crum AJ, Salovey P, Achor S. <a href=\"https://doi.org/10.1037/a0031201\" data-component=\"link\" data-source=\"inlineLink\" data-type=\"externalLink\" data-ordinal=\"1\">Rethinking stress: The role of mindsets in determining the stress response.</a> <em>J Pers Soc Psychol.</em> 2013;104(4):716-733. doi:10.1037/a0031201</p></li>\\n<li class=\"mntl-sources__source\"><p>McLain DL, Kefallonitis E, Armani K.<a href=\"https://doi.org/10.3389/fpsyg.2015.00344\" data-component=\"link\" data-source=\"inlineLink\" data-type=\"externalLink\" data-ordinal=\"1\"> Ambiguity tolerance in organizations: Definitional clarification and perspectives on future research</a>. <em>Front Psychol</em>. 2015;6:344. doi:10.3389/fpsyg.2015.00344</p></li>\\n<li class=\"mntl-sources__source\"><p>Mussel P. <a href=\"https://doi.org/10.1002/job.1809\" data-component=\"link\" data-source=\"inlineLink\" data-type=\"externalLink\" data-ordinal=\"1\">Introducing the construct curiosity for predicting job performance</a>. <em>J Organ Behav</em>. 2012;34(4):453-472. doi:10.1002/job.1809\\xa0\\xa0</p></li>\\n</ul>\\n</div>\\n</div>\\n</div>\\n</div>\\n<div id=\"author-bio_1-0\" class=\"comp author-bio\">\\n<div class=\"loc author-bio__image\">\\n<img\\ndata-src=\"https://www.verywellmind.com/thmb/-ez07d8b8Dbxz2SkupCOdooKDGI=/144x0/filters:no_upscale():max_bytes(150000):strip_icc()/IMG_9791-89504ab694d54b66bbd72cb84ffb860e.jpg\"\\nclass=\"lazyload\"\\nwidth=\"144\"\\nheight=\"0\"\\ndata-expand=\"300\"\\n/>\\n<noscript>\\n<img src=\"https://www.verywellmind.com/thmb/-ez07d8b8Dbxz2SkupCOdooKDGI=/144x0/filters:no_upscale():max_bytes(150000):strip_icc()/IMG_9791-89504ab694d54b66bbd72cb84ffb860e.jpg\"\\nalt=\"\"\\nwidth=\"144\"\\nheight=\"0\"\\nclass=\"img--noscript \" />\\n</noscript>\\n</div>\\n<p class=\"author-bio__bio-text\" >\\n<span class=\"author-bio__bio-title\">By <a href=\"https://www.verywellmind.com/kendra-cherry-2794702\">Kendra Cherry</a></span>\\n<br>\\nKendra Cherry, MS, is an author and educational consultant focused on helping students learn about psychology.\\n</p>\\n</div>\\n<div id=\"trust-ribbon_1-0\" class=\"comp trust-ribbon trust-ribbon-expandable-block\">\\n<div class=\"content-wrapper\">\\n<div class=\"loc static-content\">\\n<div id=\"trust-ribbon__editorial_1-0\" class=\"comp trust-ribbon__editorial trust-ribbon-item mntl-block\">\\n<svg class=\"icon trust-ribbon-item__icon-editorial \">\\n<use xmlns:xlink=\"http://www.w3.org/1999/xlink\" xlink:href=\"#trust-ribbon-item__icon-editorial\"></use>\\n</svg>\\n<a\\nhref=\"/our-editorial-process-4778006\"\\nrel=\"nocaes\"\\nid=\"trust-ribbon-item__text_1-0\"\\nclass=\" trust-ribbon-item__text mntl-text-link\"\\ndata-tracking-container=\"true\"\\n><span class=\"link__wrapper\">See Our Editorial Process</span></a>\\n</div>\\n<div id=\"trust-ribbon__review_1-0\" class=\"comp trust-ribbon__review trust-ribbon-item mntl-block\">\\n<svg class=\"icon trust-ribbon-item__icon-review \">\\n<use xmlns:xlink=\"http://www.w3.org/1999/xlink\" xlink:href=\"#trust-ribbon-item__icon-review\"></use>\\n</svg>\\n<a\\nhref=\"/review-board-4796494\"\\nrel=\"nocaes\"\\nid=\"trust-ribbon-item__text_2-0\"\\nclass=\" trust-ribbon-item__text mntl-text-link\"\\ndata-tracking-container=\"true\"\\n><span class=\"link__wrapper\">Meet Our Review Board</span></a>\\n</div>\\n</div>\\n<div class=\"loc toggle-content\">\\n<div id=\"trust-ribbon__feedback_1-0\" class=\"comp trust-ribbon__feedback trust-ribbon-item mntl-block\">\\n<svg class=\"icon trust-ribbon-item__icon-feedback \">\\n<use xmlns:xlink=\"http://www.w3.org/1999/xlink\" xlink:href=\"#trust-ribbon-item__icon-feedback\"></use>\\n</svg>\\n<div id=\"trust-ribbon-item__text_3-0\" class=\"comp trust-ribbon-item__text mntl-text-block\">\\nShare Feedback</div>\\n</div>\\n</div>\\n</div>\\n<div class=\"loc expandable-content\">\\n<div id=\"trust-ribbon__feedback-block_1-0\" class=\"comp trust-ribbon__feedback-block article-feedback mntl-article-feedback\">\\n<div class=\"article-feedback__rating-section js-rating-section\">\\n<div class=\"article-feedback__heading\">Was this page helpful?</div>\\n</div>\\n<div class=\"article-feedback__success-section js-success-section is-hidden\">\\n<div class=\"article-feedback__heading\">Thanks for your feedback!</div>\\n</div>\\n<div class=\"article-feedback__feedback-section js-feedback-section is-hidden\">\\n<div class=\"article-feedback__heading\">What is your feedback?</div>\\n<button id=\"article-feedback__open-form-button_1-0\" class=\"comp article-feedback__feedback-button article-feedback__open-form-button mntl-button\">\\nOther\\n</button>\\n<button id=\"helpful-button_1-0\" class=\"comp article-feedback__feedback-button helpful-button mntl-button\">\\nHelpful\\n</button>\\n<button id=\"report-error-button_1-0\" class=\"comp article-feedback__feedback-button report-error-button mntl-button\">\\nReport an Error\\n</button>\\n<svg class=\"icon close-button \">\\n<use xmlns:xlink=\"http://www.w3.org/1999/xlink\" xlink:href=\"#close-button\"></use>\\n</svg>\\n<form action=\"/ugc-feedback\" method=\"post\" class=\"article-feedback__feedback-form js-feedback-form is-hidden\">\\n<textarea class=\"article-feedback__feedback-text js-feedback-text\" placeholder=\"Tell us more...\" required=\"required\" maxlength=\"1500\"></textarea>\\n<button id=\"article-feedback__submit-button_1-0\" class=\"comp article-feedback__submit-button mntl-button\">\\nSubmit\\n</button>\\n<input type=\"hidden\" name=\"doc-id\" value=\"4165743\" class=\"js-doc-id\" />\\n</form>\\n</div>\\n</div>\\n</div>\\n</div>\\n</div>\\n</div>\\n<div class=\"loc article-right-rail\">\\n<div id=\"mntl-right-rail_1-0\" class=\"comp mntl-right-rail mntl-block\">\\n<div id=\"listsc-billboard-group_1-0\" class=\"comp js-scads-inline-content listsc-billboard-group mntl-block\">\\n<div id=\"mntl-block_18-0\" class=\"comp mntl-block\">\\n<div id=\"health-billboard1-sticky_2-0\" class=\"comp scads-to-load right-rail__item health-billboard1-sticky mntl-sc-sticky-billboard\" data-height=\"1050\" style=\"height: 1050px;\">\\n<div id=\"mntl-sc-sticky-billboard-ad_2-0\" class=\"comp mntl-sc-sticky-billboard-ad billboard1 mntl-billboard mntl-gpt-adunit gpt billboard \">\\n<div id=\"square-flex-1\" class=\"wrapper\"></div>\\n</div>\\n</div>\\n</div>\\n<div id=\"mntl-block_19-0\" class=\"comp mntl-block\">\\n<div id=\"health-billboard2-sticky_1-0\" class=\"comp scads-to-load right-rail__item health-billboard2-sticky mntl-sc-sticky-billboard\" data-height=\"600\" style=\"height: 600px;\">\\n<div id=\"mntl-sc-sticky-billboard-ad_3-0\" class=\"comp mntl-billboard mntl-sc-sticky-billboard-ad billboard2-dynamic mntl-dynamic-billboard mntl-gpt-dynamic-adunit mntl-gpt-adunit gpt billboard dynamic\">\\n<div id=\"square-flex-2\" class=\"wrapper\" data-type=\"billboard\" data-pos=\"btf1\" data-priority=\"3\" data-sizes=\"[[300, 250], [300, 251],[300, 600],[300, 601],[160, 600],[2, 1], &quot;fluid&quot;]\" data-rtb=\"true\" data-wait-for-third-party=\"false\" data-targeting=\"{}\" data-auction-floor-id=\"7d071a54c1054567993fd5cf0e81dc8e\" data-auction-floor-value=\"5\"></div>\\n</div>\\n</div>\\n</div>\\n<div id=\"mntl-block_20-0\" class=\"comp mntl-block\">\\n<div id=\"health-billboard3-sticky_1-0\" class=\"comp scads-to-load right-rail__item health-billboard3-sticky mntl-sc-sticky-billboard\" data-height=\"600\" style=\"height: 600px;\">\\n<div id=\"mntl-sc-sticky-billboard-ad_4-0\" class=\"comp mntl-billboard mntl-sc-sticky-billboard-ad billboard3-dynamic mntl-dynamic-billboard mntl-gpt-dynamic-adunit mntl-gpt-adunit gpt billboard dynamic\">\\n<div id=\"square-fixed\" class=\"wrapper\" data-type=\"billboard\" data-pos=\"btf2\" data-priority=\"5\" data-sizes=\"[[300, 250],[299, 251],&quot;fluid&quot;]\" data-rtb=\"true\" data-wait-for-third-party=\"false\" data-targeting=\"{}\" data-auction-floor-id=\"2dcdc7e66728481e861764c78da9c270\" data-auction-floor-value=\"5\"></div>\\n</div>\\n</div>\\n</div>\\n<div id=\"mntl-block_21-0\" class=\"comp mntl-block\">\\n<div id=\"health-billboard4-sticky-lazy_1-0\" class=\"comp scads-to-load right-rail__item health-billboard4-sticky-lazy mntl-sc-sticky-billboard\" data-height=\"600\" style=\"height: 600px;\">\\n<div id=\"mntl-sc-sticky-billboard-ad_5-0\" class=\"comp js-lazy-ad js-billboard-lazy mntl-billboard mntl-sc-sticky-billboard-ad billboard4-dynamic-lazy mntl-lazy-billboard mntl-lazy-ad mntl-gpt-dynamic-adunit mntl-gpt-adunit gpt billboard dynamic\">\\n<div id=\"square-fixed\" class=\"wrapper\" data-type=\"billboard\" data-pos=\"btf3\" data-priority=\"6\" data-sizes=\"[[300, 250],[299, 251],&quot;fluid&quot;]\" data-rtb=\"true\" data-wait-for-third-party=\"false\" data-targeting=\"{}\" data-auction-floor-id=\"cbe6031446634df5a2fd0e715d74dac4\" data-auction-floor-value=\"5\"></div>\\n</div>\\n</div>\\n</div>\\n<div id=\"mntl-block_22-0\" class=\"comp mntl-block\">\\n<div id=\"health-billboard5-sticky-lazy_1-0\" class=\"comp scads-to-load right-rail__item health-billboard5-sticky-lazy mntl-sc-sticky-billboard\" data-height=\"600\" style=\"height: 600px;\">\\n<div id=\"mntl-sc-sticky-billboard-ad_6-0\" class=\"comp js-lazy-ad js-billboard-lazy mntl-billboard mntl-sc-sticky-billboard-ad billboard5-dynamic-lazy mntl-lazy-billboard mntl-lazy-ad mntl-gpt-dynamic-adunit mntl-gpt-adunit gpt billboard dynamic\">\\n<div id=\"square-fixed\" class=\"wrapper\" data-type=\"billboard\" data-pos=\"btf4\" data-priority=\"7\" data-sizes=\"[[300, 250],[299, 251],&quot;fluid&quot;]\" data-rtb=\"true\" data-wait-for-third-party=\"false\" data-targeting=\"{}\" data-auction-floor-id=\"b4d894c5541b478ab500a7abadf6bcba\" data-auction-floor-value=\"5\"></div>\\n</div>\\n</div>\\n</div>\\n<div id=\"mntl-block_23-0\" class=\"comp mntl-block\">\\n<div id=\"health-billboard6-sticky-lazy_1-0\" class=\"comp scads-to-load right-rail__item health-billboard6-sticky-lazy mntl-sc-sticky-billboard\" data-height=\"600\" style=\"height: 600px;\">\\n<div id=\"mntl-sc-sticky-billboard-ad_7-0\" class=\"comp js-lazy-ad js-billboard-lazy mntl-billboard mntl-sc-sticky-billboard-ad billboard6-dynamic-lazy mntl-lazy-billboard mntl-lazy-ad mntl-gpt-dynamic-adunit mntl-gpt-adunit gpt billboard dynamic\">\\n<div id=\"square-fixed\" class=\"wrapper\" data-type=\"billboard\" data-pos=\"btf5\" data-priority=\"8\" data-sizes=\"[[300, 250],[299, 251],&quot;fluid&quot;]\" data-rtb=\"true\" data-wait-for-third-party=\"false\" data-targeting=\"{}\" data-auction-floor-id=\"c64657d786874d1c8e1dcdce6f5d696e\" data-auction-floor-value=\"5\"></div>\\n</div>\\n</div>\\n</div>\\n<div id=\"mntl-block_24-0\" class=\"comp mntl-block\">\\n<div id=\"health-billboard7-sticky-lazy_1-0\" class=\"comp scads-to-load right-rail__item health-billboard7-sticky-lazy mntl-sc-sticky-billboard\" data-height=\"600\" style=\"height: 600px;\">\\n<div id=\"mntl-sc-sticky-billboard-ad_8-0\" class=\"comp js-lazy-ad js-billboard-lazy mntl-billboard mntl-sc-sticky-billboard-ad billboard7-dynamic-lazy mntl-lazy-billboard mntl-lazy-ad mntl-gpt-dynamic-adunit mntl-gpt-adunit gpt billboard dynamic\">\\n<div id=\"square-fixed\" class=\"wrapper\" data-type=\"billboard\" data-pos=\"btf6\" data-priority=\"9\" data-sizes=\"[[300, 250],[299, 251],&quot;fluid&quot;]\" data-rtb=\"true\" data-wait-for-third-party=\"false\" data-targeting=\"{}\" data-auction-floor-id=\"45dd3e3fd74946738c80a9d751c5ff2a\" data-auction-floor-value=\"5\"></div>\\n</div>\\n</div>\\n</div>\\n<div id=\"mntl-block_25-0\" class=\"comp mntl-block\">\\n<div id=\"health-billboard8-sticky-lazy_1-0\" class=\"comp scads-to-load right-rail__item health-billboard8-sticky-lazy mntl-sc-sticky-billboard\" data-height=\"600\" style=\"height: 600px;\">\\n<div id=\"mntl-sc-sticky-billboard-ad_9-0\" class=\"comp js-billboard-lazy mntl-billboard mntl-sc-sticky-billboard-ad billboard8-dynamic-lazy mntl-lazy-billboard mntl-lazy-ad mntl-gpt-dynamic-adunit mntl-gpt-adunit gpt billboard dynamic\">\\n<div id=\"square-fixed\" class=\"wrapper\" data-type=\"billboard\" data-pos=\"btf7\" data-priority=\"10\" data-sizes=\"[[300, 250],[299, 251],&quot;fluid&quot;]\" data-rtb=\"true\" data-wait-for-third-party=\"false\" data-targeting=\"{}\" data-auction-floor-id=\"10d3fb556729437aafbc10c54435e530\" data-auction-floor-value=\"20\"></div>\\n</div>\\n</div>\\n</div>\\n</div>\\n</div>\\n</div>\\n</article>\\n<div id=\"journey-nav-carousel_1-0\" class=\"comp journey-nav-carousel journey-carousel mntl-carousel--journey mntl-carousel mntl-carousel\" data-tracking-container=\"true\" data-defer=\"load\" data-defer-params></div>\\n<div id=\"prefooter_1-0\" class=\"comp prefooter mntl-block\">\\n<div id=\"leaderboard-post-content_1-0\" class=\"comp has-right-label has-left-label js-lazy-ad leaderboard-post-content leaderboard-deferred-footer leaderboard--lazy leaderboard mntl-flexible-leaderboard mntl-flexible-ad mntl-gpt-adunit gpt leaderboard dynamic\">\\n<div id=\"leaderboardac\" class=\"wrapper\" data-type=\"leaderboard\" data-pos=\"ac\" data-priority=\"7\" data-sizes=\"[[728, 90], &quot;fluid&quot;, [970, 250], [1, 11], [1200, 450]]\" data-rtb=\"true\" data-wait-for-third-party=\"false\" data-targeting=\"{}\" data-auction-floor-id=\"1c1643d22eb84479a489da68572b7eda\" data-auction-floor-value=\"5\"></div>\\n</div>\\n<div id=\"prefooter-content_1-0\" class=\"comp prefooter-content mntl-block\" data-tracking-container=\"true\">\\n<section id=\"related-article-list_2-0\" class=\"comp related-article-list article-list\" data-tracking-container=\"true\">\\n<span class=\"section-title\">Related Articles</span>\\n<div class=\"loc content section-body\">\\n<ul id=\"block-list_2-0\" class=\"comp g g-four-up block-list\" data-chunk>\\n<li class=\"g-item block-list-item\">\\n<a id=\"block_2-0\" class=\"comp block--small block\" rel data-doc-id=\"2795025\" href=\"https://www.verywellmind.com/what-is-a-mindset-2795025\" data-ordinal=\"1\">\\n<div class=\"block__media\">\\n<div class=\"img-placeholder\" style=\"padding-bottom:62.5%;\">\\n<img\\ndata-srcset=\"https://www.verywellmind.com/thmb/xmaa-YKYJIn_WN_AFR5_-XyHxkg=/225x0/filters:no_upscale():max_bytes(150000):strip_icc()/462977555-56a7965b3df78cf7729765e8.jpg 225w, https://www.verywellmind.com/thmb/TRTTYDWaH8rfuAZ8C3w4xrjsOjs=/245x0/filters:no_upscale():max_bytes(150000):strip_icc()/462977555-56a7965b3df78cf7729765e8.jpg 245w, https://www.verywellmind.com/thmb/8te1dRL5pd9HZjvxjBaJC1opg6s=/265x0/filters:no_upscale():max_bytes(150000):strip_icc()/462977555-56a7965b3df78cf7729765e8.jpg 265w, https://www.verywellmind.com/thmb/Uu2jkB7hXNTHz67If2oW1DQ7LNg=/285x0/filters:no_upscale():max_bytes(150000):strip_icc()/462977555-56a7965b3df78cf7729765e8.jpg 285w, https://www.verywellmind.com/thmb/T3CvhOoQDEh8BKPBMiuIkK_Fepc=/305x0/filters:no_upscale():max_bytes(150000):strip_icc()/462977555-56a7965b3df78cf7729765e8.jpg 305w\"\\ndata-sizes=\"(max-width: 560px) calc((100vw - 2rem) / 3), (max-width: 864px) calc((50vw - 3.25rem) / 2), (max-width: 1040px) calc(33vw - 2.5rem), (max-width: 1248px) calc(25vw - 2.25rem), 285px\"\\ndata-src=\"https://www.verywellmind.com/thmb/h2mlPBcM9jCYHf06y_vqtFWRLCs=/400x250/filters:no_upscale():max_bytes(150000):strip_icc()/462977555-56a7965b3df78cf7729765e8.jpg\"\\nalt=\"A woman contemplating her mindset\"\\nclass=\"lazyload block__img\"\\nwidth=\"400\"\\nheight=\"250\"\\nsrc=\"data:image/png;base64,iVBORw0KGgoAAAANSUhEUgAAAAEAAAABCAQAAAC1HAwCAAAAC0lEQVR42mM88x8AAp0BzdNtlUkAAAAASUVORK5CYII=\" data-expand=\"300\"\\n/>\\n<noscript>\\n<img src=\"https://www.verywellmind.com/thmb/h2mlPBcM9jCYHf06y_vqtFWRLCs=/400x250/filters:no_upscale():max_bytes(150000):strip_icc()/462977555-56a7965b3df78cf7729765e8.jpg\"\\nsrcset=\"https://www.verywellmind.com/thmb/xmaa-YKYJIn_WN_AFR5_-XyHxkg=/225x0/filters:no_upscale():max_bytes(150000):strip_icc()/462977555-56a7965b3df78cf7729765e8.jpg 225w, https://www.verywellmind.com/thmb/TRTTYDWaH8rfuAZ8C3w4xrjsOjs=/245x0/filters:no_upscale():max_bytes(150000):strip_icc()/462977555-56a7965b3df78cf7729765e8.jpg 245w, https://www.verywellmind.com/thmb/8te1dRL5pd9HZjvxjBaJC1opg6s=/265x0/filters:no_upscale():max_bytes(150000):strip_icc()/462977555-56a7965b3df78cf7729765e8.jpg 265w, https://www.verywellmind.com/thmb/Uu2jkB7hXNTHz67If2oW1DQ7LNg=/285x0/filters:no_upscale():max_bytes(150000):strip_icc()/462977555-56a7965b3df78cf7729765e8.jpg 285w, https://www.verywellmind.com/thmb/T3CvhOoQDEh8BKPBMiuIkK_Fepc=/305x0/filters:no_upscale():max_bytes(150000):strip_icc()/462977555-56a7965b3df78cf7729765e8.jpg 305w\"\\nalt=\"A woman contemplating her mindset\"\\nwidth=\"400\"\\nheight=\"250\"\\nclass=\"img--noscript block__img\" />\\n</noscript>\\n</div>\\n</div>\\n<div class=\"block__content\" data-kicker=\"Theories\">\\n<div class=\"block__title\">\\n<span>Why Cultivating a Growth Mindset Can Boost Your Success</span>\\n</div>\\n<div class=\"block__byline\" data-byline=\"Medically reviewed by Shaheen Lakhan, MD, PhD, FAAN\"></div>\\n</div>\\n</a>\\n</li>\\n<li class=\"g-item block-list-item\">\\n<a id=\"block_2-0\" class=\"comp block--small block\" rel data-doc-id=\"2795387\" href=\"https://www.verywellmind.com/what-is-self-determination-theory-2795387\" data-ordinal=\"2\">\\n<div class=\"block__media\">\\n<div class=\"img-placeholder\" style=\"padding-bottom:62.5%;\">\\n<img\\ndata-srcset=\"https://www.verywellmind.com/thmb/uXOUlXWHIKKDD6jhRd1IW0qpPhc=/225x0/filters:no_upscale():max_bytes(150000):strip_icc()/GettyImages-486459031-569900185f9b58eba49ecddf.jpg 225w, https://www.verywellmind.com/thmb/jXFgsScf0yqLM2ZfqbYXuzDy0Z0=/245x0/filters:no_upscale():max_bytes(150000):strip_icc()/GettyImages-486459031-569900185f9b58eba49ecddf.jpg 245w, https://www.verywellmind.com/thmb/Rh-xbb-sAR2_5I-3Gtiqby_hE4E=/265x0/filters:no_upscale():max_bytes(150000):strip_icc()/GettyImages-486459031-569900185f9b58eba49ecddf.jpg 265w, https://www.verywellmind.com/thmb/RsAKvM9BXJM634N_k-T9cG6XoW8=/285x0/filters:no_upscale():max_bytes(150000):strip_icc()/GettyImages-486459031-569900185f9b58eba49ecddf.jpg 285w, https://www.verywellmind.com/thmb/d9RUYoWuL_9SWCIkZ4gPMFQ4IjE=/305x0/filters:no_upscale():max_bytes(150000):strip_icc()/GettyImages-486459031-569900185f9b58eba49ecddf.jpg 305w\"\\ndata-sizes=\"(max-width: 560px) calc((100vw - 2rem) / 3), (max-width: 864px) calc((50vw - 3.25rem) / 2), (max-width: 1040px) calc(33vw - 2.5rem), (max-width: 1248px) calc(25vw - 2.25rem), 285px\"\\ndata-src=\"https://www.verywellmind.com/thmb/SvPRR3lIND1_4HEv3qkdCVMhRSk=/400x250/filters:no_upscale():max_bytes(150000):strip_icc()/GettyImages-486459031-569900185f9b58eba49ecddf.jpg\"\\nalt=\"Self-determined man\"\\nclass=\"lazyload block__img\"\\nwidth=\"400\"\\nheight=\"250\"\\nsrc=\"data:image/png;base64,iVBORw0KGgoAAAANSUhEUgAAAAEAAAABCAQAAAC1HAwCAAAAC0lEQVR42mM88x8AAp0BzdNtlUkAAAAASUVORK5CYII=\" data-expand=\"300\"\\n/>\\n<noscript>\\n<img src=\"https://www.verywellmind.com/thmb/SvPRR3lIND1_4HEv3qkdCVMhRSk=/400x250/filters:no_upscale():max_bytes(150000):strip_icc()/GettyImages-486459031-569900185f9b58eba49ecddf.jpg\"\\nsrcset=\"https://www.verywellmind.com/thmb/uXOUlXWHIKKDD6jhRd1IW0qpPhc=/225x0/filters:no_upscale():max_bytes(150000):strip_icc()/GettyImages-486459031-569900185f9b58eba49ecddf.jpg 225w, https://www.verywellmind.com/thmb/jXFgsScf0yqLM2ZfqbYXuzDy0Z0=/245x0/filters:no_upscale():max_bytes(150000):strip_icc()/GettyImages-486459031-569900185f9b58eba49ecddf.jpg 245w, https://www.verywellmind.com/thmb/Rh-xbb-sAR2_5I-3Gtiqby_hE4E=/265x0/filters:no_upscale():max_bytes(150000):strip_icc()/GettyImages-486459031-569900185f9b58eba49ecddf.jpg 265w, https://www.verywellmind.com/thmb/RsAKvM9BXJM634N_k-T9cG6XoW8=/285x0/filters:no_upscale():max_bytes(150000):strip_icc()/GettyImages-486459031-569900185f9b58eba49ecddf.jpg 285w, https://www.verywellmind.com/thmb/d9RUYoWuL_9SWCIkZ4gPMFQ4IjE=/305x0/filters:no_upscale():max_bytes(150000):strip_icc()/GettyImages-486459031-569900185f9b58eba49ecddf.jpg 305w\"\\nalt=\"Self-determined man\"\\nwidth=\"400\"\\nheight=\"250\"\\nclass=\"img--noscript block__img\" />\\n</noscript>\\n</div>\\n</div>\\n<div class=\"block__content\" data-kicker=\"Theories\">\\n<div class=\"block__title\">\\n<span>How Does Self-Determination Theory Explain Motivation?</span>\\n</div>\\n<div class=\"block__byline\" data-byline=\"Medically reviewed by David Susman, PhD\"></div>\\n</div>\\n</a>\\n</li>\\n<li class=\"g-item block-list-item\">\\n<a id=\"block_2-0\" class=\"comp block--small block\" rel data-doc-id=\"6561079\" href=\"https://www.verywellmind.com/what-is-arrival-fallacy-6561079\" data-ordinal=\"3\">\\n<div class=\"block__media\">\\n<div class=\"img-placeholder\" style=\"padding-bottom:62.5%;\">\\n<img\\ndata-srcset=\"https://www.verywellmind.com/thmb/aZ5qU9hnCkbwb--3xWkBn3wjzj0=/225x0/filters:no_upscale():max_bytes(150000):strip_icc()/GettyImages-1356429549-1e364e925569479984fe206067d12f77.jpg 225w, https://www.verywellmind.com/thmb/vhDyJqOSeOQBd0jq4ZBp6xYnT90=/245x0/filters:no_upscale():max_bytes(150000):strip_icc()/GettyImages-1356429549-1e364e925569479984fe206067d12f77.jpg 245w, https://www.verywellmind.com/thmb/fcL3ZEu9fv7D8fdk5ymhS_LgpKc=/265x0/filters:no_upscale():max_bytes(150000):strip_icc()/GettyImages-1356429549-1e364e925569479984fe206067d12f77.jpg 265w, https://www.verywellmind.com/thmb/4oDRCyZRLRJgwSCspLfbD5KR_lw=/285x0/filters:no_upscale():max_bytes(150000):strip_icc()/GettyImages-1356429549-1e364e925569479984fe206067d12f77.jpg 285w, https://www.verywellmind.com/thmb/j7gUUpqu_qIZbH-MpI7angJW1uo=/305x0/filters:no_upscale():max_bytes(150000):strip_icc()/GettyImages-1356429549-1e364e925569479984fe206067d12f77.jpg 305w\"\\ndata-sizes=\"(max-width: 560px) calc((100vw - 2rem) / 3), (max-width: 864px) calc((50vw - 3.25rem) / 2), (max-width: 1040px) calc(33vw - 2.5rem), (max-width: 1248px) calc(25vw - 2.25rem), 285px\"\\ndata-src=\"https://www.verywellmind.com/thmb/dO2CXhZe9wGSMMrHN7L5b1GUOd4=/400x250/filters:no_upscale():max_bytes(150000):strip_icc()/GettyImages-1356429549-1e364e925569479984fe206067d12f77.jpg\"\\nalt=\"person looking out the window\"\\nclass=\"lazyload block__img\"\\nwidth=\"400\"\\nheight=\"250\"\\nsrc=\"data:image/png;base64,iVBORw0KGgoAAAANSUhEUgAAAAEAAAABCAQAAAC1HAwCAAAAC0lEQVR42mM88x8AAp0BzdNtlUkAAAAASUVORK5CYII=\" data-expand=\"300\"\\n/>\\n<noscript>\\n<img src=\"https://www.verywellmind.com/thmb/dO2CXhZe9wGSMMrHN7L5b1GUOd4=/400x250/filters:no_upscale():max_bytes(150000):strip_icc()/GettyImages-1356429549-1e364e925569479984fe206067d12f77.jpg\"\\nsrcset=\"https://www.verywellmind.com/thmb/aZ5qU9hnCkbwb--3xWkBn3wjzj0=/225x0/filters:no_upscale():max_bytes(150000):strip_icc()/GettyImages-1356429549-1e364e925569479984fe206067d12f77.jpg 225w, https://www.verywellmind.com/thmb/vhDyJqOSeOQBd0jq4ZBp6xYnT90=/245x0/filters:no_upscale():max_bytes(150000):strip_icc()/GettyImages-1356429549-1e364e925569479984fe206067d12f77.jpg 245w, https://www.verywellmind.com/thmb/fcL3ZEu9fv7D8fdk5ymhS_LgpKc=/265x0/filters:no_upscale():max_bytes(150000):strip_icc()/GettyImages-1356429549-1e364e925569479984fe206067d12f77.jpg 265w, https://www.verywellmind.com/thmb/4oDRCyZRLRJgwSCspLfbD5KR_lw=/285x0/filters:no_upscale():max_bytes(150000):strip_icc()/GettyImages-1356429549-1e364e925569479984fe206067d12f77.jpg 285w, https://www.verywellmind.com/thmb/j7gUUpqu_qIZbH-MpI7angJW1uo=/305x0/filters:no_upscale():max_bytes(150000):strip_icc()/GettyImages-1356429549-1e364e925569479984fe206067d12f77.jpg 305w\"\\nalt=\"person looking out the window\"\\nwidth=\"400\"\\nheight=\"250\"\\nclass=\"img--noscript block__img\" />\\n</noscript>\\n</div>\\n</div>\\n<div class=\"block__content\" data-kicker=\"Depression\">\\n<div class=\"block__title\">\\n<span>What Is Arrival Fallacy?</span>\\n</div>\\n<div class=\"block__byline\" data-byline=\"Medically reviewed by Sabrina Romanoff, PsyD\"></div>\\n</div>\\n</a>\\n</li>\\n<li class=\"g-item block-list-item\">\\n<a id=\"block_2-0\" class=\"comp block--small block\" rel data-doc-id=\"2795378\" href=\"https://www.verywellmind.com/what-is-motivation-2795378\" data-ordinal=\"4\">\\n<div class=\"block__media\">\\n<div class=\"img-placeholder\" style=\"padding-bottom:62.5%;\">\\n<img\\ndata-srcset=\"https://www.verywellmind.com/thmb/wHKSrRo5vQWCETSSwy1pQz2ps_M=/225x0/filters:no_upscale():max_bytes(150000):strip_icc()/what-is-motivation-2795378_color4-5b61dbeec9e77c0050889e49.png 225w, https://www.verywellmind.com/thmb/iwbaAj8GJO34rJcQR6Yx_JPjetM=/245x0/filters:no_upscale():max_bytes(150000):strip_icc()/what-is-motivation-2795378_color4-5b61dbeec9e77c0050889e49.png 245w, https://www.verywellmind.com/thmb/DkYNpsyd9FYUeJR3OU4bb-_3OWI=/265x0/filters:no_upscale():max_bytes(150000):strip_icc()/what-is-motivation-2795378_color4-5b61dbeec9e77c0050889e49.png 265w, https://www.verywellmind.com/thmb/7_K7xbd71yfe-efidvmpGGB1sPw=/285x0/filters:no_upscale():max_bytes(150000):strip_icc()/what-is-motivation-2795378_color4-5b61dbeec9e77c0050889e49.png 285w, https://www.verywellmind.com/thmb/1phsdaPvYpyDaMNIlJvftTXcj1A=/305x0/filters:no_upscale():max_bytes(150000):strip_icc()/what-is-motivation-2795378_color4-5b61dbeec9e77c0050889e49.png 305w\"\\ndata-sizes=\"(max-width: 560px) calc((100vw - 2rem) / 3), (max-width: 864px) calc((50vw - 3.25rem) / 2), (max-width: 1040px) calc(33vw - 2.5rem), (max-width: 1248px) calc(25vw - 2.25rem), 285px\"\\ndata-src=\"https://www.verywellmind.com/thmb/pxzr_Ud4kz45AoGHO4hMEzpT4sI=/400x250/filters:no_upscale():max_bytes(150000):strip_icc()/what-is-motivation-2795378_color4-5b61dbeec9e77c0050889e49.png\"\\nalt=\"Components of Motivation\"\\nclass=\"lazyload block__img\"\\nwidth=\"400\"\\nheight=\"250\"\\nsrc=\"data:image/png;base64,iVBORw0KGgoAAAANSUhEUgAAAAEAAAABCAQAAAC1HAwCAAAAC0lEQVR42mM88x8AAp0BzdNtlUkAAAAASUVORK5CYII=\" data-expand=\"300\"\\n/>\\n<noscript>\\n<img src=\"https://www.verywellmind.com/thmb/pxzr_Ud4kz45AoGHO4hMEzpT4sI=/400x250/filters:no_upscale():max_bytes(150000):strip_icc()/what-is-motivation-2795378_color4-5b61dbeec9e77c0050889e49.png\"\\nsrcset=\"https://www.verywellmind.com/thmb/wHKSrRo5vQWCETSSwy1pQz2ps_M=/225x0/filters:no_upscale():max_bytes(150000):strip_icc()/what-is-motivation-2795378_color4-5b61dbeec9e77c0050889e49.png 225w, https://www.verywellmind.com/thmb/iwbaAj8GJO34rJcQR6Yx_JPjetM=/245x0/filters:no_upscale():max_bytes(150000):strip_icc()/what-is-motivation-2795378_color4-5b61dbeec9e77c0050889e49.png 245w, https://www.verywellmind.com/thmb/DkYNpsyd9FYUeJR3OU4bb-_3OWI=/265x0/filters:no_upscale():max_bytes(150000):strip_icc()/what-is-motivation-2795378_color4-5b61dbeec9e77c0050889e49.png 265w, https://www.verywellmind.com/thmb/7_K7xbd71yfe-efidvmpGGB1sPw=/285x0/filters:no_upscale():max_bytes(150000):strip_icc()/what-is-motivation-2795378_color4-5b61dbeec9e77c0050889e49.png 285w, https://www.verywellmind.com/thmb/1phsdaPvYpyDaMNIlJvftTXcj1A=/305x0/filters:no_upscale():max_bytes(150000):strip_icc()/what-is-motivation-2795378_color4-5b61dbeec9e77c0050889e49.png 305w\"\\nalt=\"Components of Motivation\"\\nwidth=\"400\"\\nheight=\"250\"\\nclass=\"img--noscript block__img\" />\\n</noscript>\\n</div>\\n</div>\\n<div class=\"block__content\" data-kicker=\"Theories\">\\n<div class=\"block__title\">\\n<span>The Psychology of What Motivates Us</span>\\n</div>\\n<div class=\"block__byline\" data-byline=\"Medically reviewed by Amy Morin, LCSW\"></div>\\n</div>\\n</a>\\n</li>\\n<li class=\"g-item block-list-item\">\\n<a id=\"block_2-0\" class=\"comp block--small block\" rel data-doc-id=\"2795954\" href=\"https://www.verywellmind.com/what-is-self-efficacy-2795954\" data-ordinal=\"5\">\\n<div class=\"block__media\">\\n<div class=\"img-placeholder\" style=\"padding-bottom:62.5%;\">\\n<img\\ndata-srcset=\"https://www.verywellmind.com/thmb/EKD9OXGSxCuqiiJ-_VBtS3oc5hY=/225x0/filters:no_upscale():max_bytes(150000):strip_icc()/Stocksy_txp5484f3b7ZA1100_Medium_825222-575e18145f9b58f22e6e9fc1.jpg 225w, https://www.verywellmind.com/thmb/MJETNI-Z3RJmvxW7n5BWcq-S868=/245x0/filters:no_upscale():max_bytes(150000):strip_icc()/Stocksy_txp5484f3b7ZA1100_Medium_825222-575e18145f9b58f22e6e9fc1.jpg 245w, https://www.verywellmind.com/thmb/PNVcjpkeMeejq0wmoH8-G4cl51U=/265x0/filters:no_upscale():max_bytes(150000):strip_icc()/Stocksy_txp5484f3b7ZA1100_Medium_825222-575e18145f9b58f22e6e9fc1.jpg 265w, https://www.verywellmind.com/thmb/lcsBzUSUKUMeYDFLmEp_Vh4FA4E=/285x0/filters:no_upscale():max_bytes(150000):strip_icc()/Stocksy_txp5484f3b7ZA1100_Medium_825222-575e18145f9b58f22e6e9fc1.jpg 285w, https://www.verywellmind.com/thmb/mXBJp7LyPO9Bkwr_lPu7xWy1K6U=/305x0/filters:no_upscale():max_bytes(150000):strip_icc()/Stocksy_txp5484f3b7ZA1100_Medium_825222-575e18145f9b58f22e6e9fc1.jpg 305w\"\\ndata-sizes=\"(max-width: 560px) calc((100vw - 2rem) / 3), (max-width: 864px) calc((50vw - 3.25rem) / 2), (max-width: 1040px) calc(33vw - 2.5rem), (max-width: 1248px) calc(25vw - 2.25rem), 285px\"\\ndata-src=\"https://www.verywellmind.com/thmb/s9oF1Ld35We182I3ymgG6ly_nwY=/400x250/filters:no_upscale():max_bytes(150000):strip_icc()/Stocksy_txp5484f3b7ZA1100_Medium_825222-575e18145f9b58f22e6e9fc1.jpg\"\\nalt=\"businesswoman speaking with colleagues\"\\nclass=\"lazyload block__img\"\\nwidth=\"400\"\\nheight=\"250\"\\nsrc=\"data:image/png;base64,iVBORw0KGgoAAAANSUhEUgAAAAEAAAABCAQAAAC1HAwCAAAAC0lEQVR42mM88x8AAp0BzdNtlUkAAAAASUVORK5CYII=\" data-expand=\"300\"\\n/>\\n<noscript>\\n<img src=\"https://www.verywellmind.com/thmb/s9oF1Ld35We182I3ymgG6ly_nwY=/400x250/filters:no_upscale():max_bytes(150000):strip_icc()/Stocksy_txp5484f3b7ZA1100_Medium_825222-575e18145f9b58f22e6e9fc1.jpg\"\\nsrcset=\"https://www.verywellmind.com/thmb/EKD9OXGSxCuqiiJ-_VBtS3oc5hY=/225x0/filters:no_upscale():max_bytes(150000):strip_icc()/Stocksy_txp5484f3b7ZA1100_Medium_825222-575e18145f9b58f22e6e9fc1.jpg 225w, https://www.verywellmind.com/thmb/MJETNI-Z3RJmvxW7n5BWcq-S868=/245x0/filters:no_upscale():max_bytes(150000):strip_icc()/Stocksy_txp5484f3b7ZA1100_Medium_825222-575e18145f9b58f22e6e9fc1.jpg 245w, https://www.verywellmind.com/thmb/PNVcjpkeMeejq0wmoH8-G4cl51U=/265x0/filters:no_upscale():max_bytes(150000):strip_icc()/Stocksy_txp5484f3b7ZA1100_Medium_825222-575e18145f9b58f22e6e9fc1.jpg 265w, https://www.verywellmind.com/thmb/lcsBzUSUKUMeYDFLmEp_Vh4FA4E=/285x0/filters:no_upscale():max_bytes(150000):strip_icc()/Stocksy_txp5484f3b7ZA1100_Medium_825222-575e18145f9b58f22e6e9fc1.jpg 285w, https://www.verywellmind.com/thmb/mXBJp7LyPO9Bkwr_lPu7xWy1K6U=/305x0/filters:no_upscale():max_bytes(150000):strip_icc()/Stocksy_txp5484f3b7ZA1100_Medium_825222-575e18145f9b58f22e6e9fc1.jpg 305w\"\\nalt=\"businesswoman speaking with colleagues\"\\nwidth=\"400\"\\nheight=\"250\"\\nclass=\"img--noscript block__img\" />\\n</noscript>\\n</div>\\n</div>\\n<div class=\"block__content\" data-kicker=\"Theories\">\\n<div class=\"block__title\">\\n<span>How Self Efficacy Helps You Achieve Your Goals</span>\\n</div>\\n<div class=\"block__byline\" data-byline=\"Medically reviewed by Amy Morin, LCSW\"></div>\\n</div>\\n</a>\\n</li>\\n<li class=\"g-item block-list-item\">\\n<a id=\"block_2-0\" class=\"comp block--small block\" rel data-doc-id=\"2795719\" href=\"https://www.verywellmind.com/how-to-keep-your-new-years-resolutions-2795719\" data-ordinal=\"6\">\\n<div class=\"block__media\">\\n<div class=\"img-placeholder\" style=\"padding-bottom:62.5%;\">\\n<img\\ndata-srcset=\"https://www.verywellmind.com/thmb/orq4ENYoKO_gcF-QmHnT4SIDPlE=/225x0/filters:no_upscale():max_bytes(150000):strip_icc()/how-to-keep-your-new-years-resolutions-2795719-notext-v2-c4b48489379c487898e33298b9ab92ec.png 225w, https://www.verywellmind.com/thmb/rhRCtiT8D0RENN-YeqauoO-rUrA=/245x0/filters:no_upscale():max_bytes(150000):strip_icc()/how-to-keep-your-new-years-resolutions-2795719-notext-v2-c4b48489379c487898e33298b9ab92ec.png 245w, https://www.verywellmind.com/thmb/nfnhg7MC3NxSV8dZVRsYM4VT83s=/265x0/filters:no_upscale():max_bytes(150000):strip_icc()/how-to-keep-your-new-years-resolutions-2795719-notext-v2-c4b48489379c487898e33298b9ab92ec.png 265w, https://www.verywellmind.com/thmb/3UwVRJckYPpgQI-aqN4N1TpSJRY=/285x0/filters:no_upscale():max_bytes(150000):strip_icc()/how-to-keep-your-new-years-resolutions-2795719-notext-v2-c4b48489379c487898e33298b9ab92ec.png 285w, https://www.verywellmind.com/thmb/pG2HzJUKES6AoQYQJMT3wUdpi3Q=/305x0/filters:no_upscale():max_bytes(150000):strip_icc()/how-to-keep-your-new-years-resolutions-2795719-notext-v2-c4b48489379c487898e33298b9ab92ec.png 305w\"\\ndata-sizes=\"(max-width: 560px) calc((100vw - 2rem) / 3), (max-width: 864px) calc((50vw - 3.25rem) / 2), (max-width: 1040px) calc(33vw - 2.5rem), (max-width: 1248px) calc(25vw - 2.25rem), 285px\"\\ndata-src=\"https://www.verywellmind.com/thmb/8NxHcWOpo13p8NqT55WQ0sV6bus=/400x250/filters:no_upscale():max_bytes(150000):strip_icc()/how-to-keep-your-new-years-resolutions-2795719-notext-v2-c4b48489379c487898e33298b9ab92ec.png\"\\nalt=\"How to keep your new year&#39;s resolution\"\\nclass=\"lazyload block__img\"\\nwidth=\"400\"\\nheight=\"250\"\\nsrc=\"data:image/png;base64,iVBORw0KGgoAAAANSUhEUgAAAAEAAAABCAQAAAC1HAwCAAAAC0lEQVR42mM88x8AAp0BzdNtlUkAAAAASUVORK5CYII=\" data-expand=\"300\"\\n/>\\n<noscript>\\n<img src=\"https://www.verywellmind.com/thmb/8NxHcWOpo13p8NqT55WQ0sV6bus=/400x250/filters:no_upscale():max_bytes(150000):strip_icc()/how-to-keep-your-new-years-resolutions-2795719-notext-v2-c4b48489379c487898e33298b9ab92ec.png\"\\nsrcset=\"https://www.verywellmind.com/thmb/orq4ENYoKO_gcF-QmHnT4SIDPlE=/225x0/filters:no_upscale():max_bytes(150000):strip_icc()/how-to-keep-your-new-years-resolutions-2795719-notext-v2-c4b48489379c487898e33298b9ab92ec.png 225w, https://www.verywellmind.com/thmb/rhRCtiT8D0RENN-YeqauoO-rUrA=/245x0/filters:no_upscale():max_bytes(150000):strip_icc()/how-to-keep-your-new-years-resolutions-2795719-notext-v2-c4b48489379c487898e33298b9ab92ec.png 245w, https://www.verywellmind.com/thmb/nfnhg7MC3NxSV8dZVRsYM4VT83s=/265x0/filters:no_upscale():max_bytes(150000):strip_icc()/how-to-keep-your-new-years-resolutions-2795719-notext-v2-c4b48489379c487898e33298b9ab92ec.png 265w, https://www.verywellmind.com/thmb/3UwVRJckYPpgQI-aqN4N1TpSJRY=/285x0/filters:no_upscale():max_bytes(150000):strip_icc()/how-to-keep-your-new-years-resolutions-2795719-notext-v2-c4b48489379c487898e33298b9ab92ec.png 285w, https://www.verywellmind.com/thmb/pG2HzJUKES6AoQYQJMT3wUdpi3Q=/305x0/filters:no_upscale():max_bytes(150000):strip_icc()/how-to-keep-your-new-years-resolutions-2795719-notext-v2-c4b48489379c487898e33298b9ab92ec.png 305w\"\\nalt=\"How to keep your new year\\'s resolution\"\\nwidth=\"400\"\\nheight=\"250\"\\nclass=\"img--noscript block__img\" />\\n</noscript>\\n</div>\\n</div>\\n<div class=\"block__content\" data-kicker=\"Theories\">\\n<div class=\"block__title\">\\n<span>How to Stick to Your New Year&#39;s Resolutions This Year</span>\\n</div>\\n<div class=\"block__byline\" data-byline=\"Fact checked by Emily Swaim\"></div>\\n</div>\\n</a>\\n</li>\\n<li class=\"g-item block-list-item\">\\n<a id=\"block_2-0\" class=\"comp block--small block\" rel data-doc-id=\"4869755\" href=\"https://www.verywellmind.com/what-is-happiness-4869755\" data-ordinal=\"7\">\\n<div class=\"block__media\">\\n<div class=\"img-placeholder\" style=\"padding-bottom:62.5%;\">\\n<img\\ndata-srcset=\"https://www.verywellmind.com/thmb/tAZIhNRK5zQezEaNlsGLThF1j2k=/225x0/filters:no_upscale():max_bytes(150000):strip_icc()/what-is-happiness-4869755-FINAL-776c871205d640ab9722fe9bd5bba3b3.png 225w, https://www.verywellmind.com/thmb/J29USQHvUNrSEPgfMwjOdnAysqM=/245x0/filters:no_upscale():max_bytes(150000):strip_icc()/what-is-happiness-4869755-FINAL-776c871205d640ab9722fe9bd5bba3b3.png 245w, https://www.verywellmind.com/thmb/fNaPd66JEQIqFyMAED4oJebHkWU=/265x0/filters:no_upscale():max_bytes(150000):strip_icc()/what-is-happiness-4869755-FINAL-776c871205d640ab9722fe9bd5bba3b3.png 265w, https://www.verywellmind.com/thmb/CXtevN0OzQxwJQSHPyVCBzTPI5o=/285x0/filters:no_upscale():max_bytes(150000):strip_icc()/what-is-happiness-4869755-FINAL-776c871205d640ab9722fe9bd5bba3b3.png 285w, https://www.verywellmind.com/thmb/OOyLzw2uZX9DVucwG8IH99wj5Fo=/305x0/filters:no_upscale():max_bytes(150000):strip_icc()/what-is-happiness-4869755-FINAL-776c871205d640ab9722fe9bd5bba3b3.png 305w\"\\ndata-sizes=\"(max-width: 560px) calc((100vw - 2rem) / 3), (max-width: 864px) calc((50vw - 3.25rem) / 2), (max-width: 1040px) calc(33vw - 2.5rem), (max-width: 1248px) calc(25vw - 2.25rem), 285px\"\\ndata-src=\"https://www.verywellmind.com/thmb/F-hVXaMYF2NyFfWWBXf9bqeOmTI=/400x250/filters:no_upscale():max_bytes(150000):strip_icc()/what-is-happiness-4869755-FINAL-776c871205d640ab9722fe9bd5bba3b3.png\"\\nalt=\"Happiness\"\\nclass=\"lazyload block__img\"\\nwidth=\"400\"\\nheight=\"250\"\\nsrc=\"data:image/png;base64,iVBORw0KGgoAAAANSUhEUgAAAAEAAAABCAQAAAC1HAwCAAAAC0lEQVR42mM88x8AAp0BzdNtlUkAAAAASUVORK5CYII=\" data-expand=\"300\"\\n/>\\n<noscript>\\n<img src=\"https://www.verywellmind.com/thmb/F-hVXaMYF2NyFfWWBXf9bqeOmTI=/400x250/filters:no_upscale():max_bytes(150000):strip_icc()/what-is-happiness-4869755-FINAL-776c871205d640ab9722fe9bd5bba3b3.png\"\\nsrcset=\"https://www.verywellmind.com/thmb/tAZIhNRK5zQezEaNlsGLThF1j2k=/225x0/filters:no_upscale():max_bytes(150000):strip_icc()/what-is-happiness-4869755-FINAL-776c871205d640ab9722fe9bd5bba3b3.png 225w, https://www.verywellmind.com/thmb/J29USQHvUNrSEPgfMwjOdnAysqM=/245x0/filters:no_upscale():max_bytes(150000):strip_icc()/what-is-happiness-4869755-FINAL-776c871205d640ab9722fe9bd5bba3b3.png 245w, https://www.verywellmind.com/thmb/fNaPd66JEQIqFyMAED4oJebHkWU=/265x0/filters:no_upscale():max_bytes(150000):strip_icc()/what-is-happiness-4869755-FINAL-776c871205d640ab9722fe9bd5bba3b3.png 265w, https://www.verywellmind.com/thmb/CXtevN0OzQxwJQSHPyVCBzTPI5o=/285x0/filters:no_upscale():max_bytes(150000):strip_icc()/what-is-happiness-4869755-FINAL-776c871205d640ab9722fe9bd5bba3b3.png 285w, https://www.verywellmind.com/thmb/OOyLzw2uZX9DVucwG8IH99wj5Fo=/305x0/filters:no_upscale():max_bytes(150000):strip_icc()/what-is-happiness-4869755-FINAL-776c871205d640ab9722fe9bd5bba3b3.png 305w\"\\nalt=\"Happiness\"\\nwidth=\"400\"\\nheight=\"250\"\\nclass=\"img--noscript block__img\" />\\n</noscript>\\n</div>\\n</div>\\n<div class=\"block__content\" data-kicker=\"Happiness\">\\n<div class=\"block__title\">\\n<span>How Do Psychologists Define Happiness?</span>\\n</div>\\n<div class=\"block__byline\" data-byline=\"Medically reviewed by Rachel Goldman, PhD, FTOS\"></div>\\n</div>\\n</a>\\n</li>\\n<li class=\"g-item block-list-item\">\\n<a id=\"block_2-0\" class=\"comp block--small block\" rel data-doc-id=\"6499714\" href=\"https://www.verywellmind.com/how-to-be-more-productive-6499714\" data-ordinal=\"8\">\\n<div class=\"block__media\">\\n<div class=\"img-placeholder\" style=\"padding-bottom:62.5%;\">\\n<img\\ndata-srcset=\"https://www.verywellmind.com/thmb/Kv83iCMHdtdHif3gRLIVS50nXW0=/225x0/filters:no_upscale():max_bytes(150000):strip_icc()/GettyImages-1319764461-1364e877165546a29e4d3815101d7e72.jpg 225w, https://www.verywellmind.com/thmb/QEd9uIpvQugpZBbbVC7riDQ0XiM=/245x0/filters:no_upscale():max_bytes(150000):strip_icc()/GettyImages-1319764461-1364e877165546a29e4d3815101d7e72.jpg 245w, https://www.verywellmind.com/thmb/UT-G4DWBeBdaZaKgj92eox4IslQ=/265x0/filters:no_upscale():max_bytes(150000):strip_icc()/GettyImages-1319764461-1364e877165546a29e4d3815101d7e72.jpg 265w, https://www.verywellmind.com/thmb/nWhfYanOGC-eJcLftmMAzAtdMA0=/285x0/filters:no_upscale():max_bytes(150000):strip_icc()/GettyImages-1319764461-1364e877165546a29e4d3815101d7e72.jpg 285w, https://www.verywellmind.com/thmb/IO4axm4E7u8BU5-vWhyxemkoqGE=/305x0/filters:no_upscale():max_bytes(150000):strip_icc()/GettyImages-1319764461-1364e877165546a29e4d3815101d7e72.jpg 305w\"\\ndata-sizes=\"(max-width: 560px) calc((100vw - 2rem) / 3), (max-width: 864px) calc((50vw - 3.25rem) / 2), (max-width: 1040px) calc(33vw - 2.5rem), (max-width: 1248px) calc(25vw - 2.25rem), 285px\"\\ndata-src=\"https://www.verywellmind.com/thmb/usaeKYI3xnT-DeOhpXFikhbHrUI=/400x250/filters:no_upscale():max_bytes(150000):strip_icc()/GettyImages-1319764461-1364e877165546a29e4d3815101d7e72.jpg\"\\nalt=\"person writing in a daily planner\"\\nclass=\"lazyload block__img\"\\nwidth=\"400\"\\nheight=\"250\"\\nsrc=\"data:image/png;base64,iVBORw0KGgoAAAANSUhEUgAAAAEAAAABCAQAAAC1HAwCAAAAC0lEQVR42mM88x8AAp0BzdNtlUkAAAAASUVORK5CYII=\" data-expand=\"300\"\\n/>\\n<noscript>\\n<img src=\"https://www.verywellmind.com/thmb/usaeKYI3xnT-DeOhpXFikhbHrUI=/400x250/filters:no_upscale():max_bytes(150000):strip_icc()/GettyImages-1319764461-1364e877165546a29e4d3815101d7e72.jpg\"\\nsrcset=\"https://www.verywellmind.com/thmb/Kv83iCMHdtdHif3gRLIVS50nXW0=/225x0/filters:no_upscale():max_bytes(150000):strip_icc()/GettyImages-1319764461-1364e877165546a29e4d3815101d7e72.jpg 225w, https://www.verywellmind.com/thmb/QEd9uIpvQugpZBbbVC7riDQ0XiM=/245x0/filters:no_upscale():max_bytes(150000):strip_icc()/GettyImages-1319764461-1364e877165546a29e4d3815101d7e72.jpg 245w, https://www.verywellmind.com/thmb/UT-G4DWBeBdaZaKgj92eox4IslQ=/265x0/filters:no_upscale():max_bytes(150000):strip_icc()/GettyImages-1319764461-1364e877165546a29e4d3815101d7e72.jpg 265w, https://www.verywellmind.com/thmb/nWhfYanOGC-eJcLftmMAzAtdMA0=/285x0/filters:no_upscale():max_bytes(150000):strip_icc()/GettyImages-1319764461-1364e877165546a29e4d3815101d7e72.jpg 285w, https://www.verywellmind.com/thmb/IO4axm4E7u8BU5-vWhyxemkoqGE=/305x0/filters:no_upscale():max_bytes(150000):strip_icc()/GettyImages-1319764461-1364e877165546a29e4d3815101d7e72.jpg 305w\"\\nalt=\"person writing in a daily planner\"\\nwidth=\"400\"\\nheight=\"250\"\\nclass=\"img--noscript block__img\" />\\n</noscript>\\n</div>\\n</div>\\n<div class=\"block__content\" data-kicker=\"Self-Improvement\">\\n<div class=\"block__title\">\\n<span>How to Be More Productive</span>\\n</div>\\n<div class=\"block__byline\" data-byline=\"Medically reviewed by Sabrina Romanoff, PsyD\"></div>\\n</div>\\n</a>\\n</li>\\n</ul>\\n<div id=\"loading-animation_3-0\" class=\"comp loading-animation\" data-position=\"top\">\\n<div class=\"spinner\">\\n<div class=\"double-bounce1\"></div>\\n<div class=\"double-bounce2\"></div>\\n</div>\\n</div>\\n</div>\\n</section>\\n<div id=\"leaderboard-deferred-footer_1-0\" class=\"comp has-right-label has-left-label js-lazy-ad leaderboard-deferred-footer leaderboard--lazy leaderboard mntl-flexible-leaderboard mntl-flexible-ad mntl-gpt-adunit gpt leaderboard dynamic\">\\n<div id=\"leaderboardfooter-flex-1\" class=\"wrapper\" data-type=\"leaderboard\" data-pos=\"ft1\" data-priority=\"8\" data-sizes=\"[[728, 90], [728, 98], [970, 250], [970, 258], [1, 9], &quot;fluid&quot;]\" data-rtb=\"true\" data-wait-for-third-party=\"false\" data-targeting=\"{}\" data-auction-floor-id=\"e99d3331985e46489fb291c3e7ccadd8\" data-auction-floor-value=\"5\"></div>\\n</div>\\n<section id=\"related-article-list_3-0\" class=\"comp related-article-list article-list\" data-tracking-container=\"true\">\\n<div class=\"loc content section-body\">\\n<ul id=\"block-list_3-0\" class=\"comp g g-four-up block-list\" data-chunk>\\n<li class=\"g-item block-list-item\">\\n<a id=\"block_3-0\" class=\"comp block--small block\" rel data-doc-id=\"5272517\" href=\"https://www.verywellmind.com/how-long-does-it-take-to-build-a-habit-5272517\" data-ordinal=\"9\">\\n<div class=\"block__media\">\\n<div class=\"img-placeholder\" style=\"padding-bottom:62.5%;\">\\n<img\\ndata-srcset=\"https://www.verywellmind.com/thmb/1YlgSnTAGGdj0c3hF3ZSFc9IVyU=/225x0/filters:no_upscale():max_bytes(150000):strip_icc()/GettyImages-1359719383-a4b746a0dd074afca9420295aab99ee5.jpg 225w, https://www.verywellmind.com/thmb/7POv0VVgo8Vr_qvK1Z4MHT6d_2E=/245x0/filters:no_upscale():max_bytes(150000):strip_icc()/GettyImages-1359719383-a4b746a0dd074afca9420295aab99ee5.jpg 245w, https://www.verywellmind.com/thmb/Gh3oYrDC_BAcpTk45We5Ry4A3HI=/265x0/filters:no_upscale():max_bytes(150000):strip_icc()/GettyImages-1359719383-a4b746a0dd074afca9420295aab99ee5.jpg 265w, https://www.verywellmind.com/thmb/HWwQfwzB5WEPR8TmKPFuhJEi0b4=/285x0/filters:no_upscale():max_bytes(150000):strip_icc()/GettyImages-1359719383-a4b746a0dd074afca9420295aab99ee5.jpg 285w, https://www.verywellmind.com/thmb/crFxfHx57jai_yubPpMlZZ_Hpbc=/305x0/filters:no_upscale():max_bytes(150000):strip_icc()/GettyImages-1359719383-a4b746a0dd074afca9420295aab99ee5.jpg 305w\"\\ndata-sizes=\"(max-width: 560px) calc((100vw - 2rem) / 3), (max-width: 864px) calc((50vw - 3.25rem) / 2), (max-width: 1040px) calc(33vw - 2.5rem), (max-width: 1248px) calc(25vw - 2.25rem), 285px\"\\ndata-src=\"https://www.verywellmind.com/thmb/3hRhu7E6zaG2UWA21LrT2lejdtE=/400x250/filters:no_upscale():max_bytes(150000):strip_icc()/GettyImages-1359719383-a4b746a0dd074afca9420295aab99ee5.jpg\"\\nalt=\"Smiling woman with coffee cup writing on calendar in kitchen\"\\nclass=\"lazyload block__img\"\\nwidth=\"400\"\\nheight=\"250\"\\nsrc=\"data:image/png;base64,iVBORw0KGgoAAAANSUhEUgAAAAEAAAABCAQAAAC1HAwCAAAAC0lEQVR42mM88x8AAp0BzdNtlUkAAAAASUVORK5CYII=\" data-expand=\"300\"\\n/>\\n<noscript>\\n<img src=\"https://www.verywellmind.com/thmb/3hRhu7E6zaG2UWA21LrT2lejdtE=/400x250/filters:no_upscale():max_bytes(150000):strip_icc()/GettyImages-1359719383-a4b746a0dd074afca9420295aab99ee5.jpg\"\\nsrcset=\"https://www.verywellmind.com/thmb/1YlgSnTAGGdj0c3hF3ZSFc9IVyU=/225x0/filters:no_upscale():max_bytes(150000):strip_icc()/GettyImages-1359719383-a4b746a0dd074afca9420295aab99ee5.jpg 225w, https://www.verywellmind.com/thmb/7POv0VVgo8Vr_qvK1Z4MHT6d_2E=/245x0/filters:no_upscale():max_bytes(150000):strip_icc()/GettyImages-1359719383-a4b746a0dd074afca9420295aab99ee5.jpg 245w, https://www.verywellmind.com/thmb/Gh3oYrDC_BAcpTk45We5Ry4A3HI=/265x0/filters:no_upscale():max_bytes(150000):strip_icc()/GettyImages-1359719383-a4b746a0dd074afca9420295aab99ee5.jpg 265w, https://www.verywellmind.com/thmb/HWwQfwzB5WEPR8TmKPFuhJEi0b4=/285x0/filters:no_upscale():max_bytes(150000):strip_icc()/GettyImages-1359719383-a4b746a0dd074afca9420295aab99ee5.jpg 285w, https://www.verywellmind.com/thmb/crFxfHx57jai_yubPpMlZZ_Hpbc=/305x0/filters:no_upscale():max_bytes(150000):strip_icc()/GettyImages-1359719383-a4b746a0dd074afca9420295aab99ee5.jpg 305w\"\\nalt=\"Smiling woman with coffee cup writing on calendar in kitchen\"\\nwidth=\"400\"\\nheight=\"250\"\\nclass=\"img--noscript block__img\" />\\n</noscript>\\n</div>\\n</div>\\n<div class=\"block__content\" data-kicker=\"Self-Improvement\">\\n<div class=\"block__title\">\\n<span>How Long Does it Take to Build a Habit?</span>\\n</div>\\n<div class=\"block__byline\" data-byline=\"By Kendra Cherry\"></div>\\n</div>\\n</a>\\n</li>\\n<li class=\"g-item block-list-item\">\\n<a id=\"block_3-0\" class=\"comp block--small block\" rel data-doc-id=\"5496248\" href=\"https://www.verywellmind.com/perfectionism-adhd-symptom-5496248\" data-ordinal=\"10\">\\n<div class=\"block__media\">\\n<div class=\"img-placeholder\" style=\"padding-bottom:62.5%;\">\\n<img\\ndata-srcset=\"https://www.verywellmind.com/thmb/RFG9zscqpI78X6Vu-pNUoxV1ONU=/225x0/filters:no_upscale():max_bytes(150000):strip_icc()/GettyImages-685007139-ca7c46834fb14372b4dc9736919e2311.jpg 225w, https://www.verywellmind.com/thmb/ko-4xo-sZMtJwHgLcPDgHreUQXA=/245x0/filters:no_upscale():max_bytes(150000):strip_icc()/GettyImages-685007139-ca7c46834fb14372b4dc9736919e2311.jpg 245w, https://www.verywellmind.com/thmb/jijhXMPdxg9EEc0JYQgOhvzwQcc=/265x0/filters:no_upscale():max_bytes(150000):strip_icc()/GettyImages-685007139-ca7c46834fb14372b4dc9736919e2311.jpg 265w, https://www.verywellmind.com/thmb/GMWBC_0QtUxMb-8s-q9MVADCAiQ=/285x0/filters:no_upscale():max_bytes(150000):strip_icc()/GettyImages-685007139-ca7c46834fb14372b4dc9736919e2311.jpg 285w, https://www.verywellmind.com/thmb/b_CyGps6bgdIjkVbQrecB22v_fY=/305x0/filters:no_upscale():max_bytes(150000):strip_icc()/GettyImages-685007139-ca7c46834fb14372b4dc9736919e2311.jpg 305w\"\\ndata-sizes=\"(max-width: 560px) calc((100vw - 2rem) / 3), (max-width: 864px) calc((50vw - 3.25rem) / 2), (max-width: 1040px) calc(33vw - 2.5rem), (max-width: 1248px) calc(25vw - 2.25rem), 285px\"\\ndata-src=\"https://www.verywellmind.com/thmb/a_vo4VBo7367s1bDkVdLr_twZ8Y=/400x250/filters:no_upscale():max_bytes(150000):strip_icc()/GettyImages-685007139-ca7c46834fb14372b4dc9736919e2311.jpg\"\\nalt=\"Chef in commercial kitchen seasoning food\"\\nclass=\"lazyload block__img\"\\nwidth=\"400\"\\nheight=\"250\"\\nsrc=\"data:image/png;base64,iVBORw0KGgoAAAANSUhEUgAAAAEAAAABCAQAAAC1HAwCAAAAC0lEQVR42mM88x8AAp0BzdNtlUkAAAAASUVORK5CYII=\" data-expand=\"300\"\\n/>\\n<noscript>\\n<img src=\"https://www.verywellmind.com/thmb/a_vo4VBo7367s1bDkVdLr_twZ8Y=/400x250/filters:no_upscale():max_bytes(150000):strip_icc()/GettyImages-685007139-ca7c46834fb14372b4dc9736919e2311.jpg\"\\nsrcset=\"https://www.verywellmind.com/thmb/RFG9zscqpI78X6Vu-pNUoxV1ONU=/225x0/filters:no_upscale():max_bytes(150000):strip_icc()/GettyImages-685007139-ca7c46834fb14372b4dc9736919e2311.jpg 225w, https://www.verywellmind.com/thmb/ko-4xo-sZMtJwHgLcPDgHreUQXA=/245x0/filters:no_upscale():max_bytes(150000):strip_icc()/GettyImages-685007139-ca7c46834fb14372b4dc9736919e2311.jpg 245w, https://www.verywellmind.com/thmb/jijhXMPdxg9EEc0JYQgOhvzwQcc=/265x0/filters:no_upscale():max_bytes(150000):strip_icc()/GettyImages-685007139-ca7c46834fb14372b4dc9736919e2311.jpg 265w, https://www.verywellmind.com/thmb/GMWBC_0QtUxMb-8s-q9MVADCAiQ=/285x0/filters:no_upscale():max_bytes(150000):strip_icc()/GettyImages-685007139-ca7c46834fb14372b4dc9736919e2311.jpg 285w, https://www.verywellmind.com/thmb/b_CyGps6bgdIjkVbQrecB22v_fY=/305x0/filters:no_upscale():max_bytes(150000):strip_icc()/GettyImages-685007139-ca7c46834fb14372b4dc9736919e2311.jpg 305w\"\\nalt=\"Chef in commercial kitchen seasoning food\"\\nwidth=\"400\"\\nheight=\"250\"\\nclass=\"img--noscript block__img\" />\\n</noscript>\\n</div>\\n</div>\\n<div class=\"block__content\" data-kicker=\"ADHD\">\\n<div class=\"block__title\">\\n<span>ADHD Symptom Spotlight: Perfectionism </span>\\n</div>\\n<div class=\"block__byline\" data-byline=\"By Rachael Green\"></div>\\n</div>\\n</a>\\n</li>\\n<li class=\"g-item block-list-item\">\\n<a id=\"block_3-0\" class=\"comp block--small block\" rel data-doc-id=\"2795313\" href=\"https://www.verywellmind.com/what-is-transformational-leadership-2795313\" data-ordinal=\"11\">\\n<div class=\"block__media\">\\n<div class=\"img-placeholder\" style=\"padding-bottom:62.5%;\">\\n<img\\ndata-srcset=\"https://www.verywellmind.com/thmb/A0OKaXe0YRGXCabe7o4KJCVMvFY=/225x0/filters:no_upscale():max_bytes(150000):strip_icc()/GettyImages-531337715-595556cc5f9b5815d902f0be.jpg 225w, https://www.verywellmind.com/thmb/4_UJmrJvc5Z9bL1z5vZITqPL5MY=/245x0/filters:no_upscale():max_bytes(150000):strip_icc()/GettyImages-531337715-595556cc5f9b5815d902f0be.jpg 245w, https://www.verywellmind.com/thmb/lgoppyVnu0W473jSWrrZf7JDrNg=/265x0/filters:no_upscale():max_bytes(150000):strip_icc()/GettyImages-531337715-595556cc5f9b5815d902f0be.jpg 265w, https://www.verywellmind.com/thmb/14TDzs_LZwzj16_DaF5hwlIp4qI=/285x0/filters:no_upscale():max_bytes(150000):strip_icc()/GettyImages-531337715-595556cc5f9b5815d902f0be.jpg 285w, https://www.verywellmind.com/thmb/JoVv1Q3gfxPZzi6SXpihj1AnUfk=/305x0/filters:no_upscale():max_bytes(150000):strip_icc()/GettyImages-531337715-595556cc5f9b5815d902f0be.jpg 305w\"\\ndata-sizes=\"(max-width: 560px) calc((100vw - 2rem) / 3), (max-width: 864px) calc((50vw - 3.25rem) / 2), (max-width: 1040px) calc(33vw - 2.5rem), (max-width: 1248px) calc(25vw - 2.25rem), 285px\"\\ndata-src=\"https://www.verywellmind.com/thmb/trQdIdsnbUmEeqS7NpDugpvJ1Sg=/400x250/filters:no_upscale():max_bytes(150000):strip_icc()/GettyImages-531337715-595556cc5f9b5815d902f0be.jpg\"\\nalt=\"A transformational leader inspiring group members.\"\\nclass=\"lazyload block__img\"\\nwidth=\"400\"\\nheight=\"250\"\\nsrc=\"data:image/png;base64,iVBORw0KGgoAAAANSUhEUgAAAAEAAAABCAQAAAC1HAwCAAAAC0lEQVR42mM88x8AAp0BzdNtlUkAAAAASUVORK5CYII=\" data-expand=\"300\"\\n/>\\n<noscript>\\n<img src=\"https://www.verywellmind.com/thmb/trQdIdsnbUmEeqS7NpDugpvJ1Sg=/400x250/filters:no_upscale():max_bytes(150000):strip_icc()/GettyImages-531337715-595556cc5f9b5815d902f0be.jpg\"\\nsrcset=\"https://www.verywellmind.com/thmb/A0OKaXe0YRGXCabe7o4KJCVMvFY=/225x0/filters:no_upscale():max_bytes(150000):strip_icc()/GettyImages-531337715-595556cc5f9b5815d902f0be.jpg 225w, https://www.verywellmind.com/thmb/4_UJmrJvc5Z9bL1z5vZITqPL5MY=/245x0/filters:no_upscale():max_bytes(150000):strip_icc()/GettyImages-531337715-595556cc5f9b5815d902f0be.jpg 245w, https://www.verywellmind.com/thmb/lgoppyVnu0W473jSWrrZf7JDrNg=/265x0/filters:no_upscale():max_bytes(150000):strip_icc()/GettyImages-531337715-595556cc5f9b5815d902f0be.jpg 265w, https://www.verywellmind.com/thmb/14TDzs_LZwzj16_DaF5hwlIp4qI=/285x0/filters:no_upscale():max_bytes(150000):strip_icc()/GettyImages-531337715-595556cc5f9b5815d902f0be.jpg 285w, https://www.verywellmind.com/thmb/JoVv1Q3gfxPZzi6SXpihj1AnUfk=/305x0/filters:no_upscale():max_bytes(150000):strip_icc()/GettyImages-531337715-595556cc5f9b5815d902f0be.jpg 305w\"\\nalt=\"A transformational leader inspiring group members.\"\\nwidth=\"400\"\\nheight=\"250\"\\nclass=\"img--noscript block__img\" />\\n</noscript>\\n</div>\\n</div>\\n<div class=\"block__content\" data-kicker=\"Theories\">\\n<div class=\"block__title\">\\n<span>How Do Transformational Leaders Inspire and Motivate Followers?</span>\\n</div>\\n<div class=\"block__byline\" data-byline=\"Medically reviewed by Steven Gans, MD\"></div>\\n</div>\\n</a>\\n</li>\\n<li class=\"g-item block-list-item\">\\n<a id=\"block_3-0\" class=\"comp block--small block\" rel data-doc-id=\"5185978\" href=\"https://www.verywellmind.com/signs-of-low-self-esteem-5185978\" data-ordinal=\"12\">\\n<div class=\"block__media\">\\n<div class=\"img-placeholder\" style=\"padding-bottom:62.5%;\">\\n<img\\ndata-srcset=\"https://www.verywellmind.com/thmb/1n3RfYF1FlrkJmGdb0tVaRDCJns=/225x0/filters:no_upscale():max_bytes(150000):strip_icc()/Signs-of-low-self-esteem-5185978-V1-notext-ece302d33abc41339b248c9efd1439b2.png 225w, https://www.verywellmind.com/thmb/x4zpr6RiGqixF1kWiCgPCQGbDqs=/245x0/filters:no_upscale():max_bytes(150000):strip_icc()/Signs-of-low-self-esteem-5185978-V1-notext-ece302d33abc41339b248c9efd1439b2.png 245w, https://www.verywellmind.com/thmb/QGbakeSjwJ8mVZTliEtFAZe_0nU=/265x0/filters:no_upscale():max_bytes(150000):strip_icc()/Signs-of-low-self-esteem-5185978-V1-notext-ece302d33abc41339b248c9efd1439b2.png 265w, https://www.verywellmind.com/thmb/xpRIqxIYRjumBw9W_8c56ksDn1k=/285x0/filters:no_upscale():max_bytes(150000):strip_icc()/Signs-of-low-self-esteem-5185978-V1-notext-ece302d33abc41339b248c9efd1439b2.png 285w, https://www.verywellmind.com/thmb/S9kx601WVjYnxjNcXhts7IOeDx4=/305x0/filters:no_upscale():max_bytes(150000):strip_icc()/Signs-of-low-self-esteem-5185978-V1-notext-ece302d33abc41339b248c9efd1439b2.png 305w\"\\ndata-sizes=\"(max-width: 560px) calc((100vw - 2rem) / 3), (max-width: 864px) calc((50vw - 3.25rem) / 2), (max-width: 1040px) calc(33vw - 2.5rem), (max-width: 1248px) calc(25vw - 2.25rem), 285px\"\\ndata-src=\"https://www.verywellmind.com/thmb/vE_cl5eeTQ48649PG1wnUAOJa-U=/400x250/filters:no_upscale():max_bytes(150000):strip_icc()/Signs-of-low-self-esteem-5185978-V1-notext-ece302d33abc41339b248c9efd1439b2.png\"\\nalt=\"Signs of low self-esteem\"\\nclass=\"lazyload block__img\"\\nwidth=\"400\"\\nheight=\"250\"\\nsrc=\"data:image/png;base64,iVBORw0KGgoAAAANSUhEUgAAAAEAAAABCAQAAAC1HAwCAAAAC0lEQVR42mM88x8AAp0BzdNtlUkAAAAASUVORK5CYII=\" data-expand=\"300\"\\n/>\\n<noscript>\\n<img src=\"https://www.verywellmind.com/thmb/vE_cl5eeTQ48649PG1wnUAOJa-U=/400x250/filters:no_upscale():max_bytes(150000):strip_icc()/Signs-of-low-self-esteem-5185978-V1-notext-ece302d33abc41339b248c9efd1439b2.png\"\\nsrcset=\"https://www.verywellmind.com/thmb/1n3RfYF1FlrkJmGdb0tVaRDCJns=/225x0/filters:no_upscale():max_bytes(150000):strip_icc()/Signs-of-low-self-esteem-5185978-V1-notext-ece302d33abc41339b248c9efd1439b2.png 225w, https://www.verywellmind.com/thmb/x4zpr6RiGqixF1kWiCgPCQGbDqs=/245x0/filters:no_upscale():max_bytes(150000):strip_icc()/Signs-of-low-self-esteem-5185978-V1-notext-ece302d33abc41339b248c9efd1439b2.png 245w, https://www.verywellmind.com/thmb/QGbakeSjwJ8mVZTliEtFAZe_0nU=/265x0/filters:no_upscale():max_bytes(150000):strip_icc()/Signs-of-low-self-esteem-5185978-V1-notext-ece302d33abc41339b248c9efd1439b2.png 265w, https://www.verywellmind.com/thmb/xpRIqxIYRjumBw9W_8c56ksDn1k=/285x0/filters:no_upscale():max_bytes(150000):strip_icc()/Signs-of-low-self-esteem-5185978-V1-notext-ece302d33abc41339b248c9efd1439b2.png 285w, https://www.verywellmind.com/thmb/S9kx601WVjYnxjNcXhts7IOeDx4=/305x0/filters:no_upscale():max_bytes(150000):strip_icc()/Signs-of-low-self-esteem-5185978-V1-notext-ece302d33abc41339b248c9efd1439b2.png 305w\"\\nalt=\"Signs of low self-esteem\"\\nwidth=\"400\"\\nheight=\"250\"\\nclass=\"img--noscript block__img\" />\\n</noscript>\\n</div>\\n</div>\\n<div class=\"block__content\" data-kicker=\"Depression\">\\n<div class=\"block__title\">\\n<span>Common Signs of Low Self-Esteem</span>\\n</div>\\n<div class=\"block__byline\" data-byline=\"Medically reviewed by David Susman, PhD\"></div>\\n</div>\\n</a>\\n</li>\\n<li class=\"g-item block-list-item\">\\n<a id=\"block_3-0\" class=\"comp block--small block\" rel data-doc-id=\"6504436\" href=\"https://www.verywellmind.com/how-to-be-more-mature-6504436\" data-ordinal=\"13\">\\n<div class=\"block__media\">\\n<div class=\"img-placeholder\" style=\"padding-bottom:62.5%;\">\\n<img\\ndata-srcset=\"https://www.verywellmind.com/thmb/8bsS8Haa6tT6aX4FgT3hiSEyBvM=/225x0/filters:no_upscale():max_bytes(150000):strip_icc()/GettyImages-13391106701-6e8f0b686b2b44708647c88f47fd6847.jpg 225w, https://www.verywellmind.com/thmb/asS49-y_C7wREic_CXIcv70tQx8=/245x0/filters:no_upscale():max_bytes(150000):strip_icc()/GettyImages-13391106701-6e8f0b686b2b44708647c88f47fd6847.jpg 245w, https://www.verywellmind.com/thmb/ymqM001DfSgKwwtpWQKPe4fscDk=/265x0/filters:no_upscale():max_bytes(150000):strip_icc()/GettyImages-13391106701-6e8f0b686b2b44708647c88f47fd6847.jpg 265w, https://www.verywellmind.com/thmb/o5LvL7nwUDtKkF3bYh2rey39R2U=/285x0/filters:no_upscale():max_bytes(150000):strip_icc()/GettyImages-13391106701-6e8f0b686b2b44708647c88f47fd6847.jpg 285w, https://www.verywellmind.com/thmb/0uS73ImMXMnr488tRmiViE5vAms=/305x0/filters:no_upscale():max_bytes(150000):strip_icc()/GettyImages-13391106701-6e8f0b686b2b44708647c88f47fd6847.jpg 305w\"\\ndata-sizes=\"(max-width: 560px) calc((100vw - 2rem) / 3), (max-width: 864px) calc((50vw - 3.25rem) / 2), (max-width: 1040px) calc(33vw - 2.5rem), (max-width: 1248px) calc(25vw - 2.25rem), 285px\"\\ndata-src=\"https://www.verywellmind.com/thmb/a8WQcB1N0q_C5VPVbdPCVWE6h_U=/400x250/filters:no_upscale():max_bytes(150000):strip_icc()/GettyImages-13391106701-6e8f0b686b2b44708647c88f47fd6847.jpg\"\\nalt=\"teenager playing on their phone\"\\nclass=\"lazyload block__img\"\\nwidth=\"400\"\\nheight=\"250\"\\nsrc=\"data:image/png;base64,iVBORw0KGgoAAAANSUhEUgAAAAEAAAABCAQAAAC1HAwCAAAAC0lEQVR42mM88x8AAp0BzdNtlUkAAAAASUVORK5CYII=\" data-expand=\"300\"\\n/>\\n<noscript>\\n<img src=\"https://www.verywellmind.com/thmb/a8WQcB1N0q_C5VPVbdPCVWE6h_U=/400x250/filters:no_upscale():max_bytes(150000):strip_icc()/GettyImages-13391106701-6e8f0b686b2b44708647c88f47fd6847.jpg\"\\nsrcset=\"https://www.verywellmind.com/thmb/8bsS8Haa6tT6aX4FgT3hiSEyBvM=/225x0/filters:no_upscale():max_bytes(150000):strip_icc()/GettyImages-13391106701-6e8f0b686b2b44708647c88f47fd6847.jpg 225w, https://www.verywellmind.com/thmb/asS49-y_C7wREic_CXIcv70tQx8=/245x0/filters:no_upscale():max_bytes(150000):strip_icc()/GettyImages-13391106701-6e8f0b686b2b44708647c88f47fd6847.jpg 245w, https://www.verywellmind.com/thmb/ymqM001DfSgKwwtpWQKPe4fscDk=/265x0/filters:no_upscale():max_bytes(150000):strip_icc()/GettyImages-13391106701-6e8f0b686b2b44708647c88f47fd6847.jpg 265w, https://www.verywellmind.com/thmb/o5LvL7nwUDtKkF3bYh2rey39R2U=/285x0/filters:no_upscale():max_bytes(150000):strip_icc()/GettyImages-13391106701-6e8f0b686b2b44708647c88f47fd6847.jpg 285w, https://www.verywellmind.com/thmb/0uS73ImMXMnr488tRmiViE5vAms=/305x0/filters:no_upscale():max_bytes(150000):strip_icc()/GettyImages-13391106701-6e8f0b686b2b44708647c88f47fd6847.jpg 305w\"\\nalt=\"teenager playing on their phone\"\\nwidth=\"400\"\\nheight=\"250\"\\nclass=\"img--noscript block__img\" />\\n</noscript>\\n</div>\\n</div>\\n<div class=\"block__content\" data-kicker=\"Self-Improvement\">\\n<div class=\"block__title\">\\n<span>How to Be More Mature</span>\\n</div>\\n<div class=\"block__byline\" data-byline=\"By Sanjana Gupta\"></div>\\n</div>\\n</a>\\n</li>\\n<li class=\"g-item block-list-item\">\\n<a id=\"block_3-0\" class=\"comp block--small block\" rel data-doc-id=\"2795388\" href=\"https://www.verywellmind.com/surprising-ways-to-get-motivated-2795388\" data-ordinal=\"14\">\\n<div class=\"block__media\">\\n<div class=\"img-placeholder\" style=\"padding-bottom:62.5%;\">\\n<img\\ndata-srcset=\"https://www.verywellmind.com/thmb/ugpbtXHqJgiDK6mvqkiLpvsOZkY=/225x0/filters:no_upscale():max_bytes(150000):strip_icc()/GettyImages-1010069056-2bb300733f444f13a2051be2e84795a5.jpg 225w, https://www.verywellmind.com/thmb/gNhdkMTY_IqMRJFv1coQg4aHOck=/245x0/filters:no_upscale():max_bytes(150000):strip_icc()/GettyImages-1010069056-2bb300733f444f13a2051be2e84795a5.jpg 245w, https://www.verywellmind.com/thmb/ukZxxD3VUtJUVqpHc99dk4Ro08U=/265x0/filters:no_upscale():max_bytes(150000):strip_icc()/GettyImages-1010069056-2bb300733f444f13a2051be2e84795a5.jpg 265w, https://www.verywellmind.com/thmb/LVZ5Vcv_Bq9YL5ynC24UWgJXwug=/285x0/filters:no_upscale():max_bytes(150000):strip_icc()/GettyImages-1010069056-2bb300733f444f13a2051be2e84795a5.jpg 285w, https://www.verywellmind.com/thmb/mGcddicPeeisQ-wyTYdfGDwzudQ=/305x0/filters:no_upscale():max_bytes(150000):strip_icc()/GettyImages-1010069056-2bb300733f444f13a2051be2e84795a5.jpg 305w\"\\ndata-sizes=\"(max-width: 560px) calc((100vw - 2rem) / 3), (max-width: 864px) calc((50vw - 3.25rem) / 2), (max-width: 1040px) calc(33vw - 2.5rem), (max-width: 1248px) calc(25vw - 2.25rem), 285px\"\\ndata-src=\"https://www.verywellmind.com/thmb/I9uRdi6B-9oMGmIuGa-4_Bl57Y4=/400x250/filters:no_upscale():max_bytes(150000):strip_icc()/GettyImages-1010069056-2bb300733f444f13a2051be2e84795a5.jpg\"\\nalt=\"Motivation\"\\nclass=\"lazyload block__img\"\\nwidth=\"400\"\\nheight=\"250\"\\nsrc=\"data:image/png;base64,iVBORw0KGgoAAAANSUhEUgAAAAEAAAABCAQAAAC1HAwCAAAAC0lEQVR42mM88x8AAp0BzdNtlUkAAAAASUVORK5CYII=\" data-expand=\"300\"\\n/>\\n<noscript>\\n<img src=\"https://www.verywellmind.com/thmb/I9uRdi6B-9oMGmIuGa-4_Bl57Y4=/400x250/filters:no_upscale():max_bytes(150000):strip_icc()/GettyImages-1010069056-2bb300733f444f13a2051be2e84795a5.jpg\"\\nsrcset=\"https://www.verywellmind.com/thmb/ugpbtXHqJgiDK6mvqkiLpvsOZkY=/225x0/filters:no_upscale():max_bytes(150000):strip_icc()/GettyImages-1010069056-2bb300733f444f13a2051be2e84795a5.jpg 225w, https://www.verywellmind.com/thmb/gNhdkMTY_IqMRJFv1coQg4aHOck=/245x0/filters:no_upscale():max_bytes(150000):strip_icc()/GettyImages-1010069056-2bb300733f444f13a2051be2e84795a5.jpg 245w, https://www.verywellmind.com/thmb/ukZxxD3VUtJUVqpHc99dk4Ro08U=/265x0/filters:no_upscale():max_bytes(150000):strip_icc()/GettyImages-1010069056-2bb300733f444f13a2051be2e84795a5.jpg 265w, https://www.verywellmind.com/thmb/LVZ5Vcv_Bq9YL5ynC24UWgJXwug=/285x0/filters:no_upscale():max_bytes(150000):strip_icc()/GettyImages-1010069056-2bb300733f444f13a2051be2e84795a5.jpg 285w, https://www.verywellmind.com/thmb/mGcddicPeeisQ-wyTYdfGDwzudQ=/305x0/filters:no_upscale():max_bytes(150000):strip_icc()/GettyImages-1010069056-2bb300733f444f13a2051be2e84795a5.jpg 305w\"\\nalt=\"Motivation\"\\nwidth=\"400\"\\nheight=\"250\"\\nclass=\"img--noscript block__img\" />\\n</noscript>\\n</div>\\n</div>\\n<div class=\"block__content\" data-kicker=\"Theories\">\\n<div class=\"block__title\">\\n<span>5 Surprising Ways to Increase Motivation</span>\\n</div>\\n<div class=\"block__byline\" data-byline=\"Fact checked by Sean Blackburn\"></div>\\n</div>\\n</a>\\n</li>\\n<li class=\"g-item block-list-item\">\\n<a id=\"block_3-0\" class=\"comp block--small block\" rel data-doc-id=\"2795868\" href=\"https://www.verywellmind.com/what-is-self-esteem-2795868\" data-ordinal=\"15\">\\n<div class=\"block__media\">\\n<div class=\"img-placeholder\" style=\"padding-bottom:62.5%;\">\\n<img\\ndata-srcset=\"https://www.verywellmind.com/thmb/IKS1kTW4UqmsSg6MdO45wFcg5BU=/225x0/filters:no_upscale():max_bytes(150000):strip_icc()/what-is-self-esteem-2795868_nocopy-8cad375cd5214296802448f31d22c2b1.png 225w, https://www.verywellmind.com/thmb/vMoeztOPW6di_Wa0mN1rzkevif8=/245x0/filters:no_upscale():max_bytes(150000):strip_icc()/what-is-self-esteem-2795868_nocopy-8cad375cd5214296802448f31d22c2b1.png 245w, https://www.verywellmind.com/thmb/8kqOIB8_k_RRrZvNfjfpw7tOJzA=/265x0/filters:no_upscale():max_bytes(150000):strip_icc()/what-is-self-esteem-2795868_nocopy-8cad375cd5214296802448f31d22c2b1.png 265w, https://www.verywellmind.com/thmb/TnSES18fRVwzbfJD2cztqiAHdZE=/285x0/filters:no_upscale():max_bytes(150000):strip_icc()/what-is-self-esteem-2795868_nocopy-8cad375cd5214296802448f31d22c2b1.png 285w, https://www.verywellmind.com/thmb/wiTY5cxaa5Xz6AKcsFeentFlnPc=/305x0/filters:no_upscale():max_bytes(150000):strip_icc()/what-is-self-esteem-2795868_nocopy-8cad375cd5214296802448f31d22c2b1.png 305w\"\\ndata-sizes=\"(max-width: 560px) calc((100vw - 2rem) / 3), (max-width: 864px) calc((50vw - 3.25rem) / 2), (max-width: 1040px) calc(33vw - 2.5rem), (max-width: 1248px) calc(25vw - 2.25rem), 285px\"\\ndata-src=\"https://www.verywellmind.com/thmb/0FrwbLB3x4kIjT8EO-JjF0QI53Q=/400x250/filters:no_upscale():max_bytes(150000):strip_icc()/what-is-self-esteem-2795868_nocopy-8cad375cd5214296802448f31d22c2b1.png\"\\nalt=\"What is self-esteem?\"\\nclass=\"lazyload block__img\"\\nwidth=\"400\"\\nheight=\"250\"\\nsrc=\"data:image/png;base64,iVBORw0KGgoAAAANSUhEUgAAAAEAAAABCAQAAAC1HAwCAAAAC0lEQVR42mM88x8AAp0BzdNtlUkAAAAASUVORK5CYII=\" data-expand=\"300\"\\n/>\\n<noscript>\\n<img src=\"https://www.verywellmind.com/thmb/0FrwbLB3x4kIjT8EO-JjF0QI53Q=/400x250/filters:no_upscale():max_bytes(150000):strip_icc()/what-is-self-esteem-2795868_nocopy-8cad375cd5214296802448f31d22c2b1.png\"\\nsrcset=\"https://www.verywellmind.com/thmb/IKS1kTW4UqmsSg6MdO45wFcg5BU=/225x0/filters:no_upscale():max_bytes(150000):strip_icc()/what-is-self-esteem-2795868_nocopy-8cad375cd5214296802448f31d22c2b1.png 225w, https://www.verywellmind.com/thmb/vMoeztOPW6di_Wa0mN1rzkevif8=/245x0/filters:no_upscale():max_bytes(150000):strip_icc()/what-is-self-esteem-2795868_nocopy-8cad375cd5214296802448f31d22c2b1.png 245w, https://www.verywellmind.com/thmb/8kqOIB8_k_RRrZvNfjfpw7tOJzA=/265x0/filters:no_upscale():max_bytes(150000):strip_icc()/what-is-self-esteem-2795868_nocopy-8cad375cd5214296802448f31d22c2b1.png 265w, https://www.verywellmind.com/thmb/TnSES18fRVwzbfJD2cztqiAHdZE=/285x0/filters:no_upscale():max_bytes(150000):strip_icc()/what-is-self-esteem-2795868_nocopy-8cad375cd5214296802448f31d22c2b1.png 285w, https://www.verywellmind.com/thmb/wiTY5cxaa5Xz6AKcsFeentFlnPc=/305x0/filters:no_upscale():max_bytes(150000):strip_icc()/what-is-self-esteem-2795868_nocopy-8cad375cd5214296802448f31d22c2b1.png 305w\"\\nalt=\"What is self-esteem?\"\\nwidth=\"400\"\\nheight=\"250\"\\nclass=\"img--noscript block__img\" />\\n</noscript>\\n</div>\\n</div>\\n<div class=\"block__content\" data-kicker=\"Theories\">\\n<div class=\"block__title\">\\n<span>What Are the Signs of Healthy or Low Self-Esteem?</span>\\n</div>\\n<div class=\"block__byline\" data-byline=\"Medically reviewed by David Susman, PhD\"></div>\\n</div>\\n</a>\\n</li>\\n<li class=\"g-item block-list-item\">\\n<a id=\"block_3-0\" class=\"comp block--small block\" rel data-doc-id=\"4156469\" href=\"https://www.verywellmind.com/imposter-syndrome-and-social-anxiety-disorder-4156469\" data-ordinal=\"16\">\\n<div class=\"block__media\">\\n<div class=\"img-placeholder\" style=\"padding-bottom:62.5%;\">\\n<img\\ndata-srcset=\"https://www.verywellmind.com/thmb/Q9nd3nDdKXWXpB-QAjxoT-RWy08=/225x0/filters:no_upscale():max_bytes(150000):strip_icc()/imposter-syndrome-and-social-anxiety-disorder-4156469-1500x1000-No_Text_Final-c89498f6fa4c48bdb4d6db6e1d357952.png 225w, https://www.verywellmind.com/thmb/QOpBFhcw9HVdktSL2ArYnCBbQrM=/245x0/filters:no_upscale():max_bytes(150000):strip_icc()/imposter-syndrome-and-social-anxiety-disorder-4156469-1500x1000-No_Text_Final-c89498f6fa4c48bdb4d6db6e1d357952.png 245w, https://www.verywellmind.com/thmb/B_DF51JmVaNLvgje6DL0N4d1h9w=/265x0/filters:no_upscale():max_bytes(150000):strip_icc()/imposter-syndrome-and-social-anxiety-disorder-4156469-1500x1000-No_Text_Final-c89498f6fa4c48bdb4d6db6e1d357952.png 265w, https://www.verywellmind.com/thmb/_576slBtuJb4nYA9JP4fJNNjDiw=/285x0/filters:no_upscale():max_bytes(150000):strip_icc()/imposter-syndrome-and-social-anxiety-disorder-4156469-1500x1000-No_Text_Final-c89498f6fa4c48bdb4d6db6e1d357952.png 285w, https://www.verywellmind.com/thmb/U4aGtMHMNtUTHlWKOfucecB4B-s=/305x0/filters:no_upscale():max_bytes(150000):strip_icc()/imposter-syndrome-and-social-anxiety-disorder-4156469-1500x1000-No_Text_Final-c89498f6fa4c48bdb4d6db6e1d357952.png 305w\"\\ndata-sizes=\"(max-width: 560px) calc((100vw - 2rem) / 3), (max-width: 864px) calc((50vw - 3.25rem) / 2), (max-width: 1040px) calc(33vw - 2.5rem), (max-width: 1248px) calc(25vw - 2.25rem), 285px\"\\ndata-src=\"https://www.verywellmind.com/thmb/x4zRlRR_kdxc0AX05q53End4RZQ=/400x250/filters:no_upscale():max_bytes(150000):strip_icc()/imposter-syndrome-and-social-anxiety-disorder-4156469-1500x1000-No_Text_Final-c89498f6fa4c48bdb4d6db6e1d357952.png\"\\nalt=\"Types of imposter syndrome\"\\nclass=\"lazyload block__img\"\\nwidth=\"400\"\\nheight=\"250\"\\nsrc=\"data:image/png;base64,iVBORw0KGgoAAAANSUhEUgAAAAEAAAABCAQAAAC1HAwCAAAAC0lEQVR42mM88x8AAp0BzdNtlUkAAAAASUVORK5CYII=\" data-expand=\"300\"\\n/>\\n<noscript>\\n<img src=\"https://www.verywellmind.com/thmb/x4zRlRR_kdxc0AX05q53End4RZQ=/400x250/filters:no_upscale():max_bytes(150000):strip_icc()/imposter-syndrome-and-social-anxiety-disorder-4156469-1500x1000-No_Text_Final-c89498f6fa4c48bdb4d6db6e1d357952.png\"\\nsrcset=\"https://www.verywellmind.com/thmb/Q9nd3nDdKXWXpB-QAjxoT-RWy08=/225x0/filters:no_upscale():max_bytes(150000):strip_icc()/imposter-syndrome-and-social-anxiety-disorder-4156469-1500x1000-No_Text_Final-c89498f6fa4c48bdb4d6db6e1d357952.png 225w, https://www.verywellmind.com/thmb/QOpBFhcw9HVdktSL2ArYnCBbQrM=/245x0/filters:no_upscale():max_bytes(150000):strip_icc()/imposter-syndrome-and-social-anxiety-disorder-4156469-1500x1000-No_Text_Final-c89498f6fa4c48bdb4d6db6e1d357952.png 245w, https://www.verywellmind.com/thmb/B_DF51JmVaNLvgje6DL0N4d1h9w=/265x0/filters:no_upscale():max_bytes(150000):strip_icc()/imposter-syndrome-and-social-anxiety-disorder-4156469-1500x1000-No_Text_Final-c89498f6fa4c48bdb4d6db6e1d357952.png 265w, https://www.verywellmind.com/thmb/_576slBtuJb4nYA9JP4fJNNjDiw=/285x0/filters:no_upscale():max_bytes(150000):strip_icc()/imposter-syndrome-and-social-anxiety-disorder-4156469-1500x1000-No_Text_Final-c89498f6fa4c48bdb4d6db6e1d357952.png 285w, https://www.verywellmind.com/thmb/U4aGtMHMNtUTHlWKOfucecB4B-s=/305x0/filters:no_upscale():max_bytes(150000):strip_icc()/imposter-syndrome-and-social-anxiety-disorder-4156469-1500x1000-No_Text_Final-c89498f6fa4c48bdb4d6db6e1d357952.png 305w\"\\nalt=\"Types of imposter syndrome\"\\nwidth=\"400\"\\nheight=\"250\"\\nclass=\"img--noscript block__img\" />\\n</noscript>\\n</div>\\n</div>\\n<div class=\"block__content\" data-kicker=\"Social Anxiety Disorder\">\\n<div class=\"block__title\">\\n<span>How to Stop Feeling Like an Outsider When You Have Social Anxiety</span>\\n</div>\\n<div class=\"block__byline\" data-byline=\"Medically reviewed by Amy Morin, LCSW\"></div>\\n</div>\\n</a>\\n</li>\\n</ul>\\n<div id=\"loading-animation_4-0\" class=\"comp loading-animation\" data-position=\"top\">\\n<div class=\"spinner\">\\n<div class=\"double-bounce1\"></div>\\n<div class=\"double-bounce2\"></div>\\n</div>\\n</div>\\n</div>\\n</section>\\n<div id=\"leaderboard2-deferred-footer_1-0\" class=\"comp has-right-label has-left-label js-lazy-ad leaderboard2-deferred-footer leaderboard-deferred-footer leaderboard--lazy leaderboard mntl-flexible-leaderboard mntl-flexible-ad mntl-gpt-adunit gpt leaderboard dynamic\">\\n<div id=\"leaderboardfooter-flex-2\" class=\"wrapper\" data-type=\"leaderboard\" data-pos=\"ft2\" data-priority=\"9\" data-sizes=\"[[728, 90], [728, 98], [970, 250], [970, 258], [1, 9], &quot;fluid&quot;]\" data-rtb=\"true\" data-wait-for-third-party=\"false\" data-targeting=\"{}\" data-auction-floor-id=\"364068185c6340088b39870b8ae07d1d\" data-auction-floor-value=\"5\"></div>\\n</div>\\n</div>\\n</div>\\n</main>\\n<footer id=\"footer_1-0\" class=\"comp footer\" data-tracking-container=\"true\">\\n<div class=\"footer-inner\">\\n<div id=\"footer-logo_1-0\" class=\"comp footer-logo mntl-block\">\\n<a id=\"logo_6-0\" class=\"comp logo verywellmind\" rel=\"home\" href=\"https://www.verywellmind.com\">\\n<span class=\"is-vishidden\">Verywell Mind</span>\\n<svg height=\"50\" viewBox=\"0 0 980 180\">\\n<use xmlns:xlink=\"http://www.w3.org/1999/xlink\" xlink:href=\"#verywell-logo\" class=\"verywell-logo-use\" />\\n<use xmlns:xlink=\"http://www.w3.org/1999/xlink\" xlink:href=\"#verywellmind\" class=\"verywellmind-use\" />\\n</svg>\\n</a>\\n</div>\\n<div id=\"footer-newsletter_1-0\" class=\"comp footer-newsletter newsletter-signup-vue\">\\n<newsletter inline-template\\nreg-source-id=\"erl3xg\"\\nnewsletter-object-ids=\"f7ym45\"\\nv-cloak\\n>\\n<form @submit.prevent=\"submit\"\\n:class=\"[success ? \\'newsletter-signup-vue__form--success\\' : null, \\'newsletter-signup-vue__form\\']\"\\n>\\n<span class=\"newsletter-signup-vue__header\"\\nv-show=\"!success\">Daily Tips for a Healthy Mind to Your Inbox</span>\\n<p class=\"newsletter-signup-vue__subheader\" v-show=\"!success\"></p>\\n<div class=\"newsletter-signup-vue__wrapper\">\\n<div class=\"newsletter-signup-vue__input-wrapper input-group\" v-show=\"!success\">\\n<input type=\"email\"\\nv-model=\"form.email\"\\nname=\"email\"\\nplaceholder=\"Enter your email\"\\nclass=\"mntl-newsletter-submit__input mntl-newsletter-submit__button newsletter-signup-vue__input\"\\nrequired\\n@keyup=\"resetError\"\\naria-label=\"Enter your email\"\\n/>\\n<button class=\"btn newsletter-signup-vue__button\" type=\"submit\" :disabled=\"false\">Sign Up</button>\\n</div>\\n<span class=\"newsletter-signup-vue__header newsletter-signup-vue__header--success\"\\nv-show=\"success\"\\n>You\\'re in!</span>\\n<p class=\"success-message\" v-show=\"success\">Thank you, {{form.email}}, for signing up.</p>\\n<p class=\"error-message\" v-show=\"error\">There was an error. Please try again.</p>\\n</div>\\n</form>\\n</newsletter>\\n</div>\\n<nav id=\"footer-tax1_1-0\" class=\"comp footer-tax1 tax1-nav mntl-block\" role=\"navigation\">\\n<ul id=\"link-list_1-0\" class=\"comp link-list list-container mntl-block\">\\n<li id=\"list-item_1-0\" class=\"comp list-item list-container-item mntl-block\">\\n<a\\nhref=\"https://www.verywellmind.com/mental-health-a-z-4797402\"\\nrel=\"nocaes\"\\nid=\"mntl-text-link_1-0\"\\nclass=\" mntl-text-link\"\\ndata-tracking-container=\"true\"\\n><span class=\"link__wrapper\">Mental Health A-Z</span></a>\\n</li>\\n<li id=\"list-item_1-0-1\" class=\"comp list-item list-container-item mntl-block\">\\n<a\\nhref=\"https://www.verywellmind.com/self-improvement-4157212\"\\nrel=\"nocaes\"\\nid=\"mntl-text-link_1-0-1\"\\nclass=\" mntl-text-link\"\\ndata-tracking-container=\"true\"\\n><span class=\"link__wrapper\">Self-Improvement</span></a>\\n</li>\\n<li id=\"list-item_1-0-2\" class=\"comp list-item list-container-item mntl-block\">\\n<a\\nhref=\"https://www.verywellmind.com/psychology-4157187\"\\nrel=\"nocaes\"\\nid=\"mntl-text-link_1-0-2\"\\nclass=\" mntl-text-link\"\\ndata-tracking-container=\"true\"\\n><span class=\"link__wrapper\">Psychology</span></a>\\n</li>\\n<li id=\"list-item_1-0-3\" class=\"comp list-item list-container-item mntl-block\">\\n<a\\nhref=\"https://www.verywellmind.com/news-latest-research-and-trending-topics-4846421\"\\nrel=\"nocaes\"\\nid=\"mntl-text-link_1-0-3\"\\nclass=\" mntl-text-link\"\\ndata-tracking-container=\"true\"\\n><span class=\"link__wrapper\">News</span></a>\\n</li>\\n<li id=\"list-item_1-0-4\" class=\"comp list-item list-container-item mntl-block\">\\n<a\\nhref=\"https://www.verywellmind.com/verywell-mind-voices-personal-stories-on-mental-health-5205335\"\\nrel=\"nocaes\"\\nid=\"mntl-text-link_1-0-4\"\\nclass=\" mntl-text-link\"\\ndata-tracking-container=\"true\"\\n><span class=\"link__wrapper\">Voices</span></a>\\n</li>\\n<li id=\"list-item_1-0-5\" class=\"comp list-item list-container-item mntl-block\">\\n<a\\nhref=\"https://www.verywellmind.com/the-verywell-mind-podcast-5113058\"\\nrel=\"nocaes\"\\nid=\"mntl-text-link_1-0-5\"\\nclass=\" mntl-text-link\"\\ndata-tracking-container=\"true\"\\n><span class=\"link__wrapper\">The Verywell Mind Podcast</span></a>\\n</li>\\n</ul>\\n</nav>\\n<ul id=\"footer-links_1-0\" class=\"comp footer-links\">\\n<li class=\"footer-links-item\"><a\\nhref=\"/review-board-4796494\"\\nrel=\"nocaes\"\\ndata-type=\"medicalReviewBoard\"\\ndata-ordinal=\"1\"\\ndata-component=\"footerLinks\"\\ndata-source=\"footerLinks\"\\n>Meet Our Review Board</a></li>\\n<li class=\"footer-links-item\"><a\\nhref=\"/about-us-5184564\"\\nrel=\"nocaes\"\\ndata-type=\"ourStory\"\\ndata-ordinal=\"1\"\\ndata-component=\"footerLinks\"\\ndata-source=\"footerLinks\"\\n>About Us</a></li>\\n<li class=\"footer-links-item\"><a\\nhref=\"/our-editorial-process-4778006\"\\nrel=\"nocaes\"\\ndata-type=\"editorialProcess\"\\ndata-ordinal=\"1\"\\ndata-component=\"footerLinks\"\\ndata-source=\"footerLinks\"\\n>Editorial Process</a></li>\\n<li class=\"footer-links-item\"><a\\nhref=\"/anti-racism-and-diversity-pledge-4869798\"\\nrel=\"nocaes\"\\ndata-type=\"antiRacismPledge\"\\ndata-ordinal=\"1\"\\ndata-component=\"footerLinks\"\\ndata-source=\"footerLinks\"\\n>Diversity Pledge</a></li>\\n<li class=\"footer-links-item\"><a\\nhref=\"/legal-4773968#toc-privacy-policy\"\\nrel=\"nocaes\"\\ndata-type=\"privacyPolicy\"\\ndata-ordinal=\"1\"\\ndata-component=\"footerLinks\"\\ndata-source=\"footerLinks\"\\n>Privacy Policy</a></li>\\n<li class=\"footer-links-item\"><a\\nhref=\"/in-the-news-4782525\"\\nrel=\"nocaes\"\\ndata-type=\"inTheNews\"\\ndata-ordinal=\"1\"\\ndata-component=\"footerLinks\"\\ndata-source=\"footerLinks\"\\n>In the News</a></li>\\n<li class=\"footer-links-item\"><a\\nhref=\"/legal-4773968#toc-verywell-cookie-disclosure\"\\nrel=\"nocaes\"\\ndata-type=\"cookiePolicy\"\\ndata-ordinal=\"1\"\\ndata-component=\"footerLinks\"\\ndata-source=\"footerLinks\"\\n>Cookie Policy</a></li>\\n<li class=\"footer-links-item\"><a href=\"https://www.dotdash.com/our-brands/\" target=\"_blank\" rel=\"noopener\" data-component=\"footerLinks\" data-source=\"footerLinks\" data-type=\"advertiseWithUs\" data-ordinal=\"1\">Advertise</a></li>\\n<li class=\"footer-links-item\"><a\\nhref=\"/legal-4773968#toc-terms-of-use\"\\nrel=\"nocaes\"\\ndata-type=\"termsOfUse\"\\ndata-ordinal=\"1\"\\ndata-component=\"footerLinks\"\\ndata-source=\"footerLinks\"\\n>Terms of Use</a></li>\\n<li class=\"footer-links-item\"><a href=\"https://www.dotdash.com/careers/\" data-component=\"footerLinks\" target=\"_blank\" data-source=\"footerLinks\" data-type=\"careersAtDotdash\" data-ordinal=\"1\">Careers</a></li>\\n<li class=\"footer-links-item\"><a\\nhref=\"/legal-4773968#toc-california-privacy-notice\"\\nrel=\"nocaes\"\\ndata-type=\"californiaPrivacyNotice\"\\ndata-ordinal=\"1\"\\ndata-component=\"footerLinks\"\\ndata-source=\"footerLinks\"\\n>California Privacy Notice</a></li>\\n<li class=\"footer-links-item\"><a\\nhref=\"/about-us-5184564#toc-contact-us\"\\nrel=\"nocaes\"\\ndata-type=\"contact\"\\ndata-ordinal=\"1\"\\ndata-component=\"footerLinks\"\\ndata-source=\"footerLinks\"\\n>Contact</a></li>\\n</ul>\\n<div id=\"footer-social_1-0\" class=\"comp extended footer-social static-social-follow social-follow mntl-block\" data-tracking-container=\"true\">\\n<div id=\"social-follow__title_1-0\" class=\"comp social-follow__title mntl-text-block\">\\nFollow Us</div>\\n<div id=\"social-follow__intro_1-0\" class=\"comp social-follow__intro mntl-text-block\"></div>\\n<ul id=\"social-follow__list_1-0\" class=\"comp social-follow__list mntl-block\">\\n<li id=\"social-follow__item_1-0\" class=\"comp social-follow__item social-follow__btn mntl-block\">\\n<a\\nhref=\"https://www.instagram.com/verywellmind/\"\\ntarget=\"_blank\"\\nrel=\"noopener nocaes\"\\nid=\"social-follow__link_1-0\"\\nclass=\" social-follow__link mntl-text-link social-follow__link--instagram\"\\ndata-tracking-container=\"true\"\\n><span id=\"mntl-text-block_1-0\" class=\"comp is-vishidden mntl-text-block\">\\ninstagram</span>\\n<svg class=\"icon icon-instagram \">\\n<use xmlns:xlink=\"http://www.w3.org/1999/xlink\" xlink:href=\"#icon-instagram\"></use>\\n</svg></a>\\n</li>\\n<li id=\"social-follow__item_1-0-1\" class=\"comp social-follow__item social-follow__btn mntl-block\">\\n<a\\nhref=\"https://www.facebook.com/verywell/\"\\ntarget=\"_blank\"\\nrel=\"noopener nocaes\"\\nid=\"social-follow__link_1-0-1\"\\nclass=\" social-follow__link mntl-text-link social-follow__link--facebook\"\\ndata-tracking-container=\"true\"\\n><span id=\"mntl-text-block_1-0-1\" class=\"comp is-vishidden mntl-text-block\">\\nfacebook</span>\\n<svg class=\"icon icon-facebook \">\\n<use xmlns:xlink=\"http://www.w3.org/1999/xlink\" xlink:href=\"#icon-facebook\"></use>\\n</svg></a>\\n</li>\\n<li id=\"social-follow__item_1-0-2\" class=\"comp social-follow__item social-follow__btn mntl-block\">\\n<a\\nhref=\"https://www.pinterest.com/verywell/\"\\ntarget=\"_blank\"\\nrel=\"noopener nocaes\"\\nid=\"social-follow__link_1-0-2\"\\nclass=\" social-follow__link mntl-text-link social-follow__link--pinterest\"\\ndata-tracking-container=\"true\"\\n><span id=\"mntl-text-block_1-0-2\" class=\"comp is-vishidden mntl-text-block\">\\npinterest</span>\\n<svg class=\"icon icon-pinterest \">\\n<use xmlns:xlink=\"http://www.w3.org/1999/xlink\" xlink:href=\"#icon-pinterest\"></use>\\n</svg></a>\\n</li>\\n<li id=\"social-follow__item_1-0-3\" class=\"comp social-follow__item social-follow__btn mntl-block\">\\n<a\\nhref=\"https://flipboard.com/@verywell\"\\ntarget=\"_blank\"\\nrel=\"noopener nocaes\"\\nid=\"social-follow__link_1-0-3\"\\nclass=\" social-follow__link mntl-text-link social-follow__link--flipboard\"\\ndata-tracking-container=\"true\"\\n><span id=\"mntl-text-block_1-0-3\" class=\"comp is-vishidden mntl-text-block\">\\nflipboard</span>\\n<svg class=\"icon icon-flipboard \">\\n<use xmlns:xlink=\"http://www.w3.org/1999/xlink\" xlink:href=\"#icon-flipboard\"></use>\\n</svg></a>\\n</li>\\n</ul>\\n</div>\\n<div id=\"global-nav_2-0\" class=\"comp global-nav\">\\n<div class=\"loc content\">\\n<div id=\"logo_7-0\" class=\"comp small logo verywellhealth\">\\n<span class=\"is-vishidden\">Verywell Health</span>\\n<svg height=\"50\" viewBox=\"0 0 1042 180\">\\n<use xmlns:xlink=\"http://www.w3.org/1999/xlink\" xlink:href=\"#verywell-logo\" class=\"verywell-logo-use\" />\\n<use xmlns:xlink=\"http://www.w3.org/1999/xlink\" xlink:href=\"#verywellhealth\" class=\"verywellhealth-use\" />\\n</svg>\\n</div>\\n<div id=\"logo_8-0\" class=\"comp small logo verywellfit\">\\n<span class=\"is-vishidden\">Verywell Fit</span>\\n<svg height=\"50\" viewBox=\"0 0 895 180\">\\n<use xmlns:xlink=\"http://www.w3.org/1999/xlink\" xlink:href=\"#verywell-logo\" class=\"verywell-logo-use\" />\\n<use xmlns:xlink=\"http://www.w3.org/1999/xlink\" xlink:href=\"#verywellfit\" class=\"verywellfit-use\" />\\n<use xmlns:xlink=\"http://www.w3.org/1999/xlink\" xlink:href=\"#verywellfit-footer\" class=\"verywellfit-use-footer\" />\\n</svg>\\n</div>\\n<div id=\"logo_10-0\" class=\"comp small logo verywellfamily\">\\n<span class=\"is-vishidden\">Verywell Family</span>\\n<svg height=\"50\" viewBox=\"0 0 1045 180\">\\n<use xmlns:xlink=\"http://www.w3.org/1999/xlink\" xlink:href=\"#verywell-logo\" class=\"verywell-logo-use\" />\\n<use xmlns:xlink=\"http://www.w3.org/1999/xlink\" xlink:href=\"#verywellfamily\" class=\"verywellfamily-use\" />\\n</svg>\\n</div>\\n</div>\\n</div>\\n<div id=\"footer-bottom_1-0\" class=\"comp footer-bottom mntl-block\">\\n<div id=\"disclaimer_2-0\" class=\"comp disclaimer mntl-text-block\">\\nVerywell Mind\\'s content is for informational and educational purposes only. Our website is not intended to be a substitute for professional medical advice, diagnosis, or treatment.</div>\\n<div id=\"certified-badges_2-0\" class=\"comp certified-badges mntl-block\">\\n<a id=\"truste-badge_2-0\" class=\"comp truste-badge mntl-truste-badge mntl-block\" href=\"//privacy.truste.com/privacy-seal/validation?rid=8f15e7a5-6c05-47d8-bf12-8822d4d7cddd\" aria-label=\"Access TRUSTe&#39;s Enterprise Privacy Certification program\" target=\"_blank\" data-tracking-container=\"true\">\\n<img id=\"badge-image_2-0\" class=\"comp lazyload badge-image mntl-block\" data-src=\"//privacy-policy.truste.com/privacy-seal/seal?rid=33c36249-6102-4b62-8673-787e6e3429a0\" alt=\"TRUSTe\"></img>\\n</a>\\n<a id=\"hon-notification_2-0\" class=\"comp hon-notification mntl-block\" href=\"https://www.hon.ch/HONcode/Conduct.html?HONConduct645513\" aria-label=\"Access HonCode&#39;s Certificate of Compliance\" target=\"_blank\" data-tracking-container=\"true\">\\n<img id=\"honNotificationImage_2-0\" class=\"comp lazyload honNotificationImage mntl-block\" data-src=\"/static/4.318.0/images/hon_certificate.gif\" alt=\"This website is certified by Health On the Net Foundation. Click to verify.\" title=\"This website is certified by Health On the Net Foundation. Click to verify.\"></img>\\n</a>\\n</div>\\n<div id=\"copyright_2-0\" class=\"comp copyright mntl-text-block\">\\nⒸ 2022 Dotdash Media, Inc. — All rights reserved</div>\\n</div>\\n</div>\\n<nav id=\"mntl-dotdash-universal-nav_1-0\" class=\"comp mntl-dotdash-universal-nav\" role=\"navigation\" data-tracking-container=\"true\">\\n<div class=\"mntl-dotdash-universal-nav__content\">\\n<svg class=\"icon mntl-dotdash-universal-nav__logo \">\\n<use xmlns:xlink=\"http://www.w3.org/1999/xlink\" xlink:href=\"#mntl-dotdash-universal-nav__logo\"></use>\\n</svg>\\n<span class=\"mntl-dotdash-universal-nav__text\">\\nVerywell Mind is part of the <a href=\"https://www.dotdashmeredith.com\" class=\"mntl-dotdash-universal-nav__text--link\" target=\"_blank\">Dotdash Meredith</a> publishing&nbsp;family.\\n</span>\\n<span class=\"mntl-dotdash-universal-nav__separator\"></span>\\n<span class=\"mntl-dotdash-universal-nav__privacy-policy\">\\nWe\\'ve updated our Privacy Policy, which will go in to effect on September 1, 2022. <a href=\"https://www.dotdashmeredith.com/brands-privacy\" class=\"mntl-dotdash-universal-nav__privacy-policy--link\" target=\"_blank\">Review our Privacy Policy</a>\\n</span>\\n</div>\\n</nav>\\n</footer>\\n<style type=\"text/css\">\\n.megaphone-player cite { display: none; }\\n</style>\\n<script type=\"text/javascript\">\\nfunction setIsWindowLoaded(){window.requestAnimationFrame(()=>{document.documentElement.classList.add(\\'is-window-loaded\\')})}\\'complete\\'===document.readyState?setIsWindowLoaded():window.addEventListener(\\'load\\',setIsWindowLoaded);\\n</script>\\n<svg class=\"is-hidden\">\\n<defs>\\n<symbol id=\"mntl-sc-block-starrating-icon\">\\n<svg xmlns=\"http://www.w3.org/2000/svg\" viewBox=\"0 0 20 20\">\\n<path d=\"M0,0v20h20V0H0z M14.2,12.2l1.1,6.3l-5.4-3.2l-5.1,3.2l1-6.3L1.4,8l5.9-0.8l2.6-5.8l2.7,5.8L18.5,8L14.2,12.2z\"/>\\n</svg>\\n</symbol>\\n</defs>\\n</svg>\\n<div id=\"mntl-outofpage_1-0\" class=\"comp mntl-outofpage mntl-outofpage mntl-gpt-adunit gpt outofpage \">\\n<div id=\"oop\" class=\"wrapper\"></div>\\n</div>\\t\\t\\n<script type=\"text/javascript\" data-glb-js=\"bottom\" src=\"/static/4.318.0/cache/eNqdVW2SmzAMvVA1HCIz_bW_2hPIIECJsakth2RPv-IjW8Iasu1MZmzJ0pPy_CyKKChcFh06sVQslmUTi7P-_iQK9x_Fc5AeJGHLwhTBJLYCA0sLu9GdbuCKjq1FiGXw1m6jSt_13pGTWLATCg5tUVFNYcyfNoGqDPTp96-fO4VXkFjX2i8KgWV3gUBDYJmxd44OwOg298fvc87E1BfnAcDAVUO6tsRNK6cWXUNvHIWctpRzfgNLvLfC_WP9zMiFaq8gHmJPVLYb84jEJK0P8Kh03npyNTGoQ2HMXUmhWAS6Mg1QkaqAe1nB7Z4cdVRN3Ft8vwNWB4FRQiolqYSg9CovJwV32GhMIL36t5Fy428nDD5Fsv-GNAoUBYeAfb-6qwwL0adQKgvLelDGYKRZVj26Co0lMNaXl4OUkscT7-BR5Tw-pZF2eBzFXHMTrqoipCgQ2BjvngzY9nB8-j8lvqHvhUKoiSqD2sTWccT7Z9KX4PzYi2pc7oYlvhCf0YlmPIZZh7GE8Y_CX-9r7daWbjySt9JvRuGEFYUJMxdldU4sLMO4X22P5uz0AhS94TqH2lhvdAq3U-1lycU5vHIz6auok7X6fokcqHdj5nJrHzqVrncVz9olDDqTto791Gacj2gfic_mi26NPv6qDKnTW1_tX_G23Mn4FcMB7y-0dE20372jIVoS_XSAxm3MD_ZL7hw.min.js\" async defer=\"true\"></script>\\n<script type=\"text/javascript\">Mntl.utilities.scriptsOnLoad(document.querySelectorAll(\\'script[data-glb-js=\"bottom\"]\\'), function() {var Mntl = window.Mntl || {};window.Mntl.affiliateLinkRewriter.setMappings( {\\nDOC_ID: \\'4165743\\'\\n,SITE: \\'verywellmind\\'\\n,REQUEST_ID: \\'nabb7b067933143cc9a5d19e8e512185617\\'\\n}\\n);\\nwindow.Mntl.externalizeLinks.addPlugin(window.Mntl.affiliateLinkRewriter);\\nwindow.Mntl.externalizeLinks.addPlugin(window.Mntl.amazonAffiliateTagger);\\nwindow.Mntl.externalizeLinks.init();(function(Mntl) {\\nMntl.Tooltip.init({\\ndefaultPositionX: \"auto\",\\ndefaultPositionY: \"auto\"\\n});\\n})(window.Mntl || {});(function(Mntl) {\\nMntl.Tooltip.init({\\ndefaultPositionX: \"auto\",\\ndefaultPositionY: \"auto\"\\n});\\n})(window.Mntl || {});(function(Mntl) {\\nMntl.Tooltip.init({\\ndefaultPositionX: \"auto\",\\ndefaultPositionY: \"auto\"\\n});\\n})(window.Mntl || {});(function(Mntl) {\\nMntl.Tooltip.init({\\ndefaultPositionX: \"auto\",\\ndefaultPositionY: \"auto\"\\n});\\n})(window.Mntl || {});(function(Mntl) {\\nMntl.Tooltip.init({\\ndefaultPositionX: \"auto\",\\ndefaultPositionY: \"auto\"\\n});\\n})(window.Mntl || {});(function(Mntl) {\\nMntl.Tooltip.init({\\ndefaultPositionX: \"auto\",\\ndefaultPositionY: \"auto\"\\n});\\n})(window.Mntl || {});(function(Mntl) {\\nMntl.Tooltip.init({\\ndefaultPositionX: \"auto\",\\ndefaultPositionY: \"auto\"\\n});\\n})(window.Mntl || {});});</script>\\n<div id=\"mntl-sponsor-tracking-codes_1-0\" class=\"comp mntl-sponsor-tracking-codes\" data-defer=\"load\" data-defer-params></div>\\t\\t\\n</body>\\n</html>\\t\\t\\n'"
            ],
            "application/vnd.google.colaboratory.intrinsic+json": {
              "type": "string"
            }
          },
          "metadata": {},
          "execution_count": 5
        }
      ]
    },
    {
      "cell_type": "code",
      "source": [
        "soup = BeautifulSoup(r.text, 'html.parser')"
      ],
      "metadata": {
        "id": "UlI9QrEQdVs0"
      },
      "execution_count": null,
      "outputs": []
    },
    {
      "cell_type": "code",
      "source": [
        "res = soup.find_all(['h1', 'p'])"
      ],
      "metadata": {
        "id": "2znlXXbJduzU"
      },
      "execution_count": null,
      "outputs": []
    },
    {
      "cell_type": "code",
      "source": [
        "res"
      ],
      "metadata": {
        "id": "QKkXXnPVdvbc"
      },
      "execution_count": null,
      "outputs": []
    },
    {
      "cell_type": "code",
      "source": [
        "text = [ress.text for ress in res]\n",
        "ARTICLE = ''.join(text)"
      ],
      "metadata": {
        "id": "mdQvihTXd2gA"
      },
      "execution_count": null,
      "outputs": []
    },
    {
      "cell_type": "markdown",
      "source": [
        "# DATA CLEANING AND PREPROCESSING"
      ],
      "metadata": {
        "id": "bM95hUyPWtmf"
      }
    },
    {
      "cell_type": "code",
      "source": [
        "ARTICLE = ARTICLE.replace('.', '.<eos>')\n",
        "ARTICLE = ARTICLE.replace('?', '?<eos>')\n",
        "ARTICLE = ARTICLE.replace('!', '!<eos>')"
      ],
      "metadata": {
        "id": "oLILsyr4e_d4"
      },
      "execution_count": null,
      "outputs": []
    },
    {
      "cell_type": "code",
      "source": [
        "sentences = ARTICLE.split('<eos>')\n",
        "current_chunk = 0 \n",
        "max_chunk = 500\n",
        "chunks = []\n",
        "for sentence in sentences:\n",
        "    if len(chunks) == current_chunk + 1: \n",
        "        if len(chunks[current_chunk]) + len(sentence.split(' ')) <= max_chunk:\n",
        "            chunks[current_chunk].extend(sentence.split(' '))\n",
        "        else:\n",
        "            current_chunk += 1\n",
        "            chunks.append(sentence.split(' '))\n",
        "    else:\n",
        "        print(current_chunk)\n",
        "        chunks.append(sentence.split(' '))\n",
        "\n",
        "for chunk_id in range(len(chunks)):\n",
        "    chunks[chunk_id] = ' '.join(chunks[chunk_id])"
      ],
      "metadata": {
        "colab": {
          "base_uri": "https://localhost:8080/"
        },
        "id": "a3ILT81lfRpg",
        "outputId": "9cbbdd1e-ecfc-47d3-88ef-5dc71e28ef16"
      },
      "execution_count": null,
      "outputs": [
        {
          "output_type": "stream",
          "name": "stdout",
          "text": [
            "0\n"
          ]
        }
      ]
    },
    {
      "cell_type": "code",
      "source": [
        "res = summarizer(chunks, max_length=120, min_length=30, do_sample=False)\n"
      ],
      "metadata": {
        "id": "-btsvKOOfSFu"
      },
      "execution_count": null,
      "outputs": []
    },
    {
      "cell_type": "code",
      "source": [
        "text = ' '.join([summ['summary_text'] for summ in res])\n"
      ],
      "metadata": {
        "id": "ItniyNSYfkdJ"
      },
      "execution_count": null,
      "outputs": []
    },
    {
      "cell_type": "code",
      "source": [
        "text"
      ],
      "metadata": {
        "colab": {
          "base_uri": "https://localhost:8080/",
          "height": 140
        },
        "id": "DckQDez0f_Fd",
        "outputId": "ac94ad5d-6698-4e70-99bc-f47852ec5d86"
      },
      "execution_count": null,
      "outputs": [
        {
          "output_type": "execute_result",
          "data": {
            "text/plain": [
              "\" There are many different tactics for how to be successful in life, but the strategy that works best for you may depend on what success means to you . Your definition of success may vary, but many might define it as being fulfilled, happy, safe, healthy, and loved . People who believe that they are capable of growth are more likely to achieve success .  This episode of The Verywell Mind Podcast shares an exercise that can help you introduce a healthy habit into your life or get rid of a bad habit that's been holding you back . Emotional intelligence refers to the ability to understand, utilize, and reason with emotions .  Researchers Ian MacRae and Adrian Furnham have identified six key traits that can play a role in how well people do at work . Too little of these characteristics can hinder success, but so can having too much . No specific personality trait can guarantee success, nor can being low in that trait doom someone to failure .  There is no single measure of success, and certainly no single answer for how to be successful in life . By looking at some of the habits of successful people, you can learn new tactics and strategies to implement in your own life .  Kendra Cherry, MS, is an author and educational consultant focused on helping students learn about psychology . For more information, visit www.psychology.com/psychology .\""
            ],
            "application/vnd.google.colaboratory.intrinsic+json": {
              "type": "string"
            }
          },
          "metadata": {},
          "execution_count": 15
        }
      ]
    },
    {
      "cell_type": "markdown",
      "source": [
        "## DEPLOYMENT USING GRADIO"
      ],
      "metadata": {
        "id": "mIqbcuVkWeXI"
      }
    },
    {
      "cell_type": "code",
      "source": [
        "\n",
        "\n",
        "summarizer = pipeline(\"summarization\", model=\"facebook/bart-large-cnn\")\n",
        "\n",
        "def summarize(URL):\n",
        "  # summarizer = pipeline(\"summarization\")\n",
        "  r = requests.get(URL)\n",
        "  soup = BeautifulSoup(r.text, 'html.parser')\n",
        "  res = soup.find_all(['h1', 'p'])\n",
        "  text = [ress.text for ress in res]\n",
        "  ARTICLE = ''.join(text)\n",
        "  ARTICLE = ARTICLE.replace('.', '.<eos>')\n",
        "  ARTICLE = ARTICLE.replace('?', '?<eos>')\n",
        "  ARTICLE = ARTICLE.replace('!', '!<eos>')\n",
        "\n",
        "  sentences = ARTICLE.split('<eos>')\n",
        "  current_chunk = 0 \n",
        "  max_chunk = 500\n",
        "  chunks = []\n",
        "  for sentence in sentences:\n",
        "      if len(chunks) == current_chunk + 1: \n",
        "          if len(chunks[current_chunk]) + len(sentence.split(' ')) <= max_chunk:\n",
        "              chunks[current_chunk].extend(sentence.split(' '))\n",
        "          else:\n",
        "              current_chunk += 1\n",
        "              chunks.append(sentence.split(' '))\n",
        "      else:\n",
        "          print(current_chunk)\n",
        "          chunks.append(sentence.split(' '))\n",
        "\n",
        "  for chunk_id in range(len(chunks)):\n",
        "      chunks[chunk_id] = ' '.join(chunks[chunk_id])\n",
        "\n",
        "  res = summarizer(chunks, max_length=120, min_length=30, do_sample=False)\n",
        "  text = ' '.join([summ['summary_text'] for summ in res])\n",
        "  return text\n",
        "\n",
        "\n",
        "\n",
        "iface = gr.Interface(\n",
        "  fn=summarize, \n",
        "  inputs='text',\n",
        "  outputs='text',\n",
        "  \n",
        ")\n",
        "\n",
        "iface.launch()"
      ],
      "metadata": {
        "colab": {
          "base_uri": "https://localhost:8080/",
          "height": 643
        },
        "id": "7DW1wSa5n5zk",
        "outputId": "e7c6d318-4f41-4370-fa0c-5dba42e084c1"
      },
      "execution_count": null,
      "outputs": [
        {
          "output_type": "stream",
          "name": "stdout",
          "text": [
            "Colab notebook detected. To show errors in colab notebook, set `debug=True` in `launch()`\n",
            "Running on public URL: https://13884.gradio.app\n",
            "\n",
            "This share link expires in 72 hours. For free permanent hosting, check out Spaces: https://huggingface.co/spaces\n"
          ]
        },
        {
          "output_type": "display_data",
          "data": {
            "text/plain": [
              "<IPython.core.display.HTML object>"
            ],
            "text/html": [
              "<div><iframe src=\"https://13884.gradio.app\" width=\"900\" height=\"500\" allow=\"autoplay; camera; microphone; clipboard-read; clipboard-write;\" frameborder=\"0\" allowfullscreen></iframe></div>"
            ]
          },
          "metadata": {}
        },
        {
          "output_type": "execute_result",
          "data": {
            "text/plain": [
              "(<gradio.routes.App at 0x7fee200c6050>,\n",
              " 'http://127.0.0.1:7860/',\n",
              " 'https://13884.gradio.app')"
            ]
          },
          "metadata": {},
          "execution_count": 7
        }
      ]
    },
    {
      "cell_type": "code",
      "source": [],
      "metadata": {
        "id": "0YjpTAjwKg1W"
      },
      "execution_count": null,
      "outputs": []
    }
  ]
}