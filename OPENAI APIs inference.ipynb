{
  "nbformat": 4,
  "nbformat_minor": 0,
  "metadata": {
    "colab": {
      "private_outputs": true,
      "provenance": [],
      "authorship_tag": "ABX9TyPkkcUDy9xdJ174FIEEBS/F",
      "include_colab_link": true
    },
    "kernelspec": {
      "name": "python3",
      "display_name": "Python 3"
    },
    "language_info": {
      "name": "python"
    }
  },
  "cells": [
    {
      "cell_type": "markdown",
      "metadata": {
        "id": "view-in-github",
        "colab_type": "text"
      },
      "source": [
        "<a href=\"https://colab.research.google.com/github/moaaz12-web/Question-Answering-inference-using-BERT/blob/main/OPENAI%20APIs%20inference.ipynb\" target=\"_parent\"><img src=\"https://colab.research.google.com/assets/colab-badge.svg\" alt=\"Open In Colab\"/></a>"
      ]
    },
    {
      "cell_type": "markdown",
      "source": [
        "# INSTALLING DEPENDENCIES"
      ],
      "metadata": {
        "id": "trsr3rvOwvPI"
      }
    },
    {
      "cell_type": "code",
      "source": [
        "! pip install openai gradio\n",
        "! pip install googletrans==3.1.0a0\n",
        "# After installing these, restart runtime, and then do not run this cell."
      ],
      "metadata": {
        "id": "nVjy7FX4wyox"
      },
      "execution_count": null,
      "outputs": []
    },
    {
      "cell_type": "markdown",
      "source": [
        "# IMPORTING"
      ],
      "metadata": {
        "id": "f0j_ZZ15w3xY"
      }
    },
    {
      "cell_type": "code",
      "source": [
        "\n",
        "import gradio as gr\n",
        "import openai\n",
        "from googletrans import Translator\n"
      ],
      "metadata": {
        "id": "TALaomu4yNa8"
      },
      "execution_count": null,
      "outputs": []
    },
    {
      "cell_type": "markdown",
      "source": [
        "# TEST INSIDE YOUR ENVIRONMENT"
      ],
      "metadata": {
        "id": "QonpOo55ohur"
      }
    },
    {
      "cell_type": "code",
      "source": [
        "def GPT3_Completion(prompt):\n",
        "  # translate the prompt to English\n",
        "  # translator = Translator()\n",
        "  # prompt_english = translator.translate(prompt, dest='en').text\n",
        "  \n",
        "  openai.api_key = \"\"\n",
        "  response = openai.Completion.create(\n",
        "  engine=\"text-davinci-002\",\n",
        "  prompt =  prompt,\n",
        "  temperature=0.7,\n",
        "  max_tokens=3500 ,\n",
        "  top_p=1,\n",
        "  frequency_penalty=0,\n",
        "  presence_penalty=0\n",
        "  )\n",
        "  \n",
        "  # translate the response to Spanish\n",
        "  # response_spanish = translator.translate(response['choices'][0]['text'], dest='es').text\n",
        "  \n",
        "  return response['choices'][0]['text']\n",
        "\n",
        "prompt = \"\"\"\n",
        "\"\"\"\n",
        "\n",
        "\n",
        "output = GPT3_Completion(prompt)\n"
      ],
      "metadata": {
        "id": "Bhvo7ohtohbl"
      },
      "execution_count": null,
      "outputs": []
    },
    {
      "cell_type": "code",
      "source": [
        "print(output)"
      ],
      "metadata": {
        "id": "G_GK6-nnonMi"
      },
      "execution_count": null,
      "outputs": []
    },
    {
      "cell_type": "code",
      "source": [
        "x"
      ],
      "metadata": {
        "id": "4rdELqP1OkVr"
      },
      "execution_count": null,
      "outputs": []
    },
    {
      "cell_type": "markdown",
      "source": [
        "# INTERFACE"
      ],
      "metadata": {
        "id": "JC1pvpmbofWA"
      }
    },
    {
      "cell_type": "code",
      "source": [
        "import os\n",
        "import openai\n",
        "import gradio as gr\n",
        "\n",
        "#if you have OpenAI API key as an environment variable, enable the below\n",
        "#openai.api_key = os.getenv(\"OPENAI_API_KEY\")\n",
        "\n",
        "#if you have OpenAI API key as a string, enable the below\n",
        "openai.api_key = \"\"\n",
        "\n",
        "start_sequence = \"\\nAI:\"\n",
        "restart_sequence = \"\\nHuman: \"\n",
        "\n",
        "prompt = \"Imagination is the limit!!\"\n",
        "def GPT3_Completion(prompt):\n",
        "  # translate the prompt to English\n",
        "  translator = Translator()\n",
        "  prompt_english = translator.translate(prompt, dest='en').text\n",
        "  \n",
        "  openai.api_key = \"\"\n",
        "  response = openai.Completion.create(\n",
        "  engine=\"text-davinci-002\",\n",
        "  prompt =  prompt,\n",
        "  temperature=0.7,\n",
        "  max_tokens=3500 ,\n",
        "  top_p=1,\n",
        "  frequency_penalty=0,\n",
        "  presence_penalty=0\n",
        "  )\n",
        "  \n",
        "  # translate the response to Spanish\n",
        "  # response_spanish = translator.translate(response['choices'][0]['text'], dest='es').text\n",
        "  \n",
        "  return response\n",
        "\n",
        "def chatgpt_clone(input, history):\n",
        "    history = history or []\n",
        "    s = list(sum(history, ()))\n",
        "    s.append(input)\n",
        "    inp = ' '.join(s)\n",
        "    output = GPT3_Completion(inp)\n",
        "    history.append((input, output))\n",
        "    return history, history\n",
        "\n",
        "\n",
        "block = gr.Blocks()\n",
        "\n",
        "\n",
        "with block:\n",
        "    gr.Markdown(\"\"\"<h1><center>ChatGPT with OpenAI API & Gradio</center></h1>\n",
        "    \"\"\")\n",
        "    chatbot = gr.Chatbot()\n",
        "    message = gr.Textbox(placeholder=prompt)\n",
        "    state = gr.State()\n",
        "    submit = gr.Button(\"SEND\")\n",
        "    submit.click(chatgpt_clone, inputs=[message, state], outputs=[chatbot, state])\n",
        "\n",
        "block.launch(share=True)"
      ],
      "metadata": {
        "id": "xKUI-_JI5Hsr"
      },
      "execution_count": null,
      "outputs": []
    },
    {
      "cell_type": "code",
      "source": [],
      "metadata": {
        "id": "Uocy7MbR5HmM"
      },
      "execution_count": null,
      "outputs": []
    },
    {
      "cell_type": "code",
      "source": [],
      "metadata": {
        "id": "KwqC0qFF5HiX"
      },
      "execution_count": null,
      "outputs": []
    },
    {
      "cell_type": "code",
      "source": [],
      "metadata": {
        "id": "8zupoUPM5M-y"
      },
      "execution_count": null,
      "outputs": []
    },
    {
      "cell_type": "code",
      "source": [],
      "metadata": {
        "id": "H6LmJRmP5MwW"
      },
      "execution_count": null,
      "outputs": []
    },
    {
      "cell_type": "code",
      "source": [],
      "metadata": {
        "id": "kktSpVbq5MsP"
      },
      "execution_count": null,
      "outputs": []
    },
    {
      "cell_type": "code",
      "source": [],
      "metadata": {
        "id": "VZFc31SW5MoE"
      },
      "execution_count": null,
      "outputs": []
    },
    {
      "cell_type": "code",
      "source": [
        "# def GPT3_Completion(prompt):\n",
        "#   # translate the prompt to English\n",
        "#   translator = Translator()\n",
        "#   prompt_english = translator.translate(prompt, dest='en').text\n",
        "  \n",
        "#   openai.api_key = \"\"\n",
        "#   response = openai.Completion.create(\n",
        "#   engine=\"text-davinci-002\",\n",
        "#   prompt =  prompt_english,\n",
        "#   temperature=0.7,\n",
        "#   max_tokens=3500 ,\n",
        "#   top_p=1,\n",
        "#   frequency_penalty=0,\n",
        "#   presence_penalty=0\n",
        "#   )\n",
        "  \n",
        "#   # translate the response to Spanish\n",
        "#   response_spanish = translator.translate(response['choices'][0]['text'], dest='es').text\n",
        "  \n",
        "#   return response_spanish\n",
        "\n",
        "  \n",
        "# inputs = gr.inputs.Textbox(placeholder=\"Enter prompt for GPT-3 Completion\")\n",
        "# outputs = gr.outputs.Textbox()\n",
        "\n",
        "# interface = gr.Interface(GPT3_Completion, inputs, outputs)\n"
      ],
      "metadata": {
        "id": "W0zetSOFoZAy"
      },
      "execution_count": null,
      "outputs": []
    },
    {
      "cell_type": "code",
      "source": [],
      "metadata": {
        "id": "VOkhVgl0gm6V"
      },
      "execution_count": null,
      "outputs": []
    },
    {
      "cell_type": "code",
      "source": [],
      "metadata": {
        "id": "qncyDVFK3WVV"
      },
      "execution_count": null,
      "outputs": []
    }
  ]
}